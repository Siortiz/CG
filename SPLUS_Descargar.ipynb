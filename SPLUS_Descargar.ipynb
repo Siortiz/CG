{
 "cells": [
  {
   "cell_type": "code",
   "execution_count": 1,
   "id": "efbaf46d",
   "metadata": {},
   "outputs": [],
   "source": [
    "import splusdata\n",
    "from astropy.table import Table\n",
    "import numpy as np\n",
    "import pandas as pd"
   ]
  },
  {
   "cell_type": "code",
   "execution_count": 2,
   "id": "6b7f29e7",
   "metadata": {},
   "outputs": [],
   "source": [
    "#Core class\n",
    "\n",
    "conn = splusdata.Core(\"sortiz\", \"83727992seba\")"
   ]
  },
  {
   "cell_type": "code",
   "execution_count": 8,
   "id": "fae1d564",
   "metadata": {},
   "outputs": [],
   "source": [
    "grupos_splus = Table.read('/home/seba/Documents/CG/Observaciones_SPLUS/SPLUS-Círia/CG_on_top_footprint.csv', format='ascii')\n",
    "RA = grupos_splus['RA']\n",
    "DEC = grupos_splus['DEC']\n",
    "NAME = grupos_splus['NAME']"
   ]
  },
  {
   "cell_type": "code",
   "execution_count": null,
   "id": "5cc967f8",
   "metadata": {},
   "outputs": [],
   "source": [
    "conn.publicdata(False)"
   ]
  },
  {
   "cell_type": "code",
   "execution_count": 13,
   "id": "9b396dec",
   "metadata": {},
   "outputs": [],
   "source": [
    "def descargas(ra, dec, name):\n",
    "    result_table = conn.query(f\"\"\"SELECT det.ID, det.Field ,det.RA, det.DEC, det.X, det.Y, det.ELONGATION, det.ELLIPTICITY, det.THETA, det.A, det.B, det.FLUX_RADIUS_50, det.FLUX_RADIUS_90, u.u_auto, u.e_u_auto, u.SEX_FLAGS_u, J0378.J0378_auto, J0378.e_J0378_auto, J0378.SEX_FLAGS_J0378, J0395.J0395_auto, J0395.e_J0395_auto, J0395.SEX_FLAGS_J0395, J0410.J0410_auto, J0410.e_J0410_auto, J0410.SEX_FLAGS_J0410, J0430.J0430_auto, J0430.e_J0430_auto, J0430.SEX_FLAGS_J0430, g.g_auto, g.e_g_auto, g.SEX_FLAGS_g, J0515.J0515_auto, J0515.e_J0515_auto, J0515.SEX_FLAGS_J0515, r.r_auto, r.e_r_auto, r.SEX_FLAGS_r, J0660.J0660_auto, J0660.e_J0660_auto, J0660.SEX_FLAGS_J0660, i.i_auto, i.e_i_auto, i.SEX_FLAGS_i, J0861.J0861_auto, J0861.e_J0861_auto, J0861.SEX_FLAGS_J0861, z.z_auto, z.e_z_auto, z.SEX_FLAGS_z, pz.zml, pz.odds FROM idr4_dual.idr4_detection_image as det JOIN idr4_dual.idr4_dual_u as u ON (u.ID = det.ID) JOIN idr4_dual.idr4_dual_J0378 as J0378 ON (J0378.ID = det.ID) JOIN idr4_dual.idr4_dual_J0395 as J0395 ON (J0395.ID = det.ID) JOIN idr4_dual.idr4_dual_J0410 as J0410 ON (J0410.ID = det.ID) JOIN idr4_dual.idr4_dual_J0430 as J0430 ON (J0430.ID = det.ID) JOIN idr4_dual.idr4_dual_g as g ON (g.ID = det.ID) JOIN idr4_dual.idr4_dual_J0515 as J0515 ON (J0515.ID = det.ID) JOIN idr4_dual.idr4_dual_r as r ON (r.ID = det.ID) JOIN idr4_dual.idr4_dual_J0660 as J0660 ON (J0660.ID = det.ID) JOIN idr4_dual.idr4_dual_i as i ON (i.ID = det.ID) JOIN idr4_dual.idr4_dual_J0861 as J0861 ON (J0861.ID = det.ID) JOIN idr4_dual.idr4_dual_z as z ON (z.ID = det.ID) JOIN idr4_vacs.idr4_photoz as pz ON (pz.ID = det.ID) WHERE 1 = CONTAINS( POINT('ICRS', det.RA, det.DEC), CIRCLE('ICRS', {ra}, {dec}, 0.1))\"\"\", publicdata=False)\n",
    "    result_table.write(f'SPLUS_{name}.csv', format = 'csv', overwrite = True)"
   ]
  },
  {
   "cell_type": "code",
   "execution_count": 14,
   "id": "e28aa14f",
   "metadata": {},
   "outputs": [],
   "source": [
    "for ra, dec, name in zip(RA, DEC, NAME):\n",
    "    descargas(ra, dec, name)"
   ]
  },
  {
   "cell_type": "code",
   "execution_count": 10,
   "id": "0f615a92",
   "metadata": {},
   "outputs": [],
   "source": [
    "result_table = conn.query(\"\"\"SELECT det.ID, det.ra, det.dec, det.g_auto, det.r_auto, det.i_auto, sqg.PROB_GAL\n",
    "FROM dr3.all_dr3 as det\n",
    "JOIN dr3.vac_star_galaxy_quasar as sqg on (sqg.ID = det.ID)\n",
    "WHERE 1 = CONTAINS( POINT('ICRS', det.ra, det.dec), CIRCLE('ICRS', 0.5, 0.5, 1) ) AND sqg.PROB_GAL >= 0.9\"\"\")"
   ]
  },
  {
   "cell_type": "code",
   "execution_count": null,
   "id": "9c524b64",
   "metadata": {},
   "outputs": [],
   "source": [
    "for ra, dec, name in zip(RA, DEC, NAME):\n",
    "    result_table = conn.query(SELECT det.ID, det.Field ,det.RA, det.DEC, det.X, det.Y, det.ELONGATION, det.ELLIPTICITY, det.THETA, det.A, det.B, det.FLUX_RADIUS_50, det.FLUX_RADIUS_90, u.u_auto, u.e_u_auto, u.SEX_FLAGS_u, J0378.J0378_auto, J0378.e_J0378_auto, J0378.SEX_FLAGS_J0378, J0395.J0395_auto, J0395.e_J0395_auto, J0395.SEX_FLAGS_J0395, J0410.J0410_auto, J0410.e_J0410_auto, J0410.SEX_FLAGS_J0410, J0430.J0430_auto, J0430.e_J0430_auto, J0430.SEX_FLAGS_J0430, g.g_auto, g.e_g_auto, g.SEX_FLAGS_g, J0515.J0515_auto, J0515.e_J0515_auto, J0515.SEX_FLAGS_J0515, r.r_auto, r.e_r_auto, r.SEX_FLAGS_r, J0660.J0660_auto, J0660.e_J0660_auto, J0660.SEX_FLAGS_J0660, i.i_auto, i.e_i_auto, i.SEX_FLAGS_i, J0861.J0861_auto, J0861.e_J0861_auto, J0861.SEX_FLAGS_J0861, z.z_auto, z.e_z_auto, z.SEX_FLAGS_z, pz.zml, pz.odds FROM dr4_dual.dr4_detection_image as det JOIN dr4_dual.dr4_dual_u as u ON (u.ID = det.ID) JOIN dr4_dual.dr4_dual_J0378 as J0378 ON (J0378.ID = det.ID) JOIN dr4_dual.dr4_dual_J0395 as J0395 ON (J0395.ID = det.ID) JOIN dr4_dual.dr4_dual_J0410 as J0410 ON (J0410.ID = det.ID) JOIN dr4_dual.dr4_dual_J0430 as J0430 ON (J0430.ID = det.ID) JOIN dr4_dual.dr4_dual_g as g ON (g.ID = det.ID) JOIN dr4_dual.dr4_dual_J0515 as J0515 ON (J0515.ID = det.ID) JOIN dr4_dual.dr4_dual_r as r ON (r.ID = det.ID) JOIN dr4_dual.dr4_dual_J0660 as J0660 ON (J0660.ID = det.ID) JOIN dr4_dual.dr4_dual_i as i ON (i.ID = det.ID) JOIN dr4_dual.dr4_dual_J0861 as J0861 ON (J0861.ID = det.ID) JOIN dr4_dual.dr4_dual_z as z ON (z.ID = det.ID) JOIN dr4_vacs.dr4_photoz as pz ON (pz.ID = det.ID) WHERE 1 = CONTAINS( POINT('ICRS', det.RA, det.DEC), CIRCLE('ICRS', ra, dec, 0.1)))\n",
    "    datos = pd.DataFrame(result_table)"
   ]
  }
 ],
 "metadata": {
  "kernelspec": {
   "display_name": "Python 3 (ipykernel)",
   "language": "python",
   "name": "python3"
  },
  "language_info": {
   "codemirror_mode": {
    "name": "ipython",
    "version": 3
   },
   "file_extension": ".py",
   "mimetype": "text/x-python",
   "name": "python",
   "nbconvert_exporter": "python",
   "pygments_lexer": "ipython3",
   "version": "3.11.4"
  }
 },
 "nbformat": 4,
 "nbformat_minor": 5
}
