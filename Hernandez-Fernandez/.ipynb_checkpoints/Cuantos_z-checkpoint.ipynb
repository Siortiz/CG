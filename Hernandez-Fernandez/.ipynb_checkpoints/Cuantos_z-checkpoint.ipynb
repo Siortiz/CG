{
 "cells": [
  {
   "cell_type": "code",
   "execution_count": 3,
   "id": "38bb4e40",
   "metadata": {},
   "outputs": [],
   "source": [
    "from astropy.table import Table\n",
    "import numpy as np"
   ]
  },
  {
   "cell_type": "code",
   "execution_count": 10,
   "id": "8eddb205",
   "metadata": {},
   "outputs": [],
   "source": [
    "names = [f'group_{i+1}' for i in range(280)]\n",
    "radii = [0.1 * 60] * 280"
   ]
  },
  {
   "cell_type": "code",
   "execution_count": 12,
   "id": "636757bc",
   "metadata": {},
   "outputs": [],
   "source": [
    "table = Table.read('Group_catalogue.csv', format='ascii')\n",
    "table['names'] = names\n",
    "table['radii'] = radii\n",
    "table.write('Group_d.csv', format='csv')"
   ]
  },
  {
   "cell_type": "code",
   "execution_count": 18,
   "id": "71965360",
   "metadata": {},
   "outputs": [
    {
     "data": {
      "text/html": [
       "<div><i>Table length=12</i>\n",
       "<table id=\"table140308190832528\" class=\"table-striped table-bordered table-condensed\">\n",
       "<thead><tr><th>RA</th><th>DEC</th><th>NAME</th><th>STATUS</th><th>_RAJ2000</th><th>_DEJ2000</th><th>Group</th><th>RAJ2000</th><th>DEJ2000</th><th>zUV</th><th>nUV</th><th>ngal</th><th>nz</th><th>mz</th><th>r{theta}</th><th>Rij</th><th>sigmalos</th><th>Simbad</th><th>Separation</th><th>z_fraction</th></tr></thead>\n",
       "<thead><tr><th>float64</th><th>float64</th><th>int64</th><th>int64</th><th>float64</th><th>float64</th><th>str99</th><th>str11</th><th>str11</th><th>float64</th><th>int64</th><th>int64</th><th>int64</th><th>int64</th><th>float64</th><th>float64</th><th>float64</th><th>str6</th><th>float64</th><th>float64</th></tr></thead>\n",
       "<tr><td>14.4054583</td><td>-35.7571944</td><td>22</td><td>666</td><td>14.4054583</td><td>-35.7571944</td><td>http://vizier.u-strasbg.fr/viz-bin/VizieR-4?-info=XML&amp;-out.add=.&amp;-source=J/MNRAS/453/1965&amp;Group= 22</td><td>00 57 37.31</td><td>-35 45 25.9</td><td>0.1259</td><td>4</td><td>4</td><td>1</td><td>1</td><td>0.948</td><td>--</td><td>--</td><td>Simbad</td><td>0.0</td><td>0.25</td></tr>\n",
       "<tr><td>15.5714583</td><td>-17.2013889</td><td>23</td><td>666</td><td>15.5714583</td><td>-17.2013889</td><td>http://vizier.u-strasbg.fr/viz-bin/VizieR-4?-info=XML&amp;-out.add=.&amp;-source=J/MNRAS/453/1965&amp;Group= 23</td><td>01 02 17.15</td><td>-17 12 05.0</td><td>0.067744</td><td>4</td><td>3</td><td>1</td><td>1</td><td>1.375</td><td>--</td><td>--</td><td>Simbad</td><td>0.0</td><td>0.3333333333333333</td></tr>\n",
       "<tr><td>43.4509167</td><td>-41.9697222</td><td>47</td><td>666</td><td>43.4509167</td><td>-41.9697222</td><td>http://vizier.u-strasbg.fr/viz-bin/VizieR-4?-info=XML&amp;-out.add=.&amp;-source=J/MNRAS/453/1965&amp;Group= 47</td><td>02 53 48.22</td><td>-41 58 11.0</td><td>0.069815</td><td>4</td><td>4</td><td>1</td><td>1</td><td>0.909</td><td>--</td><td>--</td><td>Simbad</td><td>0.0</td><td>0.25</td></tr>\n",
       "<tr><td>52.9541667</td><td>-39.6227778</td><td>54</td><td>666</td><td>52.9541667</td><td>-39.6227778</td><td>http://vizier.u-strasbg.fr/viz-bin/VizieR-4?-info=XML&amp;-out.add=.&amp;-source=J/MNRAS/453/1965&amp;Group= 54</td><td>03 31 49.00</td><td>-39 37 22.0</td><td>0.10668</td><td>4</td><td>3</td><td>1</td><td>1</td><td>0.894</td><td>--</td><td>--</td><td>Simbad</td><td>0.0</td><td>0.3333333333333333</td></tr>\n",
       "<tr><td>55.6182083</td><td>-41.1549167</td><td>60</td><td>666</td><td>55.6182083</td><td>-41.1549167</td><td>http://vizier.u-strasbg.fr/viz-bin/VizieR-4?-info=XML&amp;-out.add=.&amp;-source=J/MNRAS/453/1965&amp;Group= 60</td><td>03 42 28.37</td><td>-41 09 17.7</td><td>0.004923</td><td>4</td><td>3</td><td>1</td><td>1</td><td>0.793</td><td>--</td><td>--</td><td>Simbad</td><td>0.0</td><td>0.3333333333333333</td></tr>\n",
       "<tr><td>97.2095833</td><td>-69.6947222</td><td>72</td><td>666</td><td>97.2095833</td><td>-69.6947222</td><td>http://vizier.u-strasbg.fr/viz-bin/VizieR-4?-info=XML&amp;-out.add=.&amp;-source=J/MNRAS/453/1965&amp;Group= 72</td><td>06 28 50.30</td><td>-69 41 41.0</td><td>0.03368</td><td>4</td><td>4</td><td>1</td><td>1</td><td>1.096</td><td>--</td><td>--</td><td>Simbad</td><td>0.0</td><td>0.25</td></tr>\n",
       "<tr><td>314.48475</td><td>-24.9644167</td><td>186</td><td>666</td><td>314.48475</td><td>-24.9644167</td><td>http://vizier.u-strasbg.fr/viz-bin/VizieR-4?-info=XML&amp;-out.add=.&amp;-source=J/MNRAS/453/1965&amp;Group=186</td><td>20 57 56.34</td><td>-24 57 51.9</td><td>0.094365</td><td>4</td><td>3</td><td>1</td><td>1</td><td>1.032</td><td>--</td><td>--</td><td>Simbad</td><td>0.0</td><td>0.3333333333333333</td></tr>\n",
       "<tr><td>319.3525</td><td>-35.9165556</td><td>189</td><td>666</td><td>319.3525</td><td>-35.9165556</td><td>http://vizier.u-strasbg.fr/viz-bin/VizieR-4?-info=XML&amp;-out.add=.&amp;-source=J/MNRAS/453/1965&amp;Group=189</td><td>21 17 24.60</td><td>-35 54 59.6</td><td>0.029797</td><td>4</td><td>4</td><td>1</td><td>1</td><td>0.789</td><td>--</td><td>--</td><td>Simbad</td><td>0.0</td><td>0.25</td></tr>\n",
       "<tr><td>319.51275</td><td>-50.7521944</td><td>190</td><td>666</td><td>319.51275</td><td>-50.7521944</td><td>http://vizier.u-strasbg.fr/viz-bin/VizieR-4?-info=XML&amp;-out.add=.&amp;-source=J/MNRAS/453/1965&amp;Group=190</td><td>21 18 03.06</td><td>-50 45 07.9</td><td>0.073594</td><td>4</td><td>3</td><td>1</td><td>1</td><td>1.123</td><td>--</td><td>--</td><td>Simbad</td><td>0.0</td><td>0.3333333333333333</td></tr>\n",
       "<tr><td>330.18975</td><td>-42.8210556</td><td>194</td><td>666</td><td>330.18975</td><td>-42.8210556</td><td>http://vizier.u-strasbg.fr/viz-bin/VizieR-4?-info=XML&amp;-out.add=.&amp;-source=J/MNRAS/453/1965&amp;Group=194</td><td>22 00 45.54</td><td>-42 49 15.8</td><td>0.067693</td><td>4</td><td>4</td><td>1</td><td>1</td><td>0.902</td><td>--</td><td>--</td><td>Simbad</td><td>0.0</td><td>0.25</td></tr>\n",
       "<tr><td>352.546</td><td>-44.1920556</td><td>216</td><td>666</td><td>352.546</td><td>-44.1920556</td><td>http://vizier.u-strasbg.fr/viz-bin/VizieR-4?-info=XML&amp;-out.add=.&amp;-source=J/MNRAS/453/1965&amp;Group=216</td><td>23 30 11.04</td><td>-44 11 31.4</td><td>0.100413</td><td>4</td><td>3</td><td>1</td><td>1</td><td>1.032</td><td>--</td><td>--</td><td>Simbad</td><td>0.0</td><td>0.3333333333333333</td></tr>\n",
       "<tr><td>66.7409167</td><td>-49.1194167</td><td>235</td><td>666</td><td>66.7409167</td><td>-49.1194167</td><td>http://vizier.u-strasbg.fr/viz-bin/VizieR-4?-info=XML&amp;-out.add=.&amp;-source=J/MNRAS/453/1965&amp;Group=235</td><td>04 26 57.82</td><td>-49 07 09.9</td><td>0.05828</td><td>5</td><td>5</td><td>1</td><td>1</td><td>0.953</td><td>--</td><td>--</td><td>Simbad</td><td>0.0</td><td>0.2</td></tr>\n",
       "</table></div>"
      ],
      "text/plain": [
       "<Table length=12>\n",
       "    RA         DEC      NAME STATUS  _RAJ2000    _DEJ2000  ... r{theta}   Rij   sigmalos Simbad Separation     z_fraction    \n",
       " float64     float64   int64 int64   float64     float64   ... float64  float64 float64   str6   float64        float64      \n",
       "---------- ----------- ----- ------ ---------- ----------- ... -------- ------- -------- ------ ---------- ------------------\n",
       "14.4054583 -35.7571944    22    666 14.4054583 -35.7571944 ...    0.948      --       -- Simbad        0.0               0.25\n",
       "15.5714583 -17.2013889    23    666 15.5714583 -17.2013889 ...    1.375      --       -- Simbad        0.0 0.3333333333333333\n",
       "43.4509167 -41.9697222    47    666 43.4509167 -41.9697222 ...    0.909      --       -- Simbad        0.0               0.25\n",
       "52.9541667 -39.6227778    54    666 52.9541667 -39.6227778 ...    0.894      --       -- Simbad        0.0 0.3333333333333333\n",
       "55.6182083 -41.1549167    60    666 55.6182083 -41.1549167 ...    0.793      --       -- Simbad        0.0 0.3333333333333333\n",
       "97.2095833 -69.6947222    72    666 97.2095833 -69.6947222 ...    1.096      --       -- Simbad        0.0               0.25\n",
       " 314.48475 -24.9644167   186    666  314.48475 -24.9644167 ...    1.032      --       -- Simbad        0.0 0.3333333333333333\n",
       "  319.3525 -35.9165556   189    666   319.3525 -35.9165556 ...    0.789      --       -- Simbad        0.0               0.25\n",
       " 319.51275 -50.7521944   190    666  319.51275 -50.7521944 ...    1.123      --       -- Simbad        0.0 0.3333333333333333\n",
       " 330.18975 -42.8210556   194    666  330.18975 -42.8210556 ...    0.902      --       -- Simbad        0.0               0.25\n",
       "   352.546 -44.1920556   216    666    352.546 -44.1920556 ...    1.032      --       -- Simbad        0.0 0.3333333333333333\n",
       "66.7409167 -49.1194167   235    666 66.7409167 -49.1194167 ...    0.953      --       -- Simbad        0.0                0.2"
      ]
     },
     "execution_count": 18,
     "metadata": {},
     "output_type": "execute_result"
    }
   ],
   "source": [
    "tabla = Table.read('HF_SPLUS.csv', format='ascii')\n",
    "# Divide la columna1 por la columna2\n",
    "tabla['z_fraction'] = tabla['nz'] / tabla['ngal']\n",
    "#tabla\n",
    "# Filtra las filas donde la división sea menor o igual a 1/2\n",
    "resultado_filtrado = tabla[(tabla['z_fraction'] < 1/2) & (tabla['z_fraction'] != 0)]\n",
    "resultado_filtrado = resultado_filtrado[(resultado_filtrado['NAME'] != 237) & (resultado_filtrado['NAME'] != 187)]\n",
    "resultado_filtrado = resultado_filtrado[np.argsort(resultado_filtrado['NAME'])]\n",
    "resultado_filtrado"
   ]
  },
  {
   "cell_type": "code",
   "execution_count": 35,
   "id": "86c29604",
   "metadata": {},
   "outputs": [],
   "source": [
    "coordinates = Table({\n",
    "    'NAME': resultado_filtrado['NAME'].astype(str),\n",
    "    'ra': resultado_filtrado['_RAJ2000'],\n",
    "    'dec': resultado_filtrado['_DEJ2000']\n",
    "})\n",
    "\n",
    "# Agregamos la columna 'J2000' a todas las filas de 'coordinates'\n",
    "coordinates['J2000'] = 'J2000'\n",
    "#coordinates\n",
    "# Guardamos la tabla en un archivo CSV sin incluir el encabezado\n",
    "with open('coords_proposal_objects.csv', 'w') as f:\n",
    "    # Escribimos los datos manualmente sin incluir el encabezado\n",
    "    for row in coordinates:\n",
    "        f.write(','.join([str(value) for value in row]) + '\\n')"
   ]
  },
  {
   "cell_type": "code",
   "execution_count": 14,
   "id": "93d8c326",
   "metadata": {},
   "outputs": [
    {
     "data": {
      "text/html": [
       "<div><i>Table length=5</i>\n",
       "<table id=\"table140628171066064\" class=\"table-striped table-bordered table-condensed\">\n",
       "<thead><tr><th>_RAJ2000</th><th>_DEJ2000</th><th>Group</th><th>Gal</th><th>RAJ2000</th><th>DEJ2000</th><th>zmemb</th><th>gmemb</th><th>FUV</th><th>NUV</th><th>Simbad</th></tr></thead>\n",
       "<thead><tr><th>float64</th><th>float64</th><th>int64</th><th>int64</th><th>str11</th><th>str11</th><th>float64</th><th>int64</th><th>float64</th><th>float64</th><th>str6</th></tr></thead>\n",
       "<tr><td>66.7155833</td><td>-49.1161944</td><td>235</td><td>1</td><td>04 26 51.74</td><td>-49 06 58.3</td><td>0.0</td><td>--</td><td>18.5235</td><td>18.163</td><td>Simbad</td></tr>\n",
       "<tr><td>66.7280833</td><td>-49.1176667</td><td>235</td><td>2</td><td>04 26 54.74</td><td>-49 07 03.6</td><td>0.0</td><td>--</td><td>19.9712</td><td>19.6633</td><td>Simbad</td></tr>\n",
       "<tr><td>66.7312917</td><td>-49.1246944</td><td>235</td><td>3</td><td>04 26 55.51</td><td>-49 07 28.9</td><td>0.0</td><td>--</td><td>18.8249</td><td>18.3212</td><td>Simbad</td></tr>\n",
       "<tr><td>66.7572917</td><td>-49.1238333</td><td>235</td><td>4</td><td>04 27 01.75</td><td>-49 07 25.8</td><td>0.0</td><td>--</td><td>18.7048</td><td>18.807</td><td>Simbad</td></tr>\n",
       "<tr><td>66.7724167</td><td>-49.1146389</td><td>235</td><td>5</td><td>04 27 05.38</td><td>-49 06 52.7</td><td>0.05828</td><td>--</td><td>17.6725</td><td>17.0204</td><td>Simbad</td></tr>\n",
       "</table></div>"
      ],
      "text/plain": [
       "<Table length=5>\n",
       " _RAJ2000    _DEJ2000  Group  Gal    RAJ2000     DEJ2000    zmemb  gmemb   FUV     NUV   Simbad\n",
       " float64     float64   int64 int64    str11       str11    float64 int64 float64 float64  str6 \n",
       "---------- ----------- ----- ----- ----------- ----------- ------- ----- ------- ------- ------\n",
       "66.7155833 -49.1161944   235     1 04 26 51.74 -49 06 58.3     0.0    -- 18.5235  18.163 Simbad\n",
       "66.7280833 -49.1176667   235     2 04 26 54.74 -49 07 03.6     0.0    -- 19.9712 19.6633 Simbad\n",
       "66.7312917 -49.1246944   235     3 04 26 55.51 -49 07 28.9     0.0    -- 18.8249 18.3212 Simbad\n",
       "66.7572917 -49.1238333   235     4 04 27 01.75 -49 07 25.8     0.0    -- 18.7048  18.807 Simbad\n",
       "66.7724167 -49.1146389   235     5 04 27 05.38 -49 06 52.7 0.05828    -- 17.6725 17.0204 Simbad"
      ]
     },
     "execution_count": 14,
     "metadata": {},
     "output_type": "execute_result"
    }
   ],
   "source": [
    "tabla = Table.read('Galaxy_catalogue.csv', format='ascii')\n",
    "tabla = tabla[tabla['Group'] == 235]\n",
    "tabla\n",
    "#tabla.write('gr_235.csv', format='csv', overwrite=True)"
   ]
  }
 ],
 "metadata": {
  "kernelspec": {
   "display_name": "Python 3 (ipykernel)",
   "language": "python",
   "name": "python3"
  },
  "language_info": {
   "codemirror_mode": {
    "name": "ipython",
    "version": 3
   },
   "file_extension": ".py",
   "mimetype": "text/x-python",
   "name": "python",
   "nbconvert_exporter": "python",
   "pygments_lexer": "ipython3",
   "version": "3.11.4"
  }
 },
 "nbformat": 4,
 "nbformat_minor": 5
}
