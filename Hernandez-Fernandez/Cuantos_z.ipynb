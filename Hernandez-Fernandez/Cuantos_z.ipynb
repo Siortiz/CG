{
 "cells": [
  {
   "cell_type": "code",
   "execution_count": 23,
   "id": "38bb4e40",
   "metadata": {},
   "outputs": [],
   "source": [
    "from astropy.table import Table, Column\n",
    "import numpy as np"
   ]
  },
  {
   "cell_type": "code",
   "execution_count": 10,
   "id": "8eddb205",
   "metadata": {},
   "outputs": [],
   "source": [
    "names = [f'group_{i+1}' for i in range(280)]\n",
    "radii = [0.1 * 60] * 280"
   ]
  },
  {
   "cell_type": "code",
   "execution_count": 35,
   "id": "636757bc",
   "metadata": {
    "scrolled": false
   },
   "outputs": [
    {
     "data": {
      "text/html": [
       "<div><i>Table length=66</i>\n",
       "<table id=\"table140451861331536\" class=\"table-striped table-bordered table-condensed\">\n",
       "<thead><tr><th>RA</th><th>DEC</th><th>RAJ2000</th><th>DEJ2000</th><th>NAME</th><th>zUV</th><th>nUV</th><th>ngal</th><th>nz</th><th>mz</th><th>priority</th><th>spectra</th></tr></thead>\n",
       "<thead><tr><th>float64</th><th>float64</th><th>str11</th><th>str11</th><th>int64</th><th>float64</th><th>int64</th><th>int64</th><th>int64</th><th>int64</th><th>int64</th><th>str4</th></tr></thead>\n",
       "<tr><td>0.0955417</td><td>-22.5871111</td><td>00 00 22.93</td><td>-22 35 13.6</td><td>1</td><td>--</td><td>4</td><td>4</td><td>0</td><td>0</td><td>0</td><td>none</td></tr>\n",
       "<tr><td>3.5375833</td><td>-22.5641389</td><td>00 14 09.02</td><td>-22 33 50.9</td><td>5</td><td>--</td><td>4</td><td>4</td><td>0</td><td>0</td><td>0</td><td>none</td></tr>\n",
       "<tr><td>4.443125</td><td>-69.1486111</td><td>00 17 46.35</td><td>-69 08 55.0</td><td>6</td><td>--</td><td>4</td><td>3</td><td>0</td><td>0</td><td>1</td><td>none</td></tr>\n",
       "<tr><td>4.6624583</td><td>-35.9526667</td><td>00 18 38.99</td><td>-35 57 09.6</td><td>8</td><td>0.012953</td><td>4</td><td>4</td><td>2</td><td>2</td><td>0</td><td>none</td></tr>\n",
       "<tr><td>7.8092917</td><td>-25.4954444</td><td>00 31 14.23</td><td>-25 29 43.6</td><td>11</td><td>0.09295</td><td>4</td><td>4</td><td>2</td><td>2</td><td>1</td><td>none</td></tr>\n",
       "<tr><td>9.4815417</td><td>-25.0715556</td><td>00 37 55.57</td><td>-25 04 17.6</td><td>15</td><td>0.063567</td><td>4</td><td>3</td><td>3</td><td>2</td><td>0</td><td>none</td></tr>\n",
       "<tr><td>12.86175</td><td>-23.2156389</td><td>00 51 26.82</td><td>-23 12 56.3</td><td>19</td><td>--</td><td>4</td><td>3</td><td>0</td><td>0</td><td>0</td><td>none</td></tr>\n",
       "<tr><td>13.0451667</td><td>-1.1171389</td><td>00 52 10.84</td><td>-01 07 01.7</td><td>20</td><td>0.0413</td><td>4</td><td>4</td><td>3</td><td>2</td><td>1</td><td>none</td></tr>\n",
       "<tr><td>14.4054583</td><td>-35.7571944</td><td>00 57 37.31</td><td>-35 45 25.9</td><td>22</td><td>0.1259</td><td>4</td><td>4</td><td>1</td><td>1</td><td>0</td><td>none</td></tr>\n",
       "<tr><td>15.5714583</td><td>-17.2013889</td><td>01 02 17.15</td><td>-17 12 05.0</td><td>23</td><td>0.067744</td><td>4</td><td>3</td><td>1</td><td>1</td><td>0</td><td>none</td></tr>\n",
       "<tr><td>16.8251667</td><td>-32.83475</td><td>01 07 18.04</td><td>-32 50 05.1</td><td>26</td><td>0.035194</td><td>4</td><td>4</td><td>4</td><td>1</td><td>1</td><td>none</td></tr>\n",
       "<tr><td>20.2665417</td><td>-32.0529444</td><td>01 21 03.97</td><td>-32 03 10.6</td><td>28</td><td>0.0723</td><td>4</td><td>4</td><td>4</td><td>3</td><td>1</td><td>none</td></tr>\n",
       "<tr><td>...</td><td>...</td><td>...</td><td>...</td><td>...</td><td>...</td><td>...</td><td>...</td><td>...</td><td>...</td><td>...</td><td>...</td></tr>\n",
       "<tr><td>6.3470833</td><td>-21.6475278</td><td>00 25 23.30</td><td>-21 38 51.1</td><td>228</td><td>--</td><td>5</td><td>5</td><td>0</td><td>0</td><td>0</td><td>none</td></tr>\n",
       "<tr><td>27.481875</td><td>-27.81825</td><td>01 49 55.65</td><td>-27 49 05.7</td><td>230</td><td>0.088395</td><td>5</td><td>4</td><td>3</td><td>2</td><td>1</td><td>none</td></tr>\n",
       "<tr><td>66.4151667</td><td>-64.4605</td><td>04 25 39.64</td><td>-64 27 37.8</td><td>234</td><td>--</td><td>5</td><td>4</td><td>0</td><td>0</td><td>1</td><td>none</td></tr>\n",
       "<tr><td>66.7409167</td><td>-49.1194167</td><td>04 26 57.82</td><td>-49 07 09.9</td><td>235</td><td>0.05828</td><td>5</td><td>5</td><td>1</td><td>1</td><td>1</td><td>none</td></tr>\n",
       "<tr><td>69.2939167</td><td>-46.6888333</td><td>04 37 10.54</td><td>-46 41 19.8</td><td>236</td><td>--</td><td>5</td><td>4</td><td>0</td><td>0</td><td>1</td><td>none</td></tr>\n",
       "<tr><td>349.18325</td><td>-41.6555833</td><td>23 16 43.98</td><td>-41 39 20.1</td><td>264</td><td>--</td><td>5</td><td>4</td><td>0</td><td>0</td><td>0</td><td>none</td></tr>\n",
       "<tr><td>24.8080417</td><td>-74.4229167</td><td>01 39 13.93</td><td>-74 25 22.5</td><td>267</td><td>--</td><td>6</td><td>3</td><td>0</td><td>0</td><td>1</td><td>none</td></tr>\n",
       "<tr><td>38.574625</td><td>-73.7201111</td><td>02 34 17.91</td><td>-73 43 12.4</td><td>268</td><td>--</td><td>6</td><td>3</td><td>0</td><td>0</td><td>1</td><td>none</td></tr>\n",
       "<tr><td>50.254375</td><td>-33.90475</td><td>03 21 01.05</td><td>-33 54 17.1</td><td>269</td><td>0.070421</td><td>6</td><td>5</td><td>4</td><td>3</td><td>1</td><td>none</td></tr>\n",
       "<tr><td>61.54575</td><td>-36.9300833</td><td>04 06 10.98</td><td>-36 55 48.3</td><td>270</td><td>--</td><td>6</td><td>4</td><td>0</td><td>0</td><td>1</td><td>none</td></tr>\n",
       "<tr><td>72.387375</td><td>-73.06925</td><td>04 49 32.97</td><td>-73 04 09.3</td><td>271</td><td>0.027543</td><td>6</td><td>3</td><td>2</td><td>2</td><td>1</td><td>none</td></tr>\n",
       "<tr><td>31.2625833</td><td>-74.8638889</td><td>02 05 03.02</td><td>-74 51 50.0</td><td>277</td><td>--</td><td>7</td><td>3</td><td>0</td><td>0</td><td>1</td><td>none</td></tr>\n",
       "</table></div>"
      ],
      "text/plain": [
       "<Table length=66>\n",
       "    RA         DEC       RAJ2000     DEJ2000    NAME   zUV     nUV   ngal   nz    mz  priority spectra\n",
       " float64     float64      str11       str11    int64 float64  int64 int64 int64 int64  int64     str4 \n",
       "---------- ----------- ----------- ----------- ----- -------- ----- ----- ----- ----- -------- -------\n",
       " 0.0955417 -22.5871111 00 00 22.93 -22 35 13.6     1       --     4     4     0     0        0    none\n",
       " 3.5375833 -22.5641389 00 14 09.02 -22 33 50.9     5       --     4     4     0     0        0    none\n",
       "  4.443125 -69.1486111 00 17 46.35 -69 08 55.0     6       --     4     3     0     0        1    none\n",
       " 4.6624583 -35.9526667 00 18 38.99 -35 57 09.6     8 0.012953     4     4     2     2        0    none\n",
       " 7.8092917 -25.4954444 00 31 14.23 -25 29 43.6    11  0.09295     4     4     2     2        1    none\n",
       " 9.4815417 -25.0715556 00 37 55.57 -25 04 17.6    15 0.063567     4     3     3     2        0    none\n",
       "  12.86175 -23.2156389 00 51 26.82 -23 12 56.3    19       --     4     3     0     0        0    none\n",
       "13.0451667  -1.1171389 00 52 10.84 -01 07 01.7    20   0.0413     4     4     3     2        1    none\n",
       "14.4054583 -35.7571944 00 57 37.31 -35 45 25.9    22   0.1259     4     4     1     1        0    none\n",
       "15.5714583 -17.2013889 01 02 17.15 -17 12 05.0    23 0.067744     4     3     1     1        0    none\n",
       "16.8251667   -32.83475 01 07 18.04 -32 50 05.1    26 0.035194     4     4     4     1        1    none\n",
       "20.2665417 -32.0529444 01 21 03.97 -32 03 10.6    28   0.0723     4     4     4     3        1    none\n",
       "       ...         ...         ...         ...   ...      ...   ...   ...   ...   ...      ...     ...\n",
       " 6.3470833 -21.6475278 00 25 23.30 -21 38 51.1   228       --     5     5     0     0        0    none\n",
       " 27.481875   -27.81825 01 49 55.65 -27 49 05.7   230 0.088395     5     4     3     2        1    none\n",
       "66.4151667    -64.4605 04 25 39.64 -64 27 37.8   234       --     5     4     0     0        1    none\n",
       "66.7409167 -49.1194167 04 26 57.82 -49 07 09.9   235  0.05828     5     5     1     1        1    none\n",
       "69.2939167 -46.6888333 04 37 10.54 -46 41 19.8   236       --     5     4     0     0        1    none\n",
       " 349.18325 -41.6555833 23 16 43.98 -41 39 20.1   264       --     5     4     0     0        0    none\n",
       "24.8080417 -74.4229167 01 39 13.93 -74 25 22.5   267       --     6     3     0     0        1    none\n",
       " 38.574625 -73.7201111 02 34 17.91 -73 43 12.4   268       --     6     3     0     0        1    none\n",
       " 50.254375   -33.90475 03 21 01.05 -33 54 17.1   269 0.070421     6     5     4     3        1    none\n",
       "  61.54575 -36.9300833 04 06 10.98 -36 55 48.3   270       --     6     4     0     0        1    none\n",
       " 72.387375   -73.06925 04 49 32.97 -73 04 09.3   271 0.027543     6     3     2     2        1    none\n",
       "31.2625833 -74.8638889 02 05 03.02 -74 51 50.0   277       --     7     3     0     0        1    none"
      ]
     },
     "execution_count": 35,
     "metadata": {},
     "output_type": "execute_result"
    }
   ],
   "source": [
    "table = Table.read('HF_SPLUS.csv', format='ascii')\n",
    "table = table['RA', 'DEC', 'RAJ2000', 'DEJ2000', 'NAME', 'zUV', 'nUV', 'ngal', 'nz', 'mz']\n",
    "table = table[(table['NAME'] != 237) & (table['NAME'] != 187)]\n",
    "table = table[np.argsort(table['NAME'])]\n",
    "fail = [1, 5, 8, 15, 19, 22, 23, 29, 34, 41, 47, 49, 50, 72, 93, 149, 189, 190, 199, 204, 208, 209, 211, 215, 216, 221, 222, 228, 264]\n",
    "spectra_pw = [30, 37, 184, 187, 191, 206, 211, 217, 218, 220, 225]\n",
    "spectra_sg = [7, 194, 195, 236, 237, 273]\n",
    "priority_column = Column(data=[0] * len(table), name='priority')\n",
    "spectra_column = Column(data=['none']*len(table), name = 'spectra')\n",
    "\n",
    "for i, name_value in (enumerate(table['NAME'])):\n",
    "    if name_value not in fail:\n",
    "        priority_column[i] = 1\n",
    "    elif name_value in spectra_pw:\n",
    "        spectra_column[i] = 'G/PW'\n",
    "    elif name_value in spectra_sg:\n",
    "        spectra_column[i] = 'S/GM'\n",
    "table.add_column(priority_column)\n",
    "table.add_column(spectra_column)\n",
    "table\n",
    "#print(table[:67])\n",
    "#table.write('Groups_barb.csv', format='csv')"
   ]
  },
  {
   "cell_type": "code",
   "execution_count": 14,
   "id": "71965360",
   "metadata": {},
   "outputs": [
    {
     "data": {
      "text/html": [
       "<div><i>Table length=12</i>\n",
       "<table id=\"table140451864556752\" class=\"table-striped table-bordered table-condensed\">\n",
       "<thead><tr><th>RA</th><th>DEC</th><th>NAME</th><th>STATUS</th><th>_RAJ2000</th><th>_DEJ2000</th><th>Group</th><th>RAJ2000</th><th>DEJ2000</th><th>zUV</th><th>nUV</th><th>ngal</th><th>nz</th><th>mz</th><th>r{theta}</th><th>Rij</th><th>sigmalos</th><th>Simbad</th><th>Separation</th><th>z_fraction</th></tr></thead>\n",
       "<thead><tr><th>float64</th><th>float64</th><th>int64</th><th>int64</th><th>float64</th><th>float64</th><th>str99</th><th>str11</th><th>str11</th><th>float64</th><th>int64</th><th>int64</th><th>int64</th><th>int64</th><th>float64</th><th>float64</th><th>float64</th><th>str6</th><th>float64</th><th>float64</th></tr></thead>\n",
       "<tr><td>14.4054583</td><td>-35.7571944</td><td>22</td><td>666</td><td>14.4054583</td><td>-35.7571944</td><td>http://vizier.u-strasbg.fr/viz-bin/VizieR-4?-info=XML&amp;-out.add=.&amp;-source=J/MNRAS/453/1965&amp;Group= 22</td><td>00 57 37.31</td><td>-35 45 25.9</td><td>0.1259</td><td>4</td><td>4</td><td>1</td><td>1</td><td>0.948</td><td>--</td><td>--</td><td>Simbad</td><td>0.0</td><td>0.25</td></tr>\n",
       "<tr><td>15.5714583</td><td>-17.2013889</td><td>23</td><td>666</td><td>15.5714583</td><td>-17.2013889</td><td>http://vizier.u-strasbg.fr/viz-bin/VizieR-4?-info=XML&amp;-out.add=.&amp;-source=J/MNRAS/453/1965&amp;Group= 23</td><td>01 02 17.15</td><td>-17 12 05.0</td><td>0.067744</td><td>4</td><td>3</td><td>1</td><td>1</td><td>1.375</td><td>--</td><td>--</td><td>Simbad</td><td>0.0</td><td>0.3333333333333333</td></tr>\n",
       "<tr><td>43.4509167</td><td>-41.9697222</td><td>47</td><td>666</td><td>43.4509167</td><td>-41.9697222</td><td>http://vizier.u-strasbg.fr/viz-bin/VizieR-4?-info=XML&amp;-out.add=.&amp;-source=J/MNRAS/453/1965&amp;Group= 47</td><td>02 53 48.22</td><td>-41 58 11.0</td><td>0.069815</td><td>4</td><td>4</td><td>1</td><td>1</td><td>0.909</td><td>--</td><td>--</td><td>Simbad</td><td>0.0</td><td>0.25</td></tr>\n",
       "<tr><td>52.9541667</td><td>-39.6227778</td><td>54</td><td>666</td><td>52.9541667</td><td>-39.6227778</td><td>http://vizier.u-strasbg.fr/viz-bin/VizieR-4?-info=XML&amp;-out.add=.&amp;-source=J/MNRAS/453/1965&amp;Group= 54</td><td>03 31 49.00</td><td>-39 37 22.0</td><td>0.10668</td><td>4</td><td>3</td><td>1</td><td>1</td><td>0.894</td><td>--</td><td>--</td><td>Simbad</td><td>0.0</td><td>0.3333333333333333</td></tr>\n",
       "<tr><td>55.6182083</td><td>-41.1549167</td><td>60</td><td>666</td><td>55.6182083</td><td>-41.1549167</td><td>http://vizier.u-strasbg.fr/viz-bin/VizieR-4?-info=XML&amp;-out.add=.&amp;-source=J/MNRAS/453/1965&amp;Group= 60</td><td>03 42 28.37</td><td>-41 09 17.7</td><td>0.004923</td><td>4</td><td>3</td><td>1</td><td>1</td><td>0.793</td><td>--</td><td>--</td><td>Simbad</td><td>0.0</td><td>0.3333333333333333</td></tr>\n",
       "<tr><td>97.2095833</td><td>-69.6947222</td><td>72</td><td>666</td><td>97.2095833</td><td>-69.6947222</td><td>http://vizier.u-strasbg.fr/viz-bin/VizieR-4?-info=XML&amp;-out.add=.&amp;-source=J/MNRAS/453/1965&amp;Group= 72</td><td>06 28 50.30</td><td>-69 41 41.0</td><td>0.03368</td><td>4</td><td>4</td><td>1</td><td>1</td><td>1.096</td><td>--</td><td>--</td><td>Simbad</td><td>0.0</td><td>0.25</td></tr>\n",
       "<tr><td>314.48475</td><td>-24.9644167</td><td>186</td><td>666</td><td>314.48475</td><td>-24.9644167</td><td>http://vizier.u-strasbg.fr/viz-bin/VizieR-4?-info=XML&amp;-out.add=.&amp;-source=J/MNRAS/453/1965&amp;Group=186</td><td>20 57 56.34</td><td>-24 57 51.9</td><td>0.094365</td><td>4</td><td>3</td><td>1</td><td>1</td><td>1.032</td><td>--</td><td>--</td><td>Simbad</td><td>0.0</td><td>0.3333333333333333</td></tr>\n",
       "<tr><td>319.3525</td><td>-35.9165556</td><td>189</td><td>666</td><td>319.3525</td><td>-35.9165556</td><td>http://vizier.u-strasbg.fr/viz-bin/VizieR-4?-info=XML&amp;-out.add=.&amp;-source=J/MNRAS/453/1965&amp;Group=189</td><td>21 17 24.60</td><td>-35 54 59.6</td><td>0.029797</td><td>4</td><td>4</td><td>1</td><td>1</td><td>0.789</td><td>--</td><td>--</td><td>Simbad</td><td>0.0</td><td>0.25</td></tr>\n",
       "<tr><td>319.51275</td><td>-50.7521944</td><td>190</td><td>666</td><td>319.51275</td><td>-50.7521944</td><td>http://vizier.u-strasbg.fr/viz-bin/VizieR-4?-info=XML&amp;-out.add=.&amp;-source=J/MNRAS/453/1965&amp;Group=190</td><td>21 18 03.06</td><td>-50 45 07.9</td><td>0.073594</td><td>4</td><td>3</td><td>1</td><td>1</td><td>1.123</td><td>--</td><td>--</td><td>Simbad</td><td>0.0</td><td>0.3333333333333333</td></tr>\n",
       "<tr><td>330.18975</td><td>-42.8210556</td><td>194</td><td>666</td><td>330.18975</td><td>-42.8210556</td><td>http://vizier.u-strasbg.fr/viz-bin/VizieR-4?-info=XML&amp;-out.add=.&amp;-source=J/MNRAS/453/1965&amp;Group=194</td><td>22 00 45.54</td><td>-42 49 15.8</td><td>0.067693</td><td>4</td><td>4</td><td>1</td><td>1</td><td>0.902</td><td>--</td><td>--</td><td>Simbad</td><td>0.0</td><td>0.25</td></tr>\n",
       "<tr><td>352.546</td><td>-44.1920556</td><td>216</td><td>666</td><td>352.546</td><td>-44.1920556</td><td>http://vizier.u-strasbg.fr/viz-bin/VizieR-4?-info=XML&amp;-out.add=.&amp;-source=J/MNRAS/453/1965&amp;Group=216</td><td>23 30 11.04</td><td>-44 11 31.4</td><td>0.100413</td><td>4</td><td>3</td><td>1</td><td>1</td><td>1.032</td><td>--</td><td>--</td><td>Simbad</td><td>0.0</td><td>0.3333333333333333</td></tr>\n",
       "<tr><td>66.7409167</td><td>-49.1194167</td><td>235</td><td>666</td><td>66.7409167</td><td>-49.1194167</td><td>http://vizier.u-strasbg.fr/viz-bin/VizieR-4?-info=XML&amp;-out.add=.&amp;-source=J/MNRAS/453/1965&amp;Group=235</td><td>04 26 57.82</td><td>-49 07 09.9</td><td>0.05828</td><td>5</td><td>5</td><td>1</td><td>1</td><td>0.953</td><td>--</td><td>--</td><td>Simbad</td><td>0.0</td><td>0.2</td></tr>\n",
       "</table></div>"
      ],
      "text/plain": [
       "<Table length=12>\n",
       "    RA         DEC      NAME STATUS  _RAJ2000    _DEJ2000  ... r{theta}   Rij   sigmalos Simbad Separation     z_fraction    \n",
       " float64     float64   int64 int64   float64     float64   ... float64  float64 float64   str6   float64        float64      \n",
       "---------- ----------- ----- ------ ---------- ----------- ... -------- ------- -------- ------ ---------- ------------------\n",
       "14.4054583 -35.7571944    22    666 14.4054583 -35.7571944 ...    0.948      --       -- Simbad        0.0               0.25\n",
       "15.5714583 -17.2013889    23    666 15.5714583 -17.2013889 ...    1.375      --       -- Simbad        0.0 0.3333333333333333\n",
       "43.4509167 -41.9697222    47    666 43.4509167 -41.9697222 ...    0.909      --       -- Simbad        0.0               0.25\n",
       "52.9541667 -39.6227778    54    666 52.9541667 -39.6227778 ...    0.894      --       -- Simbad        0.0 0.3333333333333333\n",
       "55.6182083 -41.1549167    60    666 55.6182083 -41.1549167 ...    0.793      --       -- Simbad        0.0 0.3333333333333333\n",
       "97.2095833 -69.6947222    72    666 97.2095833 -69.6947222 ...    1.096      --       -- Simbad        0.0               0.25\n",
       " 314.48475 -24.9644167   186    666  314.48475 -24.9644167 ...    1.032      --       -- Simbad        0.0 0.3333333333333333\n",
       "  319.3525 -35.9165556   189    666   319.3525 -35.9165556 ...    0.789      --       -- Simbad        0.0               0.25\n",
       " 319.51275 -50.7521944   190    666  319.51275 -50.7521944 ...    1.123      --       -- Simbad        0.0 0.3333333333333333\n",
       " 330.18975 -42.8210556   194    666  330.18975 -42.8210556 ...    0.902      --       -- Simbad        0.0               0.25\n",
       "   352.546 -44.1920556   216    666    352.546 -44.1920556 ...    1.032      --       -- Simbad        0.0 0.3333333333333333\n",
       "66.7409167 -49.1194167   235    666 66.7409167 -49.1194167 ...    0.953      --       -- Simbad        0.0                0.2"
      ]
     },
     "execution_count": 14,
     "metadata": {},
     "output_type": "execute_result"
    }
   ],
   "source": [
    "tabla = Table.read('HF_SPLUS.csv', format='ascii')\n",
    "# Divide la columna1 por la columna2\n",
    "tabla['z_fraction'] = tabla['nz'] / tabla['ngal']\n",
    "#tabla\n",
    "# Filtra las filas donde la división sea menor o igual a 1/2\n",
    "resultado_filtrado = tabla[(tabla['z_fraction'] < 1/2) & (tabla['z_fraction'] != 0)]\n",
    "resultado_filtrado = resultado_filtrado[(resultado_filtrado['NAME'] != 237) & (resultado_filtrado['NAME'] != 187)]\n",
    "resultado_filtrado = resultado_filtrado[np.argsort(resultado_filtrado['NAME'])]\n",
    "resultado_filtrado"
   ]
  },
  {
   "cell_type": "code",
   "execution_count": 35,
   "id": "86c29604",
   "metadata": {},
   "outputs": [],
   "source": [
    "coordinates = Table({\n",
    "    'NAME': resultado_filtrado['NAME'].astype(str),\n",
    "    'ra': resultado_filtrado['_RAJ2000'],\n",
    "    'dec': resultado_filtrado['_DEJ2000']\n",
    "})\n",
    "\n",
    "# Agregamos la columna 'J2000' a todas las filas de 'coordinates'\n",
    "coordinates['J2000'] = 'J2000'\n",
    "#coordinates\n",
    "# Guardamos la tabla en un archivo CSV sin incluir el encabezado\n",
    "with open('coords_proposal_objects.csv', 'w') as f:\n",
    "    # Escribimos los datos manualmente sin incluir el encabezado\n",
    "    for row in coordinates:\n",
    "        f.write(','.join([str(value) for value in row]) + '\\n')"
   ]
  },
  {
   "cell_type": "code",
   "execution_count": 6,
   "id": "93d8c326",
   "metadata": {},
   "outputs": [
    {
     "data": {
      "text/html": [
       "<div><i>Table length=153</i>\n",
       "<table id=\"table140192847449424\" class=\"table-striped table-bordered table-condensed\">\n",
       "<thead><tr><th>RA</th><th>DEC</th><th>ISOarea</th></tr></thead>\n",
       "<thead><tr><th>float64</th><th>float64</th><th>float64</th></tr></thead>\n",
       "<tr><td>52.930808897620096</td><td>-39.64614275267816</td><td>7.002315e-08</td></tr>\n",
       "<tr><td>52.945287540738036</td><td>-39.587461500892786</td><td>5.835263e-07</td></tr>\n",
       "<tr><td>52.94550219795199</td><td>-39.58581812662639</td><td>1.400463e-07</td></tr>\n",
       "<tr><td>52.911334866737725</td><td>-39.591005278491046</td><td>0.0</td></tr>\n",
       "<tr><td>52.904662611310954</td><td>-39.59356750366546</td><td>7.002315e-08</td></tr>\n",
       "<tr><td>52.95421486689146</td><td>-39.59335241241497</td><td>4.66821e-08</td></tr>\n",
       "<tr><td>52.9145925637813</td><td>-39.59426401245688</td><td>0.0</td></tr>\n",
       "<tr><td>52.912435641927765</td><td>-39.59487984082239</td><td>3.0343367e-07</td></tr>\n",
       "<tr><td>52.96547017202213</td><td>-39.59842019828567</td><td>1.400463e-07</td></tr>\n",
       "<tr><td>52.91831089395824</td><td>-39.599707985870495</td><td>7.002315e-08</td></tr>\n",
       "<tr><td>52.94326829865026</td><td>-39.5980540011073</td><td>4.4347996e-07</td></tr>\n",
       "<tr><td>52.961293204647376</td><td>-39.597004246467876</td><td>4.66821e-08</td></tr>\n",
       "<tr><td>52.94472884938533</td><td>-39.60275286311813</td><td>2.334105e-08</td></tr>\n",
       "<tr><td>52.90723379417813</td><td>-39.60186044345006</td><td>0.0</td></tr>\n",
       "<tr><td>52.95441310030131</td><td>-39.59984129033345</td><td>4.4347996e-07</td></tr>\n",
       "<tr><td>52.89094999261152</td><td>-39.61134882894375</td><td>5.135031e-07</td></tr>\n",
       "<tr><td>...</td><td>...</td><td>...</td></tr>\n",
       "<tr><td>52.97565569991924</td><td>-39.64283472426343</td><td>6.0686733e-07</td></tr>\n",
       "<tr><td>52.97788601706651</td><td>-39.64405383218583</td><td>6.0686733e-07</td></tr>\n",
       "<tr><td>52.99219372659449</td><td>-39.642628305524816</td><td>7.002315e-08</td></tr>\n",
       "<tr><td>53.007030741120616</td><td>-39.644571904891436</td><td>1.7505788e-06</td></tr>\n",
       "<tr><td>52.99315365669502</td><td>-39.62715613976458</td><td>6.535494e-07</td></tr>\n",
       "<tr><td>53.00608114756436</td><td>-39.645399086022444</td><td>1.9839893e-06</td></tr>\n",
       "<tr><td>52.98419979501833</td><td>-39.64467930905056</td><td>4.66821e-08</td></tr>\n",
       "<tr><td>52.99039728471908</td><td>-39.64801218588155</td><td>5.601852e-07</td></tr>\n",
       "<tr><td>53.00349667661738</td><td>-39.644837175751334</td><td>1.3537809e-06</td></tr>\n",
       "<tr><td>53.007083549244975</td><td>-39.64570076940942</td><td>2.800926e-07</td></tr>\n",
       "<tr><td>52.985863997783426</td><td>-39.64993513097716</td><td>1.400463e-07</td></tr>\n",
       "<tr><td>52.99615571165203</td><td>-39.65560954339898</td><td>2.334105e-08</td></tr>\n",
       "<tr><td>52.99910441918772</td><td>-39.65593871754626</td><td>1.867284e-07</td></tr>\n",
       "<tr><td>52.989343561262835</td><td>-39.643607855560845</td><td>4.66821e-08</td></tr>\n",
       "<tr><td>52.98971440758615</td><td>-39.657078915643815</td><td>0.0</td></tr>\n",
       "<tr><td>53.00236330363418</td><td>-39.65389491947861</td><td>4.66821e-07</td></tr>\n",
       "</table></div>"
      ],
      "text/plain": [
       "<Table length=153>\n",
       "        RA                 DEC            ISOarea   \n",
       "     float64             float64          float64   \n",
       "------------------ ------------------- -------------\n",
       "52.930808897620096  -39.64614275267816  7.002315e-08\n",
       "52.945287540738036 -39.587461500892786  5.835263e-07\n",
       " 52.94550219795199  -39.58581812662639  1.400463e-07\n",
       "52.911334866737725 -39.591005278491046           0.0\n",
       "52.904662611310954  -39.59356750366546  7.002315e-08\n",
       " 52.95421486689146  -39.59335241241497   4.66821e-08\n",
       "  52.9145925637813  -39.59426401245688           0.0\n",
       "52.912435641927765  -39.59487984082239 3.0343367e-07\n",
       " 52.96547017202213  -39.59842019828567  1.400463e-07\n",
       " 52.91831089395824 -39.599707985870495  7.002315e-08\n",
       " 52.94326829865026   -39.5980540011073 4.4347996e-07\n",
       "52.961293204647376 -39.597004246467876   4.66821e-08\n",
       " 52.94472884938533  -39.60275286311813  2.334105e-08\n",
       " 52.90723379417813  -39.60186044345006           0.0\n",
       " 52.95441310030131  -39.59984129033345 4.4347996e-07\n",
       " 52.89094999261152  -39.61134882894375  5.135031e-07\n",
       "               ...                 ...           ...\n",
       " 52.97565569991924  -39.64283472426343 6.0686733e-07\n",
       " 52.97788601706651  -39.64405383218583 6.0686733e-07\n",
       " 52.99219372659449 -39.642628305524816  7.002315e-08\n",
       "53.007030741120616 -39.644571904891436 1.7505788e-06\n",
       " 52.99315365669502  -39.62715613976458  6.535494e-07\n",
       " 53.00608114756436 -39.645399086022444 1.9839893e-06\n",
       " 52.98419979501833  -39.64467930905056   4.66821e-08\n",
       " 52.99039728471908  -39.64801218588155  5.601852e-07\n",
       " 53.00349667661738 -39.644837175751334 1.3537809e-06\n",
       "53.007083549244975  -39.64570076940942  2.800926e-07\n",
       "52.985863997783426  -39.64993513097716  1.400463e-07\n",
       " 52.99615571165203  -39.65560954339898  2.334105e-08\n",
       " 52.99910441918772  -39.65593871754626  1.867284e-07\n",
       "52.989343561262835 -39.643607855560845   4.66821e-08\n",
       " 52.98971440758615 -39.657078915643815           0.0\n",
       " 53.00236330363418  -39.65389491947861   4.66821e-07"
      ]
     },
     "execution_count": 6,
     "metadata": {},
     "output_type": "execute_result"
    }
   ],
   "source": [
    "tabla = Table.read('/home/seba/Downloads/result.csv', format='ascii')\n",
    "#tabla = tabla[tabla['RA'] == 52.9467]\n",
    "tabla\n",
    "#tabla.write('gr_235.csv', format='csv', overwrite=True)"
   ]
  }
 ],
 "metadata": {
  "kernelspec": {
   "display_name": "Python 3 (ipykernel)",
   "language": "python",
   "name": "python3"
  },
  "language_info": {
   "codemirror_mode": {
    "name": "ipython",
    "version": 3
   },
   "file_extension": ".py",
   "mimetype": "text/x-python",
   "name": "python",
   "nbconvert_exporter": "python",
   "pygments_lexer": "ipython3",
   "version": "3.11.4"
  }
 },
 "nbformat": 4,
 "nbformat_minor": 5
}
