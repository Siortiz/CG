{
 "cells": [
  {
   "cell_type": "code",
   "execution_count": 1,
   "metadata": {},
   "outputs": [],
   "source": [
    "from astropy.table import Table\n",
    "import numpy as np"
   ]
  },
  {
   "cell_type": "code",
   "execution_count": 7,
   "metadata": {},
   "outputs": [
    {
     "data": {
      "text/html": [
       "<div><i>Table length=124</i>\n",
       "<table id=\"table140189273621456\" class=\"table-striped table-bordered table-condensed\">\n",
       "<thead><tr><th>_RAJ2000</th><th>_DEJ2000</th><th>Group</th><th>RAJ2000</th><th>DEJ2000</th><th>zUV</th><th>nUV</th><th>ngal</th><th>nz</th><th>mz</th><th>r{theta}</th><th>Rij</th><th>sigmalos</th><th>Simbad</th><th>z_fraction</th></tr></thead>\n",
       "<thead><tr><th>float64</th><th>float64</th><th>str99</th><th>str11</th><th>str11</th><th>float64</th><th>int64</th><th>int64</th><th>int64</th><th>int64</th><th>float64</th><th>float64</th><th>float64</th><th>str6</th><th>float64</th></tr></thead>\n",
       "<tr><td>0.34475</td><td>13.1089167</td><td>http://vizier.u-strasbg.fr/viz-bin/VizieR-4?-info=XML&amp;-out.add=.&amp;-source=J/MNRAS/453/1965&amp;Group=  2</td><td>00 01 22.74</td><td>+13 06 32.1</td><td>0.017899</td><td>4</td><td>4</td><td>3</td><td>3</td><td>1.611</td><td>32.94</td><td>193.85</td><td>Simbad</td><td>0.75</td></tr>\n",
       "<tr><td>5.37225</td><td>38.0853056</td><td>http://vizier.u-strasbg.fr/viz-bin/VizieR-4?-info=XML&amp;-out.add=.&amp;-source=J/MNRAS/453/1965&amp;Group=  9</td><td>00 21 29.34</td><td>+38 05 07.1</td><td>0.035708</td><td>4</td><td>3</td><td>2</td><td>2</td><td>1.161</td><td>--</td><td>--</td><td>Simbad</td><td>0.6666666666666666</td></tr>\n",
       "<tr><td>8.6237083</td><td>39.5873611</td><td>http://vizier.u-strasbg.fr/viz-bin/VizieR-4?-info=XML&amp;-out.add=.&amp;-source=J/MNRAS/453/1965&amp;Group= 12</td><td>00 34 29.69</td><td>+39 35 14.5</td><td>0.019458</td><td>4</td><td>2</td><td>2</td><td>2</td><td>1.634</td><td>--</td><td>--</td><td>Simbad</td><td>1.0</td></tr>\n",
       "<tr><td>9.4255417</td><td>-9.0566389</td><td>http://vizier.u-strasbg.fr/viz-bin/VizieR-4?-info=XML&amp;-out.add=.&amp;-source=J/MNRAS/453/1965&amp;Group= 14</td><td>00 37 42.13</td><td>-09 03 23.9</td><td>0.076528</td><td>4</td><td>4</td><td>3</td><td>3</td><td>0.761</td><td>74.83</td><td>228.04</td><td>Simbad</td><td>0.75</td></tr>\n",
       "<tr><td>9.4815417</td><td>-25.0715556</td><td>http://vizier.u-strasbg.fr/viz-bin/VizieR-4?-info=XML&amp;-out.add=.&amp;-source=J/MNRAS/453/1965&amp;Group= 15</td><td>00 37 55.57</td><td>-25 04 17.6</td><td>0.063567</td><td>4</td><td>3</td><td>3</td><td>2</td><td>1.152</td><td>--</td><td>--</td><td>Simbad</td><td>1.0</td></tr>\n",
       "<tr><td>13.0451667</td><td>-1.1171389</td><td>http://vizier.u-strasbg.fr/viz-bin/VizieR-4?-info=XML&amp;-out.add=.&amp;-source=J/MNRAS/453/1965&amp;Group= 20</td><td>00 52 10.84</td><td>-01 07 01.7</td><td>0.0413</td><td>4</td><td>4</td><td>3</td><td>2</td><td>0.596</td><td>--</td><td>--</td><td>Simbad</td><td>0.75</td></tr>\n",
       "<tr><td>16.0889167</td><td>-51.0198333</td><td>http://vizier.u-strasbg.fr/viz-bin/VizieR-4?-info=XML&amp;-out.add=.&amp;-source=J/MNRAS/453/1965&amp;Group= 24</td><td>01 04 21.34</td><td>-51 01 11.4</td><td>0.062667</td><td>4</td><td>4</td><td>3</td><td>1</td><td>1.018</td><td>--</td><td>--</td><td>Simbad</td><td>0.75</td></tr>\n",
       "<tr><td>16.8251667</td><td>-32.83475</td><td>http://vizier.u-strasbg.fr/viz-bin/VizieR-4?-info=XML&amp;-out.add=.&amp;-source=J/MNRAS/453/1965&amp;Group= 26</td><td>01 07 18.04</td><td>-32 50 05.1</td><td>0.035194</td><td>4</td><td>4</td><td>4</td><td>1</td><td>1.033</td><td>--</td><td>--</td><td>Simbad</td><td>1.0</td></tr>\n",
       "<tr><td>18.1803333</td><td>14.3776111</td><td>http://vizier.u-strasbg.fr/viz-bin/VizieR-4?-info=XML&amp;-out.add=.&amp;-source=J/MNRAS/453/1965&amp;Group= 27</td><td>01 12 43.28</td><td>+14 22 39.4</td><td>0.093823</td><td>4</td><td>4</td><td>3</td><td>2</td><td>1.19</td><td>--</td><td>--</td><td>Simbad</td><td>0.75</td></tr>\n",
       "<tr><td>20.2665417</td><td>-32.0529444</td><td>http://vizier.u-strasbg.fr/viz-bin/VizieR-4?-info=XML&amp;-out.add=.&amp;-source=J/MNRAS/453/1965&amp;Group= 28</td><td>01 21 03.97</td><td>-32 03 10.6</td><td>0.0723</td><td>4</td><td>4</td><td>4</td><td>3</td><td>1.253</td><td>117.23</td><td>66.07</td><td>Simbad</td><td>1.0</td></tr>\n",
       "<tr><td>...</td><td>...</td><td>...</td><td>...</td><td>...</td><td>...</td><td>...</td><td>...</td><td>...</td><td>...</td><td>...</td><td>...</td><td>...</td><td>...</td><td>...</td></tr>\n",
       "<tr><td>243.3022917</td><td>8.5478611</td><td>http://vizier.u-strasbg.fr/viz-bin/VizieR-4?-info=XML&amp;-out.add=.&amp;-source=J/MNRAS/453/1965&amp;Group=258</td><td>16 13 12.55</td><td>+08 32 52.3</td><td>0.063233</td><td>5</td><td>5</td><td>4</td><td>3</td><td>1.7</td><td>91.76</td><td>85.29</td><td>Simbad</td><td>0.8</td></tr>\n",
       "<tr><td>267.4914583</td><td>68.4053611</td><td>http://vizier.u-strasbg.fr/viz-bin/VizieR-4?-info=XML&amp;-out.add=.&amp;-source=J/MNRAS/453/1965&amp;Group=261</td><td>17 49 57.95</td><td>+68 24 19.3</td><td>0.051225</td><td>5</td><td>4</td><td>3</td><td>3</td><td>1.19</td><td>53.04</td><td>219.04</td><td>Simbad</td><td>0.75</td></tr>\n",
       "<tr><td>323.84725</td><td>-49.93475</td><td>http://vizier.u-strasbg.fr/viz-bin/VizieR-4?-info=XML&amp;-out.add=.&amp;-source=J/MNRAS/453/1965&amp;Group=263</td><td>21 35 23.34</td><td>-49 56 05.1</td><td>0.054924</td><td>5</td><td>3</td><td>2</td><td>2</td><td>0.87</td><td>--</td><td>--</td><td>Simbad</td><td>0.6666666666666666</td></tr>\n",
       "<tr><td>50.254375</td><td>-33.90475</td><td>http://vizier.u-strasbg.fr/viz-bin/VizieR-4?-info=XML&amp;-out.add=.&amp;-source=J/MNRAS/453/1965&amp;Group=269</td><td>03 21 01.05</td><td>-33 54 17.1</td><td>0.070421</td><td>6</td><td>5</td><td>4</td><td>3</td><td>1.144</td><td>179.78</td><td>224.71</td><td>Simbad</td><td>0.8</td></tr>\n",
       "<tr><td>72.387375</td><td>-73.06925</td><td>http://vizier.u-strasbg.fr/viz-bin/VizieR-4?-info=XML&amp;-out.add=.&amp;-source=J/MNRAS/453/1965&amp;Group=271</td><td>04 49 32.97</td><td>-73 04 09.3</td><td>0.027543</td><td>6</td><td>3</td><td>2</td><td>2</td><td>1.263</td><td>--</td><td>--</td><td>Simbad</td><td>0.6666666666666666</td></tr>\n",
       "<tr><td>125.02</td><td>21.0713611</td><td>http://vizier.u-strasbg.fr/viz-bin/VizieR-4?-info=XML&amp;-out.add=.&amp;-source=J/MNRAS/453/1965&amp;Group=272</td><td>08 20 04.80</td><td>+21 04 16.9</td><td>0.017462</td><td>6</td><td>4</td><td>3</td><td>1</td><td>1.583</td><td>--</td><td>--</td><td>Simbad</td><td>0.75</td></tr>\n",
       "<tr><td>168.6338333</td><td>-0.8523056</td><td>http://vizier.u-strasbg.fr/viz-bin/VizieR-4?-info=XML&amp;-out.add=.&amp;-source=J/MNRAS/453/1965&amp;Group=273</td><td>11 14 32.12</td><td>-00 51 08.3</td><td>0.06907</td><td>6</td><td>6</td><td>5</td><td>4</td><td>1.519</td><td>106.41</td><td>57.16</td><td>Simbad</td><td>0.8333333333333334</td></tr>\n",
       "<tr><td>185.3069167</td><td>49.4594444</td><td>http://vizier.u-strasbg.fr/viz-bin/VizieR-4?-info=XML&amp;-out.add=.&amp;-source=J/MNRAS/453/1965&amp;Group=274</td><td>12 21 13.66</td><td>+49 27 34.0</td><td>0.045355</td><td>6</td><td>5</td><td>4</td><td>2</td><td>1.354</td><td>--</td><td>--</td><td>Simbad</td><td>0.8</td></tr>\n",
       "<tr><td>230.495875</td><td>3.5601111</td><td>http://vizier.u-strasbg.fr/viz-bin/VizieR-4?-info=XML&amp;-out.add=.&amp;-source=J/MNRAS/453/1965&amp;Group=275</td><td>15 21 59.01</td><td>+03 33 36.4</td><td>0.084655</td><td>6</td><td>5</td><td>4</td><td>4</td><td>0.701</td><td>72.12</td><td>268.79</td><td>Simbad</td><td>0.8</td></tr>\n",
       "<tr><td>196.821</td><td>13.6491111</td><td>http://vizier.u-strasbg.fr/viz-bin/VizieR-4?-info=XML&amp;-out.add=.&amp;-source=J/MNRAS/453/1965&amp;Group=279</td><td>13 07 17.04</td><td>+13 38 56.8</td><td>0.063226</td><td>7</td><td>6</td><td>5</td><td>1</td><td>1.704</td><td>--</td><td>--</td><td>Simbad</td><td>0.8333333333333334</td></tr>\n",
       "</table></div>"
      ],
      "text/plain": [
       "<Table length=124>\n",
       "  _RAJ2000    _DEJ2000  ... Simbad     z_fraction    \n",
       "  float64     float64   ...  str6       float64      \n",
       "----------- ----------- ... ------ ------------------\n",
       "    0.34475  13.1089167 ... Simbad               0.75\n",
       "    5.37225  38.0853056 ... Simbad 0.6666666666666666\n",
       "  8.6237083  39.5873611 ... Simbad                1.0\n",
       "  9.4255417  -9.0566389 ... Simbad               0.75\n",
       "  9.4815417 -25.0715556 ... Simbad                1.0\n",
       " 13.0451667  -1.1171389 ... Simbad               0.75\n",
       " 16.0889167 -51.0198333 ... Simbad               0.75\n",
       " 16.8251667   -32.83475 ... Simbad                1.0\n",
       " 18.1803333  14.3776111 ... Simbad               0.75\n",
       " 20.2665417 -32.0529444 ... Simbad                1.0\n",
       "        ...         ... ...    ...                ...\n",
       "243.3022917   8.5478611 ... Simbad                0.8\n",
       "267.4914583  68.4053611 ... Simbad               0.75\n",
       "  323.84725   -49.93475 ... Simbad 0.6666666666666666\n",
       "  50.254375   -33.90475 ... Simbad                0.8\n",
       "  72.387375   -73.06925 ... Simbad 0.6666666666666666\n",
       "     125.02  21.0713611 ... Simbad               0.75\n",
       "168.6338333  -0.8523056 ... Simbad 0.8333333333333334\n",
       "185.3069167  49.4594444 ... Simbad                0.8\n",
       " 230.495875   3.5601111 ... Simbad                0.8\n",
       "    196.821  13.6491111 ... Simbad 0.8333333333333334"
      ]
     },
     "execution_count": 7,
     "metadata": {},
     "output_type": "execute_result"
    }
   ],
   "source": [
    "tabla = Table.read('Group_catalogue.csv', format='ascii')\n",
    "# Divide la columna1 por la columna2\n",
    "tabla['z_fraction'] = tabla['nz'] / tabla['ngal']\n",
    "#tabla\n",
    "# Filtra las filas donde la división sea mayor o igual a 1/2\n",
    "resultado_filtrado = tabla[(tabla['z_fraction'] > 1/2) & (tabla['z_fraction'] != 0)]\n",
    "#resultado_filtrado = resultado_filtrado[(resultado_filtrado['NAME'] != 237) & (resultado_filtrado['NAME'] != 187)]\n",
    "#resultado_filtrado = resultado_filtrado[np.argsort(resultado_filtrado['NAME'])]\n",
    "resultado_filtrado"
   ]
  },
  {
   "cell_type": "code",
   "execution_count": 35,
   "metadata": {},
   "outputs": [],
   "source": [
    "coordinates = Table({\n",
    "    'NAME': resultado_filtrado['NAME'].astype(str),\n",
    "    'ra': resultado_filtrado['_RAJ2000'],\n",
    "    'dec': resultado_filtrado['_DEJ2000']\n",
    "})\n",
    "\n",
    "# Agregamos la columna 'J2000' a todas las filas de 'coordinates'\n",
    "coordinates['J2000'] = 'J2000'\n",
    "#coordinates\n",
    "# Guardamos la tabla en un archivo CSV sin incluir el encabezado\n",
    "with open('coords_proposal_objects.csv', 'w') as f:\n",
    "    # Escribimos los datos manualmente sin incluir el encabezado\n",
    "    for row in coordinates:\n",
    "        f.write(','.join([str(value) for value in row]) + '\\n')"
   ]
  }
 ],
 "metadata": {
  "kernelspec": {
   "display_name": "Python 3",
   "language": "python",
   "name": "python3"
  },
  "language_info": {
   "codemirror_mode": {
    "name": "ipython",
    "version": 3
   },
   "file_extension": ".py",
   "mimetype": "text/x-python",
   "name": "python",
   "nbconvert_exporter": "python",
   "pygments_lexer": "ipython3",
   "version": "3.8.5"
  }
 },
 "nbformat": 4,
 "nbformat_minor": 5
}
