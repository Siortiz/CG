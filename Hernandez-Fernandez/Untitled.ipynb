{
 "cells": [
  {
   "cell_type": "code",
   "execution_count": 1,
   "id": "b564e4a0",
   "metadata": {},
   "outputs": [],
   "source": [
    "import numpy as np\n",
    "from astropy.table import Table, Column"
   ]
  },
  {
   "cell_type": "code",
   "execution_count": 17,
   "id": "cedcdfe4",
   "metadata": {},
   "outputs": [],
   "source": [
    "gr = Table.read('Group_catalogue.csv', format='ascii')\n",
    "# Crear la nueva columna 'Group'\n",
    "num_filas = len(gr)\n",
    "group_column = Column(data=[f\"SFCG{i+1}\" for i in range(num_filas)], name='Groups')\n",
    "j2000_column = Column(['J2000']*num_filas, name = 'J2000')\n",
    "# Agregar la nueva columna al principio de la tabla\n",
    "gr.add_column(group_column, index=0)\n",
    "gr.add_column(j2000_column, index=0)\n",
    "\n",
    "# Seleccionar solo las columnas 'SFCG', '_RAJ2000' y '_DEJ2000'\n",
    "new_col = gr['Groups', 'RAJ2000', 'DEJ2000', 'J2000']\n",
    "new_col.write('Visibility_all.csv', format='csv')\n",
    "# Número máximo de elementos por subtabla\n",
    "max_elementos = 100\n",
    "\n",
    "# Dividir la tabla en subtablas\n",
    "#for i, start_index in enumerate(range(0, len(new_col), max_elementos), 1):\n",
    "#    subtabla = new_col[start_index:start_index+max_elementos]\n",
    "#    subtabla_nombre = f\"SFCGs_Visx_{i}.csv\"\n",
    "#    subtabla.write(subtabla_nombre, format='ascii.csv', overwrite=True)\n",
    "#    print(f\"Subtabla {i} guardada como '{subtabla_nombre}'.\")"
   ]
  },
  {
   "cell_type": "code",
   "execution_count": 24,
   "id": "ecf94c13",
   "metadata": {},
   "outputs": [],
   "source": [
    "sp = Table.read('HF_SPLUS_vis.csv', format='ascii')\n",
    "sp = sp['Groups', 'RAJ2000_1', 'DEJ2000_1', 'J2000']\n",
    "sp.write('HF_SPLUS_vis_file', format='csv', overwrite=True)"
   ]
  },
  {
   "cell_type": "code",
   "execution_count": 6,
   "id": "8a469109",
   "metadata": {},
   "outputs": [],
   "source": [
    "vis = Table.read('SFCG_2024A.csv', format='ascii')\n",
    "vis = vis['_RAJ2000', '_DEJ2000', 'NAME']\n",
    "vis.rename_column('_RAJ2000', 'RA')\n",
    "vis.rename_column('_DEJ2000', 'DEC')\n",
    "#vis\n",
    "vis.write('SFCG_2024A_viewer.csv', format='csv', overwrite=True)"
   ]
  }
 ],
 "metadata": {
  "kernelspec": {
   "display_name": "Python 3 (ipykernel)",
   "language": "python",
   "name": "python3"
  },
  "language_info": {
   "codemirror_mode": {
    "name": "ipython",
    "version": 3
   },
   "file_extension": ".py",
   "mimetype": "text/x-python",
   "name": "python",
   "nbconvert_exporter": "python",
   "pygments_lexer": "ipython3",
   "version": "3.11.4"
  }
 },
 "nbformat": 4,
 "nbformat_minor": 5
}
