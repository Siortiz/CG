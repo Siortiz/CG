{
 "cells": [
  {
   "cell_type": "markdown",
   "id": "5beb420b",
   "metadata": {},
   "source": [
    "$t_{gal} =  t_{star} \\cdot \\frac{A_{gal}}{A_{star}} \\cdot 10^\\frac{m_{gal} - m_{star}}{2.5}$"
   ]
  },
  {
   "cell_type": "code",
   "execution_count": 2,
   "id": "b564e4a0",
   "metadata": {},
   "outputs": [],
   "source": [
    "import numpy as np"
   ]
  },
  {
   "cell_type": "code",
   "execution_count": 18,
   "id": "b75e9a6a",
   "metadata": {},
   "outputs": [
    {
     "data": {
      "text/plain": [
       "1161057.7846835852"
      ]
     },
     "execution_count": 18,
     "metadata": {},
     "output_type": "execute_result"
    }
   ],
   "source": [
    "t_s = 300\n",
    "#A_g = 32.39\n",
    "#A_s = np.pi\n",
    "m_g = 14.8\n",
    "m_s = 13\n",
    "t = t_s*(737.45)*10**((m_g-m_s)/2.5)\n",
    "t"
   ]
  }
 ],
 "metadata": {
  "kernelspec": {
   "display_name": "Python 3 (ipykernel)",
   "language": "python",
   "name": "python3"
  },
  "language_info": {
   "codemirror_mode": {
    "name": "ipython",
    "version": 3
   },
   "file_extension": ".py",
   "mimetype": "text/x-python",
   "name": "python",
   "nbconvert_exporter": "python",
   "pygments_lexer": "ipython3",
   "version": "3.11.4"
  }
 },
 "nbformat": 4,
 "nbformat_minor": 5
}
