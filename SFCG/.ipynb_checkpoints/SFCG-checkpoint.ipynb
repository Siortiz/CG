{
 "cells": [
  {
   "cell_type": "code",
   "execution_count": 1,
   "metadata": {},
   "outputs": [],
   "source": [
    "import numpy as np\n",
    "from astropy.table import Table\n",
    "import matplotlib.pyplot as plt\n",
    "from astropy.coordinates import SkyCoord\n",
    "import astropy.units as u\n",
    "import pandas as pd"
   ]
  },
  {
   "cell_type": "code",
   "execution_count": 2,
   "metadata": {},
   "outputs": [],
   "source": [
    "groups = Table.read('asu.fit')\n",
    "#groups.to_pandas()[\"DEJ2000\"].astype(\"str\").str[2:3]"
   ]
  },
  {
   "cell_type": "code",
   "execution_count": 3,
   "metadata": {},
   "outputs": [
    {
     "data": {
      "text/html": [
       "<div><i>Table length=280</i>\n",
       "<table id=\"table139724312309184\" class=\"table-striped table-bordered table-condensed\">\n",
       "<thead><tr><th>Group</th><th>RAJ2000</th><th>DEJ2000</th><th>zUV</th><th>nUV</th><th>ngal</th><th>nz</th><th>mz</th><th>r_theta_</th><th>Rij</th><th>sigmalos</th><th>Simbad</th><th>signo</th></tr></thead>\n",
       "<thead><tr><th></th><th></th><th></th><th></th><th></th><th></th><th></th><th></th><th>arcmin</th><th>kpc</th><th>km / s</th><th></th><th></th></tr></thead>\n",
       "<thead><tr><th>int16</th><th>bytes11</th><th>bytes11</th><th>float64</th><th>int16</th><th>int16</th><th>int16</th><th>int16</th><th>float64</th><th>float64</th><th>float64</th><th>bytes7</th><th>object</th></tr></thead>\n",
       "<tr><td>1</td><td>00 00 22.93</td><td>-22 35 13.6</td><td>0.0</td><td>4</td><td>4</td><td>0</td><td>0</td><td>0.913</td><td>0.0</td><td>0.0</td><td>Simbad</td><td>-</td></tr>\n",
       "<tr><td>2</td><td>00 01 22.74</td><td>+13 06 32.1</td><td>0.017899</td><td>4</td><td>4</td><td>3</td><td>3</td><td>1.611</td><td>32.94</td><td>193.85</td><td>Simbad</td><td>+</td></tr>\n",
       "<tr><td>3</td><td>00 11 22.03</td><td>-53 57 19.6</td><td>0.041719</td><td>4</td><td>3</td><td>1</td><td>1</td><td>1.249</td><td>0.0</td><td>0.0</td><td>Simbad</td><td>-</td></tr>\n",
       "<tr><td>4</td><td>00 13 18.64</td><td>-41 34 46.7</td><td>0.0</td><td>4</td><td>3</td><td>0</td><td>0</td><td>1.027</td><td>0.0</td><td>0.0</td><td>Simbad</td><td>-</td></tr>\n",
       "<tr><td>5</td><td>00 14 09.02</td><td>-22 33 50.9</td><td>0.0</td><td>4</td><td>4</td><td>0</td><td>0</td><td>1.149</td><td>0.0</td><td>0.0</td><td>Simbad</td><td>-</td></tr>\n",
       "<tr><td>6</td><td>00 17 46.35</td><td>-69 08 55.0</td><td>0.0</td><td>4</td><td>3</td><td>0</td><td>0</td><td>1.336</td><td>0.0</td><td>0.0</td><td>Simbad</td><td>-</td></tr>\n",
       "<tr><td>7</td><td>00 18 28.79</td><td>-42 07 39.2</td><td>0.093258</td><td>4</td><td>3</td><td>1</td><td>1</td><td>0.891</td><td>0.0</td><td>0.0</td><td>Simbad</td><td>-</td></tr>\n",
       "<tr><td>8</td><td>00 18 38.99</td><td>-35 57 09.6</td><td>0.012953</td><td>4</td><td>4</td><td>2</td><td>2</td><td>0.888</td><td>0.0</td><td>0.0</td><td>Simbad</td><td>-</td></tr>\n",
       "<tr><td>9</td><td>00 21 29.34</td><td>+38 05 07.1</td><td>0.035708</td><td>4</td><td>3</td><td>2</td><td>2</td><td>1.161</td><td>0.0</td><td>0.0</td><td>Simbad</td><td>+</td></tr>\n",
       "<tr><td>...</td><td>...</td><td>...</td><td>...</td><td>...</td><td>...</td><td>...</td><td>...</td><td>...</td><td>...</td><td>...</td><td>...</td><td>...</td></tr>\n",
       "<tr><td>271</td><td>04 49 32.97</td><td>-73 04 09.3</td><td>0.027543</td><td>6</td><td>3</td><td>2</td><td>2</td><td>1.263</td><td>0.0</td><td>0.0</td><td>Simbad</td><td>-</td></tr>\n",
       "<tr><td>272</td><td>08 20 04.80</td><td>+21 04 16.9</td><td>0.017462</td><td>6</td><td>4</td><td>3</td><td>1</td><td>1.583</td><td>0.0</td><td>0.0</td><td>Simbad</td><td>+</td></tr>\n",
       "<tr><td>273</td><td>11 14 32.12</td><td>-00 51 08.3</td><td>0.06907</td><td>6</td><td>6</td><td>5</td><td>4</td><td>1.519</td><td>106.41</td><td>57.16</td><td>Simbad</td><td>-</td></tr>\n",
       "<tr><td>274</td><td>12 21 13.66</td><td>+49 27 34.0</td><td>0.045355</td><td>6</td><td>5</td><td>4</td><td>2</td><td>1.354</td><td>0.0</td><td>0.0</td><td>Simbad</td><td>+</td></tr>\n",
       "<tr><td>275</td><td>15 21 59.01</td><td>+03 33 36.4</td><td>0.084655</td><td>6</td><td>5</td><td>4</td><td>4</td><td>0.701</td><td>72.12</td><td>268.79</td><td>Simbad</td><td>+</td></tr>\n",
       "<tr><td>276</td><td>21 55 28.63</td><td>-20 51 46.4</td><td>0.066913</td><td>6</td><td>5</td><td>1</td><td>1</td><td>1.335</td><td>0.0</td><td>0.0</td><td>Simbad</td><td>-</td></tr>\n",
       "<tr><td>277</td><td>02 05 03.02</td><td>-74 51 50.0</td><td>0.0</td><td>7</td><td>3</td><td>0</td><td>0</td><td>1.597</td><td>0.0</td><td>0.0</td><td>Simbad</td><td>-</td></tr>\n",
       "<tr><td>278</td><td>07 41 55.88</td><td>+16 49 33.3</td><td>0.0</td><td>7</td><td>4</td><td>0</td><td>0</td><td>1.103</td><td>0.0</td><td>0.0</td><td>Simbad</td><td>+</td></tr>\n",
       "<tr><td>279</td><td>13 07 17.04</td><td>+13 38 56.8</td><td>0.063226</td><td>7</td><td>6</td><td>5</td><td>1</td><td>1.704</td><td>0.0</td><td>0.0</td><td>Simbad</td><td>+</td></tr>\n",
       "<tr><td>280</td><td>23 16 44.92</td><td>+09 48 56.5</td><td>0.0</td><td>7</td><td>3</td><td>0</td><td>0</td><td>1.114</td><td>0.0</td><td>0.0</td><td>Simbad</td><td>+</td></tr>\n",
       "</table></div>"
      ],
      "text/plain": [
       "<Table length=280>\n",
       "Group   RAJ2000     DEJ2000     zUV     nUV  ...   Rij   sigmalos  Simbad signo \n",
       "                                             ...   kpc    km / s                \n",
       "int16   bytes11     bytes11   float64  int16 ... float64 float64   bytes7 object\n",
       "----- ----------- ----------- -------- ----- ... ------- -------- ------- ------\n",
       "    1 00 00 22.93 -22 35 13.6      0.0     4 ...     0.0      0.0 Simbad\n",
       "      -\n",
       "    2 00 01 22.74 +13 06 32.1 0.017899     4 ...   32.94   193.85 Simbad\n",
       "      +\n",
       "    3 00 11 22.03 -53 57 19.6 0.041719     4 ...     0.0      0.0 Simbad\n",
       "      -\n",
       "    4 00 13 18.64 -41 34 46.7      0.0     4 ...     0.0      0.0 Simbad\n",
       "      -\n",
       "    5 00 14 09.02 -22 33 50.9      0.0     4 ...     0.0      0.0 Simbad\n",
       "      -\n",
       "    6 00 17 46.35 -69 08 55.0      0.0     4 ...     0.0      0.0 Simbad\n",
       "      -\n",
       "    7 00 18 28.79 -42 07 39.2 0.093258     4 ...     0.0      0.0 Simbad\n",
       "      -\n",
       "    8 00 18 38.99 -35 57 09.6 0.012953     4 ...     0.0      0.0 Simbad\n",
       "      -\n",
       "    9 00 21 29.34 +38 05 07.1 0.035708     4 ...     0.0      0.0 Simbad\n",
       "      +\n",
       "  ...         ...         ...      ...   ... ...     ...      ...     ...    ...\n",
       "  271 04 49 32.97 -73 04 09.3 0.027543     6 ...     0.0      0.0 Simbad\n",
       "      -\n",
       "  272 08 20 04.80 +21 04 16.9 0.017462     6 ...     0.0      0.0 Simbad\n",
       "      +\n",
       "  273 11 14 32.12 -00 51 08.3  0.06907     6 ...  106.41    57.16 Simbad\n",
       "      -\n",
       "  274 12 21 13.66 +49 27 34.0 0.045355     6 ...     0.0      0.0 Simbad\n",
       "      +\n",
       "  275 15 21 59.01 +03 33 36.4 0.084655     6 ...   72.12   268.79 Simbad\n",
       "      +\n",
       "  276 21 55 28.63 -20 51 46.4 0.066913     6 ...     0.0      0.0 Simbad\n",
       "      -\n",
       "  277 02 05 03.02 -74 51 50.0      0.0     7 ...     0.0      0.0 Simbad\n",
       "      -\n",
       "  278 07 41 55.88 +16 49 33.3      0.0     7 ...     0.0      0.0 Simbad\n",
       "      +\n",
       "  279 13 07 17.04 +13 38 56.8 0.063226     7 ...     0.0      0.0 Simbad\n",
       "      +\n",
       "  280 23 16 44.92 +09 48 56.5      0.0     7 ...     0.0      0.0 Simbad\n",
       "      +"
      ]
     },
     "execution_count": 3,
     "metadata": {},
     "output_type": "execute_result"
    }
   ],
   "source": [
    "groups['signo'] = groups.to_pandas()[\"DEJ2000\"].astype(\"str\").str[2:3]\n",
    "groups"
   ]
  },
  {
   "cell_type": "code",
   "execution_count": 3,
   "metadata": {
    "scrolled": false
   },
   "outputs": [],
   "source": [
    "#group_n = groups[groups['signo'] == '+']\n",
    "#cols = ['Group', 'RAJ2000', 'DEJ2000']\n",
    "#groups_radec = groups[cols]\n",
    "#group_n_radec = group_n[cols]\n",
    "groups.rename_column('RAJ2000', 'RA')\n",
    "groups.rename_column('DEJ2000', 'Dec')\n",
    "#groups_radec\n",
    "#group_n_radec = [group_n['RAJ2000']]\n",
    "#group_n_radec"
   ]
  },
  {
   "cell_type": "code",
   "execution_count": 4,
   "metadata": {},
   "outputs": [],
   "source": [
    "ra = groups['RA']\n",
    "dec = groups['Dec']\n",
    "\n",
    "sky_coords = SkyCoord(ra, dec, unit=(u.hourangle, u.deg))\n",
    "groups['RA'] = sky_coords.icrs.ra.degree\n",
    "groups['Dec'] = sky_coords.icrs.dec.degree"
   ]
  },
  {
   "cell_type": "code",
   "execution_count": 11,
   "metadata": {},
   "outputs": [
    {
     "data": {
      "text/html": [
       "<div><i>Table length=68</i>\n",
       "<table id=\"table140242391703360\" class=\"table-striped table-bordered table-condensed\">\n",
       "<thead><tr><th>Group</th><th>RA</th><th>Dec</th><th>zUV</th><th>nUV</th><th>ngal</th><th>nz</th><th>mz</th><th>r_theta_</th><th>Rij</th><th>sigmalos</th><th>Simbad</th></tr></thead>\n",
       "<thead><tr><th></th><th></th><th></th><th></th><th></th><th></th><th></th><th></th><th>arcmin</th><th>kpc</th><th>km / s</th><th></th></tr></thead>\n",
       "<thead><tr><th>int16</th><th>float64</th><th>float64</th><th>float64</th><th>int16</th><th>int16</th><th>int16</th><th>int16</th><th>float64</th><th>float64</th><th>float64</th><th>bytes7</th></tr></thead>\n",
       "<tr><td>1</td><td>0.09554166666666665</td><td>-22.58711111111111</td><td>0.0</td><td>4</td><td>4</td><td>0</td><td>0</td><td>0.913</td><td>0.0</td><td>0.0</td><td>Simbad</td></tr>\n",
       "<tr><td>4</td><td>3.3276666666666666</td><td>-41.579638888888894</td><td>0.0</td><td>4</td><td>3</td><td>0</td><td>0</td><td>1.027</td><td>0.0</td><td>0.0</td><td>Simbad</td></tr>\n",
       "<tr><td>5</td><td>3.537583333333333</td><td>-22.56413888888889</td><td>0.0</td><td>4</td><td>4</td><td>0</td><td>0</td><td>1.149</td><td>0.0</td><td>0.0</td><td>Simbad</td></tr>\n",
       "<tr><td>6</td><td>4.443124999999999</td><td>-69.14861111111112</td><td>0.0</td><td>4</td><td>3</td><td>0</td><td>0</td><td>1.336</td><td>0.0</td><td>0.0</td><td>Simbad</td></tr>\n",
       "<tr><td>17</td><td>12.240666666666666</td><td>-45.77019444444444</td><td>0.0</td><td>4</td><td>4</td><td>0</td><td>0</td><td>0.809</td><td>0.0</td><td>0.0</td><td>Simbad</td></tr>\n",
       "<tr><td>19</td><td>12.861749999999997</td><td>-23.21563888888889</td><td>0.0</td><td>4</td><td>3</td><td>0</td><td>0</td><td>0.658</td><td>0.0</td><td>0.0</td><td>Simbad</td></tr>\n",
       "<tr><td>21</td><td>13.227958333333332</td><td>-13.284666666666666</td><td>0.0</td><td>4</td><td>4</td><td>0</td><td>0</td><td>1.206</td><td>0.0</td><td>0.0</td><td>Simbad</td></tr>\n",
       "<tr><td>25</td><td>16.167333333333332</td><td>-2.1336944444444446</td><td>0.0</td><td>4</td><td>3</td><td>0</td><td>0</td><td>0.949</td><td>0.0</td><td>0.0</td><td>Simbad</td></tr>\n",
       "<tr><td>30</td><td>21.16070833333333</td><td>-8.18725</td><td>0.0</td><td>4</td><td>4</td><td>0</td><td>0</td><td>1.022</td><td>0.0</td><td>0.0</td><td>Simbad</td></tr>\n",
       "<tr><td>...</td><td>...</td><td>...</td><td>...</td><td>...</td><td>...</td><td>...</td><td>...</td><td>...</td><td>...</td><td>...</td><td>...</td></tr>\n",
       "<tr><td>259</td><td>249.41891666666663</td><td>54.97566666666667</td><td>0.0</td><td>5</td><td>5</td><td>0</td><td>0</td><td>1.073</td><td>0.0</td><td>0.0</td><td>Simbad</td></tr>\n",
       "<tr><td>260</td><td>259.14416666666665</td><td>39.08797222222223</td><td>0.0</td><td>5</td><td>4</td><td>0</td><td>0</td><td>1.645</td><td>0.0</td><td>0.0</td><td>Simbad</td></tr>\n",
       "<tr><td>264</td><td>349.18324999999993</td><td>-41.65558333333333</td><td>0.0</td><td>5</td><td>4</td><td>0</td><td>0</td><td>1.304</td><td>0.0</td><td>0.0</td><td>Simbad</td></tr>\n",
       "<tr><td>265</td><td>359.0346666666666</td><td>-17.239250000000002</td><td>0.0</td><td>5</td><td>5</td><td>0</td><td>0</td><td>0.99</td><td>0.0</td><td>0.0</td><td>Simbad</td></tr>\n",
       "<tr><td>267</td><td>24.808041666666664</td><td>-74.42291666666667</td><td>0.0</td><td>6</td><td>3</td><td>0</td><td>0</td><td>1.023</td><td>0.0</td><td>0.0</td><td>Simbad</td></tr>\n",
       "<tr><td>268</td><td>38.57462499999999</td><td>-73.72011111111111</td><td>0.0</td><td>6</td><td>3</td><td>0</td><td>0</td><td>1.339</td><td>0.0</td><td>0.0</td><td>Simbad</td></tr>\n",
       "<tr><td>270</td><td>61.545749999999984</td><td>-36.93008333333333</td><td>0.0</td><td>6</td><td>4</td><td>0</td><td>0</td><td>0.995</td><td>0.0</td><td>0.0</td><td>Simbad</td></tr>\n",
       "<tr><td>277</td><td>31.262583333333335</td><td>-74.86388888888888</td><td>0.0</td><td>7</td><td>3</td><td>0</td><td>0</td><td>1.597</td><td>0.0</td><td>0.0</td><td>Simbad</td></tr>\n",
       "<tr><td>278</td><td>115.48283333333333</td><td>16.825916666666668</td><td>0.0</td><td>7</td><td>4</td><td>0</td><td>0</td><td>1.103</td><td>0.0</td><td>0.0</td><td>Simbad</td></tr>\n",
       "<tr><td>280</td><td>349.1871666666666</td><td>9.815694444444444</td><td>0.0</td><td>7</td><td>3</td><td>0</td><td>0</td><td>1.114</td><td>0.0</td><td>0.0</td><td>Simbad</td></tr>\n",
       "</table></div>"
      ],
      "text/plain": [
       "<Table length=68>\n",
       "Group          RA                 Dec         ...   Rij   sigmalos  Simbad\n",
       "                                              ...   kpc    km / s         \n",
       "int16       float64             float64       ... float64 float64   bytes7\n",
       "----- ------------------- ------------------- ... ------- -------- -------\n",
       "    1 0.09554166666666665  -22.58711111111111 ...     0.0      0.0 Simbad\n",
       "    4  3.3276666666666666 -41.579638888888894 ...     0.0      0.0 Simbad\n",
       "    5   3.537583333333333  -22.56413888888889 ...     0.0      0.0 Simbad\n",
       "    6   4.443124999999999  -69.14861111111112 ...     0.0      0.0 Simbad\n",
       "   17  12.240666666666666  -45.77019444444444 ...     0.0      0.0 Simbad\n",
       "   19  12.861749999999997  -23.21563888888889 ...     0.0      0.0 Simbad\n",
       "   21  13.227958333333332 -13.284666666666666 ...     0.0      0.0 Simbad\n",
       "   25  16.167333333333332 -2.1336944444444446 ...     0.0      0.0 Simbad\n",
       "   30   21.16070833333333            -8.18725 ...     0.0      0.0 Simbad\n",
       "  ...                 ...                 ... ...     ...      ...     ...\n",
       "  259  249.41891666666663   54.97566666666667 ...     0.0      0.0 Simbad\n",
       "  260  259.14416666666665   39.08797222222223 ...     0.0      0.0 Simbad\n",
       "  264  349.18324999999993  -41.65558333333333 ...     0.0      0.0 Simbad\n",
       "  265   359.0346666666666 -17.239250000000002 ...     0.0      0.0 Simbad\n",
       "  267  24.808041666666664  -74.42291666666667 ...     0.0      0.0 Simbad\n",
       "  268   38.57462499999999  -73.72011111111111 ...     0.0      0.0 Simbad\n",
       "  270  61.545749999999984  -36.93008333333333 ...     0.0      0.0 Simbad\n",
       "  277  31.262583333333335  -74.86388888888888 ...     0.0      0.0 Simbad\n",
       "  278  115.48283333333333  16.825916666666668 ...     0.0      0.0 Simbad\n",
       "  280   349.1871666666666   9.815694444444444 ...     0.0      0.0 Simbad"
      ]
     },
     "execution_count": 11,
     "metadata": {},
     "output_type": "execute_result"
    }
   ],
   "source": [
    "groups_no_z = groups[groups['zUV'] == 0.0]\n",
    "groups_no_z"
   ]
  },
  {
   "cell_type": "code",
   "execution_count": 12,
   "metadata": {},
   "outputs": [],
   "source": [
    "#cols = ['RA', 'Dec']\n",
    "#groups_radec = groups[cols]\n",
    "#groups_radec\n",
    "groups_no_z.write('groups_no_z.fits', format = 'fits', overwrite=True)"
   ]
  },
  {
   "cell_type": "code",
   "execution_count": 123,
   "metadata": {},
   "outputs": [
    {
     "data": {
      "text/html": [
       "<div><i>Table length=662174</i>\n",
       "<table id=\"table139898246069552\" class=\"table-striped table-bordered table-condensed\">\n",
       "<thead><tr><th>BRICKNAME</th><th>BRICKID</th><th>BRICKQ</th><th>BRICKROW</th><th>BRICKCOL</th><th>RA</th><th>DEC</th><th>RA1</th><th>RA2</th><th>DEC1</th><th>DEC2</th></tr></thead>\n",
       "<thead><tr><th>bytes8</th><th>int32</th><th>int16</th><th>int32</th><th>int32</th><th>float64</th><th>float64</th><th>float64</th><th>float64</th><th>float64</th><th>float64</th></tr></thead>\n",
       "<tr><td>1800m900</td><td>1</td><td>1</td><td>0</td><td>0</td><td>180.0</td><td>-90.0</td><td>0.0</td><td>360.0</td><td>-90.0</td><td>-89.875</td></tr>\n",
       "<tr><td>0180m897</td><td>2</td><td>2</td><td>1</td><td>0</td><td>18.0</td><td>-89.75</td><td>0.0</td><td>36.0</td><td>-89.875</td><td>-89.625</td></tr>\n",
       "<tr><td>0540m897</td><td>3</td><td>3</td><td>1</td><td>1</td><td>54.0</td><td>-89.75</td><td>36.0</td><td>72.0</td><td>-89.875</td><td>-89.625</td></tr>\n",
       "<tr><td>0900m897</td><td>4</td><td>2</td><td>1</td><td>2</td><td>90.0</td><td>-89.75</td><td>72.0</td><td>108.0</td><td>-89.875</td><td>-89.625</td></tr>\n",
       "<tr><td>1260m897</td><td>5</td><td>3</td><td>1</td><td>3</td><td>126.0</td><td>-89.75</td><td>108.0</td><td>144.0</td><td>-89.875</td><td>-89.625</td></tr>\n",
       "<tr><td>1620m897</td><td>6</td><td>2</td><td>1</td><td>4</td><td>162.0</td><td>-89.75</td><td>144.0</td><td>180.0</td><td>-89.875</td><td>-89.625</td></tr>\n",
       "<tr><td>1980m897</td><td>7</td><td>3</td><td>1</td><td>5</td><td>198.0</td><td>-89.75</td><td>180.0</td><td>216.0</td><td>-89.875</td><td>-89.625</td></tr>\n",
       "<tr><td>2340m897</td><td>8</td><td>2</td><td>1</td><td>6</td><td>234.0</td><td>-89.75</td><td>216.0</td><td>252.0</td><td>-89.875</td><td>-89.625</td></tr>\n",
       "<tr><td>2700m897</td><td>9</td><td>3</td><td>1</td><td>7</td><td>270.0</td><td>-89.75</td><td>252.0</td><td>288.0</td><td>-89.875</td><td>-89.625</td></tr>\n",
       "<tr><td>3060m897</td><td>10</td><td>2</td><td>1</td><td>8</td><td>306.0</td><td>-89.75</td><td>288.0</td><td>324.0</td><td>-89.875</td><td>-89.625</td></tr>\n",
       "<tr><td>...</td><td>...</td><td>...</td><td>...</td><td>...</td><td>...</td><td>...</td><td>...</td><td>...</td><td>...</td><td>...</td></tr>\n",
       "<tr><td>0540p897</td><td>662165</td><td>3</td><td>719</td><td>1</td><td>54.0</td><td>89.75</td><td>36.0</td><td>72.0</td><td>89.625</td><td>89.875</td></tr>\n",
       "<tr><td>0900p897</td><td>662166</td><td>2</td><td>719</td><td>2</td><td>90.0</td><td>89.75</td><td>72.0</td><td>108.0</td><td>89.625</td><td>89.875</td></tr>\n",
       "<tr><td>1260p897</td><td>662167</td><td>3</td><td>719</td><td>3</td><td>126.0</td><td>89.75</td><td>108.0</td><td>144.0</td><td>89.625</td><td>89.875</td></tr>\n",
       "<tr><td>1620p897</td><td>662168</td><td>2</td><td>719</td><td>4</td><td>162.0</td><td>89.75</td><td>144.0</td><td>180.0</td><td>89.625</td><td>89.875</td></tr>\n",
       "<tr><td>1980p897</td><td>662169</td><td>3</td><td>719</td><td>5</td><td>198.0</td><td>89.75</td><td>180.0</td><td>216.0</td><td>89.625</td><td>89.875</td></tr>\n",
       "<tr><td>2340p897</td><td>662170</td><td>2</td><td>719</td><td>6</td><td>234.0</td><td>89.75</td><td>216.0</td><td>252.0</td><td>89.625</td><td>89.875</td></tr>\n",
       "<tr><td>2700p897</td><td>662171</td><td>3</td><td>719</td><td>7</td><td>270.0</td><td>89.75</td><td>252.0</td><td>288.0</td><td>89.625</td><td>89.875</td></tr>\n",
       "<tr><td>3060p897</td><td>662172</td><td>2</td><td>719</td><td>8</td><td>306.0</td><td>89.75</td><td>288.0</td><td>324.0</td><td>89.625</td><td>89.875</td></tr>\n",
       "<tr><td>3420p897</td><td>662173</td><td>3</td><td>719</td><td>9</td><td>342.0</td><td>89.75</td><td>324.0</td><td>360.0</td><td>89.625</td><td>89.875</td></tr>\n",
       "<tr><td>1800p900</td><td>662174</td><td>0</td><td>720</td><td>0</td><td>180.0</td><td>90.0</td><td>0.0</td><td>360.0</td><td>89.875</td><td>90.0</td></tr>\n",
       "</table></div>"
      ],
      "text/plain": [
       "<Table length=662174>\n",
       "BRICKNAME BRICKID BRICKQ BRICKROW BRICKCOL ...   RA1     RA2     DEC1    DEC2 \n",
       "  bytes8   int32  int16   int32    int32   ... float64 float64 float64 float64\n",
       "--------- ------- ------ -------- -------- ... ------- ------- ------- -------\n",
       " 1800m900       1      1        0        0 ...     0.0   360.0   -90.0 -89.875\n",
       " 0180m897       2      2        1        0 ...     0.0    36.0 -89.875 -89.625\n",
       " 0540m897       3      3        1        1 ...    36.0    72.0 -89.875 -89.625\n",
       " 0900m897       4      2        1        2 ...    72.0   108.0 -89.875 -89.625\n",
       " 1260m897       5      3        1        3 ...   108.0   144.0 -89.875 -89.625\n",
       " 1620m897       6      2        1        4 ...   144.0   180.0 -89.875 -89.625\n",
       " 1980m897       7      3        1        5 ...   180.0   216.0 -89.875 -89.625\n",
       " 2340m897       8      2        1        6 ...   216.0   252.0 -89.875 -89.625\n",
       " 2700m897       9      3        1        7 ...   252.0   288.0 -89.875 -89.625\n",
       " 3060m897      10      2        1        8 ...   288.0   324.0 -89.875 -89.625\n",
       "      ...     ...    ...      ...      ... ...     ...     ...     ...     ...\n",
       " 0540p897  662165      3      719        1 ...    36.0    72.0  89.625  89.875\n",
       " 0900p897  662166      2      719        2 ...    72.0   108.0  89.625  89.875\n",
       " 1260p897  662167      3      719        3 ...   108.0   144.0  89.625  89.875\n",
       " 1620p897  662168      2      719        4 ...   144.0   180.0  89.625  89.875\n",
       " 1980p897  662169      3      719        5 ...   180.0   216.0  89.625  89.875\n",
       " 2340p897  662170      2      719        6 ...   216.0   252.0  89.625  89.875\n",
       " 2700p897  662171      3      719        7 ...   252.0   288.0  89.625  89.875\n",
       " 3060p897  662172      2      719        8 ...   288.0   324.0  89.625  89.875\n",
       " 3420p897  662173      3      719        9 ...   324.0   360.0  89.625  89.875\n",
       " 1800p900  662174      0      720        0 ...     0.0   360.0  89.875    90.0"
      ]
     },
     "execution_count": 123,
     "metadata": {},
     "output_type": "execute_result"
    }
   ],
   "source": [
    "decals = Table.read('survey-bricks.fits')\n",
    "coords_bricks = SkyCoord(decals['RA'], decals['DEC'], unit = (u.deg, u.deg))\n",
    "decals"
   ]
  },
  {
   "cell_type": "code",
   "execution_count": null,
   "metadata": {},
   "outputs": [],
   "source": [
    "\n",
    "#Lista para almacenar los índices de los objetos dentro del footprint\n",
    "objetos_en_bricks = []\n",
    "\n",
    "#Iteración\n",
    "\n",
    "for i, obj_coord in enumerate(sky_coords):\n",
    "    \n",
    "\n",
    "\n",
    "\n",
    "\n",
    "\n",
    "\n",
    "\n",
    "\n",
    "\n",
    "\n",
    "\n",
    "\n",
    "\n",
    "\n",
    "\n",
    "\n",
    "\n",
    "\n"
   ]
  }
 ],
 "metadata": {
  "kernelspec": {
   "display_name": "Python 3 (ipykernel)",
   "language": "python",
   "name": "python3"
  },
  "language_info": {
   "codemirror_mode": {
    "name": "ipython",
    "version": 3
   },
   "file_extension": ".py",
   "mimetype": "text/x-python",
   "name": "python",
   "nbconvert_exporter": "python",
   "pygments_lexer": "ipython3",
   "version": "3.11.4"
  }
 },
 "nbformat": 4,
 "nbformat_minor": 4
}
