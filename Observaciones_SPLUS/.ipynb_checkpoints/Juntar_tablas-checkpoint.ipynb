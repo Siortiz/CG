{
 "cells": [
  {
   "cell_type": "code",
   "execution_count": 4,
   "id": "d0ec4553",
   "metadata": {},
   "outputs": [],
   "source": [
    "import pandas as pd\n",
    "import os\n",
    "from astropy.table import Table\n",
    "import numpy as np"
   ]
  },
  {
   "cell_type": "code",
   "execution_count": 7,
   "id": "9463599e",
   "metadata": {
    "scrolled": true
   },
   "outputs": [],
   "source": [
    "\n",
    "# Directorio donde están ubicadas las tablas\n",
    "directorio = '/home/seba/Documents/MorphoLS/sex/'\n",
    "\n",
    "# Lista para almacenar los DataFrames de cada tabla\n",
    "dataframes = []\n",
    "\n",
    "# Itera sobre cada archivo en el directorio\n",
    "for archivo in os.listdir(directorio):\n",
    "    if archivo.endswith('.csv') and archivo.startswith('Galaxies'):  # Asegúrate de que solo lea archivos CSV\n",
    "        ruta_archivo = os.path.join(directorio, archivo)\n",
    "        # Lee el archivo CSV en un DataFrame y agrégalo a la lista\n",
    "        df = pd.read_csv(ruta_archivo)\n",
    "        dataframes.append(df)\n",
    "\n",
    "# Concatena todos los DataFrames en uno solo\n",
    "tabla_final = pd.concat(dataframes, ignore_index=True)\n",
    "#tabla_final = tabla_final.rename(columns={'Group': 'Groups'})\n",
    "# Elimina cualquier columna que empiece con \"VIGNET\"\n",
    "columnas_a_eliminar = [col for col in tabla_final.columns if col.startswith('VIGNET')]\n",
    "tabla_final = tabla_final.drop(columns=columnas_a_eliminar)\n",
    "# Guarda la tabla final en un archivo CSV\n",
    "tabla_final.to_csv('/home/seba/Documents/MorphoLS/sex/Galaxies_DECALS_sex.csv', index=False)\n",
    "\n",
    "# Muestra la información de la tabla final\n",
    "#print(tabla_final[tabla_final['Group'] == 1]['objid'])\n"
   ]
  },
  {
   "cell_type": "code",
   "execution_count": 5,
   "id": "39a7f9d6",
   "metadata": {},
   "outputs": [],
   "source": [
    "see = Table.read('/home/seba/Documents/MorphoLS/sex/Galaxies_DECALS_sex.csv')\n",
    "#see = see[np.argsort(see['Group'])]\n",
    "#table_filt = resultado_filtrado[~np.isin(resultado_filtrado['NAME'], remove)\n",
    "mask = [5, 192, 231, 244, 275]\n",
    "see_new = see[np.isin(see['Group'], mask)]\n",
    "see_new\n",
    "see_new.write('/home/seba/Documents/MorphoLS/Catalog/GalfitM_5_corr.csv', format='csv', overwrite=True)\n",
    "#see_groups = see_new.group_by('Group')\n",
    "#see_groups.groups.keys"
   ]
  },
  {
   "cell_type": "code",
   "execution_count": 3,
   "id": "298bed08",
   "metadata": {},
   "outputs": [
    {
     "ename": "IORegistryError",
     "evalue": "Format could not be identified based on the file name or contents, please provide a 'format' argument.\nThe available formats are:\n           Format           Read Write Auto-identify Deprecated\n--------------------------- ---- ----- ------------- ----------\n                      ascii  Yes   Yes            No           \n               ascii.aastex  Yes   Yes            No           \n                ascii.basic  Yes   Yes            No           \n                  ascii.cds  Yes    No            No           \n     ascii.commented_header  Yes   Yes            No           \n                  ascii.csv  Yes   Yes           Yes           \n              ascii.daophot  Yes    No            No           \n                 ascii.ecsv  Yes   Yes           Yes           \n           ascii.fast_basic  Yes   Yes            No           \nascii.fast_commented_header  Yes   Yes            No           \n             ascii.fast_csv  Yes   Yes            No           \n       ascii.fast_no_header  Yes   Yes            No           \n             ascii.fast_rdb  Yes   Yes            No           \n             ascii.fast_tab  Yes   Yes            No           \n          ascii.fixed_width  Yes   Yes            No           \nascii.fixed_width_no_header  Yes   Yes            No           \n ascii.fixed_width_two_line  Yes   Yes            No           \n                 ascii.html  Yes   Yes           Yes           \n                 ascii.ipac  Yes   Yes            No           \n                ascii.latex  Yes   Yes           Yes           \n                  ascii.mrt  Yes   Yes            No           \n            ascii.no_header  Yes   Yes            No           \n                  ascii.qdp  Yes   Yes           Yes           \n                  ascii.rdb  Yes   Yes           Yes           \n                  ascii.rst  Yes   Yes            No           \n           ascii.sextractor  Yes    No            No           \n                  ascii.tab  Yes   Yes            No           \n                       asdf  Yes   Yes           Yes           \n                       fits  Yes   Yes           Yes           \n                       hdf5  Yes   Yes           Yes           \n                 pandas.csv  Yes   Yes            No           \n                 pandas.fwf  Yes    No            No           \n                pandas.html  Yes   Yes            No           \n                pandas.json  Yes   Yes            No           \n                    parquet  Yes   Yes           Yes           \n                    votable  Yes   Yes           Yes           \n                     aastex  Yes   Yes            No        Yes\n                        cds  Yes    No            No        Yes\n                        csv  Yes   Yes            No        Yes\n                    daophot  Yes    No            No        Yes\n                       html  Yes   Yes            No        Yes\n                       ipac  Yes   Yes            No        Yes\n                      latex  Yes   Yes            No        Yes\n                        mrt  Yes   Yes            No        Yes\n                        rdb  Yes   Yes            No        Yes",
     "output_type": "error",
     "traceback": [
      "\u001b[0;31m---------------------------------------------------------------------------\u001b[0m",
      "\u001b[0;31mIORegistryError\u001b[0m                           Traceback (most recent call last)",
      "Cell \u001b[0;32mIn[3], line 13\u001b[0m\n\u001b[1;32m     10\u001b[0m \u001b[38;5;28;01mfor\u001b[39;00m archivo \u001b[38;5;129;01min\u001b[39;00m archivos:\n\u001b[1;32m     11\u001b[0m     \u001b[38;5;66;03m# Leer cada archivo CSV\u001b[39;00m\n\u001b[1;32m     12\u001b[0m     ruta_archivo \u001b[38;5;241m=\u001b[39m os\u001b[38;5;241m.\u001b[39mpath\u001b[38;5;241m.\u001b[39mjoin(directorio, archivo)\n\u001b[0;32m---> 13\u001b[0m     tabla \u001b[38;5;241m=\u001b[39m Table\u001b[38;5;241m.\u001b[39mread(ruta_archivo)\n\u001b[1;32m     15\u001b[0m     \u001b[38;5;66;03m# Eliminar las columnas que comienzan con 'VIGNET'\u001b[39;00m\n\u001b[1;32m     16\u001b[0m     columnas_a_eliminar \u001b[38;5;241m=\u001b[39m [col \u001b[38;5;28;01mfor\u001b[39;00m col \u001b[38;5;129;01min\u001b[39;00m tabla\u001b[38;5;241m.\u001b[39mcolnames \u001b[38;5;28;01mif\u001b[39;00m col\u001b[38;5;241m.\u001b[39mstartswith(\u001b[38;5;124m'\u001b[39m\u001b[38;5;124mVIGNET\u001b[39m\u001b[38;5;124m'\u001b[39m)]\n",
      "File \u001b[0;32m~/anaconda3/lib/python3.11/site-packages/astropy/table/connect.py:62\u001b[0m, in \u001b[0;36mTableRead.__call__\u001b[0;34m(self, *args, **kwargs)\u001b[0m\n\u001b[1;32m     59\u001b[0m units \u001b[38;5;241m=\u001b[39m kwargs\u001b[38;5;241m.\u001b[39mpop(\u001b[38;5;124m\"\u001b[39m\u001b[38;5;124munits\u001b[39m\u001b[38;5;124m\"\u001b[39m, \u001b[38;5;28;01mNone\u001b[39;00m)\n\u001b[1;32m     60\u001b[0m descriptions \u001b[38;5;241m=\u001b[39m kwargs\u001b[38;5;241m.\u001b[39mpop(\u001b[38;5;124m\"\u001b[39m\u001b[38;5;124mdescriptions\u001b[39m\u001b[38;5;124m\"\u001b[39m, \u001b[38;5;28;01mNone\u001b[39;00m)\n\u001b[0;32m---> 62\u001b[0m out \u001b[38;5;241m=\u001b[39m \u001b[38;5;28mself\u001b[39m\u001b[38;5;241m.\u001b[39mregistry\u001b[38;5;241m.\u001b[39mread(\u001b[38;5;28mcls\u001b[39m, \u001b[38;5;241m*\u001b[39margs, \u001b[38;5;241m*\u001b[39m\u001b[38;5;241m*\u001b[39mkwargs)\n\u001b[1;32m     64\u001b[0m \u001b[38;5;66;03m# For some readers (e.g., ascii.ecsv), the returned `out` class is not\u001b[39;00m\n\u001b[1;32m     65\u001b[0m \u001b[38;5;66;03m# guaranteed to be the same as the desired output `cls`.  If so,\u001b[39;00m\n\u001b[1;32m     66\u001b[0m \u001b[38;5;66;03m# try coercing to desired class without copying (io.registry.read\u001b[39;00m\n\u001b[1;32m     67\u001b[0m \u001b[38;5;66;03m# would normally do a copy).  The normal case here is swapping\u001b[39;00m\n\u001b[1;32m     68\u001b[0m \u001b[38;5;66;03m# Table <=> QTable.\u001b[39;00m\n\u001b[1;32m     69\u001b[0m \u001b[38;5;28;01mif\u001b[39;00m \u001b[38;5;28mcls\u001b[39m \u001b[38;5;129;01mis\u001b[39;00m \u001b[38;5;129;01mnot\u001b[39;00m out\u001b[38;5;241m.\u001b[39m\u001b[38;5;18m__class__\u001b[39m:\n",
      "File \u001b[0;32m~/anaconda3/lib/python3.11/site-packages/astropy/io/registry/core.py:211\u001b[0m, in \u001b[0;36mUnifiedInputRegistry.read\u001b[0;34m(self, cls, format, cache, *args, **kwargs)\u001b[0m\n\u001b[1;32m    208\u001b[0m         path \u001b[38;5;241m=\u001b[39m \u001b[38;5;28;01mNone\u001b[39;00m\n\u001b[1;32m    209\u001b[0m         fileobj \u001b[38;5;241m=\u001b[39m args[\u001b[38;5;241m0\u001b[39m]\n\u001b[0;32m--> 211\u001b[0m \u001b[38;5;28mformat\u001b[39m \u001b[38;5;241m=\u001b[39m \u001b[38;5;28mself\u001b[39m\u001b[38;5;241m.\u001b[39m_get_valid_format(\n\u001b[1;32m    212\u001b[0m     \u001b[38;5;124m\"\u001b[39m\u001b[38;5;124mread\u001b[39m\u001b[38;5;124m\"\u001b[39m, \u001b[38;5;28mcls\u001b[39m, path, fileobj, args, kwargs\n\u001b[1;32m    213\u001b[0m )\n\u001b[1;32m    215\u001b[0m \u001b[38;5;66;03m# We need to keep track the original path in case it uses a\u001b[39;00m\n\u001b[1;32m    216\u001b[0m \u001b[38;5;66;03m# relative path to the parquet binary\u001b[39;00m\n\u001b[1;32m    217\u001b[0m \u001b[38;5;28;01mif\u001b[39;00m \u001b[38;5;28mformat\u001b[39m \u001b[38;5;241m==\u001b[39m \u001b[38;5;124m\"\u001b[39m\u001b[38;5;124mvotable\u001b[39m\u001b[38;5;124m\"\u001b[39m:\n",
      "File \u001b[0;32m~/anaconda3/lib/python3.11/site-packages/astropy/io/registry/base.py:357\u001b[0m, in \u001b[0;36m_UnifiedIORegistryBase._get_valid_format\u001b[0;34m(self, mode, cls, path, fileobj, args, kwargs)\u001b[0m\n\u001b[1;32m    355\u001b[0m \u001b[38;5;28;01mif\u001b[39;00m \u001b[38;5;28mlen\u001b[39m(valid_formats) \u001b[38;5;241m==\u001b[39m \u001b[38;5;241m0\u001b[39m:\n\u001b[1;32m    356\u001b[0m     format_table_str \u001b[38;5;241m=\u001b[39m \u001b[38;5;28mself\u001b[39m\u001b[38;5;241m.\u001b[39m_get_format_table_str(\u001b[38;5;28mcls\u001b[39m, mode\u001b[38;5;241m.\u001b[39mcapitalize())\n\u001b[0;32m--> 357\u001b[0m     \u001b[38;5;28;01mraise\u001b[39;00m IORegistryError(\n\u001b[1;32m    358\u001b[0m         \u001b[38;5;124m\"\u001b[39m\u001b[38;5;124mFormat could not be identified based on the\u001b[39m\u001b[38;5;124m\"\u001b[39m\n\u001b[1;32m    359\u001b[0m         \u001b[38;5;124m\"\u001b[39m\u001b[38;5;124m file name or contents, please provide a\u001b[39m\u001b[38;5;124m\"\u001b[39m\n\u001b[1;32m    360\u001b[0m         \u001b[38;5;124m\"\u001b[39m\u001b[38;5;124m \u001b[39m\u001b[38;5;124m'\u001b[39m\u001b[38;5;124mformat\u001b[39m\u001b[38;5;124m'\u001b[39m\u001b[38;5;124m argument.\u001b[39m\u001b[38;5;130;01m\\n\u001b[39;00m\u001b[38;5;124m\"\u001b[39m\n\u001b[1;32m    361\u001b[0m         \u001b[38;5;124mf\u001b[39m\u001b[38;5;124m\"\u001b[39m\u001b[38;5;124mThe available formats are:\u001b[39m\u001b[38;5;130;01m\\n\u001b[39;00m\u001b[38;5;132;01m{\u001b[39;00mformat_table_str\u001b[38;5;132;01m}\u001b[39;00m\u001b[38;5;124m\"\u001b[39m\n\u001b[1;32m    362\u001b[0m     )\n\u001b[1;32m    363\u001b[0m \u001b[38;5;28;01melif\u001b[39;00m \u001b[38;5;28mlen\u001b[39m(valid_formats) \u001b[38;5;241m>\u001b[39m \u001b[38;5;241m1\u001b[39m:\n\u001b[1;32m    364\u001b[0m     \u001b[38;5;28;01mreturn\u001b[39;00m \u001b[38;5;28mself\u001b[39m\u001b[38;5;241m.\u001b[39m_get_highest_priority_format(mode, \u001b[38;5;28mcls\u001b[39m, valid_formats)\n",
      "\u001b[0;31mIORegistryError\u001b[0m: Format could not be identified based on the file name or contents, please provide a 'format' argument.\nThe available formats are:\n           Format           Read Write Auto-identify Deprecated\n--------------------------- ---- ----- ------------- ----------\n                      ascii  Yes   Yes            No           \n               ascii.aastex  Yes   Yes            No           \n                ascii.basic  Yes   Yes            No           \n                  ascii.cds  Yes    No            No           \n     ascii.commented_header  Yes   Yes            No           \n                  ascii.csv  Yes   Yes           Yes           \n              ascii.daophot  Yes    No            No           \n                 ascii.ecsv  Yes   Yes           Yes           \n           ascii.fast_basic  Yes   Yes            No           \nascii.fast_commented_header  Yes   Yes            No           \n             ascii.fast_csv  Yes   Yes            No           \n       ascii.fast_no_header  Yes   Yes            No           \n             ascii.fast_rdb  Yes   Yes            No           \n             ascii.fast_tab  Yes   Yes            No           \n          ascii.fixed_width  Yes   Yes            No           \nascii.fixed_width_no_header  Yes   Yes            No           \n ascii.fixed_width_two_line  Yes   Yes            No           \n                 ascii.html  Yes   Yes           Yes           \n                 ascii.ipac  Yes   Yes            No           \n                ascii.latex  Yes   Yes           Yes           \n                  ascii.mrt  Yes   Yes            No           \n            ascii.no_header  Yes   Yes            No           \n                  ascii.qdp  Yes   Yes           Yes           \n                  ascii.rdb  Yes   Yes           Yes           \n                  ascii.rst  Yes   Yes            No           \n           ascii.sextractor  Yes    No            No           \n                  ascii.tab  Yes   Yes            No           \n                       asdf  Yes   Yes           Yes           \n                       fits  Yes   Yes           Yes           \n                       hdf5  Yes   Yes           Yes           \n                 pandas.csv  Yes   Yes            No           \n                 pandas.fwf  Yes    No            No           \n                pandas.html  Yes   Yes            No           \n                pandas.json  Yes   Yes            No           \n                    parquet  Yes   Yes           Yes           \n                    votable  Yes   Yes           Yes           \n                     aastex  Yes   Yes            No        Yes\n                        cds  Yes    No            No        Yes\n                        csv  Yes   Yes            No        Yes\n                    daophot  Yes    No            No        Yes\n                       html  Yes   Yes            No        Yes\n                       ipac  Yes   Yes            No        Yes\n                      latex  Yes   Yes            No        Yes\n                        mrt  Yes   Yes            No        Yes\n                        rdb  Yes   Yes            No        Yes"
     ]
    }
   ],
   "source": [
    "import os\n",
    "from astropy.table import Table\n",
    "\n",
    "# Ruta al directorio con los archivos CSV\n",
    "directorio = '/home/seba/Documents/MorphoLS/sex/'\n",
    "\n",
    "# Listar todos los archivos en el directorio\n",
    "archivos = [f for f in os.listdir(directorio) if f.endswith('.csv')]\n",
    "\n",
    "for archivo in archivos:\n",
    "    # Leer cada archivo CSV\n",
    "    ruta_archivo = os.path.join(directorio, archivo)\n",
    "    tabla = Table.read(ruta_archivo, format='csv')\n",
    "    \n",
    "    # Eliminar las columnas que comienzan con 'VIGNET'\n",
    "    columnas_a_eliminar = [col for col in tabla.colnames if col.startswith('VIGNET')]\n",
    "    tabla.remove_columns(columnas_a_eliminar)\n",
    "    \n",
    "    # Guardar el archivo CSV modificado\n",
    "    tabla.write(ruta_archivo, format='csv', overwrite=True)\n"
   ]
  },
  {
   "cell_type": "code",
   "execution_count": 26,
   "id": "d508bdf7",
   "metadata": {
    "scrolled": true
   },
   "outputs": [],
   "source": [
    "t = Table.read('Input_MorphoPlus.csv', format='ascii')\n",
    "t = t[np.argsort(t['Group'])]\n",
    "t_g = t.group_by('Group')\n",
    "t_keys = t_g.groups.keys\n",
    "t_keys['Group'] == 53\n",
    "mask = [53, 187]\n",
    "t = t[~np.isin(t['Group'], mask)]\n",
    "t\n",
    "t.write('Input_MorphoPlus_final_2.csv', format='csv', overwrite=True)"
   ]
  }
 ],
 "metadata": {
  "kernelspec": {
   "display_name": "Python 3 (ipykernel)",
   "language": "python",
   "name": "python3"
  },
  "language_info": {
   "codemirror_mode": {
    "name": "ipython",
    "version": 3
   },
   "file_extension": ".py",
   "mimetype": "text/x-python",
   "name": "python",
   "nbconvert_exporter": "python",
   "pygments_lexer": "ipython3",
   "version": "3.11.4"
  }
 },
 "nbformat": 4,
 "nbformat_minor": 5
}
