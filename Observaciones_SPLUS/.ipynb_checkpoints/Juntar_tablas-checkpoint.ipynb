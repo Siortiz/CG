{
 "cells": [
  {
   "cell_type": "code",
   "execution_count": 1,
   "id": "d0ec4553",
   "metadata": {},
   "outputs": [],
   "source": [
    "import pandas as pd\n",
    "import os\n",
    "from astropy.table import Table\n",
    "import numpy as np"
   ]
  },
  {
   "cell_type": "code",
   "execution_count": 2,
   "id": "9463599e",
   "metadata": {
    "scrolled": true
   },
   "outputs": [],
   "source": [
    "\n",
    "# Directorio donde están ubicadas las tablas\n",
    "directorio = '/home/seba/Documents/DECALS/Catalogs_raw/Control_Sample_low'\n",
    "\n",
    "# Lista para almacenar los DataFrames de cada tabla\n",
    "dataframes = []\n",
    "\n",
    "# Itera sobre cada archivo en el directorio\n",
    "for archivo in os.listdir(directorio):\n",
    "    if archivo.endswith('.csv'):  # Asegúrate de que solo lea archivos CSV\n",
    "        ruta_archivo = os.path.join(directorio, archivo)\n",
    "        # Lee el archivo CSV en un DataFrame y agrégalo a la lista\n",
    "        df = pd.read_csv(ruta_archivo)\n",
    "        dataframes.append(df)\n",
    "\n",
    "# Concatena todos los DataFrames en uno solo\n",
    "tabla_final = pd.concat(dataframes, ignore_index=True)\n",
    "#tabla_final = tabla_final.rename(columns={'Group': 'Groups'})\n",
    "# Elimina cualquier columna que empiece con \"VIGNET\"\n",
    "#columnas_a_eliminar = [col for col in tabla_final.columns if col.startswith('VIGNET')]\n",
    "#tabla_final = tabla_final.drop(columns=columnas_a_eliminar)\n",
    "# Guarda la tabla final en un archivo CSV\n",
    "#tabla_final\n",
    "tabla_final.to_csv('/home/seba/Documents/MorphoLS/Catalog/GalfitM_DECALS_control_sample_low.csv', index=False)\n",
    "# Muestra la información de la tabla final\n",
    "#print(tabla_final[tabla_final['Group'] == 1]['objid'])\n"
   ]
  },
  {
   "cell_type": "code",
   "execution_count": 3,
   "id": "4e664f33",
   "metadata": {},
   "outputs": [
    {
     "data": {
      "text/html": [
       "<div><i>Table length=15508</i>\n",
       "<table id=\"table139940832171536\" class=\"table-striped table-bordered table-condensed\">\n",
       "<thead><tr><th>brickid</th><th>brickname</th><th>objid</th><th>type</th><th>ra</th><th>dec</th><th>ebv</th><th>flux_g</th><th>flux_r</th><th>flux_i</th><th>flux_z</th><th>psfsize_g</th><th>psfsize_r</th><th>psfsize_i</th><th>psfsize_z</th><th>sersic</th><th>sersic_ivar</th><th>shape_r</th><th>shape_r_ivar</th><th>shape_e1</th><th>shape_e1_ivar</th><th>shape_e2</th><th>shape_e2_ivar</th><th>mag_g</th><th>mag_r</th><th>mag_i</th><th>mag_z</th><th>mag_w1</th><th>mag_w2</th><th>mag_w3</th><th>mag_w4</th><th>g_r</th><th>r_i</th><th>r_z</th><th>i_z</th></tr></thead>\n",
       "<thead><tr><th>int64</th><th>str8</th><th>int64</th><th>str3</th><th>float64</th><th>float64</th><th>float64</th><th>float64</th><th>float64</th><th>float64</th><th>float64</th><th>float64</th><th>float64</th><th>float64</th><th>float64</th><th>float64</th><th>float64</th><th>float64</th><th>float64</th><th>float64</th><th>float64</th><th>float64</th><th>float64</th><th>float64</th><th>float64</th><th>float64</th><th>float64</th><th>float64</th><th>float64</th><th>float64</th><th>float64</th><th>float64</th><th>float64</th><th>float64</th><th>float64</th></tr></thead>\n",
       "<tr><td>406679</td><td>1506p132</td><td>1960</td><td>DEV</td><td>150.5914773758843</td><td>13.29334112221975</td><td>0.035374288</td><td>0.5239709</td><td>1.362435</td><td>2.0521793</td><td>2.638845</td><td>1.4277201</td><td>1.2971721</td><td>1.6452752</td><td>1.2639717</td><td>4.0</td><td>0.0</td><td>0.5050406</td><td>1236.1993</td><td>0.21796992</td><td>272.3943</td><td>0.21252555</td><td>268.85962</td><td>23.201733</td><td>22.164211</td><td>21.719461</td><td>21.446465</td><td>20.54238</td><td>20.045023</td><td>--</td><td>--</td><td>1.0375214</td><td>0.44474983</td><td>0.71774673</td><td>0.2729969</td></tr>\n",
       "<tr><td>406679</td><td>1506p132</td><td>1931</td><td>SER</td><td>150.5906780419916</td><td>13.29375463769829</td><td>0.035358947</td><td>1.4369751</td><td>2.0161026</td><td>2.414745</td><td>3.7642202</td><td>1.4277201</td><td>1.2971721</td><td>1.6452752</td><td>1.2639717</td><td>0.5</td><td>117.56205</td><td>0.8516472</td><td>3580.6306</td><td>-0.12848668</td><td>1635.7734</td><td>0.23974219</td><td>2560.163</td><td>22.106377</td><td>21.738718</td><td>21.542822</td><td>21.060812</td><td>--</td><td>--</td><td>--</td><td>14.905869</td><td>0.36765862</td><td>0.19589615</td><td>0.67790604</td><td>0.4820099</td></tr>\n",
       "<tr><td>406679</td><td>1506p132</td><td>1971</td><td>REX</td><td>150.5918904808815</td><td>13.29386930817493</td><td>0.035372306</td><td>0.16344683</td><td>0.27626884</td><td>0.29339305</td><td>0.17099513</td><td>1.4277201</td><td>1.2971721</td><td>1.6452752</td><td>1.2639717</td><td>1.0</td><td>0.0</td><td>0.37524316</td><td>127.12676</td><td>0.0</td><td>0.0</td><td>0.0</td><td>0.0</td><td>24.466558</td><td>23.89667</td><td>23.831375</td><td>24.417542</td><td>--</td><td>--</td><td>16.839743</td><td>16.928802</td><td>0.56988907</td><td>0.065294266</td><td>-0.5208721</td><td>-0.5861664</td></tr>\n",
       "<tr><td>406679</td><td>1506p132</td><td>2079</td><td>PSF</td><td>150.5965694112469</td><td>13.29052433279139</td><td>0.035472047</td><td>0.8200622</td><td>2.5596027</td><td>4.1311455</td><td>5.1289835</td><td>1.4277201</td><td>1.2971721</td><td>1.6452752</td><td>1.2639717</td><td>0.0</td><td>0.0</td><td>0.0</td><td>0.0</td><td>0.0</td><td>0.0</td><td>0.0</td><td>0.0</td><td>22.715384</td><td>21.479568</td><td>20.959824</td><td>20.724922</td><td>22.123714</td><td>21.368881</td><td>18.730783</td><td>16.504553</td><td>1.235815</td><td>0.5197449</td><td>0.7546463</td><td>0.23490143</td></tr>\n",
       "<tr><td>406679</td><td>1506p132</td><td>2026</td><td>PSF</td><td>150.5947816868028</td><td>13.29283953000319</td><td>0.035421584</td><td>0.7947737</td><td>1.0333302</td><td>1.2475451</td><td>2.2332795</td><td>1.4277201</td><td>1.2971721</td><td>1.6452752</td><td>1.2639717</td><td>0.0</td><td>0.0</td><td>0.0</td><td>0.0</td><td>0.0</td><td>0.0</td><td>0.0</td><td>0.0</td><td>22.749392</td><td>22.464401</td><td>22.25986</td><td>21.627642</td><td>19.88941</td><td>20.440018</td><td>--</td><td>16.59473</td><td>0.2849903</td><td>0.20454216</td><td>0.83675957</td><td>0.6322174</td></tr>\n",
       "<tr><td>406679</td><td>1506p132</td><td>1845</td><td>REX</td><td>150.5874451135009</td><td>13.30326617325954</td><td>0.035187047</td><td>0.09080136</td><td>0.13505633</td><td>0.42366594</td><td>0.22235277</td><td>1.479726</td><td>1.3489343</td><td>1.6452752</td><td>1.2605172</td><td>1.0</td><td>0.0</td><td>0.36945444</td><td>118.75948</td><td>0.0</td><td>0.0</td><td>0.0</td><td>0.0</td><td>25.104769</td><td>24.673712</td><td>23.432442</td><td>24.132393</td><td>25.189041</td><td>--</td><td>20.27603</td><td>15.698269</td><td>0.43105698</td><td>1.2412701</td><td>0.5413189</td><td>-0.6999512</td></tr>\n",
       "<tr><td>406679</td><td>1506p132</td><td>1925</td><td>SER</td><td>150.5903896433329</td><td>13.29722039409831</td><td>0.03530812</td><td>8.597572</td><td>26.169247</td><td>39.242146</td><td>51.24006</td><td>1.4277201</td><td>1.2971721</td><td>1.6452752</td><td>1.2639717</td><td>3.5409184</td><td>907.8541</td><td>1.9506848</td><td>31483.838</td><td>0.07784094</td><td>76525.766</td><td>-0.26671925</td><td>123417.8</td><td>20.16406</td><td>18.955523</td><td>18.515617</td><td>18.225975</td><td>18.495275</td><td>19.279297</td><td>--</td><td>--</td><td>1.208538</td><td>0.43990517</td><td>0.7295475</td><td>0.28964233</td></tr>\n",
       "<tr><td>406679</td><td>1506p132</td><td>1997</td><td>REX</td><td>150.5930410565961</td><td>13.29693831510715</td><td>0.03534657</td><td>0.24670917</td><td>0.4721479</td><td>0.5762413</td><td>0.9051701</td><td>1.4277201</td><td>1.2971721</td><td>1.6452752</td><td>1.2639717</td><td>1.0</td><td>0.0</td><td>0.57592815</td><td>281.33813</td><td>0.0</td><td>0.0</td><td>0.0</td><td>0.0</td><td>24.019537</td><td>23.314804</td><td>23.09849</td><td>22.608175</td><td>21.095549</td><td>22.131842</td><td>--</td><td>15.731993</td><td>0.7047329</td><td>0.21631432</td><td>0.7066288</td><td>0.49031448</td></tr>\n",
       "<tr><td>406679</td><td>1506p132</td><td>1909</td><td>PSF</td><td>150.5899161036073</td><td>13.29760166147637</td><td>0.03529694</td><td>0.39896503</td><td>1.0576282</td><td>1.3822104</td><td>1.8069317</td><td>1.4277201</td><td>1.2971721</td><td>1.6452752</td><td>1.2605172</td><td>0.0</td><td>0.0</td><td>0.0</td><td>0.0</td><td>0.0</td><td>0.0</td><td>0.0</td><td>0.0</td><td>23.497663</td><td>22.439167</td><td>22.148565</td><td>21.857645</td><td>21.620773</td><td>21.199408</td><td>--</td><td>15.579004</td><td>1.0584965</td><td>0.29060173</td><td>0.581522</td><td>0.29092026</td></tr>\n",
       "<tr><td>...</td><td>...</td><td>...</td><td>...</td><td>...</td><td>...</td><td>...</td><td>...</td><td>...</td><td>...</td><td>...</td><td>...</td><td>...</td><td>...</td><td>...</td><td>...</td><td>...</td><td>...</td><td>...</td><td>...</td><td>...</td><td>...</td><td>...</td><td>...</td><td>...</td><td>...</td><td>...</td><td>...</td><td>...</td><td>...</td><td>...</td><td>...</td><td>...</td><td>...</td><td>...</td></tr>\n",
       "<tr><td>348255</td><td>1518p030</td><td>10996</td><td>PSF</td><td>151.9614039807428</td><td>3.079089766221646</td><td>0.023122335</td><td>0.07411877</td><td>0.0792608</td><td>0.053564455</td><td>0.19871914</td><td>1.4554601</td><td>1.2636462</td><td>1.3295084</td><td>1.1896038</td><td>0.0</td><td>0.0</td><td>0.0</td><td>0.0</td><td>0.0</td><td>0.0</td><td>0.0</td><td>0.0</td><td>25.32518</td><td>25.252354</td><td>25.677809</td><td>24.2544</td><td>--</td><td>--</td><td>18.062607</td><td>15.224385</td><td>0.072826385</td><td>-0.4254551</td><td>0.9979534</td><td>1.4234085</td></tr>\n",
       "<tr><td>348255</td><td>1518p030</td><td>11158</td><td>REX</td><td>151.9645050024536</td><td>3.077633340911068</td><td>0.023035178</td><td>0.1910437</td><td>0.17940946</td><td>0.23721088</td><td>0.23697658</td><td>1.4560556</td><td>1.3060106</td><td>1.3295084</td><td>1.1896038</td><td>1.0</td><td>0.0</td><td>0.5487408</td><td>1309.6412</td><td>0.0</td><td>0.0</td><td>0.0</td><td>0.0</td><td>24.297169</td><td>24.365387</td><td>24.062164</td><td>24.063236</td><td>21.620129</td><td>23.626911</td><td>17.4512</td><td>14.570117</td><td>-0.06821823</td><td>0.30322266</td><td>0.30215073</td><td>-0.0010719299</td></tr>\n",
       "<tr><td>348255</td><td>1518p030</td><td>11169</td><td>REX</td><td>151.9647922445017</td><td>3.078345721256385</td><td>0.023031896</td><td>0.4656718</td><td>0.95334053</td><td>1.3251015</td><td>1.3051727</td><td>1.4554601</td><td>1.2992774</td><td>1.3295084</td><td>1.1896038</td><td>1.0</td><td>0.0</td><td>0.2767787</td><td>9380.858</td><td>0.0</td><td>0.0</td><td>0.0</td><td>0.0</td><td>23.3298</td><td>22.55188</td><td>22.194378</td><td>22.21083</td><td>--</td><td>--</td><td>--</td><td>--</td><td>0.77791977</td><td>0.35750198</td><td>0.3410492</td><td>-0.01645279</td></tr>\n",
       "<tr><td>348255</td><td>1518p030</td><td>11248</td><td>PSF</td><td>151.9664338684998</td><td>3.072501757497121</td><td>0.02295818</td><td>0.04073958</td><td>0.06668176</td><td>0.14030749</td><td>0.23828478</td><td>1.4281763</td><td>1.3095545</td><td>1.2683735</td><td>1.1896038</td><td>0.0</td><td>0.0</td><td>0.0</td><td>0.0</td><td>0.0</td><td>0.0</td><td>0.0</td><td>0.0</td><td>25.974958</td><td>25.439981</td><td>24.632298</td><td>24.057259</td><td>24.301147</td><td>--</td><td>--</td><td>16.653421</td><td>0.53497696</td><td>0.80768394</td><td>1.3827229</td><td>0.5750389</td></tr>\n",
       "<tr><td>348255</td><td>1518p030</td><td>11401</td><td>REX</td><td>151.9695640153789</td><td>3.071577384102079</td><td>0.022874132</td><td>0.06765038</td><td>0.06844402</td><td>0.032218754</td><td>0.09677632</td><td>1.4291809</td><td>1.3095545</td><td>1.2487863</td><td>1.1896038</td><td>1.0</td><td>0.0</td><td>0.28052348</td><td>69.164604</td><td>0.0</td><td>0.0</td><td>0.0</td><td>0.0</td><td>25.424324</td><td>25.411661</td><td>26.229729</td><td>25.035578</td><td>22.225859</td><td>--</td><td>--</td><td>15.060898</td><td>0.012662888</td><td>-0.81806755</td><td>0.37608337</td><td>1.1941509</td></tr>\n",
       "<tr><td>348255</td><td>1518p030</td><td>11362</td><td>REX</td><td>151.9688152329281</td><td>3.07361924484826</td><td>0.022903496</td><td>0.11393786</td><td>0.21788678</td><td>0.51799905</td><td>0.5198431</td><td>1.4315808</td><td>1.3095545</td><td>1.2681375</td><td>1.1896038</td><td>1.0</td><td>0.0</td><td>0.38487384</td><td>1054.3767</td><td>0.0</td><td>0.0</td><td>0.0</td><td>0.0</td><td>24.85833</td><td>24.154423</td><td>23.214178</td><td>23.21032</td><td>23.693136</td><td>--</td><td>--</td><td>16.28254</td><td>0.703907</td><td>0.9402447</td><td>0.94410324</td><td>0.0038585663</td></tr>\n",
       "<tr><td>348255</td><td>1518p030</td><td>11575</td><td>REX</td><td>151.9735053418945</td><td>3.073765515494566</td><td>0.022784218</td><td>0.040751614</td><td>0.12662011</td><td>0.20277573</td><td>0.38462538</td><td>1.4324276</td><td>1.3095545</td><td>1.2681375</td><td>1.1896038</td><td>1.0</td><td>0.0</td><td>0.19671252</td><td>137.4046</td><td>0.0</td><td>0.0</td><td>0.0</td><td>0.0</td><td>25.974638</td><td>24.743744</td><td>24.23246</td><td>23.537405</td><td>22.767612</td><td>--</td><td>18.6145</td><td>15.321959</td><td>1.2308941</td><td>0.5112839</td><td>1.2063389</td><td>0.695055</td></tr>\n",
       "<tr><td>348255</td><td>1518p030</td><td>11620</td><td>PSF</td><td>151.9743405570055</td><td>3.07423066098791</td><td>0.02276499</td><td>0.08356643</td><td>0.11175363</td><td>0.053760428</td><td>0.11020533</td><td>1.4324276</td><td>1.3043318</td><td>1.2681375</td><td>1.2312394</td><td>0.0</td><td>0.0</td><td>0.0</td><td>0.0</td><td>0.0</td><td>0.0</td><td>0.0</td><td>0.0</td><td>25.19492</td><td>24.879347</td><td>25.673843</td><td>24.894493</td><td>24.472944</td><td>--</td><td>--</td><td>--</td><td>0.31557274</td><td>-0.79449654</td><td>-0.015146255</td><td>0.7793503</td></tr>\n",
       "<tr><td>348255</td><td>1518p030</td><td>11356</td><td>PSF</td><td>151.9686988552563</td><td>3.077705569656469</td><td>0.022928096</td><td>0.08423796</td><td>0.05085273</td><td>0.095250666</td><td>0.31361842</td><td>1.4411571</td><td>1.3060106</td><td>1.3295084</td><td>1.1896038</td><td>0.0</td><td>0.0</td><td>0.0</td><td>0.0</td><td>0.0</td><td>0.0</td><td>0.0</td><td>0.0</td><td>25.18623</td><td>25.734215</td><td>25.05283</td><td>23.758997</td><td>--</td><td>--</td><td>--</td><td>--</td><td>-0.5479851</td><td>0.68138504</td><td>1.9752178</td><td>1.2938328</td></tr>\n",
       "<tr><td>348255</td><td>1518p030</td><td>11753</td><td>EXP</td><td>151.9770170267093</td><td>3.066279158375642</td><td>0.022660758</td><td>0.12546676</td><td>0.16182484</td><td>0.26852867</td><td>0.39138904</td><td>1.4636923</td><td>1.3672094</td><td>1.2815135</td><td>1.1270908</td><td>1.0</td><td>0.0</td><td>0.61079437</td><td>2296.5276</td><td>-0.05710711</td><td>2274.2405</td><td>0.39252126</td><td>2284.3296</td><td>24.753677</td><td>24.477386</td><td>23.927523</td><td>23.518478</td><td>22.83177</td><td>23.994972</td><td>--</td><td>--</td><td>0.2762909</td><td>0.5498638</td><td>0.9589081</td><td>0.40904427</td></tr>\n",
       "</table></div>"
      ],
      "text/plain": [
       "<Table length=15508>\n",
       "brickid brickname objid type ...     r_i         r_z           i_z     \n",
       " int64     str8   int64 str3 ...   float64     float64       float64   \n",
       "------- --------- ----- ---- ... ----------- ------------ -------------\n",
       " 406679  1506p132  1960  DEV ...  0.44474983   0.71774673     0.2729969\n",
       " 406679  1506p132  1931  SER ...  0.19589615   0.67790604     0.4820099\n",
       " 406679  1506p132  1971  REX ... 0.065294266   -0.5208721    -0.5861664\n",
       " 406679  1506p132  2079  PSF ...   0.5197449    0.7546463    0.23490143\n",
       " 406679  1506p132  2026  PSF ...  0.20454216   0.83675957     0.6322174\n",
       " 406679  1506p132  1845  REX ...   1.2412701    0.5413189    -0.6999512\n",
       " 406679  1506p132  1925  SER ...  0.43990517    0.7295475    0.28964233\n",
       " 406679  1506p132  1997  REX ...  0.21631432    0.7066288    0.49031448\n",
       " 406679  1506p132  1909  PSF ...  0.29060173     0.581522    0.29092026\n",
       "    ...       ...   ...  ... ...         ...          ...           ...\n",
       " 348255  1518p030 10996  PSF ...  -0.4254551    0.9979534     1.4234085\n",
       " 348255  1518p030 11158  REX ...  0.30322266   0.30215073 -0.0010719299\n",
       " 348255  1518p030 11169  REX ...  0.35750198    0.3410492   -0.01645279\n",
       " 348255  1518p030 11248  PSF ...  0.80768394    1.3827229     0.5750389\n",
       " 348255  1518p030 11401  REX ... -0.81806755   0.37608337     1.1941509\n",
       " 348255  1518p030 11362  REX ...   0.9402447   0.94410324  0.0038585663\n",
       " 348255  1518p030 11575  REX ...   0.5112839    1.2063389      0.695055\n",
       " 348255  1518p030 11620  PSF ... -0.79449654 -0.015146255     0.7793503\n",
       " 348255  1518p030 11356  PSF ...  0.68138504    1.9752178     1.2938328\n",
       " 348255  1518p030 11753  EXP ...   0.5498638    0.9589081    0.40904427"
      ]
     },
     "execution_count": 3,
     "metadata": {},
     "output_type": "execute_result"
    }
   ],
   "source": [
    "a = Table.read('/home/seba/Documents/MorphoLS/Catalog/GalfitM_DECALS_control_sample_low.csv', format='ascii')\n",
    "a"
   ]
  },
  {
   "cell_type": "code",
   "execution_count": 5,
   "id": "39a7f9d6",
   "metadata": {},
   "outputs": [],
   "source": [
    "see = Table.read('/home/seba/Documents/MorphoLS/sex/Galaxies_DECALS_sex.csv')\n",
    "#see = see[np.argsort(see['Group'])]\n",
    "#table_filt = resultado_filtrado[~np.isin(resultado_filtrado['NAME'], remove)\n",
    "mask = [5, 192, 231, 244, 275]\n",
    "see_new = see[np.isin(see['Group'], mask)]\n",
    "see_new\n",
    "see_new.write('/home/seba/Documents/MorphoLS/Catalog/GalfitM_5_corr.csv', format='csv', overwrite=True)\n",
    "#see_groups = see_new.group_by('Group')\n",
    "#see_groups.groups.keys"
   ]
  },
  {
   "cell_type": "code",
   "execution_count": 3,
   "id": "298bed08",
   "metadata": {},
   "outputs": [
    {
     "ename": "IORegistryError",
     "evalue": "Format could not be identified based on the file name or contents, please provide a 'format' argument.\nThe available formats are:\n           Format           Read Write Auto-identify Deprecated\n--------------------------- ---- ----- ------------- ----------\n                      ascii  Yes   Yes            No           \n               ascii.aastex  Yes   Yes            No           \n                ascii.basic  Yes   Yes            No           \n                  ascii.cds  Yes    No            No           \n     ascii.commented_header  Yes   Yes            No           \n                  ascii.csv  Yes   Yes           Yes           \n              ascii.daophot  Yes    No            No           \n                 ascii.ecsv  Yes   Yes           Yes           \n           ascii.fast_basic  Yes   Yes            No           \nascii.fast_commented_header  Yes   Yes            No           \n             ascii.fast_csv  Yes   Yes            No           \n       ascii.fast_no_header  Yes   Yes            No           \n             ascii.fast_rdb  Yes   Yes            No           \n             ascii.fast_tab  Yes   Yes            No           \n          ascii.fixed_width  Yes   Yes            No           \nascii.fixed_width_no_header  Yes   Yes            No           \n ascii.fixed_width_two_line  Yes   Yes            No           \n                 ascii.html  Yes   Yes           Yes           \n                 ascii.ipac  Yes   Yes            No           \n                ascii.latex  Yes   Yes           Yes           \n                  ascii.mrt  Yes   Yes            No           \n            ascii.no_header  Yes   Yes            No           \n                  ascii.qdp  Yes   Yes           Yes           \n                  ascii.rdb  Yes   Yes           Yes           \n                  ascii.rst  Yes   Yes            No           \n           ascii.sextractor  Yes    No            No           \n                  ascii.tab  Yes   Yes            No           \n                       asdf  Yes   Yes           Yes           \n                       fits  Yes   Yes           Yes           \n                       hdf5  Yes   Yes           Yes           \n                 pandas.csv  Yes   Yes            No           \n                 pandas.fwf  Yes    No            No           \n                pandas.html  Yes   Yes            No           \n                pandas.json  Yes   Yes            No           \n                    parquet  Yes   Yes           Yes           \n                    votable  Yes   Yes           Yes           \n                     aastex  Yes   Yes            No        Yes\n                        cds  Yes    No            No        Yes\n                        csv  Yes   Yes            No        Yes\n                    daophot  Yes    No            No        Yes\n                       html  Yes   Yes            No        Yes\n                       ipac  Yes   Yes            No        Yes\n                      latex  Yes   Yes            No        Yes\n                        mrt  Yes   Yes            No        Yes\n                        rdb  Yes   Yes            No        Yes",
     "output_type": "error",
     "traceback": [
      "\u001b[0;31m---------------------------------------------------------------------------\u001b[0m",
      "\u001b[0;31mIORegistryError\u001b[0m                           Traceback (most recent call last)",
      "Cell \u001b[0;32mIn[3], line 13\u001b[0m\n\u001b[1;32m     10\u001b[0m \u001b[38;5;28;01mfor\u001b[39;00m archivo \u001b[38;5;129;01min\u001b[39;00m archivos:\n\u001b[1;32m     11\u001b[0m     \u001b[38;5;66;03m# Leer cada archivo CSV\u001b[39;00m\n\u001b[1;32m     12\u001b[0m     ruta_archivo \u001b[38;5;241m=\u001b[39m os\u001b[38;5;241m.\u001b[39mpath\u001b[38;5;241m.\u001b[39mjoin(directorio, archivo)\n\u001b[0;32m---> 13\u001b[0m     tabla \u001b[38;5;241m=\u001b[39m Table\u001b[38;5;241m.\u001b[39mread(ruta_archivo)\n\u001b[1;32m     15\u001b[0m     \u001b[38;5;66;03m# Eliminar las columnas que comienzan con 'VIGNET'\u001b[39;00m\n\u001b[1;32m     16\u001b[0m     columnas_a_eliminar \u001b[38;5;241m=\u001b[39m [col \u001b[38;5;28;01mfor\u001b[39;00m col \u001b[38;5;129;01min\u001b[39;00m tabla\u001b[38;5;241m.\u001b[39mcolnames \u001b[38;5;28;01mif\u001b[39;00m col\u001b[38;5;241m.\u001b[39mstartswith(\u001b[38;5;124m'\u001b[39m\u001b[38;5;124mVIGNET\u001b[39m\u001b[38;5;124m'\u001b[39m)]\n",
      "File \u001b[0;32m~/anaconda3/lib/python3.11/site-packages/astropy/table/connect.py:62\u001b[0m, in \u001b[0;36mTableRead.__call__\u001b[0;34m(self, *args, **kwargs)\u001b[0m\n\u001b[1;32m     59\u001b[0m units \u001b[38;5;241m=\u001b[39m kwargs\u001b[38;5;241m.\u001b[39mpop(\u001b[38;5;124m\"\u001b[39m\u001b[38;5;124munits\u001b[39m\u001b[38;5;124m\"\u001b[39m, \u001b[38;5;28;01mNone\u001b[39;00m)\n\u001b[1;32m     60\u001b[0m descriptions \u001b[38;5;241m=\u001b[39m kwargs\u001b[38;5;241m.\u001b[39mpop(\u001b[38;5;124m\"\u001b[39m\u001b[38;5;124mdescriptions\u001b[39m\u001b[38;5;124m\"\u001b[39m, \u001b[38;5;28;01mNone\u001b[39;00m)\n\u001b[0;32m---> 62\u001b[0m out \u001b[38;5;241m=\u001b[39m \u001b[38;5;28mself\u001b[39m\u001b[38;5;241m.\u001b[39mregistry\u001b[38;5;241m.\u001b[39mread(\u001b[38;5;28mcls\u001b[39m, \u001b[38;5;241m*\u001b[39margs, \u001b[38;5;241m*\u001b[39m\u001b[38;5;241m*\u001b[39mkwargs)\n\u001b[1;32m     64\u001b[0m \u001b[38;5;66;03m# For some readers (e.g., ascii.ecsv), the returned `out` class is not\u001b[39;00m\n\u001b[1;32m     65\u001b[0m \u001b[38;5;66;03m# guaranteed to be the same as the desired output `cls`.  If so,\u001b[39;00m\n\u001b[1;32m     66\u001b[0m \u001b[38;5;66;03m# try coercing to desired class without copying (io.registry.read\u001b[39;00m\n\u001b[1;32m     67\u001b[0m \u001b[38;5;66;03m# would normally do a copy).  The normal case here is swapping\u001b[39;00m\n\u001b[1;32m     68\u001b[0m \u001b[38;5;66;03m# Table <=> QTable.\u001b[39;00m\n\u001b[1;32m     69\u001b[0m \u001b[38;5;28;01mif\u001b[39;00m \u001b[38;5;28mcls\u001b[39m \u001b[38;5;129;01mis\u001b[39;00m \u001b[38;5;129;01mnot\u001b[39;00m out\u001b[38;5;241m.\u001b[39m\u001b[38;5;18m__class__\u001b[39m:\n",
      "File \u001b[0;32m~/anaconda3/lib/python3.11/site-packages/astropy/io/registry/core.py:211\u001b[0m, in \u001b[0;36mUnifiedInputRegistry.read\u001b[0;34m(self, cls, format, cache, *args, **kwargs)\u001b[0m\n\u001b[1;32m    208\u001b[0m         path \u001b[38;5;241m=\u001b[39m \u001b[38;5;28;01mNone\u001b[39;00m\n\u001b[1;32m    209\u001b[0m         fileobj \u001b[38;5;241m=\u001b[39m args[\u001b[38;5;241m0\u001b[39m]\n\u001b[0;32m--> 211\u001b[0m \u001b[38;5;28mformat\u001b[39m \u001b[38;5;241m=\u001b[39m \u001b[38;5;28mself\u001b[39m\u001b[38;5;241m.\u001b[39m_get_valid_format(\n\u001b[1;32m    212\u001b[0m     \u001b[38;5;124m\"\u001b[39m\u001b[38;5;124mread\u001b[39m\u001b[38;5;124m\"\u001b[39m, \u001b[38;5;28mcls\u001b[39m, path, fileobj, args, kwargs\n\u001b[1;32m    213\u001b[0m )\n\u001b[1;32m    215\u001b[0m \u001b[38;5;66;03m# We need to keep track the original path in case it uses a\u001b[39;00m\n\u001b[1;32m    216\u001b[0m \u001b[38;5;66;03m# relative path to the parquet binary\u001b[39;00m\n\u001b[1;32m    217\u001b[0m \u001b[38;5;28;01mif\u001b[39;00m \u001b[38;5;28mformat\u001b[39m \u001b[38;5;241m==\u001b[39m \u001b[38;5;124m\"\u001b[39m\u001b[38;5;124mvotable\u001b[39m\u001b[38;5;124m\"\u001b[39m:\n",
      "File \u001b[0;32m~/anaconda3/lib/python3.11/site-packages/astropy/io/registry/base.py:357\u001b[0m, in \u001b[0;36m_UnifiedIORegistryBase._get_valid_format\u001b[0;34m(self, mode, cls, path, fileobj, args, kwargs)\u001b[0m\n\u001b[1;32m    355\u001b[0m \u001b[38;5;28;01mif\u001b[39;00m \u001b[38;5;28mlen\u001b[39m(valid_formats) \u001b[38;5;241m==\u001b[39m \u001b[38;5;241m0\u001b[39m:\n\u001b[1;32m    356\u001b[0m     format_table_str \u001b[38;5;241m=\u001b[39m \u001b[38;5;28mself\u001b[39m\u001b[38;5;241m.\u001b[39m_get_format_table_str(\u001b[38;5;28mcls\u001b[39m, mode\u001b[38;5;241m.\u001b[39mcapitalize())\n\u001b[0;32m--> 357\u001b[0m     \u001b[38;5;28;01mraise\u001b[39;00m IORegistryError(\n\u001b[1;32m    358\u001b[0m         \u001b[38;5;124m\"\u001b[39m\u001b[38;5;124mFormat could not be identified based on the\u001b[39m\u001b[38;5;124m\"\u001b[39m\n\u001b[1;32m    359\u001b[0m         \u001b[38;5;124m\"\u001b[39m\u001b[38;5;124m file name or contents, please provide a\u001b[39m\u001b[38;5;124m\"\u001b[39m\n\u001b[1;32m    360\u001b[0m         \u001b[38;5;124m\"\u001b[39m\u001b[38;5;124m \u001b[39m\u001b[38;5;124m'\u001b[39m\u001b[38;5;124mformat\u001b[39m\u001b[38;5;124m'\u001b[39m\u001b[38;5;124m argument.\u001b[39m\u001b[38;5;130;01m\\n\u001b[39;00m\u001b[38;5;124m\"\u001b[39m\n\u001b[1;32m    361\u001b[0m         \u001b[38;5;124mf\u001b[39m\u001b[38;5;124m\"\u001b[39m\u001b[38;5;124mThe available formats are:\u001b[39m\u001b[38;5;130;01m\\n\u001b[39;00m\u001b[38;5;132;01m{\u001b[39;00mformat_table_str\u001b[38;5;132;01m}\u001b[39;00m\u001b[38;5;124m\"\u001b[39m\n\u001b[1;32m    362\u001b[0m     )\n\u001b[1;32m    363\u001b[0m \u001b[38;5;28;01melif\u001b[39;00m \u001b[38;5;28mlen\u001b[39m(valid_formats) \u001b[38;5;241m>\u001b[39m \u001b[38;5;241m1\u001b[39m:\n\u001b[1;32m    364\u001b[0m     \u001b[38;5;28;01mreturn\u001b[39;00m \u001b[38;5;28mself\u001b[39m\u001b[38;5;241m.\u001b[39m_get_highest_priority_format(mode, \u001b[38;5;28mcls\u001b[39m, valid_formats)\n",
      "\u001b[0;31mIORegistryError\u001b[0m: Format could not be identified based on the file name or contents, please provide a 'format' argument.\nThe available formats are:\n           Format           Read Write Auto-identify Deprecated\n--------------------------- ---- ----- ------------- ----------\n                      ascii  Yes   Yes            No           \n               ascii.aastex  Yes   Yes            No           \n                ascii.basic  Yes   Yes            No           \n                  ascii.cds  Yes    No            No           \n     ascii.commented_header  Yes   Yes            No           \n                  ascii.csv  Yes   Yes           Yes           \n              ascii.daophot  Yes    No            No           \n                 ascii.ecsv  Yes   Yes           Yes           \n           ascii.fast_basic  Yes   Yes            No           \nascii.fast_commented_header  Yes   Yes            No           \n             ascii.fast_csv  Yes   Yes            No           \n       ascii.fast_no_header  Yes   Yes            No           \n             ascii.fast_rdb  Yes   Yes            No           \n             ascii.fast_tab  Yes   Yes            No           \n          ascii.fixed_width  Yes   Yes            No           \nascii.fixed_width_no_header  Yes   Yes            No           \n ascii.fixed_width_two_line  Yes   Yes            No           \n                 ascii.html  Yes   Yes           Yes           \n                 ascii.ipac  Yes   Yes            No           \n                ascii.latex  Yes   Yes           Yes           \n                  ascii.mrt  Yes   Yes            No           \n            ascii.no_header  Yes   Yes            No           \n                  ascii.qdp  Yes   Yes           Yes           \n                  ascii.rdb  Yes   Yes           Yes           \n                  ascii.rst  Yes   Yes            No           \n           ascii.sextractor  Yes    No            No           \n                  ascii.tab  Yes   Yes            No           \n                       asdf  Yes   Yes           Yes           \n                       fits  Yes   Yes           Yes           \n                       hdf5  Yes   Yes           Yes           \n                 pandas.csv  Yes   Yes            No           \n                 pandas.fwf  Yes    No            No           \n                pandas.html  Yes   Yes            No           \n                pandas.json  Yes   Yes            No           \n                    parquet  Yes   Yes           Yes           \n                    votable  Yes   Yes           Yes           \n                     aastex  Yes   Yes            No        Yes\n                        cds  Yes    No            No        Yes\n                        csv  Yes   Yes            No        Yes\n                    daophot  Yes    No            No        Yes\n                       html  Yes   Yes            No        Yes\n                       ipac  Yes   Yes            No        Yes\n                      latex  Yes   Yes            No        Yes\n                        mrt  Yes   Yes            No        Yes\n                        rdb  Yes   Yes            No        Yes"
     ]
    }
   ],
   "source": [
    "import os\n",
    "from astropy.table import Table\n",
    "\n",
    "# Ruta al directorio con los archivos CSV\n",
    "directorio = '/home/seba/Documents/MorphoLS/sex/'\n",
    "\n",
    "# Listar todos los archivos en el directorio\n",
    "archivos = [f for f in os.listdir(directorio) if f.endswith('.csv')]\n",
    "\n",
    "for archivo in archivos:\n",
    "    # Leer cada archivo CSV\n",
    "    ruta_archivo = os.path.join(directorio, archivo)\n",
    "    tabla = Table.read(ruta_archivo, format='csv')\n",
    "    \n",
    "    # Eliminar las columnas que comienzan con 'VIGNET'\n",
    "    columnas_a_eliminar = [col for col in tabla.colnames if col.startswith('VIGNET')]\n",
    "    tabla.remove_columns(columnas_a_eliminar)\n",
    "    \n",
    "    # Guardar el archivo CSV modificado\n",
    "    tabla.write(ruta_archivo, format='csv', overwrite=True)\n"
   ]
  },
  {
   "cell_type": "code",
   "execution_count": 26,
   "id": "d508bdf7",
   "metadata": {
    "scrolled": true
   },
   "outputs": [],
   "source": [
    "t = Table.read('Input_MorphoPlus.csv', format='ascii')\n",
    "t = t[np.argsort(t['Group'])]\n",
    "t_g = t.group_by('Group')\n",
    "t_keys = t_g.groups.keys\n",
    "t_keys['Group'] == 53\n",
    "mask = [53, 187]\n",
    "t = t[~np.isin(t['Group'], mask)]\n",
    "t\n",
    "t.write('Input_MorphoPlus_final_2.csv', format='csv', overwrite=True)"
   ]
  }
 ],
 "metadata": {
  "kernelspec": {
   "display_name": "Python 3 (ipykernel)",
   "language": "python",
   "name": "python3"
  },
  "language_info": {
   "codemirror_mode": {
    "name": "ipython",
    "version": 3
   },
   "file_extension": ".py",
   "mimetype": "text/x-python",
   "name": "python",
   "nbconvert_exporter": "python",
   "pygments_lexer": "ipython3",
   "version": "3.11.4"
  }
 },
 "nbformat": 4,
 "nbformat_minor": 5
}
