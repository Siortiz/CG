{
 "cells": [
  {
   "cell_type": "code",
   "execution_count": 4,
   "id": "d0ec4553",
   "metadata": {},
   "outputs": [],
   "source": [
    "import pandas as pd\n",
    "import os\n",
    "from astropy.table import Table"
   ]
  },
  {
   "cell_type": "code",
   "execution_count": 8,
   "id": "9463599e",
   "metadata": {
    "scrolled": true
   },
   "outputs": [],
   "source": [
    "\n",
    "# Directorio donde están ubicadas las tablas\n",
    "directorio = '/home/seba/Documents/CG/Observaciones_SPLUS/Galaxies/'\n",
    "\n",
    "# Lista para almacenar los DataFrames de cada tabla\n",
    "dataframes = []\n",
    "\n",
    "# Itera sobre cada archivo en el directorio\n",
    "for archivo in os.listdir(directorio):\n",
    "    if archivo.endswith('.csv'):  # Asegúrate de que solo lea archivos CSV\n",
    "        ruta_archivo = os.path.join(directorio, archivo)\n",
    "        # Lee el archivo CSV en un DataFrame y agrégalo a la lista\n",
    "        df = pd.read_csv(ruta_archivo)\n",
    "        dataframes.append(df)\n",
    "\n",
    "# Concatena todos los DataFrames en uno solo\n",
    "tabla_final = pd.concat(dataframes, ignore_index=True)\n",
    "tabla_final = tabla_final.rename(columns={'Group': 'Groups'})\n",
    "# Guarda la tabla final en un archivo CSV\n",
    "tabla_final.to_csv('Input_MorphoPlus.csv', index=False)\n",
    "\n",
    "# Muestra la información de la tabla final\n",
    "#tabla_final\n"
   ]
  },
  {
   "cell_type": "code",
   "execution_count": 5,
   "id": "d508bdf7",
   "metadata": {},
   "outputs": [
    {
     "data": {
      "text/html": [
       "<div><i>Table length=4</i>\n",
       "<table id=\"table140636847709584\" class=\"table-striped table-bordered table-condensed\">\n",
       "<thead><tr><th>ID</th><th>Field</th><th>RA</th><th>DEC</th><th>X</th><th>Y</th><th>ELONGATION</th><th>ELLIPTICITY</th><th>THETA</th><th>A</th><th>B</th><th>FLUX_RADIUS_50</th><th>FLUX_RADIUS_90</th><th>u_auto</th><th>e_u_auto</th><th>SEX_FLAGS_u</th><th>J0378_auto</th><th>e_J0378_auto</th><th>SEX_FLAGS_J0378</th><th>J0395_auto</th><th>e_J0395_auto</th><th>SEX_FLAGS_J0395</th><th>J0410_auto</th><th>e_J0410_auto</th><th>SEX_FLAGS_J0410</th><th>J0430_auto</th><th>e_J0430_auto</th><th>SEX_FLAGS_J0430</th><th>g_auto</th><th>e_g_auto</th><th>SEX_FLAGS_g</th><th>J0515_auto</th><th>e_J0515_auto</th><th>SEX_FLAGS_J0515</th><th>r_auto</th><th>e_r_auto</th><th>SEX_FLAGS_r</th><th>J0660_auto</th><th>e_J0660_auto</th><th>SEX_FLAGS_J0660</th><th>i_auto</th><th>e_i_auto</th><th>SEX_FLAGS_i</th><th>J0861_auto</th><th>e_J0861_auto</th><th>SEX_FLAGS_J0861</th><th>z_auto</th><th>e_z_auto</th><th>SEX_FLAGS_z</th><th>zml</th><th>odds</th><th>_RAJ2000</th><th>_DEJ2000</th><th>Group</th><th>Gal</th><th>RAJ2000</th><th>DEJ2000</th><th>zmemb</th><th>gmemb</th><th>FUV</th><th>NUV</th><th>Simbad</th><th>Separation</th></tr></thead>\n",
       "<thead><tr><th>str27</th><th>str12</th><th>float64</th><th>float64</th><th>float64</th><th>float64</th><th>float64</th><th>float64</th><th>float64</th><th>float64</th><th>float64</th><th>float64</th><th>float64</th><th>float64</th><th>float64</th><th>int64</th><th>float64</th><th>float64</th><th>int64</th><th>float64</th><th>float64</th><th>int64</th><th>float64</th><th>float64</th><th>int64</th><th>float64</th><th>float64</th><th>int64</th><th>float64</th><th>float64</th><th>int64</th><th>float64</th><th>float64</th><th>int64</th><th>float64</th><th>float64</th><th>int64</th><th>float64</th><th>float64</th><th>int64</th><th>float64</th><th>float64</th><th>int64</th><th>float64</th><th>float64</th><th>int64</th><th>float64</th><th>float64</th><th>int64</th><th>float64</th><th>float64</th><th>float64</th><th>float64</th><th>int64</th><th>int64</th><th>str11</th><th>str11</th><th>float64</th><th>int64</th><th>float64</th><th>float64</th><th>str6</th><th>float64</th></tr></thead>\n",
       "<tr><td>iDR4_3_SPLUS-s20s22_0064389</td><td>SPLUS-s20s22</td><td>314.4727818059864</td><td>-24.962264295475755</td><td>9737.443359375</td><td>9568.294921875</td><td>1.146355152130127</td><td>0.12766993045806885</td><td>-58.73740005493164</td><td>0.000979942618869245</td><td>0.0008551845094189048</td><td>8.427176475524902</td><td>21.244054794311523</td><td>18.856019973754883</td><td>0.11447668820619583</td><td>2</td><td>18.70991325378418</td><td>0.17218776047229767</td><td>2</td><td>18.454185485839844</td><td>0.22928237915039062</td><td>18</td><td>18.036542892456055</td><td>0.14413820207118988</td><td>2</td><td>17.90885353088379</td><td>0.12155219912528992</td><td>2</td><td>17.555631637573242</td><td>0.028969656676054</td><td>2</td><td>17.28546714782715</td><td>0.05613119527697563</td><td>2</td><td>16.948270797729492</td><td>0.020520491525530815</td><td>2</td><td>16.77115249633789</td><td>0.02003510110080242</td><td>2</td><td>16.657466888427734</td><td>0.026206623762845993</td><td>2</td><td>16.518747329711914</td><td>0.048422470688819885</td><td>2</td><td>16.453840255737305</td><td>0.04006163030862808</td><td>2</td><td>0.09300000220537186</td><td>0.9426799416542053</td><td>314.473</td><td>-24.9623889</td><td>186</td><td>1</td><td>20 57 53.52</td><td>-24 57 44.6</td><td>0.0</td><td>--</td><td>19.5318</td><td>19.1392</td><td>Simbad</td><td>0.8416280010779559</td></tr>\n",
       "<tr><td>iDR4_3_SPLUS-s20s22_0065299</td><td>SPLUS-s20s22</td><td>314.48221804560836</td><td>-24.984532057431263</td><td>9680.6650390625</td><td>9422.8115234375</td><td>1.0707634687423706</td><td>0.06608694791793823</td><td>-64.7965087890625</td><td>0.00020215834956616163</td><td>0.00018884814926423132</td><td>1.2628991603851318</td><td>3.407958507537842</td><td>19.58616828918457</td><td>0.0493130162358284</td><td>0</td><td>19.72347640991211</td><td>0.09163953363895416</td><td>0</td><td>19.8117733001709</td><td>0.16280241310596466</td><td>0</td><td>19.55471420288086</td><td>0.117095947265625</td><td>0</td><td>19.228466033935547</td><td>0.08407024294137955</td><td>0</td><td>19.52415657043457</td><td>0.03728976473212242</td><td>0</td><td>19.45635414123535</td><td>0.08395709097385406</td><td>0</td><td>19.692127227783203</td><td>0.050565168261528015</td><td>0</td><td>19.892742156982422</td><td>0.06899657100439072</td><td>0</td><td>19.981334686279297</td><td>0.10799882560968399</td><td>0</td><td>20.252151489257812</td><td>0.2920232117176056</td><td>0</td><td>20.401275634765625</td><td>0.2946382462978363</td><td>0</td><td>0.35983332991600037</td><td>0.06480112671852112</td><td>314.482</td><td>-24.9843889</td><td>186</td><td>2</td><td>20 57 55.68</td><td>-24 59 03.8</td><td>0.0</td><td>--</td><td>18.628</td><td>18.7564</td><td>Simbad</td><td>0.8785488581206711</td></tr>\n",
       "<tr><td>iDR4_3_SPLUS-s20s22_0063432</td><td>SPLUS-s20s22</td><td>314.4895828137078</td><td>-24.948032164692712</td><td>9638.21875</td><td>9661.984375</td><td>1.2920844554901123</td><td>0.22605681419372559</td><td>55.41672897338867</td><td>0.0005955572705715895</td><td>0.00046066235518082976</td><td>3.1210975646972656</td><td>9.24534797668457</td><td>19.01032257080078</td><td>0.0644954964518547</td><td>2</td><td>18.819534301757812</td><td>0.09263327717781067</td><td>2</td><td>18.904165267944336</td><td>0.16725772619247437</td><td>2</td><td>18.147260665893555</td><td>0.07817868888378143</td><td>2</td><td>18.181394577026367</td><td>0.07694190740585327</td><td>2</td><td>17.72466468811035</td><td>0.017590928822755814</td><td>2</td><td>17.47442626953125</td><td>0.033968210220336914</td><td>2</td><td>17.07631492614746</td><td>0.012011704966425896</td><td>2</td><td>16.945159912109375</td><td>0.012373299337923527</td><td>2</td><td>16.648731231689453</td><td>0.013104116544127464</td><td>2</td><td>16.49239158630371</td><td>0.02349301055073738</td><td>2</td><td>16.40753936767578</td><td>0.01890089176595211</td><td>2</td><td>0.09166666865348816</td><td>0.9876716136932373</td><td>314.49</td><td>-24.948</td><td>186</td><td>3</td><td>20 57 57.60</td><td>-24 56 52.8</td><td>0.094365</td><td>--</td><td>19.6399</td><td>19.688</td><td>Simbad</td><td>1.3666466515301579</td></tr>\n",
       "<tr><td>iDR4_3_SPLUS-s20s22_0063951</td><td>SPLUS-s20s22</td><td>314.49417546107793</td><td>-24.96282898768995</td><td>9610.453125</td><td>9565.255859375</td><td>1.1636178493499756</td><td>0.14061135053634644</td><td>88.99803161621094</td><td>0.0004965927801094949</td><td>0.00042675630538724363</td><td>3.201373815536499</td><td>8.18912410736084</td><td>19.065149307250977</td><td>0.06350507587194443</td><td>0</td><td>18.773128509521484</td><td>0.08282172679901123</td><td>0</td><td>18.664674758911133</td><td>0.12502984702587128</td><td>0</td><td>18.52557373046875</td><td>0.10241144895553589</td><td>0</td><td>18.110227584838867</td><td>0.06709836423397064</td><td>0</td><td>17.86440658569336</td><td>0.01853453554213047</td><td>0</td><td>17.61165428161621</td><td>0.035661064088344574</td><td>0</td><td>17.32357406616211</td><td>0.013824301771819592</td><td>0</td><td>17.224590301513672</td><td>0.01458931528031826</td><td>0</td><td>16.999267578125</td><td>0.016565347090363503</td><td>0</td><td>16.887645721435547</td><td>0.030933132395148277</td><td>0</td><td>16.955780029296875</td><td>0.028700148686766624</td><td>0</td><td>0.1120833307504654</td><td>0.872519850730896</td><td>314.494</td><td>-24.9628889</td><td>186</td><td>4</td><td>20 57 58.56</td><td>-24 57 46.4</td><td>0.0</td><td>--</td><td>19.6074</td><td>19.1857</td><td>Simbad</td><td>0.6119224747209298</td></tr>\n",
       "</table></div>"
      ],
      "text/plain": [
       "<Table length=4>\n",
       "             ID                Field             RA                 DEC                X        ...   FUV     NUV   Simbad     Separation    \n",
       "           str27               str12          float64             float64           float64     ... float64 float64  str6       float64      \n",
       "--------------------------- ------------ ------------------ ------------------- --------------- ... ------- ------- ------ ------------------\n",
       "iDR4_3_SPLUS-s20s22_0064389 SPLUS-s20s22  314.4727818059864 -24.962264295475755  9737.443359375 ... 19.5318 19.1392 Simbad 0.8416280010779559\n",
       "iDR4_3_SPLUS-s20s22_0065299 SPLUS-s20s22 314.48221804560836 -24.984532057431263 9680.6650390625 ...  18.628 18.7564 Simbad 0.8785488581206711\n",
       "iDR4_3_SPLUS-s20s22_0063432 SPLUS-s20s22  314.4895828137078 -24.948032164692712      9638.21875 ... 19.6399  19.688 Simbad 1.3666466515301579\n",
       "iDR4_3_SPLUS-s20s22_0063951 SPLUS-s20s22 314.49417546107793  -24.96282898768995     9610.453125 ... 19.6074 19.1857 Simbad 0.6119224747209298"
      ]
     },
     "execution_count": 5,
     "metadata": {},
     "output_type": "execute_result"
    }
   ],
   "source": [
    "t = Table.read('Galaxies/Galaxies_SPLUS_186.csv')\n",
    "t"
   ]
  }
 ],
 "metadata": {
  "kernelspec": {
   "display_name": "Python 3 (ipykernel)",
   "language": "python",
   "name": "python3"
  },
  "language_info": {
   "codemirror_mode": {
    "name": "ipython",
    "version": 3
   },
   "file_extension": ".py",
   "mimetype": "text/x-python",
   "name": "python",
   "nbconvert_exporter": "python",
   "pygments_lexer": "ipython3",
   "version": "3.11.4"
  }
 },
 "nbformat": 4,
 "nbformat_minor": 5
}
