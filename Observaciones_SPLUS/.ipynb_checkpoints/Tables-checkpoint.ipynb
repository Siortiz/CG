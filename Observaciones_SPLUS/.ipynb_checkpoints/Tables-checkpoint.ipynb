{
 "cells": [
  {
   "cell_type": "code",
   "execution_count": 3,
   "id": "ae73b3e5",
   "metadata": {},
   "outputs": [],
   "source": [
    "from astropy.table import Table"
   ]
  },
  {
   "cell_type": "code",
   "execution_count": 9,
   "id": "81886cd3",
   "metadata": {},
   "outputs": [
    {
     "data": {
      "text/html": [
       "<div><i>Table length=33</i>\n",
       "<table id=\"table140354534323984\" class=\"table-striped table-bordered table-condensed\">\n",
       "<thead><tr><th>RA_obj</th><th>DEC_obj</th><th>NAME_obj</th><th>PID</th><th>NAME_tile</th><th>RA_tile</th><th>DEC_tile</th><th>RA_d_tile</th><th>DEC_d_tile</th></tr></thead>\n",
       "<thead><tr><th>float64</th><th>float64</th><th>int64</th><th>str5</th><th>str12</th><th>str8</th><th>str9</th><th>float64</th><th>float64</th></tr></thead>\n",
       "<tr><td>332.132</td><td>-57.2888333</td><td>196</td><td>SPLUS</td><td>SPLUS-s44s39</td><td>22:12:15</td><td>-56:59:06</td><td>333.0625</td><td>-56.985</td></tr>\n",
       "<tr><td>23.1335417</td><td>-54.6343611</td><td>31</td><td>SPLUS</td><td>SPLUS-s42s11</td><td>1:31:43</td><td>-54:25:34</td><td>22.92916667</td><td>-54.42611111</td></tr>\n",
       "<tr><td>25.5689167</td><td>-54.4324167</td><td>35</td><td>SPLUS</td><td>SPLUS-s42s12</td><td>1:40:54</td><td>-54:25:34</td><td>25.225</td><td>-54.42611111</td></tr>\n",
       "<tr><td>2.8417917</td><td>-53.9554444</td><td>3</td><td>SPLUS</td><td>SPLUS-s42s02</td><td>0:09:10</td><td>-54:25:34</td><td>2.291666667</td><td>-54.42611111</td></tr>\n",
       "<tr><td>16.0889167</td><td>-51.0198333</td><td>24</td><td>SPLUS</td><td>SPLUS-s39s09</td><td>1:07:22</td><td>-50:33:45</td><td>16.84166667</td><td>-50.5625</td></tr>\n",
       "<tr><td>4.2522917</td><td>-51.0608611</td><td>227</td><td>SPLUS</td><td>SPLUS-s39s03</td><td>0:16:51</td><td>-50:33:45</td><td>4.2125</td><td>-50.5625</td></tr>\n",
       "<tr><td>358.7685</td><td>-50.0628611</td><td>225</td><td>SPLUS</td><td>SPLUS-s39s57</td><td>23:51:35</td><td>-50:33:45</td><td>357.8958333</td><td>-50.5625</td></tr>\n",
       "<tr><td>323.84725</td><td>-49.93475</td><td>263</td><td>SPLUS</td><td>SPLUS-s39s41</td><td>21:36:51</td><td>-50:33:45</td><td>324.2125</td><td>-50.5625</td></tr>\n",
       "<tr><td>347.446</td><td>-48.5678889</td><td>213</td><td>SPLUS</td><td>SPLUS-s37s55</td><td>23:12:00</td><td>-47:58:16</td><td>348.0</td><td>-47.97111111</td></tr>\n",
       "<tr><td>339.958</td><td>-47.4905278</td><td>206</td><td>SPLUS</td><td>SPLUS-s37s51</td><td>22:40:00</td><td>-47:58:16</td><td>340.0</td><td>-47.97111111</td></tr>\n",
       "<tr><td>351.915</td><td>-47.0478333</td><td>214</td><td>SPLUS</td><td>SPLUS-s36s59</td><td>23:28:42</td><td>-46:40:19</td><td>352.175</td><td>-46.67194444</td></tr>\n",
       "<tr><td>353.7625</td><td>-47.9746111</td><td>218</td><td>SPLUS</td><td>SPLUS-s37s58</td><td>23:36:00</td><td>-47:58:16</td><td>354.0</td><td>-47.97111111</td></tr>\n",
       "<tr><td>357.5285</td><td>-47.1721389</td><td>223</td><td>SPLUS</td><td>SPLUS-s36s62</td><td>23:52:10</td><td>-46:40:19</td><td>358.0416667</td><td>-46.67194444</td></tr>\n",
       "<tr><td>321.98475</td><td>-46.64275</td><td>262</td><td>SPLUS</td><td>SPLUS-s36s44</td><td>21:31:18</td><td>-46:40:19</td><td>322.825</td><td>-46.67194444</td></tr>\n",
       "<tr><td>12.2406667</td><td>-45.7701944</td><td>17</td><td>SPLUS</td><td>SPLUS-s35s07</td><td>0:45:43</td><td>-45:22:11</td><td>11.42916667</td><td>-45.36972222</td></tr>\n",
       "<tr><td>4.6199583</td><td>-42.1275556</td><td>7</td><td>SPLUS</td><td>SPLUS-s32s04</td><td>0:21:30</td><td>-41:26:57</td><td>5.375</td><td>-41.44916667</td></tr>\n",
       "<tr><td>3.3276667</td><td>-41.5796389</td><td>4</td><td>SPLUS</td><td>SPLUS-s32s03</td><td>0:14:20</td><td>-41:26:57</td><td>3.583333333</td><td>-41.44916667</td></tr>\n",
       "<tr><td>340.1345</td><td>-38.36875</td><td>207</td><td>SPLUS</td><td>SPLUS-s30s59</td><td>22:37:19</td><td>-38:49:26</td><td>339.3291667</td><td>-38.82388889</td></tr>\n",
       "<tr><td>354.88475</td><td>-38.6698333</td><td>219</td><td>SPLUS</td><td>SPLUS-s30s68</td><td>23:39:20</td><td>-38:49:26</td><td>354.8333333</td><td>-38.82388889</td></tr>\n",
       "<tr><td>330.62375</td><td>-22.8943333</td><td>195</td><td>SPLUS</td><td>SPLUS-s18s32</td><td>22:02:56</td><td>-22:55:02</td><td>330.7333333</td><td>-22.91722222</td></tr>\n",
       "<tr><td>5.67</td><td>-20.5771667</td><td>10</td><td>SPLUS</td><td>SPLUS-s16s05</td><td>0:23:02</td><td>-20:14:34</td><td>5.758333333</td><td>-20.24277778</td></tr>\n",
       "<tr><td>326.1695</td><td>-20.0708889</td><td>192</td><td>SPLUS</td><td>SPLUS-s16s30</td><td>21:47:31</td><td>-20:14:34</td><td>326.8791667</td><td>-20.24277778</td></tr>\n",
       "<tr><td>345.3735</td><td>-20.0430278</td><td>212</td><td>SPLUS</td><td>SPLUS-s16s43</td><td>23:02:24</td><td>-20:14:34</td><td>345.6</td><td>-20.24277778</td></tr>\n",
       "<tr><td>359.8595</td><td>-20.3931111</td><td>226</td><td>SPLUS</td><td>SPLUS-s16s01</td><td>0:00:04</td><td>-20:14:34</td><td>0.01666666667</td><td>-20.24277778</td></tr>\n",
       "<tr><td>328.8692917</td><td>-20.8628889</td><td>276</td><td>SPLUS</td><td>SPLUS-s16s31</td><td>21:53:17</td><td>-20:14:34</td><td>328.3208333</td><td>-20.24277778</td></tr>\n",
       "<tr><td>12.2949167</td><td>-18.2951944</td><td>18</td><td>SPLUS</td><td>SPLUS-s15s10</td><td>0:51:26</td><td>-18:54:11</td><td>12.85833333</td><td>-18.90305556</td></tr>\n",
       "<tr><td>343.5445</td><td>-18.1571111</td><td>210</td><td>SPLUS</td><td>SPLUS-s14s42</td><td>22:51:58</td><td>-17:33:44</td><td>342.9916667</td><td>-17.56222222</td></tr>\n",
       "<tr><td>359.0346667</td><td>-17.23925</td><td>265</td><td>SPLUS</td><td>SPLUS-s14s53</td><td>23:54:20</td><td>-17:33:44</td><td>358.5833333</td><td>-17.56222222</td></tr>\n",
       "<tr><td>353.17325</td><td>-13.2091389</td><td>217</td><td>SPLUS</td><td>SPLUS-s11s21</td><td>23:32:12</td><td>-13:31:50</td><td>353.05</td><td>-13.53055556</td></tr>\n",
       "<tr><td>355.72325</td><td>-13.0584722</td><td>220</td><td>SPLUS</td><td>SPLUS-s11s23</td><td>23:43:19</td><td>-13:31:50</td><td>355.8291667</td><td>-13.53055556</td></tr>\n",
       "<tr><td>336.5065</td><td>-11.1270556</td><td>203</td><td>SPLUS</td><td>SPLUS-s09s10</td><td>22:26:12</td><td>-10:50:08</td><td>336.55</td><td>-10.83555556</td></tr>\n",
       "<tr><td>169.9204167</td><td>-6.509</td><td>101</td><td>SPLUS</td><td>SPLUS-n06s16</td><td>11:21:49</td><td>-6:46:57</td><td>170.4541667</td><td>-6.7825</td></tr>\n",
       "<tr><td>167.52375</td><td>-1.01125</td><td>97</td><td>SPLUS</td><td>SPLUS-n02s13</td><td>11:08:23</td><td>-1:21:33</td><td>167.0958333</td><td>-1.359166667</td></tr>\n",
       "</table></div>"
      ],
      "text/plain": [
       "<Table length=33>\n",
       "   RA_obj     DEC_obj   NAME_obj  PID   NAME_tile   RA_tile   DEC_tile   RA_d_tile    DEC_d_tile \n",
       "  float64     float64    int64    str5    str12       str8      str9      float64      float64   \n",
       "----------- ----------- -------- ----- ------------ -------- --------- ------------- ------------\n",
       "    332.132 -57.2888333      196 SPLUS SPLUS-s44s39 22:12:15 -56:59:06      333.0625      -56.985\n",
       " 23.1335417 -54.6343611       31 SPLUS SPLUS-s42s11  1:31:43 -54:25:34   22.92916667 -54.42611111\n",
       " 25.5689167 -54.4324167       35 SPLUS SPLUS-s42s12  1:40:54 -54:25:34        25.225 -54.42611111\n",
       "  2.8417917 -53.9554444        3 SPLUS SPLUS-s42s02  0:09:10 -54:25:34   2.291666667 -54.42611111\n",
       " 16.0889167 -51.0198333       24 SPLUS SPLUS-s39s09  1:07:22 -50:33:45   16.84166667     -50.5625\n",
       "  4.2522917 -51.0608611      227 SPLUS SPLUS-s39s03  0:16:51 -50:33:45        4.2125     -50.5625\n",
       "   358.7685 -50.0628611      225 SPLUS SPLUS-s39s57 23:51:35 -50:33:45   357.8958333     -50.5625\n",
       "  323.84725   -49.93475      263 SPLUS SPLUS-s39s41 21:36:51 -50:33:45      324.2125     -50.5625\n",
       "    347.446 -48.5678889      213 SPLUS SPLUS-s37s55 23:12:00 -47:58:16         348.0 -47.97111111\n",
       "    339.958 -47.4905278      206 SPLUS SPLUS-s37s51 22:40:00 -47:58:16         340.0 -47.97111111\n",
       "    351.915 -47.0478333      214 SPLUS SPLUS-s36s59 23:28:42 -46:40:19       352.175 -46.67194444\n",
       "   353.7625 -47.9746111      218 SPLUS SPLUS-s37s58 23:36:00 -47:58:16         354.0 -47.97111111\n",
       "   357.5285 -47.1721389      223 SPLUS SPLUS-s36s62 23:52:10 -46:40:19   358.0416667 -46.67194444\n",
       "  321.98475   -46.64275      262 SPLUS SPLUS-s36s44 21:31:18 -46:40:19       322.825 -46.67194444\n",
       " 12.2406667 -45.7701944       17 SPLUS SPLUS-s35s07  0:45:43 -45:22:11   11.42916667 -45.36972222\n",
       "  4.6199583 -42.1275556        7 SPLUS SPLUS-s32s04  0:21:30 -41:26:57         5.375 -41.44916667\n",
       "  3.3276667 -41.5796389        4 SPLUS SPLUS-s32s03  0:14:20 -41:26:57   3.583333333 -41.44916667\n",
       "   340.1345   -38.36875      207 SPLUS SPLUS-s30s59 22:37:19 -38:49:26   339.3291667 -38.82388889\n",
       "  354.88475 -38.6698333      219 SPLUS SPLUS-s30s68 23:39:20 -38:49:26   354.8333333 -38.82388889\n",
       "  330.62375 -22.8943333      195 SPLUS SPLUS-s18s32 22:02:56 -22:55:02   330.7333333 -22.91722222\n",
       "       5.67 -20.5771667       10 SPLUS SPLUS-s16s05  0:23:02 -20:14:34   5.758333333 -20.24277778\n",
       "   326.1695 -20.0708889      192 SPLUS SPLUS-s16s30 21:47:31 -20:14:34   326.8791667 -20.24277778\n",
       "   345.3735 -20.0430278      212 SPLUS SPLUS-s16s43 23:02:24 -20:14:34         345.6 -20.24277778\n",
       "   359.8595 -20.3931111      226 SPLUS SPLUS-s16s01  0:00:04 -20:14:34 0.01666666667 -20.24277778\n",
       "328.8692917 -20.8628889      276 SPLUS SPLUS-s16s31 21:53:17 -20:14:34   328.3208333 -20.24277778\n",
       " 12.2949167 -18.2951944       18 SPLUS SPLUS-s15s10  0:51:26 -18:54:11   12.85833333 -18.90305556\n",
       "   343.5445 -18.1571111      210 SPLUS SPLUS-s14s42 22:51:58 -17:33:44   342.9916667 -17.56222222\n",
       "359.0346667   -17.23925      265 SPLUS SPLUS-s14s53 23:54:20 -17:33:44   358.5833333 -17.56222222\n",
       "  353.17325 -13.2091389      217 SPLUS SPLUS-s11s21 23:32:12 -13:31:50        353.05 -13.53055556\n",
       "  355.72325 -13.0584722      220 SPLUS SPLUS-s11s23 23:43:19 -13:31:50   355.8291667 -13.53055556\n",
       "   336.5065 -11.1270556      203 SPLUS SPLUS-s09s10 22:26:12 -10:50:08        336.55 -10.83555556\n",
       "169.9204167      -6.509      101 SPLUS SPLUS-n06s16 11:21:49  -6:46:57   170.4541667      -6.7825\n",
       "  167.52375    -1.01125       97 SPLUS SPLUS-n02s13 11:08:23  -1:21:33   167.0958333 -1.359166667"
      ]
     },
     "execution_count": 9,
     "metadata": {},
     "output_type": "execute_result"
    }
   ],
   "source": [
    "table = Table.read('CGs_observed_priority.csv', format = 'ascii')\n",
    "table.remove_column('STATUS_1')\n",
    "table.remove_column('PRIORITY')\n",
    "table"
   ]
  },
  {
   "cell_type": "code",
   "execution_count": 10,
   "id": "f4d0d277",
   "metadata": {},
   "outputs": [],
   "source": [
    "table.write('CGs_to_reduce.csv', overwrite = True)"
   ]
  }
 ],
 "metadata": {
  "kernelspec": {
   "display_name": "Python 3 (ipykernel)",
   "language": "python",
   "name": "python3"
  },
  "language_info": {
   "codemirror_mode": {
    "name": "ipython",
    "version": 3
   },
   "file_extension": ".py",
   "mimetype": "text/x-python",
   "name": "python",
   "nbconvert_exporter": "python",
   "pygments_lexer": "ipython3",
   "version": "3.11.4"
  }
 },
 "nbformat": 4,
 "nbformat_minor": 5
}
