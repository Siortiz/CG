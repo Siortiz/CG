{
 "cells": [
  {
   "cell_type": "code",
   "execution_count": 7,
   "id": "d0ec4553",
   "metadata": {},
   "outputs": [],
   "source": [
    "import pandas as pd\n",
    "import os\n",
    "from astropy.table import Table\n",
    "import numpy as np"
   ]
  },
  {
   "cell_type": "code",
   "execution_count": 4,
   "id": "9463599e",
   "metadata": {
    "scrolled": true
   },
   "outputs": [
    {
     "data": {
      "text/plain": [
       "0     NaN\n",
       "1     NaN\n",
       "2     NaN\n",
       "3     NaN\n",
       "4     NaN\n",
       "       ..\n",
       "148   NaN\n",
       "149   NaN\n",
       "150   NaN\n",
       "151   NaN\n",
       "152   NaN\n",
       "Name: Groups, Length: 153, dtype: float64"
      ]
     },
     "execution_count": 4,
     "metadata": {},
     "output_type": "execute_result"
    }
   ],
   "source": [
    "\n",
    "# Directorio donde están ubicadas las tablas\n",
    "directorio = '/home/seba/Documents/CG/Observaciones_SPLUS/Galaxies/'\n",
    "\n",
    "# Lista para almacenar los DataFrames de cada tabla\n",
    "dataframes = []\n",
    "\n",
    "# Itera sobre cada archivo en el directorio\n",
    "for archivo in os.listdir(directorio):\n",
    "    if archivo.endswith('.csv'):  # Asegúrate de que solo lea archivos CSV\n",
    "        ruta_archivo = os.path.join(directorio, archivo)\n",
    "        # Lee el archivo CSV en un DataFrame y agrégalo a la lista\n",
    "        df = pd.read_csv(ruta_archivo)\n",
    "        dataframes.append(df)\n",
    "\n",
    "# Concatena todos los DataFrames en uno solo\n",
    "tabla_final = pd.concat(dataframes, ignore_index=True)\n",
    "#tabla_final = tabla_final.rename(columns={'Group': 'Groups'})\n",
    "# Guarda la tabla final en un archivo CSV\n",
    "#tabla_final.to_csv('Input_MorphoPlus.csv', index=False)\n",
    "\n",
    "# Muestra la información de la tabla final\n",
    "tabla_final['Groups']\n"
   ]
  },
  {
   "cell_type": "code",
   "execution_count": 10,
   "id": "d508bdf7",
   "metadata": {},
   "outputs": [],
   "source": [
    "t = Table.read('Input_MorphoPlus.csv', format='ascii')\n",
    "t = t[np.argsort(t['Groups'])]\n",
    "t.write('Input_MorphoPlus.csv', format='csv', overwrite=True)"
   ]
  }
 ],
 "metadata": {
  "kernelspec": {
   "display_name": "Python 3 (ipykernel)",
   "language": "python",
   "name": "python3"
  },
  "language_info": {
   "codemirror_mode": {
    "name": "ipython",
    "version": 3
   },
   "file_extension": ".py",
   "mimetype": "text/x-python",
   "name": "python",
   "nbconvert_exporter": "python",
   "pygments_lexer": "ipython3",
   "version": "3.11.4"
  }
 },
 "nbformat": 4,
 "nbformat_minor": 5
}
