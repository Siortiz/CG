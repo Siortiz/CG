{
 "cells": [
  {
   "cell_type": "code",
   "execution_count": 10,
   "id": "ec042f05",
   "metadata": {},
   "outputs": [],
   "source": [
    "from astropy.table import Table, vstack\n",
    "from astroquery.vizier import Vizier\n",
    "import astropy.units as u\n",
    "import astropy.coordinates as coords\n",
    "import pandas as pd\n",
    "import numpy as np"
   ]
  },
  {
   "cell_type": "code",
   "execution_count": 5,
   "id": "166bef1e",
   "metadata": {},
   "outputs": [],
   "source": [
    "# Convertir a Astropy Table para facilitar el uso con Astroquery\n",
    "table = pd.read_csv('/home/seba/Documents/CG/Hernandez-Fernandez/Galaxy_catalogue.csv')\n",
    "coords_table = Table.from_pandas(table)"
   ]
  },
  {
   "cell_type": "code",
   "execution_count": 19,
   "id": "9c6f9fe9",
   "metadata": {},
   "outputs": [
    {
     "name": "stderr",
     "output_type": "stream",
     "text": [
      "WARNING: MergeConflictWarning: Cannot merge meta key 'null' types <class 'float'> and <class 'float'>, choosing null=nan [astropy.utils.metadata.merge]\n"
     ]
    },
    {
     "name": "stdout",
     "output_type": "stream",
     "text": [
      "  RAJ2000     DEJ2000   W1mag  W2mag  W3mag  W4mag \n",
      "    deg         deg      mag    mag    mag    mag  \n",
      "----------- ----------- ------ ------ ------ ------\n",
      "  0.0793772 -22.5761554 15.130 14.868 11.450  8.595\n",
      "  0.0912074 -22.5879573 16.224 16.048 12.339  8.382\n",
      "  0.1004063 -22.5888837 14.308 14.103 10.370  8.101\n",
      "  0.1115195 -22.5959599 15.558 15.137 11.501  8.356\n",
      "  0.3129671  13.1131761 14.199 14.058 11.020  8.362\n",
      "  0.3331462  13.1112154 10.273 10.167  6.922  4.483\n",
      "  0.3726389  13.0985394 16.451 16.545 12.519  8.836\n",
      "  2.8351978 -53.9557714 16.238 15.989 12.865  8.849\n",
      "  2.8378998 -53.9811095 15.083 14.892 10.865  8.435\n",
      "  2.8428158 -53.9539555 16.748 16.959 12.635  9.165\n",
      "  2.8524137 -53.9310158 13.288 13.123  9.227  7.371\n",
      "  3.3139385 -41.5710571 14.833 14.834 11.616  9.038\n",
      "  3.3172848 -41.5955268 13.845 13.449  9.311  7.480\n",
      "  3.3265429 -41.5732188 12.322 12.276 12.095  9.509\n",
      "  3.3528167 -41.5784179 14.255 14.085 10.580  8.880\n",
      "  3.5174332 -22.5528013 14.094 13.723 10.217  8.555\n",
      "  3.5320742 -22.5630002 15.013 14.867 12.086  8.988\n",
      "  4.3706270 -69.1390454 13.928 13.656 10.912  8.647\n",
      "  4.4334557 -69.1418033 14.723 14.178 10.588  8.566\n",
      "  4.4729962 -69.1525538 16.284 16.554 12.981  8.942\n",
      "  4.4971428 -69.1620508 14.523 14.413 10.985  8.576\n",
      "  4.6039563 -42.1263787 15.684 15.141 11.031  8.988\n",
      "  4.6103796 -42.1377054 14.037 13.880 10.615  8.673\n",
      "        ...         ...    ...    ...    ...    ...\n",
      "185.2959614  49.4577089 16.177 15.951 12.427  8.491\n",
      "185.3059644  49.4748647 13.102 13.056 10.068  8.678\n",
      "185.3367471  49.4432208 15.526 15.341 11.854  8.864\n",
      "185.3372030  49.4645905 14.852 14.754 11.455  8.653\n",
      "230.4859781   3.5691399 14.096 13.823 10.000  8.058\n",
      "230.4894567   3.5560277 14.969 14.911 10.840  8.908\n",
      "230.4985038   3.5597736 12.298 11.789  8.987  6.274\n",
      "230.4983433   3.5649833 13.519 13.256  9.007  6.867\n",
      "230.5085673   3.5652003 14.046 13.829 10.055  7.368\n",
      "328.8524337 -20.8626817 15.404 15.258 11.225  8.470\n",
      "328.8530504 -20.8861825 15.142 13.633 10.417  7.913\n",
      "328.8585654 -20.8565300 14.095 13.944 10.479  8.419\n",
      "328.8657895 -20.8588119 15.143 15.051 11.732  8.598\n",
      "328.8827440 -20.8591324 12.103 11.564  8.663  5.980\n",
      "328.9038546 -20.8540126 15.053 14.794 11.396  8.585\n",
      "196.8031203  13.6467633 15.106 14.961 11.938  9.105\n",
      "196.8227359  13.6466408 14.401 14.216 10.933  8.997\n",
      "196.8598864  13.6414080 14.745 14.560 10.989  8.808\n",
      "349.1759998   9.8378956 16.073 16.352 11.851  8.735\n",
      "349.1778179   9.7919858 12.908 12.810  9.018  7.021\n",
      "349.1798249   9.8159567 15.655 15.487 11.819  8.816\n",
      "349.1960731   9.8122298 14.330 14.235 10.279  7.820\n",
      "349.1989254   9.8045910 13.572 13.306  9.268  6.353\n",
      "Length = 879 rows\n"
     ]
    }
   ],
   "source": [
    "# Define el catálogo\n",
    "catalog = \"II/328/allwise\"\n",
    "\n",
    "# Configura VizieR\n",
    "v = Vizier(columns=['RAJ2000', 'DEJ2000', 'W1mag', 'W2mag', 'W3mag', 'W4mag'],\n",
    "           row_limit=-1)  # Sin límite de filas, ajusta según necesidad\n",
    "\n",
    "# Lista para almacenar resultados\n",
    "results = []\n",
    "\n",
    "# Bucle sobre cada fila en la tabla de coordenadas\n",
    "for row in coords_table:\n",
    "    c = coords.SkyCoord(ra=row['_RAJ2000']*u.degree, dec=row['_DEJ2000']*u.degree, frame='icrs')\n",
    "    result = v.query_region(c, radius=2*u.arcsec, catalog=catalog)\n",
    "    if result:\n",
    "        if isinstance(result, list):\n",
    "            result = result[0]\n",
    "        results.append(result)\n",
    "\n",
    "if results:\n",
    "    combined_results = vstack(results)\n",
    "    # Imprime la tabla combinada para revisarla\n",
    "    print(combined_results)\n",
    "    \n",
    "    combined_results.write('wise_data.csv', format='csv')\n",
    "else:\n",
    "    print('No se obtuvieron resultados')"
   ]
  },
  {
   "cell_type": "code",
   "execution_count": 12,
   "id": "80482866",
   "metadata": {},
   "outputs": [],
   "source": [
    "t = Table.read('Galaxies_IR_wise', format='ascii')\n",
    "\n",
    "grouped_t = t.group_by('Group')\n",
    "\n",
    "valid_groups=[]\n",
    "\n",
    "for group in grouped_t.groups:\n",
    "    if any (group['zmemb'] != 0):\n",
    "        valid_groups.append(group['Group'][0])\n",
    "\n",
    "filtered_table = t[np.isin(t['Group'], valid_groups)]\n"
   ]
  },
  {
   "cell_type": "markdown",
   "id": "4b29001b",
   "metadata": {},
   "source": [
    "$log SFR_{NUV} (M_{\\odot}yr^{-1}) = log L_{NUV}, corr(L_{\\odot}) -9.33$\n",
    "\n",
    "\n",
    "$log SFR_{FUV} (M_{\\odot}yr^{-1}) = log L_{FUV}, corr(L_{\\odot}) -9.51$"
   ]
  }
 ],
 "metadata": {
  "kernelspec": {
   "display_name": "Python 3 (ipykernel)",
   "language": "python",
   "name": "python3"
  },
  "language_info": {
   "codemirror_mode": {
    "name": "ipython",
    "version": 3
   },
   "file_extension": ".py",
   "mimetype": "text/x-python",
   "name": "python",
   "nbconvert_exporter": "python",
   "pygments_lexer": "ipython3",
   "version": "3.11.4"
  }
 },
 "nbformat": 4,
 "nbformat_minor": 5
}
