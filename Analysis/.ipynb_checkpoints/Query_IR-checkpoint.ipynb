{
 "cells": [
  {
   "cell_type": "code",
   "execution_count": 1,
   "id": "ec042f05",
   "metadata": {},
   "outputs": [],
   "source": [
    "from astropy.table import Table, vstack\n",
    "from astroquery.vizier import Vizier\n",
    "import astropy.units as u\n",
    "import astropy.coordinates as coords\n",
    "import pandas as pd\n",
    "import numpy as np"
   ]
  },
  {
   "cell_type": "code",
   "execution_count": 2,
   "id": "166bef1e",
   "metadata": {},
   "outputs": [],
   "source": [
    "# Convertir a Astropy Table para facilitar el uso con Astroquery\n",
    "table = pd.read_csv('/home/seba/Documents/CG/Hernandez-Fernandez/Galaxy_catalogue.csv')\n",
    "coords_table = Table.from_pandas(table)"
   ]
  },
  {
   "cell_type": "code",
   "execution_count": 3,
   "id": "9c6f9fe9",
   "metadata": {},
   "outputs": [
    {
     "name": "stderr",
     "output_type": "stream",
     "text": [
      "WARNING: MergeConflictWarning: Cannot merge meta key 'null' types <class 'float'> and <class 'float'>, choosing null=nan [astropy.utils.metadata.merge]\n"
     ]
    },
    {
     "name": "stdout",
     "output_type": "stream",
     "text": [
      "  RAJ2000     DEJ2000   W1mag  W2mag  W3mag  W4mag \n",
      "    deg         deg      mag    mag    mag    mag  \n",
      "----------- ----------- ------ ------ ------ ------\n",
      "  0.0793772 -22.5761554 15.130 14.868 11.450  8.595\n",
      "  0.0912074 -22.5879573 16.224 16.048 12.339  8.382\n",
      "  0.1004063 -22.5888837 14.308 14.103 10.370  8.101\n",
      "  0.1115195 -22.5959599 15.558 15.137 11.501  8.356\n",
      "  0.3129671  13.1131761 14.199 14.058 11.020  8.362\n",
      "  0.3331462  13.1112154 10.273 10.167  6.922  4.483\n",
      "  0.3726389  13.0985394 16.451 16.545 12.519  8.836\n",
      "  2.8351978 -53.9557714 16.238 15.989 12.865  8.849\n",
      "  2.8378998 -53.9811095 15.083 14.892 10.865  8.435\n",
      "        ...         ...    ...    ...    ...    ...\n",
      "328.8827440 -20.8591324 12.103 11.564  8.663  5.980\n",
      "328.9038546 -20.8540126 15.053 14.794 11.396  8.585\n",
      "196.8031203  13.6467633 15.106 14.961 11.938  9.105\n",
      "196.8227359  13.6466408 14.401 14.216 10.933  8.997\n",
      "196.8598864  13.6414080 14.745 14.560 10.989  8.808\n",
      "349.1759998   9.8378956 16.073 16.352 11.851  8.735\n",
      "349.1778179   9.7919858 12.908 12.810  9.018  7.021\n",
      "349.1798249   9.8159567 15.655 15.487 11.819  8.816\n",
      "349.1960731   9.8122298 14.330 14.235 10.279  7.820\n",
      "349.1989254   9.8045910 13.572 13.306  9.268  6.353\n",
      "Length = 879 rows\n"
     ]
    },
    {
     "ename": "OSError",
     "evalue": "File wise_data.csv already exists. If you mean to replace it then use the argument \"overwrite=True\".",
     "output_type": "error",
     "traceback": [
      "\u001b[0;31m---------------------------------------------------------------------------\u001b[0m",
      "\u001b[0;31mOSError\u001b[0m                                   Traceback (most recent call last)",
      "Cell \u001b[0;32mIn[3], line 25\u001b[0m\n\u001b[1;32m     22\u001b[0m     \u001b[38;5;66;03m# Imprime la tabla combinada para revisarla\u001b[39;00m\n\u001b[1;32m     23\u001b[0m     \u001b[38;5;28mprint\u001b[39m(combined_results)\n\u001b[0;32m---> 25\u001b[0m     combined_results\u001b[38;5;241m.\u001b[39mwrite(\u001b[38;5;124m'\u001b[39m\u001b[38;5;124mwise_data.csv\u001b[39m\u001b[38;5;124m'\u001b[39m, \u001b[38;5;28mformat\u001b[39m\u001b[38;5;241m=\u001b[39m\u001b[38;5;124m'\u001b[39m\u001b[38;5;124mcsv\u001b[39m\u001b[38;5;124m'\u001b[39m)\n\u001b[1;32m     26\u001b[0m \u001b[38;5;28;01melse\u001b[39;00m:\n\u001b[1;32m     27\u001b[0m     \u001b[38;5;28mprint\u001b[39m(\u001b[38;5;124m'\u001b[39m\u001b[38;5;124mNo se obtuvieron resultados\u001b[39m\u001b[38;5;124m'\u001b[39m)\n",
      "File \u001b[0;32m~/anaconda3/lib/python3.11/site-packages/astropy/table/connect.py:130\u001b[0m, in \u001b[0;36mTableWrite.__call__\u001b[0;34m(self, serialize_method, *args, **kwargs)\u001b[0m\n\u001b[1;32m    128\u001b[0m instance \u001b[38;5;241m=\u001b[39m \u001b[38;5;28mself\u001b[39m\u001b[38;5;241m.\u001b[39m_instance\n\u001b[1;32m    129\u001b[0m \u001b[38;5;28;01mwith\u001b[39;00m serialize_method_as(instance, serialize_method):\n\u001b[0;32m--> 130\u001b[0m     \u001b[38;5;28mself\u001b[39m\u001b[38;5;241m.\u001b[39mregistry\u001b[38;5;241m.\u001b[39mwrite(instance, \u001b[38;5;241m*\u001b[39margs, \u001b[38;5;241m*\u001b[39m\u001b[38;5;241m*\u001b[39mkwargs)\n",
      "File \u001b[0;32m~/anaconda3/lib/python3.11/site-packages/astropy/io/registry/core.py:386\u001b[0m, in \u001b[0;36mUnifiedOutputRegistry.write\u001b[0;34m(self, data, format, *args, **kwargs)\u001b[0m\n\u001b[1;32m    381\u001b[0m     \u001b[38;5;28mformat\u001b[39m \u001b[38;5;241m=\u001b[39m \u001b[38;5;28mself\u001b[39m\u001b[38;5;241m.\u001b[39m_get_valid_format(\n\u001b[1;32m    382\u001b[0m         \u001b[38;5;124m\"\u001b[39m\u001b[38;5;124mwrite\u001b[39m\u001b[38;5;124m\"\u001b[39m, data\u001b[38;5;241m.\u001b[39m\u001b[38;5;18m__class__\u001b[39m, path, fileobj, args, kwargs\n\u001b[1;32m    383\u001b[0m     )\n\u001b[1;32m    385\u001b[0m writer \u001b[38;5;241m=\u001b[39m \u001b[38;5;28mself\u001b[39m\u001b[38;5;241m.\u001b[39mget_writer(\u001b[38;5;28mformat\u001b[39m, data\u001b[38;5;241m.\u001b[39m\u001b[38;5;18m__class__\u001b[39m)\n\u001b[0;32m--> 386\u001b[0m \u001b[38;5;28;01mreturn\u001b[39;00m writer(data, \u001b[38;5;241m*\u001b[39margs, \u001b[38;5;241m*\u001b[39m\u001b[38;5;241m*\u001b[39mkwargs)\n",
      "File \u001b[0;32m~/anaconda3/lib/python3.11/site-packages/astropy/io/ascii/connect.py:28\u001b[0m, in \u001b[0;36mio_write\u001b[0;34m(format, table, filename, **kwargs)\u001b[0m\n\u001b[1;32m     26\u001b[0m     \u001b[38;5;28mformat\u001b[39m \u001b[38;5;241m=\u001b[39m re\u001b[38;5;241m.\u001b[39msub(\u001b[38;5;124mr\u001b[39m\u001b[38;5;124m\"\u001b[39m\u001b[38;5;124m^ascii\u001b[39m\u001b[38;5;124m\\\u001b[39m\u001b[38;5;124m.\u001b[39m\u001b[38;5;124m\"\u001b[39m, \u001b[38;5;124m\"\u001b[39m\u001b[38;5;124m\"\u001b[39m, \u001b[38;5;28mformat\u001b[39m)\n\u001b[1;32m     27\u001b[0m     kwargs[\u001b[38;5;124m\"\u001b[39m\u001b[38;5;124mformat\u001b[39m\u001b[38;5;124m\"\u001b[39m] \u001b[38;5;241m=\u001b[39m \u001b[38;5;28mformat\u001b[39m\n\u001b[0;32m---> 28\u001b[0m \u001b[38;5;28;01mreturn\u001b[39;00m write(table, filename, \u001b[38;5;241m*\u001b[39m\u001b[38;5;241m*\u001b[39mkwargs)\n",
      "File \u001b[0;32m~/anaconda3/lib/python3.11/site-packages/astropy/utils/decorators.py:603\u001b[0m, in \u001b[0;36mdeprecated_renamed_argument.<locals>.decorator.<locals>.wrapper\u001b[0;34m(*args, **kwargs)\u001b[0m\n\u001b[1;32m    600\u001b[0m             msg \u001b[38;5;241m+\u001b[39m\u001b[38;5;241m=\u001b[39m \u001b[38;5;124mf\u001b[39m\u001b[38;5;124m\"\u001b[39m\u001b[38;5;130;01m\\n\u001b[39;00m\u001b[38;5;124m        Use \u001b[39m\u001b[38;5;132;01m{\u001b[39;00malternative\u001b[38;5;132;01m}\u001b[39;00m\u001b[38;5;124m instead.\u001b[39m\u001b[38;5;124m\"\u001b[39m\n\u001b[1;32m    601\u001b[0m         warnings\u001b[38;5;241m.\u001b[39mwarn(msg, warning_type, stacklevel\u001b[38;5;241m=\u001b[39m\u001b[38;5;241m2\u001b[39m)\n\u001b[0;32m--> 603\u001b[0m \u001b[38;5;28;01mreturn\u001b[39;00m function(\u001b[38;5;241m*\u001b[39margs, \u001b[38;5;241m*\u001b[39m\u001b[38;5;241m*\u001b[39mkwargs)\n",
      "File \u001b[0;32m~/anaconda3/lib/python3.11/site-packages/astropy/io/ascii/ui.py:991\u001b[0m, in \u001b[0;36mwrite\u001b[0;34m(table, output, format, Writer, fast_writer, overwrite, **kwargs)\u001b[0m\n\u001b[1;32m    989\u001b[0m     output \u001b[38;5;241m=\u001b[39m os\u001b[38;5;241m.\u001b[39mpath\u001b[38;5;241m.\u001b[39mexpanduser(output)\n\u001b[1;32m    990\u001b[0m     \u001b[38;5;28;01mif\u001b[39;00m \u001b[38;5;129;01mnot\u001b[39;00m overwrite \u001b[38;5;129;01mand\u001b[39;00m os\u001b[38;5;241m.\u001b[39mpath\u001b[38;5;241m.\u001b[39mlexists(output):\n\u001b[0;32m--> 991\u001b[0m         \u001b[38;5;28;01mraise\u001b[39;00m \u001b[38;5;167;01mOSError\u001b[39;00m(NOT_OVERWRITING_MSG\u001b[38;5;241m.\u001b[39mformat(output))\n\u001b[1;32m    993\u001b[0m \u001b[38;5;28;01mif\u001b[39;00m output \u001b[38;5;129;01mis\u001b[39;00m \u001b[38;5;28;01mNone\u001b[39;00m:\n\u001b[1;32m    994\u001b[0m     output \u001b[38;5;241m=\u001b[39m sys\u001b[38;5;241m.\u001b[39mstdout\n",
      "\u001b[0;31mOSError\u001b[0m: File wise_data.csv already exists. If you mean to replace it then use the argument \"overwrite=True\"."
     ]
    }
   ],
   "source": [
    "# Define el catálogo\n",
    "catalog = \"II/328/allwise\"\n",
    "\n",
    "# Configura VizieR\n",
    "v = Vizier(columns=['RAJ2000', 'DEJ2000', 'W1mag', 'W2mag', 'W3mag', 'W4mag'],\n",
    "           row_limit=-1)  # Sin límite de filas, ajusta según necesidad\n",
    "\n",
    "# Lista para almacenar resultados\n",
    "results = []\n",
    "\n",
    "# Bucle sobre cada fila en la tabla de coordenadas\n",
    "for row in coords_table:\n",
    "    c = coords.SkyCoord(ra=row['_RAJ2000']*u.degree, dec=row['_DEJ2000']*u.degree, frame='icrs')\n",
    "    result = v.query_region(c, radius=2*u.arcsec, catalog=catalog)\n",
    "    if result:\n",
    "        if isinstance(result, list):\n",
    "            result = result[0]\n",
    "        results.append(result)\n",
    "\n",
    "if results:\n",
    "    combined_results = vstack(results)\n",
    "    # Imprime la tabla combinada para revisarla\n",
    "    print(combined_results)\n",
    "    \n",
    "    combined_results.write('wise_data.csv', format='csv')\n",
    "else:\n",
    "    print('No se obtuvieron resultados')"
   ]
  },
  {
   "cell_type": "code",
   "execution_count": 4,
   "id": "80482866",
   "metadata": {},
   "outputs": [
    {
     "data": {
      "text/html": [
       "<div><i>Table length=662</i>\n",
       "<table id=\"table139668781284688\" class=\"table-striped table-bordered table-condensed\">\n",
       "<thead><tr><th>RAJ2000_1</th><th>DEJ2000_1</th><th>W1mag</th><th>W2mag</th><th>W3mag</th><th>W4mag</th><th>_RAJ2000</th><th>_DEJ2000</th><th>Group</th><th>Gal</th><th>RAJ2000_2</th><th>DEJ2000_2</th><th>zmemb</th><th>gmemb</th><th>FUV</th><th>NUV</th><th>Simbad</th><th>Separation</th></tr></thead>\n",
       "<thead><tr><th>float64</th><th>float64</th><th>float64</th><th>float64</th><th>float64</th><th>float64</th><th>float64</th><th>float64</th><th>int64</th><th>int64</th><th>str11</th><th>str11</th><th>float64</th><th>int64</th><th>float64</th><th>float64</th><th>str6</th><th>float64</th></tr></thead>\n",
       "<tr><td>0.3129671</td><td>13.1131761</td><td>14.199</td><td>14.058</td><td>11.02</td><td>8.362</td><td>0.3132083</td><td>13.1134167</td><td>2</td><td>1</td><td>00 01 15.17</td><td>+13 06 48.3</td><td>0.018646</td><td>--</td><td>18.5922</td><td>18.186</td><td>Simbad</td><td>1.2105382819804726</td></tr>\n",
       "<tr><td>0.3331462</td><td>13.1112154</td><td>10.273</td><td>10.167</td><td>6.922</td><td>4.483</td><td>0.333625</td><td>13.1111944</td><td>2</td><td>2</td><td>00 01 20.07</td><td>+13 06 40.3</td><td>0.017899</td><td>--</td><td>16.7561</td><td>16.2019</td><td>Simbad</td><td>1.680447869936333</td></tr>\n",
       "<tr><td>0.3726389</td><td>13.0985394</td><td>16.451</td><td>16.545</td><td>12.519</td><td>8.836</td><td>0.373</td><td>13.0985833</td><td>2</td><td>4</td><td>00 01 29.52</td><td>+13 05 54.9</td><td>0.0</td><td>--</td><td>19.281</td><td>19.2182</td><td>Simbad</td><td>1.275962397970816</td></tr>\n",
       "<tr><td>2.8351978</td><td>-53.9557714</td><td>16.238</td><td>15.989</td><td>12.865</td><td>8.849</td><td>2.8349167</td><td>-53.956</td><td>3</td><td>1</td><td>00 11 20.38</td><td>-53 57 21.6</td><td>0.0</td><td>--</td><td>20.2101</td><td>20.5555</td><td>Simbad</td><td>1.015784575930729</td></tr>\n",
       "<tr><td>2.8378998</td><td>-53.9811095</td><td>15.083</td><td>14.892</td><td>10.865</td><td>8.435</td><td>2.8379583</td><td>-53.9808889</td><td>3</td><td>2</td><td>00 11 21.11</td><td>-53 58 51.2</td><td>0.0</td><td>--</td><td>20.0492</td><td>19.6655</td><td>Simbad</td><td>0.8037583338164712</td></tr>\n",
       "<tr><td>2.8428158</td><td>-53.9539555</td><td>16.748</td><td>16.959</td><td>12.635</td><td>9.165</td><td>2.842</td><td>-53.9536944</td><td>3</td><td>3</td><td>00 11 22.08</td><td>-53 57 13.3</td><td>0.0</td><td>--</td><td>19.9107</td><td>19.7047</td><td>Simbad</td><td>1.9672551795861954</td></tr>\n",
       "<tr><td>2.8524137</td><td>-53.9310158</td><td>13.288</td><td>13.123</td><td>9.227</td><td>7.371</td><td>2.8522917</td><td>-53.9311944</td><td>3</td><td>4</td><td>00 11 24.55</td><td>-53 55 52.3</td><td>0.041719</td><td>--</td><td>17.7296</td><td>17.3873</td><td>Simbad</td><td>0.6930096626405061</td></tr>\n",
       "<tr><td>4.6039563</td><td>-42.1263787</td><td>15.684</td><td>15.141</td><td>11.031</td><td>8.988</td><td>4.604</td><td>-42.1265</td><td>7</td><td>1</td><td>00 18 24.96</td><td>-42 07 35.4</td><td>0.0</td><td>--</td><td>20.1586</td><td>19.8188</td><td>Simbad</td><td>0.45199933777578816</td></tr>\n",
       "<tr><td>4.6103796</td><td>-42.1377054</td><td>14.037</td><td>13.88</td><td>10.615</td><td>8.673</td><td>4.6105</td><td>-42.1378056</td><td>7</td><td>2</td><td>00 18 26.52</td><td>-42 08 16.1</td><td>0.093258</td><td>--</td><td>20.1218</td><td>19.7196</td><td>Simbad</td><td>0.483139314573345</td></tr>\n",
       "<tr><td>...</td><td>...</td><td>...</td><td>...</td><td>...</td><td>...</td><td>...</td><td>...</td><td>...</td><td>...</td><td>...</td><td>...</td><td>...</td><td>...</td><td>...</td><td>...</td><td>...</td><td>...</td></tr>\n",
       "<tr><td>230.5085673</td><td>3.5652003</td><td>14.046</td><td>13.829</td><td>10.055</td><td>7.368</td><td>230.508875</td><td>3.5654722</td><td>275</td><td>6</td><td>15 22 02.13</td><td>+03 33 55.7</td><td>0.085411</td><td>--</td><td>19.7754</td><td>19.5434</td><td>Simbad</td><td>1.4766266074409347</td></tr>\n",
       "<tr><td>328.8524337</td><td>-20.8626817</td><td>15.404</td><td>15.258</td><td>11.225</td><td>8.47</td><td>328.8524167</td><td>-20.8626944</td><td>276</td><td>1</td><td>21 55 24.58</td><td>-20 51 45.7</td><td>0.0</td><td>--</td><td>19.6331</td><td>19.3956</td><td>Simbad</td><td>0.07321701153913789</td></tr>\n",
       "<tr><td>328.8530504</td><td>-20.8861825</td><td>15.142</td><td>13.633</td><td>10.417</td><td>7.913</td><td>328.853</td><td>-20.8862222</td><td>276</td><td>2</td><td>21 55 24.72</td><td>-20 53 10.4</td><td>0.38</td><td>--</td><td>20.0664</td><td>19.2073</td><td>Simbad</td><td>0.2217258607504699</td></tr>\n",
       "<tr><td>328.8585654</td><td>-20.85653</td><td>14.095</td><td>13.944</td><td>10.479</td><td>8.419</td><td>328.8585</td><td>-20.8563333</td><td>276</td><td>3</td><td>21 55 26.04</td><td>-20 51 22.8</td><td>0.0</td><td>--</td><td>18.8517</td><td>18.2243</td><td>Simbad</td><td>0.7415117078141115</td></tr>\n",
       "<tr><td>328.8657895</td><td>-20.8588119</td><td>15.143</td><td>15.051</td><td>11.732</td><td>8.598</td><td>328.865625</td><td>-20.8588333</td><td>276</td><td>4</td><td>21 55 27.75</td><td>-20 51 31.8</td><td>0.0</td><td>--</td><td>19.8329</td><td>19.6747</td><td>Simbad</td><td>0.5587244135618409</td></tr>\n",
       "<tr><td>328.882744</td><td>-20.8591324</td><td>12.103</td><td>11.564</td><td>8.663</td><td>5.98</td><td>328.8825833</td><td>-20.8591667</td><td>276</td><td>5</td><td>21 55 31.82</td><td>-20 51 33.0</td><td>0.066913</td><td>--</td><td>17.8721</td><td>17.6667</td><td>Simbad</td><td>0.5545258255691065</td></tr>\n",
       "<tr><td>328.9038546</td><td>-20.8540126</td><td>15.053</td><td>14.794</td><td>11.396</td><td>8.585</td><td>328.9036667</td><td>-20.8541389</td><td>276</td><td>6</td><td>21 55 36.88</td><td>-20 51 14.9</td><td>0.0</td><td>--</td><td>19.8348</td><td>19.709</td><td>Simbad</td><td>0.7786641137576128</td></tr>\n",
       "<tr><td>196.8031203</td><td>13.6467633</td><td>15.106</td><td>14.961</td><td>11.938</td><td>9.105</td><td>196.8030833</td><td>13.6468056</td><td>279</td><td>3</td><td>13 07 12.74</td><td>+13 38 48.5</td><td>0.100102</td><td>--</td><td>20.2559</td><td>19.7801</td><td>Simbad</td><td>0.19985946347561312</td></tr>\n",
       "<tr><td>196.8227359</td><td>13.6466408</td><td>14.401</td><td>14.216</td><td>10.933</td><td>8.997</td><td>196.8231667</td><td>13.6465833</td><td>279</td><td>4</td><td>13 07 17.56</td><td>+13 38 47.7</td><td>0.026784</td><td>--</td><td>18.6093</td><td>18.0461</td><td>Simbad</td><td>1.5212470144991623</td></tr>\n",
       "<tr><td>196.8598864</td><td>13.641408</td><td>14.745</td><td>14.56</td><td>10.989</td><td>8.808</td><td>196.8599583</td><td>13.6415556</td><td>279</td><td>7</td><td>13 07 26.39</td><td>+13 38 29.6</td><td>0.063226</td><td>--</td><td>19.2524</td><td>18.8211</td><td>Simbad</td><td>0.5878902473399855</td></tr>\n",
       "</table></div>"
      ],
      "text/plain": [
       "<Table length=662>\n",
       " RAJ2000_1   DEJ2000_1   W1mag   W2mag  ...   NUV   Simbad      Separation    \n",
       "  float64     float64   float64 float64 ... float64  str6        float64      \n",
       "----------- ----------- ------- ------- ... ------- ------ -------------------\n",
       "  0.3129671  13.1131761  14.199  14.058 ...  18.186 Simbad  1.2105382819804726\n",
       "  0.3331462  13.1112154  10.273  10.167 ... 16.2019 Simbad   1.680447869936333\n",
       "  0.3726389  13.0985394  16.451  16.545 ... 19.2182 Simbad   1.275962397970816\n",
       "  2.8351978 -53.9557714  16.238  15.989 ... 20.5555 Simbad   1.015784575930729\n",
       "  2.8378998 -53.9811095  15.083  14.892 ... 19.6655 Simbad  0.8037583338164712\n",
       "  2.8428158 -53.9539555  16.748  16.959 ... 19.7047 Simbad  1.9672551795861954\n",
       "  2.8524137 -53.9310158  13.288  13.123 ... 17.3873 Simbad  0.6930096626405061\n",
       "  4.6039563 -42.1263787  15.684  15.141 ... 19.8188 Simbad 0.45199933777578816\n",
       "  4.6103796 -42.1377054  14.037   13.88 ... 19.7196 Simbad   0.483139314573345\n",
       "        ...         ...     ...     ... ...     ...    ...                 ...\n",
       "230.5085673   3.5652003  14.046  13.829 ... 19.5434 Simbad  1.4766266074409347\n",
       "328.8524337 -20.8626817  15.404  15.258 ... 19.3956 Simbad 0.07321701153913789\n",
       "328.8530504 -20.8861825  15.142  13.633 ... 19.2073 Simbad  0.2217258607504699\n",
       "328.8585654   -20.85653  14.095  13.944 ... 18.2243 Simbad  0.7415117078141115\n",
       "328.8657895 -20.8588119  15.143  15.051 ... 19.6747 Simbad  0.5587244135618409\n",
       " 328.882744 -20.8591324  12.103  11.564 ... 17.6667 Simbad  0.5545258255691065\n",
       "328.9038546 -20.8540126  15.053  14.794 ...  19.709 Simbad  0.7786641137576128\n",
       "196.8031203  13.6467633  15.106  14.961 ... 19.7801 Simbad 0.19985946347561312\n",
       "196.8227359  13.6466408  14.401  14.216 ... 18.0461 Simbad  1.5212470144991623\n",
       "196.8598864   13.641408  14.745   14.56 ... 18.8211 Simbad  0.5878902473399855"
      ]
     },
     "execution_count": 4,
     "metadata": {},
     "output_type": "execute_result"
    }
   ],
   "source": [
    "t = Table.read('Galaxies_IR_wise', format='ascii')\n",
    "\n",
    "grouped_t = t.group_by('Group')\n",
    "\n",
    "valid_groups=[]\n",
    "\n",
    "for group in grouped_t.groups:\n",
    "    if any (group['zmemb'] != 0):\n",
    "        valid_groups.append(group['Group'][0])\n",
    "\n",
    "filtered_table = t[np.isin(t['Group'], valid_groups)]\n",
    "filtered_table"
   ]
  },
  {
   "cell_type": "markdown",
   "id": "4b29001b",
   "metadata": {},
   "source": [
    "$log SFR_{NUV} (M_{\\odot}yr^{-1}) = log L_{NUV}, corr(L_{\\odot}) -9.33$\n",
    "\n",
    "\n",
    "$log SFR_{FUV} (M_{\\odot}yr^{-1}) = log L_{FUV}, corr(L_{\\odot}) -9.51$"
   ]
  },
  {
   "cell_type": "code",
   "execution_count": 5,
   "id": "43bb7338",
   "metadata": {
    "scrolled": true
   },
   "outputs": [
    {
     "data": {
      "text/html": [
       "<div><i>Table length=662</i>\n",
       "<table id=\"table139668781284688\" class=\"table-striped table-bordered table-condensed\">\n",
       "<thead><tr><th>RAJ2000_1</th><th>DEJ2000_1</th><th>W1mag</th><th>W2mag</th><th>W3mag</th><th>W4mag</th><th>_RAJ2000</th><th>_DEJ2000</th><th>Group</th><th>Gal</th><th>RAJ2000_2</th><th>DEJ2000_2</th><th>zmemb</th><th>gmemb</th><th>FUV</th><th>NUV</th><th>Simbad</th><th>Separation</th><th>Distance (Mpc)</th></tr></thead>\n",
       "<thead><tr><th>float64</th><th>float64</th><th>float64</th><th>float64</th><th>float64</th><th>float64</th><th>float64</th><th>float64</th><th>int64</th><th>int64</th><th>str11</th><th>str11</th><th>float64</th><th>int64</th><th>float64</th><th>float64</th><th>str6</th><th>float64</th><th>float64</th></tr></thead>\n",
       "<tr><td>0.3129671</td><td>13.1131761</td><td>14.199</td><td>14.058</td><td>11.02</td><td>8.362</td><td>0.3132083</td><td>13.1134167</td><td>2</td><td>1</td><td>00 01 15.17</td><td>+13 06 48.3</td><td>0.018646</td><td>--</td><td>18.5922</td><td>18.186</td><td>Simbad</td><td>1.2105382819804726</td><td>82.99406528189911</td></tr>\n",
       "<tr><td>0.3331462</td><td>13.1112154</td><td>10.273</td><td>10.167</td><td>6.922</td><td>4.483</td><td>0.333625</td><td>13.1111944</td><td>2</td><td>2</td><td>00 01 20.07</td><td>+13 06 40.3</td><td>0.017899</td><td>--</td><td>16.7561</td><td>16.2019</td><td>Simbad</td><td>1.680447869936333</td><td>79.66913946587538</td></tr>\n",
       "<tr><td>0.3726389</td><td>13.0985394</td><td>16.451</td><td>16.545</td><td>12.519</td><td>8.836</td><td>0.373</td><td>13.0985833</td><td>2</td><td>4</td><td>00 01 29.52</td><td>+13 05 54.9</td><td>0.0</td><td>--</td><td>19.281</td><td>19.2182</td><td>Simbad</td><td>1.275962397970816</td><td>0.0</td></tr>\n",
       "<tr><td>2.8351978</td><td>-53.9557714</td><td>16.238</td><td>15.989</td><td>12.865</td><td>8.849</td><td>2.8349167</td><td>-53.956</td><td>3</td><td>1</td><td>00 11 20.38</td><td>-53 57 21.6</td><td>0.0</td><td>--</td><td>20.2101</td><td>20.5555</td><td>Simbad</td><td>1.015784575930729</td><td>0.0</td></tr>\n",
       "<tr><td>2.8378998</td><td>-53.9811095</td><td>15.083</td><td>14.892</td><td>10.865</td><td>8.435</td><td>2.8379583</td><td>-53.9808889</td><td>3</td><td>2</td><td>00 11 21.11</td><td>-53 58 51.2</td><td>0.0</td><td>--</td><td>20.0492</td><td>19.6655</td><td>Simbad</td><td>0.8037583338164712</td><td>0.0</td></tr>\n",
       "<tr><td>2.8428158</td><td>-53.9539555</td><td>16.748</td><td>16.959</td><td>12.635</td><td>9.165</td><td>2.842</td><td>-53.9536944</td><td>3</td><td>3</td><td>00 11 22.08</td><td>-53 57 13.3</td><td>0.0</td><td>--</td><td>19.9107</td><td>19.7047</td><td>Simbad</td><td>1.9672551795861954</td><td>0.0</td></tr>\n",
       "<tr><td>2.8524137</td><td>-53.9310158</td><td>13.288</td><td>13.123</td><td>9.227</td><td>7.371</td><td>2.8522917</td><td>-53.9311944</td><td>3</td><td>4</td><td>00 11 24.55</td><td>-53 55 52.3</td><td>0.041719</td><td>--</td><td>17.7296</td><td>17.3873</td><td>Simbad</td><td>0.6930096626405061</td><td>185.6928783382789</td></tr>\n",
       "<tr><td>4.6039563</td><td>-42.1263787</td><td>15.684</td><td>15.141</td><td>11.031</td><td>8.988</td><td>4.604</td><td>-42.1265</td><td>7</td><td>1</td><td>00 18 24.96</td><td>-42 07 35.4</td><td>0.0</td><td>--</td><td>20.1586</td><td>19.8188</td><td>Simbad</td><td>0.45199933777578816</td><td>0.0</td></tr>\n",
       "<tr><td>4.6103796</td><td>-42.1377054</td><td>14.037</td><td>13.88</td><td>10.615</td><td>8.673</td><td>4.6105</td><td>-42.1378056</td><td>7</td><td>2</td><td>00 18 26.52</td><td>-42 08 16.1</td><td>0.093258</td><td>--</td><td>20.1218</td><td>19.7196</td><td>Simbad</td><td>0.483139314573345</td><td>415.09495548961416</td></tr>\n",
       "<tr><td>...</td><td>...</td><td>...</td><td>...</td><td>...</td><td>...</td><td>...</td><td>...</td><td>...</td><td>...</td><td>...</td><td>...</td><td>...</td><td>...</td><td>...</td><td>...</td><td>...</td><td>...</td><td>...</td></tr>\n",
       "<tr><td>230.5085673</td><td>3.5652003</td><td>14.046</td><td>13.829</td><td>10.055</td><td>7.368</td><td>230.508875</td><td>3.5654722</td><td>275</td><td>6</td><td>15 22 02.13</td><td>+03 33 55.7</td><td>0.085411</td><td>--</td><td>19.7754</td><td>19.5434</td><td>Simbad</td><td>1.4766266074409347</td><td>380.1676557863501</td></tr>\n",
       "<tr><td>328.8524337</td><td>-20.8626817</td><td>15.404</td><td>15.258</td><td>11.225</td><td>8.47</td><td>328.8524167</td><td>-20.8626944</td><td>276</td><td>1</td><td>21 55 24.58</td><td>-20 51 45.7</td><td>0.0</td><td>--</td><td>19.6331</td><td>19.3956</td><td>Simbad</td><td>0.07321701153913789</td><td>0.0</td></tr>\n",
       "<tr><td>328.8530504</td><td>-20.8861825</td><td>15.142</td><td>13.633</td><td>10.417</td><td>7.913</td><td>328.853</td><td>-20.8862222</td><td>276</td><td>2</td><td>21 55 24.72</td><td>-20 53 10.4</td><td>0.38</td><td>--</td><td>20.0664</td><td>19.2073</td><td>Simbad</td><td>0.2217258607504699</td><td>1691.394658753709</td></tr>\n",
       "<tr><td>328.8585654</td><td>-20.85653</td><td>14.095</td><td>13.944</td><td>10.479</td><td>8.419</td><td>328.8585</td><td>-20.8563333</td><td>276</td><td>3</td><td>21 55 26.04</td><td>-20 51 22.8</td><td>0.0</td><td>--</td><td>18.8517</td><td>18.2243</td><td>Simbad</td><td>0.7415117078141115</td><td>0.0</td></tr>\n",
       "<tr><td>328.8657895</td><td>-20.8588119</td><td>15.143</td><td>15.051</td><td>11.732</td><td>8.598</td><td>328.865625</td><td>-20.8588333</td><td>276</td><td>4</td><td>21 55 27.75</td><td>-20 51 31.8</td><td>0.0</td><td>--</td><td>19.8329</td><td>19.6747</td><td>Simbad</td><td>0.5587244135618409</td><td>0.0</td></tr>\n",
       "<tr><td>328.882744</td><td>-20.8591324</td><td>12.103</td><td>11.564</td><td>8.663</td><td>5.98</td><td>328.8825833</td><td>-20.8591667</td><td>276</td><td>5</td><td>21 55 31.82</td><td>-20 51 33.0</td><td>0.066913</td><td>--</td><td>17.8721</td><td>17.6667</td><td>Simbad</td><td>0.5545258255691065</td><td>297.83234421364983</td></tr>\n",
       "<tr><td>328.9038546</td><td>-20.8540126</td><td>15.053</td><td>14.794</td><td>11.396</td><td>8.585</td><td>328.9036667</td><td>-20.8541389</td><td>276</td><td>6</td><td>21 55 36.88</td><td>-20 51 14.9</td><td>0.0</td><td>--</td><td>19.8348</td><td>19.709</td><td>Simbad</td><td>0.7786641137576128</td><td>0.0</td></tr>\n",
       "<tr><td>196.8031203</td><td>13.6467633</td><td>15.106</td><td>14.961</td><td>11.938</td><td>9.105</td><td>196.8030833</td><td>13.6468056</td><td>279</td><td>3</td><td>13 07 12.74</td><td>+13 38 48.5</td><td>0.100102</td><td>--</td><td>20.2559</td><td>19.7801</td><td>Simbad</td><td>0.19985946347561312</td><td>445.5578635014836</td></tr>\n",
       "<tr><td>196.8227359</td><td>13.6466408</td><td>14.401</td><td>14.216</td><td>10.933</td><td>8.997</td><td>196.8231667</td><td>13.6465833</td><td>279</td><td>4</td><td>13 07 17.56</td><td>+13 38 47.7</td><td>0.026784</td><td>--</td><td>18.6093</td><td>18.0461</td><td>Simbad</td><td>1.5212470144991623</td><td>119.21661721068249</td></tr>\n",
       "<tr><td>196.8598864</td><td>13.641408</td><td>14.745</td><td>14.56</td><td>10.989</td><td>8.808</td><td>196.8599583</td><td>13.6415556</td><td>279</td><td>7</td><td>13 07 26.39</td><td>+13 38 29.6</td><td>0.063226</td><td>--</td><td>19.2524</td><td>18.8211</td><td>Simbad</td><td>0.5878902473399855</td><td>281.4213649851632</td></tr>\n",
       "</table></div>"
      ],
      "text/plain": [
       "<Table length=662>\n",
       " RAJ2000_1   DEJ2000_1   W1mag  ...      Separation       Distance (Mpc)  \n",
       "  float64     float64   float64 ...       float64            float64      \n",
       "----------- ----------- ------- ... ------------------- ------------------\n",
       "  0.3129671  13.1131761  14.199 ...  1.2105382819804726  82.99406528189911\n",
       "  0.3331462  13.1112154  10.273 ...   1.680447869936333  79.66913946587538\n",
       "  0.3726389  13.0985394  16.451 ...   1.275962397970816                0.0\n",
       "  2.8351978 -53.9557714  16.238 ...   1.015784575930729                0.0\n",
       "  2.8378998 -53.9811095  15.083 ...  0.8037583338164712                0.0\n",
       "  2.8428158 -53.9539555  16.748 ...  1.9672551795861954                0.0\n",
       "  2.8524137 -53.9310158  13.288 ...  0.6930096626405061  185.6928783382789\n",
       "  4.6039563 -42.1263787  15.684 ... 0.45199933777578816                0.0\n",
       "  4.6103796 -42.1377054  14.037 ...   0.483139314573345 415.09495548961416\n",
       "        ...         ...     ... ...                 ...                ...\n",
       "230.5085673   3.5652003  14.046 ...  1.4766266074409347  380.1676557863501\n",
       "328.8524337 -20.8626817  15.404 ... 0.07321701153913789                0.0\n",
       "328.8530504 -20.8861825  15.142 ...  0.2217258607504699  1691.394658753709\n",
       "328.8585654   -20.85653  14.095 ...  0.7415117078141115                0.0\n",
       "328.8657895 -20.8588119  15.143 ...  0.5587244135618409                0.0\n",
       " 328.882744 -20.8591324  12.103 ...  0.5545258255691065 297.83234421364983\n",
       "328.9038546 -20.8540126  15.053 ...  0.7786641137576128                0.0\n",
       "196.8031203  13.6467633  15.106 ... 0.19985946347561312  445.5578635014836\n",
       "196.8227359  13.6466408  14.401 ...  1.5212470144991623 119.21661721068249\n",
       "196.8598864   13.641408  14.745 ...  0.5878902473399855  281.4213649851632"
      ]
     },
     "execution_count": 5,
     "metadata": {},
     "output_type": "execute_result"
    }
   ],
   "source": [
    "H_0 = 67.4 #km/s/Mpc\n",
    "c = 300000\n",
    "filtered_table['Distance (Mpc)'] = (filtered_table['zmemb']*c)/H_0\n",
    "filtered_table"
   ]
  },
  {
   "cell_type": "code",
   "execution_count": 7,
   "id": "57703466",
   "metadata": {},
   "outputs": [
    {
     "data": {
      "text/html": [
       "<div><i>Table length=662</i>\n",
       "<table id=\"table139668781284688\" class=\"table-striped table-bordered table-condensed\">\n",
       "<thead><tr><th>RAJ2000_1</th><th>DEJ2000_1</th><th>W1mag</th><th>W2mag</th><th>W3mag</th><th>W4mag</th><th>_RAJ2000</th><th>_DEJ2000</th><th>Group</th><th>Gal</th><th>RAJ2000_2</th><th>DEJ2000_2</th><th>zmemb</th><th>gmemb</th><th>FUV</th><th>NUV</th><th>Simbad</th><th>Separation</th><th>Distance (Mpc)</th><th>FUV_Flux</th><th>NUV_Flux</th><th>L_FUV</th><th>L_NUV</th></tr></thead>\n",
       "<thead><tr><th>float64</th><th>float64</th><th>float64</th><th>float64</th><th>float64</th><th>float64</th><th>float64</th><th>float64</th><th>int64</th><th>int64</th><th>str11</th><th>str11</th><th>float64</th><th>int64</th><th>float64</th><th>float64</th><th>str6</th><th>float64</th><th>float64</th><th>float64</th><th>float64</th><th>float64</th><th>float64</th></tr></thead>\n",
       "<tr><td>0.3129671</td><td>13.1131761</td><td>14.199</td><td>14.058</td><td>11.02</td><td>8.362</td><td>0.3132083</td><td>13.1134167</td><td>2</td><td>1</td><td>00 01 15.17</td><td>+13 06 48.3</td><td>0.018646</td><td>--</td><td>18.5922</td><td>18.186</td><td>Simbad</td><td>1.2105382819804726</td><td>82.99406528189911</td><td>7.533333956778219e-24</td><td>7.442657531035477e-23</td><td>6.520654064786616e-19</td><td>6.442166955693606e-18</td></tr>\n",
       "<tr><td>0.3331462</td><td>13.1112154</td><td>10.273</td><td>10.167</td><td>6.922</td><td>4.483</td><td>0.333625</td><td>13.1111944</td><td>2</td><td>2</td><td>00 01 20.07</td><td>+13 06 40.3</td><td>0.017899</td><td>--</td><td>16.7561</td><td>16.2019</td><td>Simbad</td><td>1.680447869936333</td><td>79.66913946587538</td><td>4.0872125233567154e-23</td><td>4.627730246258896e-22</td><td>3.259998024107586e-18</td><td>3.6911198947190727e-17</td></tr>\n",
       "<tr><td>0.3726389</td><td>13.0985394</td><td>16.451</td><td>16.545</td><td>12.519</td><td>8.836</td><td>0.373</td><td>13.0985833</td><td>2</td><td>4</td><td>00 01 29.52</td><td>+13 05 54.9</td><td>0.0</td><td>--</td><td>19.281</td><td>19.2182</td><td>Simbad</td><td>1.275962397970816</td><td>0.0</td><td>3.9945441019465925e-24</td><td>2.8763917581366376e-23</td><td>0.0</td><td>0.0</td></tr>\n",
       "<tr><td>2.8351978</td><td>-53.9557714</td><td>16.238</td><td>15.989</td><td>12.865</td><td>8.849</td><td>2.8349167</td><td>-53.956</td><td>3</td><td>1</td><td>00 11 20.38</td><td>-53 57 21.6</td><td>0.0</td><td>--</td><td>20.2101</td><td>20.5555</td><td>Simbad</td><td>1.015784575930729</td><td>0.0</td><td>1.6975681579209065e-24</td><td>8.393208961874141e-24</td><td>0.0</td><td>0.0</td></tr>\n",
       "<tr><td>2.8378998</td><td>-53.9811095</td><td>15.083</td><td>14.892</td><td>10.865</td><td>8.435</td><td>2.8379583</td><td>-53.9808889</td><td>3</td><td>2</td><td>00 11 21.11</td><td>-53 58 51.2</td><td>0.0</td><td>--</td><td>20.0492</td><td>19.6655</td><td>Simbad</td><td>0.8037583338164712</td><td>0.0</td><td>1.9687348103246107e-24</td><td>1.905145001707433e-23</td><td>0.0</td><td>0.0</td></tr>\n",
       "<tr><td>2.8428158</td><td>-53.9539555</td><td>16.748</td><td>16.959</td><td>12.635</td><td>9.165</td><td>2.842</td><td>-53.9536944</td><td>3</td><td>3</td><td>00 11 22.08</td><td>-53 57 13.3</td><td>0.0</td><td>--</td><td>19.9107</td><td>19.7047</td><td>Simbad</td><td>1.9672551795861954</td><td>0.0</td><td>2.2365943340536415e-24</td><td>1.8375875326850724e-23</td><td>0.0</td><td>0.0</td></tr>\n",
       "<tr><td>2.8524137</td><td>-53.9310158</td><td>13.288</td><td>13.123</td><td>9.227</td><td>7.371</td><td>2.8522917</td><td>-53.9311944</td><td>3</td><td>4</td><td>00 11 24.55</td><td>-53 55 52.3</td><td>0.041719</td><td>--</td><td>17.7296</td><td>17.3873</td><td>Simbad</td><td>0.6930096626405061</td><td>185.6928783382789</td><td>1.6673517142400252e-23</td><td>1.5531308122869129e-22</td><td>7.224829133584046e-18</td><td>6.72989666489898e-17</td></tr>\n",
       "<tr><td>4.6039563</td><td>-42.1263787</td><td>15.684</td><td>15.141</td><td>11.031</td><td>8.988</td><td>4.604</td><td>-42.1265</td><td>7</td><td>1</td><td>00 18 24.96</td><td>-42 07 35.4</td><td>0.0</td><td>--</td><td>20.1586</td><td>19.8188</td><td>Simbad</td><td>0.45199933777578816</td><td>0.0</td><td>1.7800295841982046e-24</td><td>1.6542762535716848e-23</td><td>0.0</td><td>0.0</td></tr>\n",
       "<tr><td>4.6103796</td><td>-42.1377054</td><td>14.037</td><td>13.88</td><td>10.615</td><td>8.673</td><td>4.6105</td><td>-42.1378056</td><td>7</td><td>2</td><td>00 18 26.52</td><td>-42 08 16.1</td><td>0.093258</td><td>--</td><td>20.1218</td><td>19.7196</td><td>Simbad</td><td>0.483139314573345</td><td>415.09495548961416</td><td>1.8413961058099404e-24</td><td>1.8125418201222787e-23</td><td>3.987052878377227e-18</td><td>3.924576607008167e-17</td></tr>\n",
       "<tr><td>...</td><td>...</td><td>...</td><td>...</td><td>...</td><td>...</td><td>...</td><td>...</td><td>...</td><td>...</td><td>...</td><td>...</td><td>...</td><td>...</td><td>...</td><td>...</td><td>...</td><td>...</td><td>...</td><td>...</td><td>...</td><td>...</td><td>...</td></tr>\n",
       "<tr><td>230.5085673</td><td>3.5652003</td><td>14.046</td><td>13.829</td><td>10.055</td><td>7.368</td><td>230.508875</td><td>3.5654722</td><td>275</td><td>6</td><td>15 22 02.13</td><td>+03 33 55.7</td><td>0.085411</td><td>--</td><td>19.7754</td><td>19.5434</td><td>Simbad</td><td>1.4766266074409347</td><td>380.1676557863501</td><td>2.5334201494483432e-24</td><td>2.131905920544564e-23</td><td>4.601160831246444e-18</td><td>3.871936528036229e-17</td></tr>\n",
       "<tr><td>328.8524337</td><td>-20.8626817</td><td>15.404</td><td>15.258</td><td>11.225</td><td>8.47</td><td>328.8524167</td><td>-20.8626944</td><td>276</td><td>1</td><td>21 55 24.58</td><td>-20 51 45.7</td><td>0.0</td><td>--</td><td>19.6331</td><td>19.3956</td><td>Simbad</td><td>0.07321701153913789</td><td>0.0</td><td>2.8881997121590248e-24</td><td>2.4428006994631693e-23</td><td>0.0</td><td>0.0</td></tr>\n",
       "<tr><td>328.8530504</td><td>-20.8861825</td><td>15.142</td><td>13.633</td><td>10.417</td><td>7.913</td><td>328.853</td><td>-20.8862222</td><td>276</td><td>2</td><td>21 55 24.72</td><td>-20 53 10.4</td><td>0.38</td><td>--</td><td>20.0664</td><td>19.2073</td><td>Simbad</td><td>0.2217258607504699</td><td>1691.394658753709</td><td>1.9377922754849444e-24</td><td>2.9054140721969584e-23</td><td>6.966377328592992e-17</td><td>1.0444984727613644e-15</td></tr>\n",
       "<tr><td>328.8585654</td><td>-20.85653</td><td>14.095</td><td>13.944</td><td>10.479</td><td>8.419</td><td>328.8585</td><td>-20.8563333</td><td>276</td><td>3</td><td>21 55 26.04</td><td>-20 51 22.8</td><td>0.0</td><td>--</td><td>18.8517</td><td>18.2243</td><td>Simbad</td><td>0.7415117078141115</td><td>0.0</td><td>5.9318098435329504e-24</td><td>7.184690023815234e-23</td><td>0.0</td><td>0.0</td></tr>\n",
       "<tr><td>328.8657895</td><td>-20.8588119</td><td>15.143</td><td>15.051</td><td>11.732</td><td>8.598</td><td>328.865625</td><td>-20.8588333</td><td>276</td><td>4</td><td>21 55 27.75</td><td>-20 51 31.8</td><td>0.0</td><td>--</td><td>19.8329</td><td>19.6747</td><td>Simbad</td><td>0.5587244135618409</td><td>0.0</td><td>2.4027424450353334e-24</td><td>1.8890699328342622e-23</td><td>0.0</td><td>0.0</td></tr>\n",
       "<tr><td>328.882744</td><td>-20.8591324</td><td>12.103</td><td>11.564</td><td>8.663</td><td>5.98</td><td>328.8825833</td><td>-20.8591667</td><td>276</td><td>5</td><td>21 55 31.82</td><td>-20 51 33.0</td><td>0.066913</td><td>--</td><td>17.8721</td><td>17.6667</td><td>Simbad</td><td>0.5545258255691065</td><td>297.83234421364983</td><td>1.4622688225237537e-23</td><td>1.2007373934610593e-22</td><td>1.629974476838893e-17</td><td>1.33844835818196e-16</td></tr>\n",
       "<tr><td>328.9038546</td><td>-20.8540126</td><td>15.053</td><td>14.794</td><td>11.396</td><td>8.585</td><td>328.9036667</td><td>-20.8541389</td><td>276</td><td>6</td><td>21 55 36.88</td><td>-20 51 14.9</td><td>0.0</td><td>--</td><td>19.8348</td><td>19.709</td><td>Simbad</td><td>0.7786641137576128</td><td>0.0</td><td>2.3985414075494727e-24</td><td>1.830324258228384e-23</td><td>0.0</td><td>0.0</td></tr>\n",
       "<tr><td>196.8031203</td><td>13.6467633</td><td>15.106</td><td>14.961</td><td>11.938</td><td>9.105</td><td>196.8030833</td><td>13.6468056</td><td>279</td><td>3</td><td>13 07 12.74</td><td>+13 38 48.5</td><td>0.100102</td><td>--</td><td>20.2559</td><td>19.7801</td><td>Simbad</td><td>0.19985946347561312</td><td>445.5578635014836</td><td>1.6274483725836312e-24</td><td>1.7143047783944822e-23</td><td>4.059993235367557e-18</td><td>4.276673792478301e-17</td></tr>\n",
       "<tr><td>196.8227359</td><td>13.6466408</td><td>14.401</td><td>14.216</td><td>10.933</td><td>8.997</td><td>196.8231667</td><td>13.6465833</td><td>279</td><td>4</td><td>13 07 17.56</td><td>+13 38 47.7</td><td>0.026784</td><td>--</td><td>18.6093</td><td>18.0461</td><td>Simbad</td><td>1.5212470144991623</td><td>119.21661721068249</td><td>7.41561578750229e-24</td><td>8.466190485474346e-23</td><td>1.3244350742003666e-18</td><td>1.5120685786770463e-17</td></tr>\n",
       "<tr><td>196.8598864</td><td>13.641408</td><td>14.745</td><td>14.56</td><td>10.989</td><td>8.808</td><td>196.8599583</td><td>13.6415556</td><td>279</td><td>7</td><td>13 07 26.39</td><td>+13 38 29.6</td><td>0.063226</td><td>--</td><td>19.2524</td><td>18.8211</td><td>Simbad</td><td>0.5878902473399855</td><td>281.4213649851632</td><td>4.101164792155535e-24</td><td>4.1465607805239925e-23</td><td>4.081607269353847e-18</td><td>4.126786774571148e-17</td></tr>\n",
       "</table></div>"
      ],
      "text/plain": [
       "<Table length=662>\n",
       " RAJ2000_1   DEJ2000_1  ...         L_FUV                  L_NUV         \n",
       "  float64     float64   ...        float64                float64        \n",
       "----------- ----------- ... ---------------------- ----------------------\n",
       "  0.3129671  13.1131761 ...  6.520654064786616e-19  6.442166955693606e-18\n",
       "  0.3331462  13.1112154 ...  3.259998024107586e-18 3.6911198947190727e-17\n",
       "  0.3726389  13.0985394 ...                    0.0                    0.0\n",
       "  2.8351978 -53.9557714 ...                    0.0                    0.0\n",
       "  2.8378998 -53.9811095 ...                    0.0                    0.0\n",
       "  2.8428158 -53.9539555 ...                    0.0                    0.0\n",
       "  2.8524137 -53.9310158 ...  7.224829133584046e-18   6.72989666489898e-17\n",
       "  4.6039563 -42.1263787 ...                    0.0                    0.0\n",
       "  4.6103796 -42.1377054 ...  3.987052878377227e-18  3.924576607008167e-17\n",
       "        ...         ... ...                    ...                    ...\n",
       "230.5085673   3.5652003 ...  4.601160831246444e-18  3.871936528036229e-17\n",
       "328.8524337 -20.8626817 ...                    0.0                    0.0\n",
       "328.8530504 -20.8861825 ...  6.966377328592992e-17 1.0444984727613644e-15\n",
       "328.8585654   -20.85653 ...                    0.0                    0.0\n",
       "328.8657895 -20.8588119 ...                    0.0                    0.0\n",
       " 328.882744 -20.8591324 ...  1.629974476838893e-17   1.33844835818196e-16\n",
       "328.9038546 -20.8540126 ...                    0.0                    0.0\n",
       "196.8031203  13.6467633 ...  4.059993235367557e-18  4.276673792478301e-17\n",
       "196.8227359  13.6466408 ... 1.3244350742003666e-18 1.5120685786770463e-17\n",
       "196.8598864   13.641408 ...  4.081607269353847e-18  4.126786774571148e-17"
      ]
     },
     "execution_count": 7,
     "metadata": {},
     "output_type": "execute_result"
    }
   ],
   "source": [
    "F0_FUV = 2.06*10**-16\n",
    "F0_NUV = 1.4*10**-15\n",
    "filtered_table['FUV_Flux'] = F0_FUV*10**(-0.4*filtered_table['FUV'])\n",
    "filtered_table['NUV_Flux'] = F0_NUV*10**(-0.4*filtered_table['NUV'])\n",
    "filtered_table['L_FUV'] = filtered_table['FUV_Flux']*4*np.pi*filtered_table['Distance (Mpc)']**2\n",
    "filtered_table['L_NUV'] = filtered_table['NUV_Flux']*4*np.pi*filtered_table['Distance (Mpc)']**2\n",
    "\n",
    "filtered_table\n",
    "\n"
   ]
  },
  {
   "cell_type": "code",
   "execution_count": null,
   "id": "42db5a9d",
   "metadata": {},
   "outputs": [],
   "source": []
  }
 ],
 "metadata": {
  "kernelspec": {
   "display_name": "Python 3 (ipykernel)",
   "language": "python",
   "name": "python3"
  },
  "language_info": {
   "codemirror_mode": {
    "name": "ipython",
    "version": 3
   },
   "file_extension": ".py",
   "mimetype": "text/x-python",
   "name": "python",
   "nbconvert_exporter": "python",
   "pygments_lexer": "ipython3",
   "version": "3.11.4"
  }
 },
 "nbformat": 4,
 "nbformat_minor": 5
}
