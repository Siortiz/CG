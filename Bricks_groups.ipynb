{
 "cells": [
  {
   "cell_type": "code",
   "execution_count": 17,
   "metadata": {},
   "outputs": [],
   "source": [
    "import numpy as np\n",
    "from astropy.coordinates import SkyCoord\n",
    "from astropy import units as u\n",
    "from astropy.table import Table"
   ]
  },
  {
   "cell_type": "code",
   "execution_count": 18,
   "metadata": {},
   "outputs": [
    {
     "data": {
      "text/html": [
       "<div><i>Table length=366912</i>\n",
       "<table id=\"table139656036781840\" class=\"table-striped table-bordered table-condensed\">\n",
       "<thead><tr><th>brickname</th><th>ra</th><th>dec</th><th>nexp_g</th><th>nexp_r</th><th>nexp_i</th><th>nexp_z</th><th>nexphist_g</th><th>nexphist_r</th><th>nexphist_i</th><th>nexphist_z</th><th>nobjs</th><th>npsf</th><th>nsimp</th><th>nrex</th><th>nexp</th><th>ndev</th><th>ncomp</th><th>nser</th><th>ndup</th><th>psfsize_g</th><th>psfsize_r</th><th>psfsize_i</th><th>psfsize_z</th><th>psfdepth_g</th><th>psfdepth_r</th><th>psfdepth_i</th><th>psfdepth_z</th><th>galdepth_g</th><th>galdepth_r</th><th>galdepth_i</th><th>galdepth_z</th><th>ebv</th><th>trans_g</th><th>trans_r</th><th>trans_i</th><th>trans_z</th><th>cosky_g</th><th>cosky_r</th><th>cosky_i</th><th>cosky_z</th><th>ext_g</th><th>ext_r</th><th>ext_i</th><th>ext_z</th><th>wise_nobs</th><th>trans_wise</th><th>ext_w1</th><th>ext_w2</th><th>ext_w3</th><th>ext_w4</th><th>brickid</th><th>ra1</th><th>ra2</th><th>dec1</th><th>dec2</th><th>area</th><th>survey_primary</th><th>in_desi</th></tr></thead>\n",
       "<thead><tr><th>bytes8</th><th>float64</th><th>float64</th><th>int16</th><th>int16</th><th>int16</th><th>int16</th><th>int32[11]</th><th>int32[11]</th><th>int32[11]</th><th>int32[11]</th><th>int32</th><th>int32</th><th>int32</th><th>int32</th><th>int32</th><th>int32</th><th>int32</th><th>int32</th><th>int32</th><th>float32</th><th>float32</th><th>float32</th><th>float32</th><th>float32</th><th>float32</th><th>float32</th><th>float32</th><th>float32</th><th>float32</th><th>float32</th><th>float32</th><th>float32</th><th>float32</th><th>float32</th><th>float32</th><th>float32</th><th>float32</th><th>float32</th><th>float32</th><th>float32</th><th>float32</th><th>float32</th><th>float32</th><th>float32</th><th>int16[4]</th><th>float32[4]</th><th>float32</th><th>float32</th><th>float32</th><th>float32</th><th>int32</th><th>float64</th><th>float64</th><th>float64</th><th>float64</th><th>float64</th><th>bool</th><th>bool</th></tr></thead>\n",
       "<tr><td>0001m002</td><td>0.125</td><td>-0.25</td><td>10</td><td>10</td><td>7</td><td>8</td><td>13542 .. 7514096</td><td>14702 .. 8386255</td><td>25938 .. 0</td><td>20589 .. 855903</td><td>8737</td><td>3442</td><td>0</td><td>4085</td><td>827</td><td>220</td><td>0</td><td>163</td><td>0</td><td>1.5703166</td><td>1.2452925</td><td>1.231581</td><td>1.1920182</td><td>25.22465</td><td>25.0845</td><td>24.319462</td><td>23.908138</td><td>24.97652</td><td>24.75831</td><td>24.007229</td><td>23.556026</td><td>0.03402216</td><td>0.9041929</td><td>0.93440855</td><td>0.95133764</td><td>0.9627636</td><td>-7.889145e-05</td><td>-5.5482946e-05</td><td>-4.7043235e-05</td><td>2.3911733e-05</td><td>0.10934724</td><td>0.073658</td><td>0.054163303</td><td>0.041200835</td><td>210 .. 12</td><td>0.99425083 .. 0.9997149</td><td>0.00626009</td><td>0.0038445229</td><td>0.00081992405</td><td>0.00030957558</td><td>328928</td><td>0.0</td><td>0.25</td><td>-0.375</td><td>-0.125</td><td>0.062499405045045905</td><td>True</td><td>True</td></tr>\n",
       "<tr><td>0001m005</td><td>0.125</td><td>-0.5</td><td>10</td><td>10</td><td>7</td><td>8</td><td>933 .. 8548737</td><td>2810 .. 8727647</td><td>4615 .. 0</td><td>2346 .. 1804628</td><td>9398</td><td>3480</td><td>0</td><td>4419</td><td>1003</td><td>299</td><td>0</td><td>197</td><td>0</td><td>1.5510331</td><td>1.2331864</td><td>1.2204007</td><td>1.2144874</td><td>25.223454</td><td>25.088036</td><td>24.371918</td><td>23.900475</td><td>24.976059</td><td>24.769518</td><td>24.038757</td><td>23.562841</td><td>0.041127287</td><td>0.88537395</td><td>0.92126334</td><td>0.9414779</td><td>0.95516396</td><td>-7.551222e-05</td><td>-6.0565366e-05</td><td>-3.5909343e-05</td><td>6.3544736e-05</td><td>0.13218315</td><td>0.08904053</td><td>0.06547468</td><td>0.049805187</td><td>207 .. 13</td><td>0.9930544 .. 0.99965537</td><td>0.007567411</td><td>0.0046474035</td><td>0.000991173</td><td>0.00037424616</td><td>327488</td><td>0.0</td><td>0.25</td><td>-0.625</td><td>-0.375</td><td>0.06249762019151071</td><td>True</td><td>True</td></tr>\n",
       "<tr><td>0001m007</td><td>0.125</td><td>-0.75</td><td>12</td><td>10</td><td>7</td><td>8</td><td>417 .. 10493328</td><td>872 .. 6679819</td><td>3965 .. 0</td><td>1755 .. 556469</td><td>9220</td><td>3630</td><td>0</td><td>4273</td><td>850</td><td>272</td><td>0</td><td>193</td><td>2</td><td>1.6269429</td><td>1.2314527</td><td>1.2185445</td><td>1.2110996</td><td>25.267267</td><td>25.08984</td><td>24.330029</td><td>23.87891</td><td>25.036816</td><td>24.759014</td><td>24.001347</td><td>23.534582</td><td>0.04344342</td><td>0.87932444</td><td>0.9170183</td><td>0.93828595</td><td>0.95269966</td><td>-7.840524e-05</td><td>-5.7306017e-05</td><td>-2.5664453e-05</td><td>1.4516765e-05</td><td>0.13962714</td><td>0.094055004</td><td>0.06916197</td><td>0.052609973</td><td>208 .. 14</td><td>0.9926647 .. 0.99963593</td><td>0.00799356</td><td>0.004909095</td><td>0.0010470096</td><td>0.00039535074</td><td>326048</td><td>0.0</td><td>0.25</td><td>-0.875</td><td>-0.625</td><td>0.06249464547337544</td><td>True</td><td>True</td></tr>\n",
       "<tr><td>0001m010</td><td>0.125</td><td>-1.0</td><td>12</td><td>8</td><td>6</td><td>7</td><td>1327 .. 10747994</td><td>3208 .. 1949928</td><td>5744 .. 0</td><td>3265 .. 323647</td><td>9071</td><td>3379</td><td>0</td><td>4334</td><td>889</td><td>281</td><td>0</td><td>188</td><td>0</td><td>1.6708362</td><td>1.2558109</td><td>1.2354081</td><td>1.2016487</td><td>25.221338</td><td>24.999865</td><td>24.184875</td><td>23.839066</td><td>25.001518</td><td>24.680262</td><td>23.859194</td><td>23.485859</td><td>0.038021848</td><td>0.8935505</td><td>0.9269858</td><td>0.9457747</td><td>0.95847815</td><td>-8.257703e-05</td><td>-5.800799e-05</td><td>-2.5445392e-05</td><td>2.0877764e-05</td><td>0.122202225</td><td>0.08231729</td><td>0.060530797</td><td>0.046044454</td><td>205 .. 12</td><td>0.9935771 .. 0.99968135</td><td>0.006996042</td><td>0.0042965007</td><td>0.00091629685</td><td>0.00034602112</td><td>324608</td><td>0.0</td><td>0.25</td><td>-1.125</td><td>-0.875</td><td>0.062490480947274454</td><td>True</td><td>True</td></tr>\n",
       "<tr><td>0001m012</td><td>0.125</td><td>-1.25</td><td>13</td><td>9</td><td>6</td><td>9</td><td>517 .. 10570804</td><td>1323 .. 5576703</td><td>3120 .. 0</td><td>1429 .. 1635280</td><td>8890</td><td>3446</td><td>0</td><td>4155</td><td>843</td><td>253</td><td>0</td><td>192</td><td>1</td><td>1.658045</td><td>1.2659082</td><td>1.2486696</td><td>1.1876932</td><td>25.297417</td><td>25.067265</td><td>24.234285</td><td>23.930859</td><td>25.07275</td><td>24.751226</td><td>23.902834</td><td>23.58452</td><td>0.04097276</td><td>0.885779</td><td>0.9215472</td><td>0.9416913</td><td>0.95532864</td><td>-8.6032655e-05</td><td>-5.430796e-05</td><td>-1.748512e-05</td><td>1.728364e-05</td><td>0.13168652</td><td>0.088706076</td><td>0.065228626</td><td>0.049618002</td><td>203 .. 13</td><td>0.9930804 .. 0.9996567</td><td>0.007538998</td><td>0.0046299854</td><td>0.0009874809</td><td>0.00037282196</td><td>323168</td><td>0.0</td><td>0.25</td><td>-1.375</td><td>-1.125</td><td>0.06248512669249432</td><td>True</td><td>True</td></tr>\n",
       "<tr><td>0001m015</td><td>0.125</td><td>-1.5</td><td>11</td><td>8</td><td>5</td><td>8</td><td>547 .. 9424192</td><td>1993 .. 457946</td><td>4333 .. 0</td><td>1680 .. 213767</td><td>9291</td><td>3541</td><td>0</td><td>4443</td><td>865</td><td>281</td><td>0</td><td>161</td><td>0</td><td>1.6144478</td><td>1.2491776</td><td>1.2271997</td><td>1.1906184</td><td>25.246355</td><td>25.00759</td><td>24.194231</td><td>23.882137</td><td>25.01422</td><td>24.68276</td><td>23.861238</td><td>23.5358</td><td>0.03663752</td><td>0.8972197</td><td>0.9295482</td><td>0.9476964</td><td>0.9599592</td><td>-8.320551e-05</td><td>-5.7625635e-05</td><td>-2.2080774e-05</td><td>2.346852e-06</td><td>0.117752984</td><td>0.079320215</td><td>0.058326937</td><td>0.044368055</td><td>203 .. 13</td><td>0.99381024 .. 0.999693</td><td>0.0067413356</td><td>0.0041400604</td><td>0.000882941</td><td>0.00033339774</td><td>321728</td><td>0.0</td><td>0.25</td><td>-1.625</td><td>-1.375</td><td>0.06247858281097233</td><td>True</td><td>True</td></tr>\n",
       "<tr><td>0001m017</td><td>0.125</td><td>-1.75</td><td>12</td><td>8</td><td>6</td><td>8</td><td>589 .. 10301112</td><td>2469 .. 1459846</td><td>5849 .. 0</td><td>2044 .. 1610403</td><td>9282</td><td>3504</td><td>0</td><td>4364</td><td>915</td><td>289</td><td>0</td><td>208</td><td>2</td><td>1.6374656</td><td>1.2454598</td><td>1.253677</td><td>1.1616895</td><td>25.278397</td><td>25.066261</td><td>24.293453</td><td>23.923283</td><td>25.048061</td><td>24.741247</td><td>23.989286</td><td>23.563776</td><td>0.035692453</td><td>0.8997333</td><td>0.9313016</td><td>0.9490106</td><td>0.96097165</td><td>-8.996026e-05</td><td>-5.0221322e-05</td><td>-2.2555054e-05</td><td>2.3816523e-05</td><td>0.11471551</td><td>0.077274136</td><td>0.05682233</td><td>0.043223556</td><td>199 .. 12</td><td>0.99396944 .. 0.9997009</td><td>0.0065674195</td><td>0.004033268</td><td>0.00086020783</td><td>0.00032478804</td><td>320288</td><td>0.0</td><td>0.25</td><td>-1.875</td><td>-1.625</td><td>0.062470849427294556</td><td>True</td><td>True</td></tr>\n",
       "<tr><td>0001m020</td><td>0.125</td><td>-2.0</td><td>11</td><td>8</td><td>5</td><td>8</td><td>3503 .. 9104674</td><td>8045 .. 354690</td><td>12636 .. 0</td><td>8145 .. 388858</td><td>9002</td><td>3467</td><td>0</td><td>4195</td><td>895</td><td>271</td><td>0</td><td>174</td><td>0</td><td>1.6753263</td><td>1.2600131</td><td>1.2893051</td><td>1.1242046</td><td>25.172129</td><td>24.994617</td><td>24.202719</td><td>23.903145</td><td>24.959066</td><td>24.683575</td><td>23.899565</td><td>23.528011</td><td>0.036800303</td><td>0.89678746</td><td>0.92924654</td><td>0.9474702</td><td>0.959785</td><td>-8.731124e-05</td><td>-6.168318e-05</td><td>-3.1340158e-05</td><td>8.8547e-06</td><td>0.11827618</td><td>0.07967262</td><td>0.058586113</td><td>0.044565123</td><td>192 .. 12</td><td>0.9937829 .. 0.9996916</td><td>0.006771225</td><td>0.0041584447</td><td>0.00088689185</td><td>0.00033488666</td><td>318848</td><td>0.0</td><td>0.25</td><td>-2.125</td><td>-1.875</td><td>0.062461926688693485</td><td>True</td><td>True</td></tr>\n",
       "<tr><td>0001m022</td><td>0.125</td><td>-2.25</td><td>11</td><td>8</td><td>4</td><td>7</td><td>1247 .. 9618323</td><td>2887 .. 49046</td><td>8100 .. 0</td><td>3218 .. 0</td><td>8633</td><td>3282</td><td>0</td><td>4096</td><td>829</td><td>266</td><td>0</td><td>158</td><td>2</td><td>1.6815798</td><td>1.2737293</td><td>1.289808</td><td>1.0985072</td><td>25.204262</td><td>24.96705</td><td>24.163084</td><td>23.837416</td><td>24.986656</td><td>24.661076</td><td>23.854523</td><td>23.448967</td><td>0.03657182</td><td>0.89739424</td><td>0.92967</td><td>0.9477877</td><td>0.9600296</td><td>-8.80848e-05</td><td>-5.457396e-05</td><td>-3.1441363e-05</td><td>2.8201935e-05</td><td>0.117541805</td><td>0.07917799</td><td>0.058222324</td><td>0.04428844</td><td>188 .. 10</td><td>0.9938213 .. 0.9996935</td><td>0.0067292238</td><td>0.00413259</td><td>0.0008813866</td><td>0.00033281514</td><td>317408</td><td>0.0</td><td>0.25</td><td>-2.375</td><td>-2.125</td><td>0.06245181476504518</td><td>True</td><td>True</td></tr>\n",
       "<tr><td>0001m025</td><td>0.125</td><td>-2.5</td><td>12</td><td>8</td><td>4</td><td>7</td><td>3265 .. 10748510</td><td>7394 .. 0</td><td>14945 .. 0</td><td>7636 .. 0</td><td>9119</td><td>3435</td><td>0</td><td>4242</td><td>893</td><td>317</td><td>0</td><td>228</td><td>4</td><td>1.6701083</td><td>1.265236</td><td>1.2710074</td><td>1.102358</td><td>25.272276</td><td>24.97118</td><td>24.114086</td><td>23.838535</td><td>25.050734</td><td>24.663708</td><td>23.80283</td><td>23.457539</td><td>0.03808683</td><td>0.8933786</td><td>0.9268657</td><td>0.94568455</td><td>0.95840865</td><td>-7.194846e-05</td><td>-3.5994453e-05</td><td>-1.8538676e-06</td><td>6.070979e-05</td><td>0.12241112</td><td>0.082457975</td><td>0.060634263</td><td>0.046123184</td><td>188 .. 12</td><td>0.9935662 .. 0.9996808</td><td>0.007007961</td><td>0.0043038423</td><td>0.00091791607</td><td>0.0003466037</td><td>315968</td><td>0.0</td><td>0.25</td><td>-2.625</td><td>-2.375</td><td>0.06244051384886611</td><td>True</td><td>True</td></tr>\n",
       "<tr><td>...</td><td>...</td><td>...</td><td>...</td><td>...</td><td>...</td><td>...</td><td>...</td><td>...</td><td>...</td><td>...</td><td>...</td><td>...</td><td>...</td><td>...</td><td>...</td><td>...</td><td>...</td><td>...</td><td>...</td><td>...</td><td>...</td><td>...</td><td>...</td><td>...</td><td>...</td><td>...</td><td>...</td><td>...</td><td>...</td><td>...</td><td>...</td><td>...</td><td>...</td><td>...</td><td>...</td><td>...</td><td>...</td><td>...</td><td>...</td><td>...</td><td>...</td><td>...</td><td>...</td><td>...</td><td>...</td><td>...</td><td>...</td><td>...</td><td>...</td><td>...</td><td>...</td><td>...</td><td>...</td><td>...</td><td>...</td><td>...</td><td>...</td><td>...</td></tr>\n",
       "<tr><td>3598p320</td><td>359.8529411764706</td><td>32.0</td><td>4</td><td>4</td><td>0</td><td>4</td><td>10612 .. 0</td><td>12059 .. 0</td><td>0 .. 0</td><td>16941 .. 0</td><td>5787</td><td>2933</td><td>0</td><td>2234</td><td>381</td><td>162</td><td>0</td><td>77</td><td>0</td><td>1.849975</td><td>1.7570487</td><td>0.0</td><td>1.6687499</td><td>24.871147</td><td>24.273588</td><td>-inf</td><td>23.185902</td><td>24.706343</td><td>24.087355</td><td>-inf</td><td>22.949657</td><td>0.046449065</td><td>0.87153554</td><td>0.9115387</td><td>0.93415993</td><td>0.9495112</td><td>-2.8764382e-05</td><td>-2.2242431e-05</td><td>0.0</td><td>5.153484e-05</td><td>0.14928725</td><td>0.1005622</td><td>0.07394691</td><td>0.0562498</td><td>244 .. 16</td><td>0.9921592 .. 0.9996108</td><td>0.008546604</td><td>0.0052487506</td><td>0.0011194332</td><td>0.0004226707</td><td>506813</td><td>359.7058823529412</td><td>360.0</td><td>31.875</td><td>32.125</td><td>0.06235647765855223</td><td>True</td><td>True</td></tr>\n",
       "<tr><td>3598p322</td><td>359.8524590163934</td><td>32.25</td><td>4</td><td>5</td><td>0</td><td>5</td><td>3822 .. 0</td><td>5278 .. 0</td><td>0 .. 0</td><td>9089 .. 0</td><td>5920</td><td>3067</td><td>0</td><td>2287</td><td>326</td><td>122</td><td>0</td><td>112</td><td>6</td><td>1.8705237</td><td>1.74517</td><td>0.0</td><td>1.6214021</td><td>24.93388</td><td>24.344568</td><td>-inf</td><td>23.329313</td><td>24.769257</td><td>24.150425</td><td>-inf</td><td>23.08779</td><td>0.045065954</td><td>0.8751111</td><td>0.9140562</td><td>0.9360564</td><td>0.9509771</td><td>-3.4974855e-05</td><td>-2.739678e-05</td><td>0.0</td><td>4.2614804e-05</td><td>0.14484201</td><td>0.097567774</td><td>0.071744986</td><td>0.05457487</td><td>236 .. 14</td><td>0.99239177 .. 0.99962234</td><td>0.00829212</td><td>0.0050924337</td><td>0.0010860711</td><td>0.00041011116</td><td>508033</td><td>359.70491803278685</td><td>360.0</td><td>32.125</td><td>32.375</td><td>0.06238975733882519</td><td>True</td><td>True</td></tr>\n",
       "<tr><td>3598p325</td><td>359.85221674876846</td><td>32.5</td><td>5</td><td>5</td><td>0</td><td>6</td><td>25824 .. 0</td><td>29406 .. 0</td><td>0 .. 0</td><td>31935 .. 0</td><td>5798</td><td>3078</td><td>0</td><td>2159</td><td>354</td><td>140</td><td>0</td><td>65</td><td>2</td><td>1.9328443</td><td>1.7469494</td><td>0.0</td><td>1.6289397</td><td>24.939152</td><td>24.38349</td><td>-inf</td><td>23.397732</td><td>24.779776</td><td>24.197258</td><td>-inf</td><td>23.154896</td><td>0.04580567</td><td>0.87319696</td><td>0.9127089</td><td>0.93504167</td><td>0.9501928</td><td>-2.6558659e-05</td><td>-2.6912327e-05</td><td>0.0</td><td>4.662928e-05</td><td>0.14721946</td><td>0.099169314</td><td>0.07292259</td><td>0.055470653</td><td>233 .. 15</td><td>0.9922674 .. 0.99961615</td><td>0.008428224</td><td>0.005176051</td><td>0.0011039504</td><td>0.0004168441</td><td>509251</td><td>359.7044334975369</td><td>360.0</td><td>32.375</td><td>32.625</td><td>0.062319564961550604</td><td>True</td><td>True</td></tr>\n",
       "<tr><td>3598p327</td><td>359.8517298187809</td><td>32.75</td><td>3</td><td>3</td><td>0</td><td>4</td><td>17131 .. 0</td><td>21041 .. 0</td><td>0 .. 0</td><td>27504 .. 0</td><td>5175</td><td>2644</td><td>0</td><td>1964</td><td>340</td><td>148</td><td>0</td><td>77</td><td>2</td><td>2.0011084</td><td>1.8235002</td><td>0.0</td><td>1.7611693</td><td>24.682816</td><td>24.149694</td><td>-inf</td><td>23.144281</td><td>24.513742</td><td>23.964195</td><td>-inf</td><td>22.93666</td><td>0.04618582</td><td>0.8722149</td><td>0.9120173</td><td>0.9345206</td><td>0.94979</td><td>-1.9830577e-05</td><td>-4.3812024e-06</td><td>0.0</td><td>7.258832e-05</td><td>0.14844123</td><td>0.09999232</td><td>0.0735278</td><td>0.055931017</td><td>235 .. 15</td><td>0.9922034 .. 0.999613</td><td>0.008498207</td><td>0.0052189683</td><td>0.0011130846</td><td>0.00042027532</td><td>510465</td><td>359.70345963756176</td><td>360.0</td><td>32.625</td><td>32.875</td><td>0.06235050343228933</td><td>True</td><td>True</td></tr>\n",
       "<tr><td>3598p330</td><td>359.8512396694215</td><td>33.0</td><td>2</td><td>2</td><td>0</td><td>3</td><td>112039 .. 0</td><td>108682 .. 0</td><td>0 .. 0</td><td>17878 .. 0</td><td>3994</td><td>2109</td><td>0</td><td>1499</td><td>227</td><td>105</td><td>0</td><td>53</td><td>1</td><td>2.1790986</td><td>1.8706026</td><td>0.0</td><td>1.6761159</td><td>24.283035</td><td>23.837357</td><td>-inf</td><td>22.930576</td><td>24.158297</td><td>23.674105</td><td>-inf</td><td>22.717037</td><td>0.04476127</td><td>0.8759008</td><td>0.9146117</td><td>0.9364747</td><td>0.9513003</td><td>-1.2307706e-06</td><td>5.4835e-07</td><td>0.0</td><td>8.936475e-05</td><td>0.14386268</td><td>0.09690812</td><td>0.0712599</td><td>0.054205887</td><td>235 .. 13</td><td>0.99244297 .. 0.9996249</td><td>0.008236106</td><td>0.005057974</td><td>0.001078751</td><td>0.00040732737</td><td>511675</td><td>359.702479338843</td><td>360.0</td><td>32.875</td><td>33.125</td><td>0.062380455467014616</td><td>True</td><td>False</td></tr>\n",
       "<tr><td>3598p332</td><td>359.85074626865674</td><td>33.25</td><td>2</td><td>2</td><td>0</td><td>3</td><td>52539 .. 0</td><td>53886 .. 0</td><td>0 .. 0</td><td>10052 .. 0</td><td>3705</td><td>2056</td><td>0</td><td>1312</td><td>215</td><td>87</td><td>0</td><td>35</td><td>0</td><td>2.199914</td><td>1.9201138</td><td>0.0</td><td>1.6713998</td><td>24.277306</td><td>23.81012</td><td>-inf</td><td>22.935429</td><td>24.153591</td><td>23.652752</td><td>-inf</td><td>22.718618</td><td>0.04552661</td><td>0.87391865</td><td>0.91321695</td><td>0.9354243</td><td>0.95048857</td><td>1.9495708e-07</td><td>7.212541e-06</td><td>0.0</td><td>8.475439e-05</td><td>0.14632247</td><td>0.09856509</td><td>0.07247835</td><td>0.055132754</td><td>240 .. 15</td><td>0.9923143 .. 0.9996185</td><td>0.008376898</td><td>0.005144515</td><td>0.0010972132</td><td>0.00041431925</td><td>512881</td><td>359.70149253731347</td><td>360.0</td><td>33.125</td><td>33.375</td><td>0.06240941461549664</td><td>True</td><td>False</td></tr>\n",
       "<tr><td>3598p335</td><td>359.8504983388704</td><td>33.5</td><td>2</td><td>2</td><td>0</td><td>3</td><td>150854 .. 0</td><td>149808 .. 0</td><td>0 .. 0</td><td>14054 .. 0</td><td>3639</td><td>2072</td><td>0</td><td>1217</td><td>198</td><td>102</td><td>0</td><td>49</td><td>1</td><td>2.1936755</td><td>1.9045492</td><td>0.0</td><td>1.6634563</td><td>24.27359</td><td>23.816166</td><td>-inf</td><td>22.943228</td><td>24.148815</td><td>23.655222</td><td>-inf</td><td>22.724924</td><td>0.048126265</td><td>0.86721915</td><td>0.90849525</td><td>0.9318654</td><td>0.94773656</td><td>-6.74113e-06</td><td>-9.339891e-06</td><td>0.0</td><td>8.663393e-05</td><td>0.15467785</td><td>0.10419335</td><td>0.07661704</td><td>0.058280915</td><td>237 .. 14</td><td>0.9918772 .. 0.9995967</td><td>0.008855233</td><td>0.0054382603</td><td>0.0011598577</td><td>0.00043794946</td><td>514085</td><td>359.7009966777408</td><td>360.0</td><td>33.375</td><td>33.625</td><td>0.06233365779572808</td><td>True</td><td>False</td></tr>\n",
       "<tr><td>3598p337</td><td>359.85</td><td>33.75</td><td>2</td><td>2</td><td>0</td><td>3</td><td>186011 .. 0</td><td>173157 .. 0</td><td>0 .. 0</td><td>75025 .. 0</td><td>3926</td><td>2090</td><td>0</td><td>1479</td><td>196</td><td>123</td><td>0</td><td>37</td><td>1</td><td>2.2195287</td><td>1.8993986</td><td>0.0</td><td>1.6641392</td><td>24.221436</td><td>23.774857</td><td>-inf</td><td>22.94625</td><td>24.099836</td><td>23.612402</td><td>-inf</td><td>22.729681</td><td>0.052384146</td><td>0.8563572</td><td>0.9008144</td><td>0.9260657</td><td>0.9432463</td><td>5.0296272e-05</td><td>8.0939586e-05</td><td>0.0</td><td>0.00015929065</td><td>0.16836259</td><td>0.11341169</td><td>0.083395526</td><td>0.063437216</td><td>236 .. 15</td><td>0.9911617 .. 0.9995611</td><td>0.009638716</td><td>0.005919402</td><td>0.0012624805</td><td>0.0004766653</td><td>515285</td><td>359.70000000000005</td><td>360.0</td><td>33.625</td><td>33.875</td><td>0.06236022092268144</td><td>True</td><td>False</td></tr>\n",
       "<tr><td>3598p340</td><td>359.8494983277592</td><td>34.0</td><td>1</td><td>1</td><td>0</td><td>2</td><td>1031650 .. 0</td><td>1056112 .. 0</td><td>0 .. 0</td><td>242600 .. 0</td><td>3517</td><td>1989</td><td>0</td><td>1243</td><td>177</td><td>82</td><td>0</td><td>26</td><td>0</td><td>2.117054</td><td>1.8149722</td><td>0.0</td><td>1.6739128</td><td>23.980232</td><td>23.487265</td><td>-inf</td><td>22.766335</td><td>23.845459</td><td>23.304832</td><td>-inf</td><td>22.528687</td><td>0.053988144</td><td>0.8523007</td><td>0.89793783</td><td>0.9238902</td><td>0.9415603</td><td>2.5226182e-05</td><td>4.2446944e-05</td><td>0.0</td><td>0.00015174202</td><td>0.17351788</td><td>0.11688433</td><td>0.08594914</td><td>0.06537962</td><td>233 .. 16</td><td>0.99089235 .. 0.9995476</td><td>0.009933811</td><td>0.0061006336</td><td>0.0013010962</td><td>0.0004912974</td><td>516481</td><td>359.6989966555184</td><td>360.0</td><td>33.875</td><td>34.125</td><td>0.06238577050999666</td><td>True</td><td>False</td></tr>\n",
       "<tr><td>3598p342</td><td>359.8492462311558</td><td>34.25</td><td>0</td><td>0</td><td>0</td><td>0</td><td>9470885 .. 0</td><td>9527735 .. 0</td><td>0 .. 0</td><td>9671222 .. 0</td><td>620</td><td>380</td><td>0</td><td>154</td><td>55</td><td>14</td><td>0</td><td>17</td><td>0</td><td>2.1534765</td><td>1.8358264</td><td>0.0</td><td>1.7334163</td><td>23.892159</td><td>23.380966</td><td>-inf</td><td>22.200737</td><td>23.763031</td><td>23.21435</td><td>-inf</td><td>22.002018</td><td>0.059502587</td><td>0.8385008</td><td>0.88811815</td><td>0.9164499</td><td>0.93578684</td><td>2.6671405e-05</td><td>6.362282e-05</td><td>0.0</td><td>0.0002068725</td><td>0.1912413</td><td>0.12882313</td><td>0.09472817</td><td>0.072057664</td><td>239 .. 14</td><td>0.98996675 .. 0.9995014</td><td>0.010948479</td><td>0.006723819</td><td>0.0014339937</td><td>0.0005414753</td><td>517675</td><td>359.6984924623116</td><td>360.0</td><td>34.125</td><td>34.375</td><td>0.062305759984451536</td><td>True</td><td>False</td></tr>\n",
       "</table></div>"
      ],
      "text/plain": [
       "<Table length=366912>\n",
       "brickname         ra           dec   ... survey_primary in_desi\n",
       "  bytes8       float64       float64 ...      bool        bool \n",
       "--------- ------------------ ------- ... -------------- -------\n",
       " 0001m002              0.125   -0.25 ...           True    True\n",
       " 0001m005              0.125    -0.5 ...           True    True\n",
       " 0001m007              0.125   -0.75 ...           True    True\n",
       " 0001m010              0.125    -1.0 ...           True    True\n",
       " 0001m012              0.125   -1.25 ...           True    True\n",
       " 0001m015              0.125    -1.5 ...           True    True\n",
       " 0001m017              0.125   -1.75 ...           True    True\n",
       " 0001m020              0.125    -2.0 ...           True    True\n",
       " 0001m022              0.125   -2.25 ...           True    True\n",
       " 0001m025              0.125    -2.5 ...           True    True\n",
       "      ...                ...     ... ...            ...     ...\n",
       " 3598p320  359.8529411764706    32.0 ...           True    True\n",
       " 3598p322  359.8524590163934   32.25 ...           True    True\n",
       " 3598p325 359.85221674876846    32.5 ...           True    True\n",
       " 3598p327  359.8517298187809   32.75 ...           True    True\n",
       " 3598p330  359.8512396694215    33.0 ...           True   False\n",
       " 3598p332 359.85074626865674   33.25 ...           True   False\n",
       " 3598p335  359.8504983388704    33.5 ...           True   False\n",
       " 3598p337             359.85   33.75 ...           True   False\n",
       " 3598p340  359.8494983277592    34.0 ...           True   False\n",
       " 3598p342  359.8492462311558   34.25 ...           True   False"
      ]
     },
     "execution_count": 18,
     "metadata": {},
     "output_type": "execute_result"
    }
   ],
   "source": [
    "decals_bricks = Table.read('survey-bricks-dr10-south.fits')\n",
    "galaxy_groups = Table.read('asu.fit')\n",
    "\n",
    "decals_bricks"
   ]
  },
  {
   "cell_type": "code",
   "execution_count": 19,
   "metadata": {},
   "outputs": [],
   "source": [
    "brick_coords = SkyCoord(ra=decals_bricks['ra'], dec=decals_bricks['dec'], unit=(u.deg, u.deg))\n",
    "\n",
    "galaxy_coords = SkyCoord(ra=galaxy_groups['RAJ2000'], dec=galaxy_groups['DEJ2000'], unit = (u.hourangle, u.deg))\n",
    "\n",
    "galaxy_groups['RAJ2000'] = galaxy_coords.icrs.ra.degree\n",
    "galaxy_groups['DEJ2000'] = galaxy_coords.icrs.dec.degree\n",
    "galaxy_groups.write('groups.fits', overwrite=True)"
   ]
  },
  {
   "cell_type": "code",
   "execution_count": 20,
   "metadata": {},
   "outputs": [
    {
     "data": {
      "text/html": [
       "<div><i>Table length=280</i>\n",
       "<table id=\"table139656036510928\" class=\"table-striped table-bordered table-condensed\">\n",
       "<thead><tr><th>Group</th><th>RAJ2000</th><th>DEJ2000</th><th>zUV</th><th>nUV</th><th>ngal</th><th>nz</th><th>mz</th><th>r_theta_</th><th>Rij</th><th>sigmalos</th><th>Simbad</th></tr></thead>\n",
       "<thead><tr><th></th><th></th><th></th><th></th><th></th><th></th><th></th><th></th><th>arcmin</th><th>kpc</th><th>km / s</th><th></th></tr></thead>\n",
       "<thead><tr><th>int16</th><th>float64</th><th>float64</th><th>float64</th><th>int16</th><th>int16</th><th>int16</th><th>int16</th><th>float64</th><th>float64</th><th>float64</th><th>bytes7</th></tr></thead>\n",
       "<tr><td>1</td><td>0.09554166666666665</td><td>-22.58711111111111</td><td>0.0</td><td>4</td><td>4</td><td>0</td><td>0</td><td>0.913</td><td>0.0</td><td>0.0</td><td>Simbad</td></tr>\n",
       "<tr><td>2</td><td>0.34475</td><td>13.108916666666666</td><td>0.017899</td><td>4</td><td>4</td><td>3</td><td>3</td><td>1.611</td><td>32.94</td><td>193.85</td><td>Simbad</td></tr>\n",
       "<tr><td>3</td><td>2.8417916666666665</td><td>-53.955444444444446</td><td>0.041719</td><td>4</td><td>3</td><td>1</td><td>1</td><td>1.249</td><td>0.0</td><td>0.0</td><td>Simbad</td></tr>\n",
       "<tr><td>4</td><td>3.3276666666666666</td><td>-41.579638888888894</td><td>0.0</td><td>4</td><td>3</td><td>0</td><td>0</td><td>1.027</td><td>0.0</td><td>0.0</td><td>Simbad</td></tr>\n",
       "<tr><td>5</td><td>3.537583333333333</td><td>-22.56413888888889</td><td>0.0</td><td>4</td><td>4</td><td>0</td><td>0</td><td>1.149</td><td>0.0</td><td>0.0</td><td>Simbad</td></tr>\n",
       "<tr><td>6</td><td>4.443124999999999</td><td>-69.14861111111112</td><td>0.0</td><td>4</td><td>3</td><td>0</td><td>0</td><td>1.336</td><td>0.0</td><td>0.0</td><td>Simbad</td></tr>\n",
       "<tr><td>7</td><td>4.619958333333332</td><td>-42.12755555555555</td><td>0.093258</td><td>4</td><td>3</td><td>1</td><td>1</td><td>0.891</td><td>0.0</td><td>0.0</td><td>Simbad</td></tr>\n",
       "<tr><td>8</td><td>4.6624583333333325</td><td>-35.95266666666667</td><td>0.012953</td><td>4</td><td>4</td><td>2</td><td>2</td><td>0.888</td><td>0.0</td><td>0.0</td><td>Simbad</td></tr>\n",
       "<tr><td>9</td><td>5.372249999999999</td><td>38.08530555555556</td><td>0.035708</td><td>4</td><td>3</td><td>2</td><td>2</td><td>1.161</td><td>0.0</td><td>0.0</td><td>Simbad</td></tr>\n",
       "<tr><td>...</td><td>...</td><td>...</td><td>...</td><td>...</td><td>...</td><td>...</td><td>...</td><td>...</td><td>...</td><td>...</td><td>...</td></tr>\n",
       "<tr><td>271</td><td>72.38737499999999</td><td>-73.06925</td><td>0.027543</td><td>6</td><td>3</td><td>2</td><td>2</td><td>1.263</td><td>0.0</td><td>0.0</td><td>Simbad</td></tr>\n",
       "<tr><td>272</td><td>125.02</td><td>21.07136111111111</td><td>0.017462</td><td>6</td><td>4</td><td>3</td><td>1</td><td>1.583</td><td>0.0</td><td>0.0</td><td>Simbad</td></tr>\n",
       "<tr><td>273</td><td>168.6338333333333</td><td>-0.8523055555555555</td><td>0.06907</td><td>6</td><td>6</td><td>5</td><td>4</td><td>1.519</td><td>106.41</td><td>57.16</td><td>Simbad</td></tr>\n",
       "<tr><td>274</td><td>185.30691666666664</td><td>49.45944444444445</td><td>0.045355</td><td>6</td><td>5</td><td>4</td><td>2</td><td>1.354</td><td>0.0</td><td>0.0</td><td>Simbad</td></tr>\n",
       "<tr><td>275</td><td>230.49587499999998</td><td>3.560111111111111</td><td>0.084655</td><td>6</td><td>5</td><td>4</td><td>4</td><td>0.701</td><td>72.12</td><td>268.79</td><td>Simbad</td></tr>\n",
       "<tr><td>276</td><td>328.86929166666664</td><td>-20.86288888888889</td><td>0.066913</td><td>6</td><td>5</td><td>1</td><td>1</td><td>1.335</td><td>0.0</td><td>0.0</td><td>Simbad</td></tr>\n",
       "<tr><td>277</td><td>31.262583333333335</td><td>-74.86388888888888</td><td>0.0</td><td>7</td><td>3</td><td>0</td><td>0</td><td>1.597</td><td>0.0</td><td>0.0</td><td>Simbad</td></tr>\n",
       "<tr><td>278</td><td>115.48283333333333</td><td>16.825916666666668</td><td>0.0</td><td>7</td><td>4</td><td>0</td><td>0</td><td>1.103</td><td>0.0</td><td>0.0</td><td>Simbad</td></tr>\n",
       "<tr><td>279</td><td>196.821</td><td>13.649111111111111</td><td>0.063226</td><td>7</td><td>6</td><td>5</td><td>1</td><td>1.704</td><td>0.0</td><td>0.0</td><td>Simbad</td></tr>\n",
       "<tr><td>280</td><td>349.1871666666666</td><td>9.815694444444444</td><td>0.0</td><td>7</td><td>3</td><td>0</td><td>0</td><td>1.114</td><td>0.0</td><td>0.0</td><td>Simbad</td></tr>\n",
       "</table></div>"
      ],
      "text/plain": [
       "<Table length=280>\n",
       "Group       RAJ2000             DEJ2000       ...   Rij   sigmalos  Simbad\n",
       "                                              ...   kpc    km / s         \n",
       "int16       float64             float64       ... float64 float64   bytes7\n",
       "----- ------------------- ------------------- ... ------- -------- -------\n",
       "    1 0.09554166666666665  -22.58711111111111 ...     0.0      0.0 Simbad\n",
       "    2             0.34475  13.108916666666666 ...   32.94   193.85 Simbad\n",
       "    3  2.8417916666666665 -53.955444444444446 ...     0.0      0.0 Simbad\n",
       "    4  3.3276666666666666 -41.579638888888894 ...     0.0      0.0 Simbad\n",
       "    5   3.537583333333333  -22.56413888888889 ...     0.0      0.0 Simbad\n",
       "    6   4.443124999999999  -69.14861111111112 ...     0.0      0.0 Simbad\n",
       "    7   4.619958333333332  -42.12755555555555 ...     0.0      0.0 Simbad\n",
       "    8  4.6624583333333325  -35.95266666666667 ...     0.0      0.0 Simbad\n",
       "    9   5.372249999999999   38.08530555555556 ...     0.0      0.0 Simbad\n",
       "  ...                 ...                 ... ...     ...      ...     ...\n",
       "  271   72.38737499999999           -73.06925 ...     0.0      0.0 Simbad\n",
       "  272              125.02   21.07136111111111 ...     0.0      0.0 Simbad\n",
       "  273   168.6338333333333 -0.8523055555555555 ...  106.41    57.16 Simbad\n",
       "  274  185.30691666666664   49.45944444444445 ...     0.0      0.0 Simbad\n",
       "  275  230.49587499999998   3.560111111111111 ...   72.12   268.79 Simbad\n",
       "  276  328.86929166666664  -20.86288888888889 ...     0.0      0.0 Simbad\n",
       "  277  31.262583333333335  -74.86388888888888 ...     0.0      0.0 Simbad\n",
       "  278  115.48283333333333  16.825916666666668 ...     0.0      0.0 Simbad\n",
       "  279             196.821  13.649111111111111 ...     0.0      0.0 Simbad\n",
       "  280   349.1871666666666   9.815694444444444 ...     0.0      0.0 Simbad"
      ]
     },
     "execution_count": 20,
     "metadata": {},
     "output_type": "execute_result"
    }
   ],
   "source": [
    "galaxy_groups"
   ]
  },
  {
   "cell_type": "code",
   "execution_count": 17,
   "metadata": {},
   "outputs": [],
   "source": [
    "def check_footprint(decals_bricks, galaxy_groups):\n",
    "    # Convertir las coordenadas de los bricks en un objeto SkyCoord\n",
    "    brick_coords = SkyCoord(ra=decals_bricks['ra'], dec=decals_bricks['dec'], unit=(u.deg, u.deg))\n",
    "\n",
    "    # Convertir las coordenadas de los grupos de galaxias en un objeto SkyCoord\n",
    "    galaxy_coords = SkyCoord(ra=galaxy_groups['RAJ2000'], dec=galaxy_groups['DEJ2000'], unit = (u.hourangle, u.deg))\n",
    "\n",
    "    # Verificar si cada grupo de galaxias está dentro de algún brick\n",
    "    within_footprint = np.zeros(len(galaxy_coords), dtype=bool)\n",
    "\n",
    "    for i, galaxy_coord in enumerate(galaxy_coords):\n",
    "        distances = galaxy_coord.separation(brick_coords).to('arcmin')\n",
    "        if np.any(distances < (15*np.sqrt(2)/2)*u.arcmin):\n",
    "            within_footprint[i] = True\n",
    "\n",
    "    return within_footprint\n",
    "\n",
    "# Ejemplo de uso\n",
    "#decals_bricks = np.array([\n",
    "#    [120.0, 30.0],\n",
    "#    [130.0, 40.0],\n",
    "    # ... coordenadas RA, DEC de otros bricks ...\n",
    "#])\n",
    "\n",
    "#galaxy_groups = np.array([\n",
    "#    [121.0, 31.0],\n",
    "#    [135.0, 45.0],\n",
    "#    # ... coordenadas RA, DEC de otros grupos de galaxias ...\n",
    "#])\n",
    "\n"
   ]
  },
  {
   "cell_type": "code",
   "execution_count": 18,
   "metadata": {},
   "outputs": [
    {
     "name": "stdout",
     "output_type": "stream",
     "text": [
      "[ True  True  True  True  True  True  True  True False  True False False\n",
      " False  True False False False  True  True  True  True  True  True False\n",
      "  True False False  True  True  True  True  True  True  True  True  True\n",
      "  True False  True False False  True  True False  True False  True  True\n",
      "  True  True  True  True  True  True  True  True  True  True False False\n",
      " False False False  True False  True  True  True  True False  True  True\n",
      " False  True  True False  True False  True False  True False False False\n",
      "  True False False  True  True  True  True False False False  True  True\n",
      "  True  True False  True  True False False  True False False False False\n",
      " False False False  True  True False False False  True False False False\n",
      " False  True False False  True  True False False False False False False\n",
      " False False False  True False  True  True  True  True False  True  True\n",
      "  True  True  True  True False False False False False  True False  True\n",
      "  True  True False  True False False False  True  True False False  True\n",
      " False  True  True  True False False False  True  True  True False False\n",
      " False False False False  True  True  True  True False  True  True  True\n",
      " False False False  True False  True  True  True  True  True  True  True\n",
      "  True  True  True  True False False False  True False False False False\n",
      " False False  True  True  True  True  True  True  True  True  True  True\n",
      "  True  True  True  True  True  True  True  True  True  True False False\n",
      "  True False False False  True  True False False  True False  True  True\n",
      " False False False False  True  True False False False False False  True\n",
      "  True  True  True  True  True  True  True False  True False  True False\n",
      "  True False False  True]\n"
     ]
    }
   ],
   "source": [
    "within_footprint = check_footprint(decals_bricks, galaxy_groups)\n",
    "print(within_footprint)"
   ]
  },
  {
   "cell_type": "code",
   "execution_count": 24,
   "metadata": {},
   "outputs": [],
   "source": [
    "#galaxy_groups.add_column(within_footprint, name = 'DECaLS') "
   ]
  },
  {
   "cell_type": "code",
   "execution_count": 25,
   "metadata": {},
   "outputs": [
    {
     "data": {
      "text/html": [
       "<div><i>Table length=280</i>\n",
       "<table id=\"table140695015053200\" class=\"table-striped table-bordered table-condensed\">\n",
       "<thead><tr><th>Group</th><th>RAJ2000</th><th>DEJ2000</th><th>zUV</th><th>nUV</th><th>ngal</th><th>nz</th><th>mz</th><th>r_theta_</th><th>Rij</th><th>sigmalos</th><th>Simbad</th><th>DECaLS</th></tr></thead>\n",
       "<thead><tr><th></th><th></th><th></th><th></th><th></th><th></th><th></th><th></th><th>arcmin</th><th>kpc</th><th>km / s</th><th></th><th></th></tr></thead>\n",
       "<thead><tr><th>int16</th><th>float64</th><th>float64</th><th>float64</th><th>int16</th><th>int16</th><th>int16</th><th>int16</th><th>float64</th><th>float64</th><th>float64</th><th>bytes7</th><th>bool</th></tr></thead>\n",
       "<tr><td>1</td><td>0.09554166666666665</td><td>-22.58711111111111</td><td>0.0</td><td>4</td><td>4</td><td>0</td><td>0</td><td>0.913</td><td>0.0</td><td>0.0</td><td>Simbad</td><td>True</td></tr>\n",
       "<tr><td>2</td><td>0.34475</td><td>13.108916666666666</td><td>0.017899</td><td>4</td><td>4</td><td>3</td><td>3</td><td>1.611</td><td>32.94</td><td>193.85</td><td>Simbad</td><td>True</td></tr>\n",
       "<tr><td>3</td><td>2.8417916666666665</td><td>-53.955444444444446</td><td>0.041719</td><td>4</td><td>3</td><td>1</td><td>1</td><td>1.249</td><td>0.0</td><td>0.0</td><td>Simbad</td><td>True</td></tr>\n",
       "<tr><td>4</td><td>3.3276666666666666</td><td>-41.579638888888894</td><td>0.0</td><td>4</td><td>3</td><td>0</td><td>0</td><td>1.027</td><td>0.0</td><td>0.0</td><td>Simbad</td><td>True</td></tr>\n",
       "<tr><td>5</td><td>3.537583333333333</td><td>-22.56413888888889</td><td>0.0</td><td>4</td><td>4</td><td>0</td><td>0</td><td>1.149</td><td>0.0</td><td>0.0</td><td>Simbad</td><td>True</td></tr>\n",
       "<tr><td>6</td><td>4.443124999999999</td><td>-69.14861111111112</td><td>0.0</td><td>4</td><td>3</td><td>0</td><td>0</td><td>1.336</td><td>0.0</td><td>0.0</td><td>Simbad</td><td>True</td></tr>\n",
       "<tr><td>7</td><td>4.619958333333332</td><td>-42.12755555555555</td><td>0.093258</td><td>4</td><td>3</td><td>1</td><td>1</td><td>0.891</td><td>0.0</td><td>0.0</td><td>Simbad</td><td>True</td></tr>\n",
       "<tr><td>8</td><td>4.6624583333333325</td><td>-35.95266666666667</td><td>0.012953</td><td>4</td><td>4</td><td>2</td><td>2</td><td>0.888</td><td>0.0</td><td>0.0</td><td>Simbad</td><td>True</td></tr>\n",
       "<tr><td>9</td><td>5.372249999999999</td><td>38.08530555555556</td><td>0.035708</td><td>4</td><td>3</td><td>2</td><td>2</td><td>1.161</td><td>0.0</td><td>0.0</td><td>Simbad</td><td>False</td></tr>\n",
       "<tr><td>...</td><td>...</td><td>...</td><td>...</td><td>...</td><td>...</td><td>...</td><td>...</td><td>...</td><td>...</td><td>...</td><td>...</td><td>...</td></tr>\n",
       "<tr><td>271</td><td>72.38737499999999</td><td>-73.06925</td><td>0.027543</td><td>6</td><td>3</td><td>2</td><td>2</td><td>1.263</td><td>0.0</td><td>0.0</td><td>Simbad</td><td>True</td></tr>\n",
       "<tr><td>272</td><td>125.02</td><td>21.07136111111111</td><td>0.017462</td><td>6</td><td>4</td><td>3</td><td>1</td><td>1.583</td><td>0.0</td><td>0.0</td><td>Simbad</td><td>False</td></tr>\n",
       "<tr><td>273</td><td>168.6338333333333</td><td>-0.8523055555555555</td><td>0.06907</td><td>6</td><td>6</td><td>5</td><td>4</td><td>1.519</td><td>106.41</td><td>57.16</td><td>Simbad</td><td>True</td></tr>\n",
       "<tr><td>274</td><td>185.30691666666664</td><td>49.45944444444445</td><td>0.045355</td><td>6</td><td>5</td><td>4</td><td>2</td><td>1.354</td><td>0.0</td><td>0.0</td><td>Simbad</td><td>False</td></tr>\n",
       "<tr><td>275</td><td>230.49587499999998</td><td>3.560111111111111</td><td>0.084655</td><td>6</td><td>5</td><td>4</td><td>4</td><td>0.701</td><td>72.12</td><td>268.79</td><td>Simbad</td><td>True</td></tr>\n",
       "<tr><td>276</td><td>328.86929166666664</td><td>-20.86288888888889</td><td>0.066913</td><td>6</td><td>5</td><td>1</td><td>1</td><td>1.335</td><td>0.0</td><td>0.0</td><td>Simbad</td><td>False</td></tr>\n",
       "<tr><td>277</td><td>31.262583333333335</td><td>-74.86388888888888</td><td>0.0</td><td>7</td><td>3</td><td>0</td><td>0</td><td>1.597</td><td>0.0</td><td>0.0</td><td>Simbad</td><td>True</td></tr>\n",
       "<tr><td>278</td><td>115.48283333333333</td><td>16.825916666666668</td><td>0.0</td><td>7</td><td>4</td><td>0</td><td>0</td><td>1.103</td><td>0.0</td><td>0.0</td><td>Simbad</td><td>False</td></tr>\n",
       "<tr><td>279</td><td>196.821</td><td>13.649111111111111</td><td>0.063226</td><td>7</td><td>6</td><td>5</td><td>1</td><td>1.704</td><td>0.0</td><td>0.0</td><td>Simbad</td><td>False</td></tr>\n",
       "<tr><td>280</td><td>349.1871666666666</td><td>9.815694444444444</td><td>0.0</td><td>7</td><td>3</td><td>0</td><td>0</td><td>1.114</td><td>0.0</td><td>0.0</td><td>Simbad</td><td>True</td></tr>\n",
       "</table></div>"
      ],
      "text/plain": [
       "<Table length=280>\n",
       "Group       RAJ2000             DEJ2000       ... sigmalos  Simbad DECaLS\n",
       "                                              ...  km / s                \n",
       "int16       float64             float64       ... float64   bytes7  bool \n",
       "----- ------------------- ------------------- ... -------- ------- ------\n",
       "    1 0.09554166666666665  -22.58711111111111 ...      0.0 Simbad\n",
       "   True\n",
       "    2             0.34475  13.108916666666666 ...   193.85 Simbad\n",
       "   True\n",
       "    3  2.8417916666666665 -53.955444444444446 ...      0.0 Simbad\n",
       "   True\n",
       "    4  3.3276666666666666 -41.579638888888894 ...      0.0 Simbad\n",
       "   True\n",
       "    5   3.537583333333333  -22.56413888888889 ...      0.0 Simbad\n",
       "   True\n",
       "    6   4.443124999999999  -69.14861111111112 ...      0.0 Simbad\n",
       "   True\n",
       "    7   4.619958333333332  -42.12755555555555 ...      0.0 Simbad\n",
       "   True\n",
       "    8  4.6624583333333325  -35.95266666666667 ...      0.0 Simbad\n",
       "   True\n",
       "    9   5.372249999999999   38.08530555555556 ...      0.0 Simbad\n",
       "  False\n",
       "  ...                 ...                 ... ...      ...     ...    ...\n",
       "  271   72.38737499999999           -73.06925 ...      0.0 Simbad\n",
       "   True\n",
       "  272              125.02   21.07136111111111 ...      0.0 Simbad\n",
       "  False\n",
       "  273   168.6338333333333 -0.8523055555555555 ...    57.16 Simbad\n",
       "   True\n",
       "  274  185.30691666666664   49.45944444444445 ...      0.0 Simbad\n",
       "  False\n",
       "  275  230.49587499999998   3.560111111111111 ...   268.79 Simbad\n",
       "   True\n",
       "  276  328.86929166666664  -20.86288888888889 ...      0.0 Simbad\n",
       "  False\n",
       "  277  31.262583333333335  -74.86388888888888 ...      0.0 Simbad\n",
       "   True\n",
       "  278  115.48283333333333  16.825916666666668 ...      0.0 Simbad\n",
       "  False\n",
       "  279             196.821  13.649111111111111 ...      0.0 Simbad\n",
       "  False\n",
       "  280   349.1871666666666   9.815694444444444 ...      0.0 Simbad\n",
       "   True"
      ]
     },
     "execution_count": 25,
     "metadata": {},
     "output_type": "execute_result"
    }
   ],
   "source": [
    "galaxy_groups['RAJ2000'] = galaxy_coords.icrs.ra.degree\n",
    "galaxy_groups['DEJ2000'] = galaxy_coords.icrs.dec.degree\n",
    "galaxy_groups"
   ]
  }
 ],
 "metadata": {
  "kernelspec": {
   "display_name": "Python 3",
   "language": "python",
   "name": "python3"
  },
  "language_info": {
   "codemirror_mode": {
    "name": "ipython",
    "version": 3
   },
   "file_extension": ".py",
   "mimetype": "text/x-python",
   "name": "python",
   "nbconvert_exporter": "python",
   "pygments_lexer": "ipython3",
   "version": "3.8.5"
  }
 },
 "nbformat": 4,
 "nbformat_minor": 4
}
