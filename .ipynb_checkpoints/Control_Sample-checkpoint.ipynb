{
 "cells": [
  {
   "cell_type": "code",
   "execution_count": 34,
   "id": "d32a755a",
   "metadata": {},
   "outputs": [],
   "source": [
    "from astropy.table import Table, vstack, Column, unique\n",
    "from scipy.stats import gaussian_kde\n",
    "import numpy as np\n",
    "from tqdm.notebook import tqdm\n",
    "import pandas as pd\n",
    "import matplotlib.pyplot as plt\n",
    "import seaborn as sns\n",
    "from scipy.stats import ks_2samp"
   ]
  },
  {
   "cell_type": "code",
   "execution_count": 4,
   "id": "6a9cda2f",
   "metadata": {},
   "outputs": [
    {
     "name": "stdout",
     "output_type": "stream",
     "text": [
      "27\n"
     ]
    }
   ],
   "source": [
    "# Leer la tabla\n",
    "table = Table.read('best.observations.idz', format='ascii')\n",
    "\n",
    "# Convertir las columnas a cadenas y combinar\n",
    "table['ra'] = [f\"{ra_h}:{ra_m}:{ra_s}\" for ra_h, ra_m, ra_s in zip(table['col5'], table['col6'], table['col7'])]\n",
    "table['dec'] = [f\"{dec_h}:{dec_m}:{dec_s}\" for dec_h, dec_m, dec_s in zip(table['col8'], table['col9'], table['col10'])]\n",
    "table['ra2000'] = [f\"{ra_h2}:{ra_m2}:{ra_s2}\" for ra_h2, ra_m2, ra_s2 in zip(table['col11'], table['col12'], table['col13'])]\n",
    "table['dec2000'] = [f\"{dec_h2}:{dec_m2}:{dec_s2}\" for dec_h2, dec_m2, dec_s2 in zip(table['col14'], table['col15'], table['col16'])]\n",
    "\n",
    "# Opcional: Eliminar las columnas originales si ya no son necesarias\n",
    "table.remove_columns(['col5', 'col6', 'col7', 'col8', 'col9', 'col10', 'col11', 'col12', 'col13', 'col14', 'col15', 'col16'])\n",
    "\n",
    "# Mostrar la tabla resultante\n",
    "print(len(table.colnames))\n",
    "\n",
    "# Opcional: Guardar la tabla resultante en un nuevo archivo\n",
    "table.write('/home/seba/Downloads/best_observations_combined.idz', format='ascii')\n",
    "\n"
   ]
  },
  {
   "cell_type": "code",
   "execution_count": 19,
   "id": "1aa34e0b",
   "metadata": {},
   "outputs": [
    {
     "data": {
      "application/vnd.jupyter.widget-view+json": {
       "model_id": "1eb8d4c2b0a84fab83b5378a2a1d4460",
       "version_major": 2,
       "version_minor": 0
      },
      "text/plain": [
       "Filtrando IDs únicos:   0%|          | 0/599301 [00:00<?, ?id/s]"
      ]
     },
     "metadata": {},
     "output_type": "display_data"
    }
   ],
   "source": [
    "table_sdss = Table.read('/home/seba/Downloads/group_DR7/ipetroA_1', format='ascii')\n",
    "#table_sdss = table_sdss[table_sdss['col3'] == 0]\n",
    "# Obtener los ID de la columna 3\n",
    "\n",
    "ids = table_sdss['col3']\n",
    "\n",
    "# Filtrar los ID que son únicos\n",
    "ids_unicos = [id for id in tqdm(ids, desc=\"Filtrando IDs únicos\", unit=\"id\") if list(ids).count(id) == 1]\n",
    "\n",
    "# Filtrar la tabla para conservar solo las filas con ID únicos\n",
    "tabla_filtrada = table_sdss[[id in ids_unicos for id in ids]]\n",
    "\n",
    "tabla_filtrada.write('single_members_sdss.csv', format='csv', overwrite=True)"
   ]
  },
  {
   "cell_type": "code",
   "execution_count": 22,
   "id": "ebb7a5f5",
   "metadata": {},
   "outputs": [],
   "source": [
    "galaxy_id = tabla_filtrada['col3'].tolist()"
   ]
  },
  {
   "cell_type": "code",
   "execution_count": 32,
   "id": "7ff321f8",
   "metadata": {},
   "outputs": [],
   "source": [
    "galaxy_id = pd.read_csv('single_members_sdss.csv')\n",
    "galaxy_id = galaxy_id['col3'].to_list()"
   ]
  },
  {
   "cell_type": "code",
   "execution_count": 33,
   "id": "9f5bf846",
   "metadata": {},
   "outputs": [],
   "source": [
    "group_properties = Table.read('/home/seba/Downloads/group_DR7/petroA_group', format='ascii')\n",
    "group_prop_isolated = group_properties[group_properties['col1'][galaxy_id]]"
   ]
  },
  {
   "cell_type": "code",
   "execution_count": 34,
   "id": "ab639933",
   "metadata": {},
   "outputs": [],
   "source": [
    "group_prop_isolated.rename_column('col1', 'group_id')\n",
    "group_prop_isolated.rename_column('col2', 'ra')\n",
    "group_prop_isolated.rename_column('col3', 'dec')\n",
    "group_prop_isolated.rename_column('col4', 'z')\n",
    "group_prop_isolated.rename_column('col5', 'group_L')\n",
    "group_prop_isolated.rename_column('col6', 'stellar_mass')\n",
    "group_prop_isolated.rename_column('col7', 'halo_mass1')\n",
    "group_prop_isolated.rename_column('col8', 'halo_mass2')\n",
    "group_prop_isolated.rename_column('col9', 'mean_separation_L')\n",
    "group_prop_isolated.rename_column('col10', 'mean_separation_M')\n",
    "group_prop_isolated.rename_column('col11', 'f_edge')\n",
    "group_prop_isolated.rename_column('col12', 'ID1')\n",
    "group_prop_isolated.rename_column('col13', 'ID2')"
   ]
  },
  {
   "cell_type": "code",
   "execution_count": 36,
   "id": "c46d1bcb",
   "metadata": {},
   "outputs": [],
   "source": [
    "group_prop_isolated.write('sample_isolated.csv', format='csv', overwrite=True)"
   ]
  },
  {
   "cell_type": "code",
   "execution_count": 29,
   "id": "70743ed7",
   "metadata": {},
   "outputs": [
    {
     "data": {
      "text/plain": [
       "199647"
      ]
     },
     "execution_count": 29,
     "metadata": {},
     "output_type": "execute_result"
    }
   ],
   "source": [
    "group_prop_isolated = group_prop_isolated[group_prop_isolated['z'] <= 0.17]\n",
    "group_prop_isolated = group_prop_isolated[(group_prop_isolated['stellar_mass'] < 12) & (group_prop_isolated['stellar_mass'] > 0)]\n",
    "group_prop_isolated = group_prop_isolated[group_prop_isolated['dec'] <= 32.5]\n",
    "#group_prop_isolated.write('sample_isolated_south.csv', format='csv')\n",
    "len(group_prop_isolated)"
   ]
  },
  {
   "cell_type": "code",
   "execution_count": 30,
   "id": "7760cd99",
   "metadata": {},
   "outputs": [
    {
     "data": {
      "image/png": "[encoded data removed]",
      "text/plain": [
       "<Figure size 640x480 with 1 Axes>"
      ]
     },
     "metadata": {},
     "output_type": "display_data"
    }
   ],
   "source": [
    "#group_prop_isolated_2 = Table.read('sample_before_mc_gswl.csv', format='ascii')\n",
    "group_prop_isolated\n",
    "plt.hist(group_prop_isolated['stellar_mass'], bins=30)\n",
    "plt.show()"
   ]
  },
  {
   "cell_type": "code",
   "execution_count": 46,
   "id": "0ba7ee49",
   "metadata": {},
   "outputs": [
    {
     "data": {
      "text/html": [
       "<div><i>Table length=2000</i>\n",
       "<table id=\"table140068722426384\" class=\"table-striped table-bordered table-condensed\">\n",
       "<thead><tr><th>col1</th><th>col2</th><th>col3</th><th>col4</th><th>col5</th><th>col6</th><th>col7</th><th>col8</th><th>col9</th><th>col10</th><th>col11</th><th>col12</th><th>col13</th><th>col14</th><th>col15</th><th>col16</th><th>col17</th><th>col18</th><th>col19</th><th>col20</th><th>col21</th><th>col22</th><th>col23</th><th>col24</th><th>group_id</th><th>ra</th><th>dec</th><th>z</th><th>group_L</th><th>stellar_mass</th><th>halo_mass1</th><th>halo_mass2</th><th>mean_separation_L</th><th>mean_separation_M</th><th>f_edge</th><th>ID1</th><th>ID2</th><th>Separation</th></tr></thead>\n",
       "<thead><tr><th>int64</th><th>int64</th><th>int64</th><th>int64</th><th>int64</th><th>float64</th><th>float64</th><th>float64</th><th>float64</th><th>float64</th><th>float64</th><th>float64</th><th>float64</th><th>float64</th><th>float64</th><th>float64</th><th>float64</th><th>float64</th><th>float64</th><th>int64</th><th>int64</th><th>int64</th><th>int64</th><th>int64</th><th>int64</th><th>float64</th><th>float64</th><th>float64</th><th>float64</th><th>float64</th><th>float64</th><th>float64</th><th>float64</th><th>float64</th><th>float64</th><th>int64</th><th>int64</th><th>float64</th></tr></thead>\n",
       "<tr><td>1237662236398256208</td><td>6378797078460501091</td><td>1796</td><td>53884</td><td>41</td><td>197.83683</td><td>8.831822</td><td>0.0677</td><td>1.52</td><td>10.536</td><td>0.033</td><td>0.45</td><td>0.066</td><td>1.373</td><td>0.198</td><td>0.429</td><td>0.087</td><td>0.319</td><td>0.071</td><td>0</td><td>1</td><td>3</td><td>2</td><td>1</td><td>289841</td><td>197.83684682</td><td>8.83180693</td><td>0.0677045</td><td>10.2479</td><td>10.277</td><td>12.3458</td><td>11.9281</td><td>7.996</td><td>5.9513</td><td>1.0</td><td>1</td><td>1</td><td>0.0807675261587167</td></tr>\n",
       "<tr><td>1237665126922125425</td><td>6378410072916100555</td><td>2351</td><td>53786</td><td>364</td><td>155.06629</td><td>30.013854</td><td>0.1568</td><td>1.52</td><td>11.046</td><td>0.039</td><td>0.589</td><td>0.145</td><td>1.882</td><td>0.489</td><td>0.512</td><td>0.16</td><td>0.382</td><td>0.145</td><td>0</td><td>1</td><td>3</td><td>2</td><td>1</td><td>366078</td><td>155.06628335</td><td>30.0138323</td><td>0.1567773</td><td>10.334</td><td>10.6832</td><td>12.4904</td><td>12.4527</td><td>8.8819</td><td>8.6395</td><td>1.0</td><td>-1</td><td>-1</td><td>0.0808236176097954</td></tr>\n",
       "<tr><td>1237650762933862488</td><td>6378973034680683366</td><td>338</td><td>51694</td><td>539</td><td>194.75312</td><td>-1.428991</td><td>0.0977</td><td>1.81</td><td>10.568</td><td>0.038</td><td>-1.541</td><td>0.8</td><td>1.019</td><td>1.095</td><td>0.153</td><td>0.148</td><td>0.105</td><td>0.097</td><td>0</td><td>1</td><td>2</td><td>5</td><td>1</td><td>67536</td><td>194.75311821</td><td>-1.42897599</td><td>0.0976744</td><td>10.0713</td><td>10.434</td><td>12.0702</td><td>12.1043</td><td>6.5735</td><td>6.7327</td><td>1.0</td><td>-1</td><td>-1</td><td>0.05441864209197128</td></tr>\n",
       "<tr><td>1237658298450772148</td><td>6377847133700097033</td><td>1192</td><td>52649</td><td>41</td><td>136.72017</td><td>4.245404</td><td>0.1236</td><td>0.17</td><td>10.553</td><td>0.038</td><td>0.289</td><td>0.091</td><td>1.553</td><td>0.448</td><td>0.266</td><td>0.08</td><td>0.178</td><td>0.066</td><td>0</td><td>1</td><td>2</td><td>1</td><td>1</td><td>190032</td><td>136.72018617</td><td>4.24539115</td><td>0.1236379</td><td>10.1158</td><td>10.2964</td><td>12.1368</td><td>11.9471</td><td>6.8895</td><td>6.0299</td><td>1.0</td><td>-1</td><td>-1</td><td>0.07422973885285723</td></tr>\n",
       "<tr><td>1237665372260139423</td><td>-99</td><td>2967</td><td>54584</td><td>274</td><td>240.77546</td><td>19.008217</td><td>0.1218</td><td>1.28</td><td>11.134</td><td>0.019</td><td>-1.621</td><td>0.643</td><td>1.07</td><td>0.507</td><td>0.162</td><td>0.05</td><td>0.109</td><td>0.033</td><td>0</td><td>1</td><td>0</td><td>1</td><td>1</td><td>381162</td><td>240.77546423</td><td>19.00821816</td><td>0.1218006</td><td>10.5779</td><td>10.9609</td><td>12.9411</td><td>12.9006</td><td>12.5028</td><td>12.1055</td><td>0.975</td><td>1</td><td>1</td><td>0.014991036608998419</td></tr>\n",
       "<tr><td>1237663457776370303</td><td>6379535943829816104</td><td>985</td><td>52431</td><td>515</td><td>316.97529</td><td>0.13049</td><td>0.0477</td><td>0.28</td><td>10.494</td><td>0.024</td><td>-0.598</td><td>0.227</td><td>1.986</td><td>0.636</td><td>0.281</td><td>0.067</td><td>0.187</td><td>0.052</td><td>0</td><td>1</td><td>2</td><td>6</td><td>1</td><td>326036</td><td>316.97530018</td><td>0.13048725</td><td>0.0476615</td><td>9.8637</td><td>10.1638</td><td>11.803</td><td>11.8276</td><td>5.4556</td><td>5.5501</td><td>1.0</td><td>1</td><td>1</td><td>0.037961545495498836</td></tr>\n",
       "<tr><td>1237668348137242741</td><td>6378585992629063639</td><td>2747</td><td>54233</td><td>87</td><td>217.74999</td><td>13.661402</td><td>0.1551</td><td>0.3</td><td>11.122</td><td>0.031</td><td>0.591</td><td>0.121</td><td>1.977</td><td>0.357</td><td>0.556</td><td>0.12</td><td>0.416</td><td>0.109</td><td>0</td><td>1</td><td>3</td><td>2</td><td>1</td><td>456553</td><td>217.7499662</td><td>13.66137307</td><td>0.1551211</td><td>10.3385</td><td>10.6806</td><td>12.4985</td><td>12.4485</td><td>8.9345</td><td>8.6129</td><td>1.0</td><td>-1</td><td>-1</td><td>0.13333553521583144</td></tr>\n",
       "<tr><td>1237665127994359896</td><td>6378410066473649114</td><td>1950</td><td>53436</td><td>573</td><td>150.86932</td><td>29.84385</td><td>0.1661</td><td>0.26</td><td>11.243</td><td>0.046</td><td>-0.05</td><td>0.631</td><td>1.891</td><td>0.811</td><td>0.403</td><td>0.098</td><td>0.295</td><td>0.083</td><td>0</td><td>1</td><td>0</td><td>1</td><td>1</td><td>367933</td><td>150.86931361</td><td>29.84384724</td><td>0.1661029</td><td>10.4953</td><td>10.9242</td><td>12.7884</td><td>12.8403</td><td>11.1028</td><td>11.5549</td><td>1.0</td><td>-1</td><td>-1</td><td>0.022290337092578286</td></tr>\n",
       "<tr><td>1237667254541025383</td><td>6378410113716195088</td><td>2350</td><td>53765</td><td>499</td><td>154.87484</td><td>26.777943</td><td>0.1178</td><td>0.92</td><td>10.53</td><td>0.035</td><td>-0.179</td><td>0.297</td><td>1.743</td><td>0.936</td><td>0.246</td><td>0.149</td><td>0.158</td><td>0.093</td><td>0</td><td>1</td><td>2</td><td>0</td><td>1</td><td>407672</td><td>154.87487738</td><td>26.77793367</td><td>0.117834</td><td>10.0888</td><td>10.3908</td><td>12.0957</td><td>12.0525</td><td>6.692</td><td>6.4918</td><td>1.0</td><td>-1</td><td>-1</td><td>0.12474379538779967</td></tr>\n",
       "<tr><td>...</td><td>...</td><td>...</td><td>...</td><td>...</td><td>...</td><td>...</td><td>...</td><td>...</td><td>...</td><td>...</td><td>...</td><td>...</td><td>...</td><td>...</td><td>...</td><td>...</td><td>...</td><td>...</td><td>...</td><td>...</td><td>...</td><td>...</td><td>...</td><td>...</td><td>...</td><td>...</td><td>...</td><td>...</td><td>...</td><td>...</td><td>...</td><td>...</td><td>...</td><td>...</td><td>...</td><td>...</td><td>...</td></tr>\n",
       "<tr><td>1237665530637713526</td><td>-99</td><td>2124</td><td>53770</td><td>41</td><td>212.68059</td><td>23.884806</td><td>0.0684</td><td>0.17</td><td>10.392</td><td>0.021</td><td>-1.68</td><td>0.789</td><td>1.28</td><td>0.681</td><td>0.199</td><td>0.098</td><td>0.134</td><td>0.066</td><td>0</td><td>1</td><td>0</td><td>0</td><td>1</td><td>387886</td><td>212.68052857</td><td>23.8848042</td><td>0.0683795</td><td>9.7477</td><td>10.13</td><td>11.6938</td><td>11.8043</td><td>5.0596</td><td>5.4604</td><td>1.0</td><td>1</td><td>1</td><td>0.2023129900269112</td></tr>\n",
       "<tr><td>1237667536402776148</td><td>6387874713031413117</td><td>2488</td><td>54149</td><td>329</td><td>164.87031</td><td>22.517146</td><td>0.0926</td><td>0.98</td><td>10.709</td><td>0.033</td><td>0.226</td><td>0.115</td><td>1.64</td><td>0.317</td><td>0.525</td><td>0.143</td><td>0.404</td><td>0.132</td><td>0</td><td>1</td><td>3</td><td>7</td><td>1</td><td>420623</td><td>164.87032716</td><td>22.51714096</td><td>0.092615</td><td>10.1417</td><td>10.342</td><td>12.1787</td><td>11.997</td><td>7.0971</td><td>6.244</td><td>1.0</td><td>-1</td><td>-1</td><td>0.05988147315912197</td></tr>\n",
       "<tr><td>1237661948639838308</td><td>6379078602828289661</td><td>1608</td><td>53138</td><td>260</td><td>175.34192</td><td>11.424693</td><td>0.0785</td><td>3.67</td><td>10.165</td><td>0.039</td><td>0.066</td><td>0.07</td><td>3.074</td><td>0.469</td><td>0.396</td><td>0.065</td><td>0.237</td><td>0.039</td><td>0</td><td>1</td><td>0</td><td>1</td><td>1</td><td>266790</td><td>175.34190809</td><td>11.42469213</td><td>0.0784503</td><td>9.8615</td><td>9.9654</td><td>11.8004</td><td>0.0</td><td>5.4457</td><td>0.0</td><td>1.0</td><td>1</td><td>0</td><td>0.04214299438496321</td></tr>\n",
       "<tr><td>1237671992953602321</td><td>-99</td><td>914</td><td>52721</td><td>363</td><td>207.88944</td><td>-1.299131</td><td>0.1666</td><td>0.02</td><td>11.054</td><td>0.034</td><td>-0.752</td><td>0.891</td><td>2.327</td><td>0.96</td><td>0.388</td><td>0.14</td><td>0.263</td><td>0.094</td><td>0</td><td>1</td><td>0</td><td>0</td><td>1</td><td>148655</td><td>207.88942211</td><td>-1.29914925</td><td>0.1665601</td><td>10.4708</td><td>10.9204</td><td>12.7431</td><td>12.8335</td><td>10.7249</td><td>11.4946</td><td>1.0</td><td>-1</td><td>-1</td><td>0.09199039666039122</td></tr>\n",
       "<tr><td>1237665227312332967</td><td>-99</td><td>2109</td><td>53468</td><td>209</td><td>203.42862</td><td>31.445724</td><td>0.0617</td><td>0.34</td><td>10.675</td><td>0.019</td><td>-1.388</td><td>0.503</td><td>0.748</td><td>0.464</td><td>0.119</td><td>0.04</td><td>0.085</td><td>0.027</td><td>0</td><td>1</td><td>0</td><td>6</td><td>1</td><td>373964</td><td>203.42861058</td><td>31.44571536</td><td>0.0617039</td><td>10.0198</td><td>10.4737</td><td>11.9992</td><td>12.1552</td><td>6.2536</td><td>6.9793</td><td>1.0</td><td>1</td><td>1</td><td>0.042479299646330945</td></tr>\n",
       "<tr><td>1237662263237410914</td><td>6378656387143044076</td><td>1800</td><td>53884</td><td>143</td><td>201.85639</td><td>9.239698</td><td>0.0879</td><td>1.42</td><td>10.281</td><td>0.04</td><td>0.223</td><td>0.079</td><td>1.383</td><td>0.3</td><td>0.261</td><td>0.117</td><td>0.175</td><td>0.09</td><td>0</td><td>1</td><td>3</td><td>1</td><td>1</td><td>294463</td><td>201.85640424</td><td>9.23968437</td><td>0.0879117</td><td>9.884</td><td>10.0376</td><td>11.8263</td><td>11.7573</td><td>5.5448</td><td>5.2859</td><td>1.0</td><td>-1</td><td>-1</td><td>0.07048342789335889</td></tr>\n",
       "<tr><td>1237665227302436965</td><td>6374821229382075600</td><td>2008</td><td>53473</td><td>631</td><td>176.81705</td><td>32.486095</td><td>0.1109</td><td>1.0</td><td>10.417</td><td>0.039</td><td>0.333</td><td>0.085</td><td>0.914</td><td>0.266</td><td>0.245</td><td>0.121</td><td>0.18</td><td>0.101</td><td>0</td><td>1</td><td>3</td><td>1</td><td>1</td><td>373691</td><td>176.81700746</td><td>32.48609384</td><td>0.1108847</td><td>9.9479</td><td>10.0598</td><td>11.9043</td><td>11.7674</td><td>5.8526</td><td>5.3233</td><td>1.0</td><td>-1</td><td>-1</td><td>0.12924778690362568</td></tr>\n",
       "<tr><td>1237656539664351371</td><td>6376474893794412197</td><td>725</td><td>52258</td><td>536</td><td>345.87583</td><td>-8.539669</td><td>0.0907</td><td>2.36</td><td>10.699</td><td>0.028</td><td>-1.671</td><td>0.758</td><td>1.761</td><td>0.725</td><td>0.271</td><td>0.105</td><td>0.179</td><td>0.069</td><td>0</td><td>1</td><td>0</td><td>0</td><td>1</td><td>161275</td><td>345.87581655</td><td>-8.53968182</td><td>0.0906585</td><td>10.1073</td><td>10.5283</td><td>12.1236</td><td>12.2279</td><td>6.8257</td><td>7.3498</td><td>1.0</td><td>-1</td><td>-1</td><td>0.06650418095969289</td></tr>\n",
       "<tr><td>1237667292650930338</td><td>6377706413391611727</td><td>2283</td><td>53729</td><td>68</td><td>135.48403</td><td>18.307291</td><td>0.1242</td><td>1.24</td><td>10.693</td><td>0.073</td><td>0.788</td><td>0.139</td><td>2.455</td><td>0.448</td><td>1.131</td><td>0.257</td><td>0.912</td><td>0.231</td><td>0</td><td>1</td><td>3</td><td>2</td><td>1</td><td>410268</td><td>135.48401976</td><td>18.30727915</td><td>0.1242192</td><td>10.0913</td><td>10.351</td><td>12.0997</td><td>12.0074</td><td>6.7107</td><td>6.2898</td><td>1.0</td><td>-1</td><td>-1</td><td>0.055179217294101454</td></tr>\n",
       "<tr><td>1237667211044061385</td><td>6377811908525821499</td><td>2279</td><td>53708</td><td>342</td><td>130.32632</td><td>18.086521</td><td>0.0739</td><td>0.22</td><td>10.687</td><td>0.033</td><td>0.43</td><td>0.097</td><td>1.987</td><td>0.291</td><td>0.615</td><td>0.145</td><td>0.461</td><td>0.131</td><td>0</td><td>1</td><td>3</td><td>2</td><td>1</td><td>402954</td><td>130.3262661</td><td>18.08651784</td><td>0.0739307</td><td>10.1065</td><td>10.3384</td><td>12.1225</td><td>11.993</td><td>6.8203</td><td>6.2268</td><td>1.0</td><td>1</td><td>1</td><td>0.18480272265539582</td></tr>\n",
       "</table></div>"
      ],
      "text/plain": [
       "<Table length=2000>\n",
       "        col1                col2         col3 ...  ID2       Separation     \n",
       "       int64               int64        int64 ... int64       float64       \n",
       "------------------- ------------------- ----- ... ----- --------------------\n",
       "1237662236398256208 6378797078460501091  1796 ...     1   0.0807675261587167\n",
       "1237665126922125425 6378410072916100555  2351 ...    -1   0.0808236176097954\n",
       "1237650762933862488 6378973034680683366   338 ...    -1  0.05441864209197128\n",
       "1237658298450772148 6377847133700097033  1192 ...    -1  0.07422973885285723\n",
       "1237665372260139423                 -99  2967 ...     1 0.014991036608998419\n",
       "1237663457776370303 6379535943829816104   985 ...     1 0.037961545495498836\n",
       "1237668348137242741 6378585992629063639  2747 ...    -1  0.13333553521583144\n",
       "1237665127994359896 6378410066473649114  1950 ...    -1 0.022290337092578286\n",
       "1237667254541025383 6378410113716195088  2350 ...    -1  0.12474379538779967\n",
       "                ...                 ...   ... ...   ...                  ...\n",
       "1237665530637713526                 -99  2124 ...     1   0.2023129900269112\n",
       "1237667536402776148 6387874713031413117  2488 ...    -1  0.05988147315912197\n",
       "1237661948639838308 6379078602828289661  1608 ...     0  0.04214299438496321\n",
       "1237671992953602321                 -99   914 ...    -1  0.09199039666039122\n",
       "1237665227312332967                 -99  2109 ...     1 0.042479299646330945\n",
       "1237662263237410914 6378656387143044076  1800 ...    -1  0.07048342789335889\n",
       "1237665227302436965 6374821229382075600  2008 ...    -1  0.12924778690362568\n",
       "1237656539664351371 6376474893794412197   725 ...    -1  0.06650418095969289\n",
       "1237667292650930338 6377706413391611727  2283 ...    -1 0.055179217294101454\n",
       "1237667211044061385 6377811908525821499  2279 ...     1  0.18480272265539582"
      ]
     },
     "execution_count": 46,
     "metadata": {},
     "output_type": "execute_result"
    }
   ],
   "source": [
    "# Número total de galaxias en la tabla\n",
    "n_galaxies = len(group_prop_isolated_2)\n",
    "\n",
    "# Generar 2000 índices aleatorios sin reemplazo\n",
    "random_indices = np.random.choice(n_galaxies, size=2000, replace=False)\n",
    "\n",
    "# Seleccionar 2000 galaxias aleatoriamente\n",
    "sampled_galaxies = group_prop_isolated_2[random_indices]\n",
    "\n",
    "# Mostrar las primeras filas de la tabla muestreada\n",
    "sampled_galaxies"
   ]
  },
  {
   "cell_type": "code",
   "execution_count": 48,
   "id": "396ff0fd",
   "metadata": {},
   "outputs": [],
   "source": [
    "sampled_galaxies.write('field_galaxies_gswl.csv', format='csv', overwrite=True)"
   ]
  },
  {
   "cell_type": "code",
   "execution_count": 26,
   "id": "693073e5",
   "metadata": {},
   "outputs": [
    {
     "data": {
      "image/png": "[encoded data removed]",
      "text/plain": [
       "<Figure size 640x480 with 1 Axes>"
      ]
     },
     "metadata": {},
     "output_type": "display_data"
    }
   ],
   "source": [
    "tab = Table.read('field_galaxies_gswl.csv', format='ascii')\n",
    "tab = tab[tab['col10']>0]\n",
    "plt.hist(tab['col10'], bins=30)\n",
    "plt.show()"
   ]
  },
  {
   "cell_type": "code",
   "execution_count": 39,
   "id": "653705f6",
   "metadata": {},
   "outputs": [
    {
     "data": {
      "text/html": [
       "<div><i>Table length=2000</i>\n",
       "<table id=\"table140071017220432\" class=\"table-striped table-bordered table-condensed\">\n",
       "<thead><tr><th>col1</th><th>col2</th><th>col3</th><th>col4</th><th>col5</th></tr></thead>\n",
       "<thead><tr><th>int64</th><th>int64</th><th>int64</th><th>int64</th><th>int64</th></tr></thead>\n",
       "<tr><td>263463</td><td>1156219</td><td>238287</td><td>1</td><td>1</td></tr>\n",
       "<tr><td>3823</td><td>48355</td><td>53827</td><td>1</td><td>1</td></tr>\n",
       "<tr><td>373939</td><td>1426047</td><td>315118</td><td>1</td><td>1</td></tr>\n",
       "<tr><td>34186</td><td>222446</td><td>19775</td><td>2</td><td>2</td></tr>\n",
       "<tr><td>343034</td><td>1348351</td><td>25</td><td>2</td><td>2</td></tr>\n",
       "<tr><td>284806</td><td>1209768</td><td>253368</td><td>1</td><td>1</td></tr>\n",
       "<tr><td>123114</td><td>531832</td><td>138662</td><td>1</td><td>1</td></tr>\n",
       "<tr><td>4009</td><td>48772</td><td>53975</td><td>1</td><td>1</td></tr>\n",
       "<tr><td>150755</td><td>722826</td><td>26191</td><td>1</td><td>1</td></tr>\n",
       "<tr><td>...</td><td>...</td><td>...</td><td>...</td><td>...</td></tr>\n",
       "<tr><td>15467</td><td>149790</td><td>62120</td><td>1</td><td>1</td></tr>\n",
       "<tr><td>175500</td><td>845502</td><td>175260</td><td>1</td><td>1</td></tr>\n",
       "<tr><td>289644</td><td>1221640</td><td>33962</td><td>1</td><td>1</td></tr>\n",
       "<tr><td>1738</td><td>41244</td><td>9839</td><td>1</td><td>2</td></tr>\n",
       "<tr><td>281721</td><td>1202517</td><td>251130</td><td>1</td><td>1</td></tr>\n",
       "<tr><td>230685</td><td>1007027</td><td>214844</td><td>1</td><td>1</td></tr>\n",
       "<tr><td>357978</td><td>1387029</td><td>37794</td><td>1</td><td>1</td></tr>\n",
       "<tr><td>1475</td><td>40679</td><td>52175</td><td>1</td><td>1</td></tr>\n",
       "<tr><td>135226</td><td>566630</td><td>147290</td><td>1</td><td>1</td></tr>\n",
       "<tr><td>112790</td><td>506343</td><td>131465</td><td>1</td><td>1</td></tr>\n",
       "</table></div>"
      ],
      "text/plain": [
       "<Table length=2000>\n",
       " col1    col2   col3   col4  col5\n",
       "int64   int64  int64  int64 int64\n",
       "------ ------- ------ ----- -----\n",
       "263463 1156219 238287     1     1\n",
       "  3823   48355  53827     1     1\n",
       "373939 1426047 315118     1     1\n",
       " 34186  222446  19775     2     2\n",
       "343034 1348351     25     2     2\n",
       "284806 1209768 253368     1     1\n",
       "123114  531832 138662     1     1\n",
       "  4009   48772  53975     1     1\n",
       "150755  722826  26191     1     1\n",
       "   ...     ...    ...   ...   ...\n",
       " 15467  149790  62120     1     1\n",
       "175500  845502 175260     1     1\n",
       "289644 1221640  33962     1     1\n",
       "  1738   41244   9839     1     2\n",
       "281721 1202517 251130     1     1\n",
       "230685 1007027 214844     1     1\n",
       "357978 1387029  37794     1     1\n",
       "  1475   40679  52175     1     1\n",
       "135226  566630 147290     1     1\n",
       "112790  506343 131465     1     1"
      ]
     },
     "execution_count": 39,
     "metadata": {},
     "output_type": "execute_result"
    }
   ],
   "source": [
    "galaxies = table_sdss[table_sdss['col3'][sampled_galaxies['group_id']]]\n",
    "galaxies"
   ]
  },
  {
   "cell_type": "code",
   "execution_count": 4,
   "id": "b2606127",
   "metadata": {},
   "outputs": [
    {
     "data": {
      "text/html": [
       "<div><i>Table length=1700</i>\n",
       "<table id=\"table140352989121232\" class=\"table-striped table-bordered table-condensed\">\n",
       "<thead><tr><th>group_id</th><th>ra</th><th>dec</th><th>Radii</th><th>index</th></tr></thead>\n",
       "<thead><tr><th>int64</th><th>float64</th><th>float64</th><th>int64</th><th>int64</th></tr></thead>\n",
       "<tr><td>289841</td><td>197.83684682</td><td>8.83180693</td><td>1</td><td>1</td></tr>\n",
       "<tr><td>366078</td><td>155.06628335</td><td>30.0138323</td><td>1</td><td>2</td></tr>\n",
       "<tr><td>67536</td><td>194.75311821</td><td>-1.42897599</td><td>1</td><td>3</td></tr>\n",
       "<tr><td>381162</td><td>240.77546423</td><td>19.00821816</td><td>1</td><td>4</td></tr>\n",
       "<tr><td>326036</td><td>316.97530018</td><td>0.13048725</td><td>1</td><td>5</td></tr>\n",
       "<tr><td>456553</td><td>217.7499662</td><td>13.66137307</td><td>1</td><td>6</td></tr>\n",
       "<tr><td>367933</td><td>150.86931361</td><td>29.84384724</td><td>1</td><td>7</td></tr>\n",
       "<tr><td>407672</td><td>154.87487738</td><td>26.77793367</td><td>1</td><td>8</td></tr>\n",
       "<tr><td>194893</td><td>145.71254342</td><td>5.2324028</td><td>1</td><td>9</td></tr>\n",
       "<tr><td>...</td><td>...</td><td>...</td><td>...</td><td>...</td></tr>\n",
       "<tr><td>333179</td><td>14.19159363</td><td>-0.37080886</td><td>1</td><td>1691</td></tr>\n",
       "<tr><td>332808</td><td>38.4337865</td><td>-0.66761292</td><td>1</td><td>1692</td></tr>\n",
       "<tr><td>468144</td><td>143.15379055</td><td>14.82647531</td><td>1</td><td>1693</td></tr>\n",
       "<tr><td>382852</td><td>244.46302926</td><td>15.83039382</td><td>1</td><td>1694</td></tr>\n",
       "<tr><td>235566</td><td>159.70255437</td><td>14.57824708</td><td>1</td><td>1695</td></tr>\n",
       "<tr><td>85442</td><td>226.83296653</td><td>1.32239356</td><td>1</td><td>1696</td></tr>\n",
       "<tr><td>325267</td><td>350.43616765</td><td>0.44198017</td><td>1</td><td>1697</td></tr>\n",
       "<tr><td>268355</td><td>169.76067567</td><td>11.89590143</td><td>1</td><td>1698</td></tr>\n",
       "<tr><td>403422</td><td>180.9394684</td><td>29.54637514</td><td>1</td><td>1699</td></tr>\n",
       "<tr><td>138003</td><td>258.74416213</td><td>29.56426293</td><td>1</td><td>1700</td></tr>\n",
       "</table></div>"
      ],
      "text/plain": [
       "<Table length=1700>\n",
       "group_id      ra          dec     Radii index\n",
       " int64     float64      float64   int64 int64\n",
       "-------- ------------ ----------- ----- -----\n",
       "  289841 197.83684682  8.83180693     1     1\n",
       "  366078 155.06628335  30.0138323     1     2\n",
       "   67536 194.75311821 -1.42897599     1     3\n",
       "  381162 240.77546423 19.00821816     1     4\n",
       "  326036 316.97530018  0.13048725     1     5\n",
       "  456553  217.7499662 13.66137307     1     6\n",
       "  367933 150.86931361 29.84384724     1     7\n",
       "  407672 154.87487738 26.77793367     1     8\n",
       "  194893 145.71254342   5.2324028     1     9\n",
       "     ...          ...         ...   ...   ...\n",
       "  333179  14.19159363 -0.37080886     1  1691\n",
       "  332808   38.4337865 -0.66761292     1  1692\n",
       "  468144 143.15379055 14.82647531     1  1693\n",
       "  382852 244.46302926 15.83039382     1  1694\n",
       "  235566 159.70255437 14.57824708     1  1695\n",
       "   85442 226.83296653  1.32239356     1  1696\n",
       "  325267 350.43616765  0.44198017     1  1697\n",
       "  268355 169.76067567 11.89590143     1  1698\n",
       "  403422  180.9394684 29.54637514     1  1699\n",
       "  138003 258.74416213 29.56426293     1  1700"
      ]
     },
     "execution_count": 4,
     "metadata": {},
     "output_type": "execute_result"
    }
   ],
   "source": [
    "control_sample = Table.read('control_sample_for_bricks.csv', format='ascii')\n",
    "radii_column = Column([1] * len(control_sample), name='Radii')\n",
    "\n",
    "# Añadir la columna a la tabla\n",
    "control_sample.add_column(radii_column)\n",
    "\n",
    "# Crear una columna de índices\n",
    "indices = list(range(1, len(control_sample) + 1))\n",
    "\n",
    "# Añadir la columna de índices a la tabla\n",
    "control_sample.add_column(Column(indices, name='index'))\n",
    "#control_sample\n",
    "#control_sample.write('control_sample_decals.csv', format='csv')\n",
    "control_sample_1700 = control_sample[:1700]\n",
    "control_sample_1700\n",
    "# Guardar la tabla en un archivo CSV o el formato que prefieras\n",
    "#control_sample_1700.write('/home/seba/Documents/DECALS/control_sample_1700.csv', format='csv', overwrite=True)"
   ]
  },
  {
   "cell_type": "code",
   "execution_count": 20,
   "id": "2cb42a46",
   "metadata": {},
   "outputs": [],
   "source": [
    "control_sample_1446 = Table.read('/home/seba/Documents/DECALS/control_sample_1446.csv')\n",
    "control_sample_1446 = control_sample_1446['ra', 'dec', 'index']\n",
    "radii_column = Column([5] * len(control_sample_1446), name='Radii')\n",
    "\n",
    "control_sample_1446.add_column(radii_column)\n",
    "#control_sample_1446.write('/home/seba/Documents/DECALS/control_sample_1446.csv', format='csv', overwrite=True)\n",
    "control_sample_1446\n",
    "n_arcmin_5 = pd.read_csv('/home/seba/Documents/numeros_unicos.txt', header=None)\n",
    "n = n_arcmin_5[0].to_list()\n",
    "control_sample_242 = control_sample_1446[np.isin(control_sample_1446['index'], n)]\n",
    "control_sample_242.write('/home/seba/Documents/DECALS/control_sample_242.csv', format='csv')"
   ]
  },
  {
   "cell_type": "code",
   "execution_count": 10,
   "id": "7950a205",
   "metadata": {},
   "outputs": [],
   "source": [
    "tabla = Table.read('/home/seba/Documents/DECALS/control_sample_1446.csv', format='ascii')\n",
    "tabla = tabla[644:]\n",
    "#tabla\n",
    "tabla.write('/home/seba/Documents/DECALS/control_sample_1446_751_1700.csv', format='csv')"
   ]
  },
  {
   "cell_type": "code",
   "execution_count": 9,
   "id": "33e378b8",
   "metadata": {},
   "outputs": [],
   "source": [
    "control_sample_1700 = Table.read('/home/seba/Documents/MorphoLS/Catalog/Galaxies_DECALS_control_sample.csv')\n",
    "control_242 = pd.read_csv('/home/seba/Documents/numeros_unicos.txt', header=None)\n",
    "n = control_242[0].to_list()\n",
    "control_sample_242 = control_sample_1700[np.isin(control_sample_1700['index'], n)]\n",
    "control_sample_741_1700 = control_sample_1700[control_sample_1700['index'] > 740]\n",
    "\n",
    "tabla_combinada = vstack([control_sample_242, control_sample_741_1700])\n",
    "\n",
    "# Eliminar las filas duplicadas basándote en la columna 'index'\n",
    "tabla_final = unique(tabla_combinada, keys='index', keep='first')\n",
    "tabla_final.write('/home/seba/Documents/MorphoLS/Catalog/Galaxies_DECALS_control_sample_2.csv', format='csv', overwrite=True)"
   ]
  },
  {
   "cell_type": "code",
   "execution_count": 16,
   "id": "3f3c4b64",
   "metadata": {},
   "outputs": [],
   "source": [
    "group_prop_isolated_dr4 = Table.read('field_sdss_dr4.csv', format='ascii')\n",
    "group_prop_isolated_dr4.rename_column('col1', 'galaxy_id')\n",
    "group_prop_isolated_dr4.rename_column('col2', 'NYU_id')\n",
    "group_prop_isolated_dr4.rename_column('col3', 'z_source_id')\n",
    "group_prop_isolated_dr4.rename_column('col4', 'ra')\n",
    "group_prop_isolated_dr4.rename_column('col5', 'dec')\n",
    "group_prop_isolated_dr4.rename_column('col6', 'z')\n",
    "group_prop_isolated_dr4.rename_column('col7', 'r')\n",
    "group_prop_isolated_dr4.rename_column('col8', 'r_limit')\n",
    "group_prop_isolated_dr4.rename_column('col9', 'completeness')\n",
    "group_prop_isolated_dr4.rename_column('col10', 'M_r')\n",
    "group_prop_isolated_dr4.rename_column('col11', 'stellar_mass')\n",
    "group_prop_isolated_dr4.rename_column('col12', 'g-r')"
   ]
  },
  {
   "cell_type": "code",
   "execution_count": 17,
   "id": "3db4ce9b",
   "metadata": {},
   "outputs": [],
   "source": [
    "group_prop_isolated_dr4 = group_prop_isolated_dr4[group_prop_isolated_dr4['z'] <= 0.17]\n",
    "group_prop_isolated_dr4 = group_prop_isolated_dr4[(group_prop_isolated_dr4['stellar_mass'] < 12) & (group_prop_isolated_dr4['stellar_mass'] > 8)]\n",
    "group_prop_isolated_dr4 = group_prop_isolated_dr4[group_prop_isolated_dr4['dec'] <= 32.5]"
   ]
  },
  {
   "cell_type": "code",
   "execution_count": 18,
   "id": "3761fd5a",
   "metadata": {},
   "outputs": [],
   "source": [
    "group_prop_isolated_dr4.write('isolated_sample_dr4.csv', format='csv')"
   ]
  },
  {
   "cell_type": "code",
   "execution_count": 50,
   "id": "6f33b5c1",
   "metadata": {},
   "outputs": [
    {
     "data": {
      "text/html": [
       "<div><i>Table length=2000</i>\n",
       "<table id=\"table140178248215248\" class=\"table-striped table-bordered table-condensed\">\n",
       "<thead><tr><th>galaxy_id</th><th>NYU_id</th><th>z_source_id</th><th>ra</th><th>dec</th><th>z</th><th>r</th><th>r_limit</th><th>completeness</th><th>M_r</th><th>stellar_mass</th><th>g-r</th></tr></thead>\n",
       "<thead><tr><th>int64</th><th>int64</th><th>int64</th><th>float64</th><th>float64</th><th>float64</th><th>float64</th><th>float64</th><th>float64</th><th>float64</th><th>float64</th><th>float64</th></tr></thead>\n",
       "<tr><td>165811</td><td>441579</td><td>-1</td><td>343.328757283</td><td>14.426981156</td><td>0.08738</td><td>15.2179995</td><td>17.7709999</td><td>0.8807</td><td>-21.911932</td><td>11.1208954</td><td>0.9002991</td></tr>\n",
       "<tr><td>5863</td><td>30685</td><td>-1</td><td>51.70893002</td><td>0.198609259</td><td>0.020424</td><td>15.1615</td><td>17.6814995</td><td>0.9773</td><td>-18.7420044</td><td>9.5866394</td><td>0.5817795</td></tr>\n",
       "<tr><td>323755</td><td>875859</td><td>-1</td><td>175.973363692</td><td>11.468849035</td><td>0.061463</td><td>17.4980011</td><td>17.8010998</td><td>0.8767</td><td>-18.8770828</td><td>9.4310207</td><td>0.3966141</td></tr>\n",
       "<tr><td>24932</td><td>93861</td><td>-1</td><td>155.611876123</td><td>1.149345055</td><td>0.149615</td><td>17.1294003</td><td>17.7996006</td><td>0.9565</td><td>-21.2483292</td><td>10.9710646</td><td>1.0276413</td></tr>\n",
       "<tr><td>95596</td><td>269603</td><td>-1</td><td>2.495090812</td><td>-10.157940633</td><td>0.063035</td><td>16.3965015</td><td>17.8290997</td><td>0.8782</td><td>-20.0053902</td><td>10.125679</td><td>0.6111736</td></tr>\n",
       "<tr><td>163892</td><td>437458</td><td>-1</td><td>326.852457965</td><td>11.615064645</td><td>0.086436</td><td>17.6401997</td><td>17.7994003</td><td>0.8966</td><td>-19.4743118</td><td>9.7991667</td><td>0.5264053</td></tr>\n",
       "<tr><td>97849</td><td>274160</td><td>-1</td><td>25.876874505</td><td>-8.595043867</td><td>0.161406</td><td>17.6435013</td><td>17.7961006</td><td>0.94</td><td>-20.8667965</td><td>10.5877132</td><td>0.7134895</td></tr>\n",
       "<tr><td>19049</td><td>78653</td><td>-1</td><td>215.524831946</td><td>-0.592751176</td><td>0.127881</td><td>17.4384003</td><td>17.6826992</td><td>0.8271</td><td>-20.5455112</td><td>10.3230276</td><td>0.6351109</td></tr>\n",
       "<tr><td>3061</td><td>14446</td><td>-1</td><td>39.53604488</td><td>-0.64232161</td><td>0.039931</td><td>16.6512012</td><td>17.6690998</td><td>0.9632</td><td>-18.7986088</td><td>9.2587814</td><td>0.2431698</td></tr>\n",
       "<tr><td>...</td><td>...</td><td>...</td><td>...</td><td>...</td><td>...</td><td>...</td><td>...</td><td>...</td><td>...</td><td>...</td><td>...</td></tr>\n",
       "<tr><td>181885</td><td>515977</td><td>-1</td><td>22.74672021</td><td>0.355732109</td><td>0.098779</td><td>17.8557014</td><td>17.6846008</td><td>0.99</td><td>-19.55229</td><td>9.8493595</td><td>0.5419865</td></tr>\n",
       "<tr><td>32664</td><td>114816</td><td>-1</td><td>348.553579827</td><td>0.591386765</td><td>0.07</td><td>16.9876003</td><td>17.7075005</td><td>0.8333</td><td>-19.6603985</td><td>9.8499479</td><td>0.5386009</td></tr>\n",
       "<tr><td>276747</td><td>761908</td><td>-1</td><td>128.615449403</td><td>30.42287662</td><td>0.083855</td><td>17.3618011</td><td>17.7835999</td><td>0.9355</td><td>-19.6863155</td><td>9.8470201</td><td>0.4659195</td></tr>\n",
       "<tr><td>15923</td><td>70094</td><td>-1</td><td>204.983090646</td><td>0.871383966</td><td>0.069942</td><td>17.2974014</td><td>17.7122002</td><td>0.7953</td><td>-19.3332329</td><td>9.9701395</td><td>0.7681751</td></tr>\n",
       "<tr><td>139319</td><td>373813</td><td>-1</td><td>173.908857384</td><td>4.140301635</td><td>0.034956</td><td>17.1069012</td><td>17.7852993</td><td>0.9748</td><td>-18.0078716</td><td>9.1640606</td><td>0.4538803</td></tr>\n",
       "<tr><td>189134</td><td>543981</td><td>-1</td><td>117.696393286</td><td>29.582628113</td><td>0.060318</td><td>17.6732998</td><td>17.7786999</td><td>0.791</td><td>-18.6549244</td><td>9.3917208</td><td>0.459034</td></tr>\n",
       "<tr><td>210817</td><td>597555</td><td>-1</td><td>117.96441267</td><td>23.17916506</td><td>0.045947</td><td>17.3422012</td><td>17.7814999</td><td>0.8078</td><td>-18.3508415</td><td>9.5417004</td><td>0.7520962</td></tr>\n",
       "<tr><td>68323</td><td>207775</td><td>-1</td><td>189.586303281</td><td>1.285073575</td><td>0.043351</td><td>17.4295998</td><td>17.7812996</td><td>0.8415</td><td>-18.1852818</td><td>9.0538549</td><td>0.239109</td></tr>\n",
       "<tr><td>346407</td><td>997136</td><td>-1</td><td>252.548223622</td><td>20.152851501</td><td>0.15929</td><td>17.6609001</td><td>17.7947006</td><td>0.9468</td><td>-20.8455448</td><td>10.7693939</td><td>0.8758011</td></tr>\n",
       "<tr><td>34807</td><td>120070</td><td>-1</td><td>178.038682954</td><td>-1.65793205</td><td>0.080424</td><td>16.2357998</td><td>17.6527004</td><td>0.8483</td><td>-20.7144127</td><td>10.389535</td><td>0.6022816</td></tr>\n",
       "</table></div>"
      ],
      "text/plain": [
       "<Table length=2000>\n",
       "galaxy_id NYU_id z_source_id ...     M_r     stellar_mass    g-r   \n",
       "  int64   int64     int64    ...   float64     float64     float64 \n",
       "--------- ------ ----------- ... ----------- ------------ ---------\n",
       "   165811 441579          -1 ...  -21.911932   11.1208954 0.9002991\n",
       "     5863  30685          -1 ... -18.7420044    9.5866394 0.5817795\n",
       "   323755 875859          -1 ... -18.8770828    9.4310207 0.3966141\n",
       "    24932  93861          -1 ... -21.2483292   10.9710646 1.0276413\n",
       "    95596 269603          -1 ... -20.0053902    10.125679 0.6111736\n",
       "   163892 437458          -1 ... -19.4743118    9.7991667 0.5264053\n",
       "    97849 274160          -1 ... -20.8667965   10.5877132 0.7134895\n",
       "    19049  78653          -1 ... -20.5455112   10.3230276 0.6351109\n",
       "     3061  14446          -1 ... -18.7986088    9.2587814 0.2431698\n",
       "      ...    ...         ... ...         ...          ...       ...\n",
       "   181885 515977          -1 ...   -19.55229    9.8493595 0.5419865\n",
       "    32664 114816          -1 ... -19.6603985    9.8499479 0.5386009\n",
       "   276747 761908          -1 ... -19.6863155    9.8470201 0.4659195\n",
       "    15923  70094          -1 ... -19.3332329    9.9701395 0.7681751\n",
       "   139319 373813          -1 ... -18.0078716    9.1640606 0.4538803\n",
       "   189134 543981          -1 ... -18.6549244    9.3917208  0.459034\n",
       "   210817 597555          -1 ... -18.3508415    9.5417004 0.7520962\n",
       "    68323 207775          -1 ... -18.1852818    9.0538549  0.239109\n",
       "   346407 997136          -1 ... -20.8455448   10.7693939 0.8758011\n",
       "    34807 120070          -1 ... -20.7144127    10.389535 0.6022816"
      ]
     },
     "execution_count": 50,
     "metadata": {},
     "output_type": "execute_result"
    }
   ],
   "source": [
    "# Número total de galaxias en la tabla\n",
    "n_galaxies = len(group_prop_isolated_dr4)\n",
    "\n",
    "# Generar 2000 índices aleatorios sin reemplazo\n",
    "random_indices = np.random.choice(n_galaxies, size=2000, replace=False)\n",
    "\n",
    "# Seleccionar 2000 galaxias aleatoriamente\n",
    "sampled_galaxies_dr4 = group_prop_isolated_dr4[random_indices]\n",
    "\n",
    "# Mostrar las primeras filas de la tabla muestreada\n",
    "sampled_galaxies_dr4"
   ]
  },
  {
   "cell_type": "code",
   "execution_count": 51,
   "id": "715b983e",
   "metadata": {},
   "outputs": [
    {
     "data": {
      "text/plain": [
       "172"
      ]
     },
     "execution_count": 51,
     "metadata": {},
     "output_type": "execute_result"
    }
   ],
   "source": [
    "sampled_galaxies_low = sampled_galaxies_dr4[sampled_galaxies_dr4['stellar_mass'] < 9.5]\n",
    "len(sampled_galaxies_low)"
   ]
  },
  {
   "cell_type": "code",
   "execution_count": 52,
   "id": "3d868c73",
   "metadata": {},
   "outputs": [
    {
     "data": {
      "text/plain": [
       "(array([ 3.,  2.,  0.,  0.,  3.,  1.,  1.,  2.,  1.,  5.,  4.,  2.,  1.,\n",
       "         1.,  6.,  2.,  6.,  6.,  3.,  6.,  9., 13.,  9.,  7.,  8., 11.,\n",
       "        13., 14., 15., 18.]),\n",
       " array([8.222496  , 8.26502349, 8.30755097, 8.35007846, 8.39260595,\n",
       "        8.43513343, 8.47766092, 8.52018841, 8.56271589, 8.60524338,\n",
       "        8.64777087, 8.69029835, 8.73282584, 8.77535333, 8.81788081,\n",
       "        8.8604083 , 8.90293579, 8.94546327, 8.98799076, 9.03051825,\n",
       "        9.07304573, 9.11557322, 9.15810071, 9.20062819, 9.24315568,\n",
       "        9.28568317, 9.32821065, 9.37073814, 9.41326563, 9.45579311,\n",
       "        9.4983206 ]),\n",
       " <BarContainer object of 30 artists>)"
      ]
     },
     "execution_count": 52,
     "metadata": {},
     "output_type": "execute_result"
    },
    {
     "data": {
      "image/png": "[encoded data removed]",
      "text/plain": [
       "<Figure size 640x480 with 1 Axes>"
      ]
     },
     "metadata": {},
     "output_type": "display_data"
    }
   ],
   "source": [
    "plt.hist(sampled_galaxies_low['stellar_mass'], bins=30)"
   ]
  },
  {
   "cell_type": "code",
   "execution_count": 58,
   "id": "5ba32251",
   "metadata": {},
   "outputs": [],
   "source": [
    "#sampled_galaxies_low.write('low_mass_field.csv', format='csv', overwrite=True)\n",
    "control_sample_low = sampled_galaxies_low['ra', 'dec']\n",
    "radii_column = Column([5] * len(control_sample_low), name='Radii')\n",
    "\n",
    "# Añadir la columna a la tabla\n",
    "control_sample_low.add_column(radii_column)\n",
    "\n",
    "# Crear una columna de índices\n",
    "indices = list(range(1701, len(control_sample_low) + 1701))\n",
    "\n",
    "# Añadir la columna de índices a la tabla\n",
    "control_sample_low.add_column(Column(indices, name='index'))\n",
    "control_sample_low.write('control_sample_low.csv', format='csv')"
   ]
  },
  {
   "cell_type": "code",
   "execution_count": 21,
   "id": "79cd9b0c",
   "metadata": {},
   "outputs": [
    {
     "name": "stdout",
     "output_type": "stream",
     "text": [
      "No se pudo convertir la columna type a float. Contiene datos no numéricos.\n",
      "No se pudo convertir la columna XC_g a float. Contiene datos no numéricos.\n",
      "No se pudo convertir la columna YC_g a float. Contiene datos no numéricos.\n",
      "No se pudo convertir la columna XC_r a float. Contiene datos no numéricos.\n",
      "No se pudo convertir la columna YC_r a float. Contiene datos no numéricos.\n",
      "No se pudo convertir la columna XC_i a float. Contiene datos no numéricos.\n",
      "No se pudo convertir la columna YC_i a float. Contiene datos no numéricos.\n",
      "No se pudo convertir la columna XC_z a float. Contiene datos no numéricos.\n",
      "No se pudo convertir la columna YC_z a float. Contiene datos no numéricos.\n",
      "No se pudo convertir la columna type a float. Contiene datos no numéricos.\n",
      "No se pudo convertir la columna XC_g a float. Contiene datos no numéricos.\n",
      "No se pudo convertir la columna YC_g a float. Contiene datos no numéricos.\n",
      "No se pudo convertir la columna XC_r a float. Contiene datos no numéricos.\n",
      "No se pudo convertir la columna YC_r a float. Contiene datos no numéricos.\n",
      "No se pudo convertir la columna XC_i a float. Contiene datos no numéricos.\n",
      "No se pudo convertir la columna YC_i a float. Contiene datos no numéricos.\n",
      "No se pudo convertir la columna XC_z a float. Contiene datos no numéricos.\n",
      "No se pudo convertir la columna YC_z a float. Contiene datos no numéricos.\n"
     ]
    }
   ],
   "source": [
    "control_sample = Table.read('/home/seba/Documents/MorphoLS/Output_Catalogs/GalfitM_Output_Control_Sample.csv')\n",
    "control_sample_low = Table.read('/home/seba/Documents/MorphoLS/GalfitM_Output_Control_Sample_low.csv')\n",
    "#tabla_combinada = vstack([control_sample, control_sample_low])\n",
    "#tabla_combinada\n",
    "#print(control_sample_low['XC_g'])\n",
    "for col in control_sample_low.colnames:\n",
    "    try:\n",
    "        # Convertir solo los valores de tipo string\n",
    "        control_sample_low[col] = [float(value.replace('*', '').strip()) if isinstance(value, str) else float(value)\n",
    "                                   for value in control_sample_low[col]]\n",
    "    except ValueError:\n",
    "        # Si hay un error (como una columna no numérica), la ignoramos\n",
    "        print(f\"No se pudo convertir la columna {col} a float. Contiene datos no numéricos.\")\n",
    "for col in control_sample.colnames:\n",
    "    try:\n",
    "        # Convertir solo los valores de tipo string\n",
    "        control_sample[col] = [float(value.replace('*', '').strip()) if isinstance(value, str) else float(value)\n",
    "                                   for value in control_sample[col]]\n",
    "    except ValueError:\n",
    "        # Si hay un error (como una columna no numérica), la ignoramos\n",
    "        print(f\"No se pudo convertir la columna {col} a float. Contiene datos no numéricos.\")"
   ]
  },
  {
   "cell_type": "code",
   "execution_count": 24,
   "id": "cf66550a",
   "metadata": {},
   "outputs": [],
   "source": [
    "tabla_combinada = vstack([control_sample, control_sample_low])\n",
    "tabla_combinada.write('/home/seba/Documents/MorphoLS/Analysis/GalfitM_output_control_sample_full.csv')"
   ]
  },
  {
   "cell_type": "markdown",
   "id": "51470b64",
   "metadata": {},
   "source": [
    "## Para generar una muestra aleatoria en función de la KDE de la muestra de galaxias de los grupos compactos"
   ]
  },
  {
   "cell_type": "code",
   "execution_count": 19,
   "id": "84fa2146",
   "metadata": {},
   "outputs": [
    {
     "data": {
      "image/png": "[encoded data removed]",
      "text/plain": [
       "<Figure size 432x288 with 1 Axes>"
      ]
     },
     "metadata": {
      "needs_background": "light"
     },
     "output_type": "display_data"
    }
   ],
   "source": [
    "grupos = Table.read('/home/seba/Documents/MorphoLS/Analysis/sfr_decals.csv', format='ascii')\n",
    "control = Table.read('isolated_sample_dr4.csv', format='ascii')\n",
    "control_df = control.to_pandas()\n",
    "masas_grupos = grupos['log(M_stellar)']\n",
    "sns.histplot(masas_grupos, kde=True, stat='density', bins=20, color='darkviolet')\n",
    "plt.xlabel('log $M_{*}(M_{\\odot})$')\n",
    "plt.ylabel('Fraction of galaxies')\n",
    "plt.title('Mass Distribution')\n",
    "plt.show()"
   ]
  },
  {
   "cell_type": "code",
   "execution_count": 20,
   "id": "9114bbed",
   "metadata": {},
   "outputs": [],
   "source": [
    "kde = gaussian_kde(masas_grupos)\n",
    "mass_range = np.linspace(min(masas_grupos), max(masas_grupos), 100)\n",
    "kde_values = kde(mass_range)"
   ]
  },
  {
   "cell_type": "code",
   "execution_count": 30,
   "id": "fd23cd9d",
   "metadata": {},
   "outputs": [
    {
     "data": {
      "image/png": "[encoded data removed]",
      "text/plain": [
       "<Figure size 720x576 with 1 Axes>"
      ]
     },
     "metadata": {
      "needs_background": "light"
     },
     "output_type": "display_data"
    }
   ],
   "source": [
    "masas_campo = control_df['stellar_mass']\n",
    "\n",
    "probabilities = kde(masas_campo)\n",
    "\n",
    "probabilities /= probabilities.sum()\n",
    "len(masas_campo)\n",
    "selected_galaxies = control_df.sample(n=len(masas_grupos), weights=probabilities)\n",
    "plt.figure(figsize = (10, 8))\n",
    "sns.histplot(masas_grupos, kde=True, stat='density', bins=20, color='darkviolet', label='Galaxies in CGs')\n",
    "sns.histplot(selected_galaxies['stellar_mass'], kde=True, stat='density', bins=10, color='plum', label = 'Galaxies in the field')\n",
    "#sns.histplot(masas_grupos, kde=True, stat='density', bins=20, color='darkviolet')\n",
    "plt.xlabel('log $M_{*}(M_{\\odot})$')\n",
    "plt.ylabel('Fraction of galaxies')\n",
    "plt.title('Mass Distribution')\n",
    "plt.legend()\n",
    "plt.show()\n"
   ]
  },
  {
   "cell_type": "code",
   "execution_count": 33,
   "id": "e9db1d9d",
   "metadata": {},
   "outputs": [
    {
     "name": "stdout",
     "output_type": "stream",
     "text": [
      "9.93415904725963 10.3929758\n"
     ]
    }
   ],
   "source": [
    "print(np.median(masas_grupos), np.median(selected_galaxies['stellar_mass']))"
   ]
  },
  {
   "cell_type": "code",
   "execution_count": 35,
   "id": "37f2d6dd",
   "metadata": {},
   "outputs": [
    {
     "name": "stdout",
     "output_type": "stream",
     "text": [
      "0.3393258426966292 4.2373649753455347e-23\n"
     ]
    }
   ],
   "source": [
    "# Realizar el KS test\n",
    "ks_stat, p_value = ks_2samp(masas_grupos, selected_galaxies['stellar_mass'])\n",
    "print(ks_stat, p_value)"
   ]
  }
 ],
 "metadata": {
  "kernelspec": {
   "display_name": "Python 3 (ipykernel)",
   "language": "python",
   "name": "python3"
  },
  "language_info": {
   "codemirror_mode": {
    "name": "ipython",
    "version": 3
   },
   "file_extension": ".py",
   "mimetype": "text/x-python",
   "name": "python",
   "nbconvert_exporter": "python",
   "pygments_lexer": "ipython3",
   "version": "3.9.12"
  }
 },
 "nbformat": 4,
 "nbformat_minor": 5
}
