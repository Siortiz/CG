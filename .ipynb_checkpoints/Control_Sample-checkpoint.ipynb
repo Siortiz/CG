{
 "cells": [
  {
   "cell_type": "code",
   "execution_count": 1,
   "id": "d32a755a",
   "metadata": {},
   "outputs": [],
   "source": [
    "from astropy.table import Table, vstack\n",
    "import numpy as np"
   ]
  },
  {
   "cell_type": "code",
   "execution_count": 7,
   "id": "6a9cda2f",
   "metadata": {},
   "outputs": [
    {
     "name": "stdout",
     "output_type": "stream",
     "text": [
      "27\n"
     ]
    }
   ],
   "source": [
    "# Leer la tabla\n",
    "table = Table.read('/home/seba/Downloads/best.observations.idz', format='ascii')\n",
    "\n",
    "# Convertir las columnas a cadenas y combinar\n",
    "table['ra'] = [f\"{ra_h}:{ra_m}:{ra_s}\" for ra_h, ra_m, ra_s in zip(table['col5'], table['col6'], table['col7'])]\n",
    "table['dec'] = [f\"{dec_h}:{dec_m}:{dec_s}\" for dec_h, dec_m, dec_s in zip(table['col8'], table['col9'], table['col10'])]\n",
    "table['ra2000'] = [f\"{ra_h2}:{ra_m2}:{ra_s2}\" for ra_h2, ra_m2, ra_s2 in zip(table['col11'], table['col12'], table['col13'])]\n",
    "table['dec2000'] = [f\"{dec_h2}:{dec_m2}:{dec_s2}\" for dec_h2, dec_m2, dec_s2 in zip(table['col14'], table['col15'], table['col16'])]\n",
    "\n",
    "# Opcional: Eliminar las columnas originales si ya no son necesarias\n",
    "table.remove_columns(['col5', 'col6', 'col7', 'col8', 'col9', 'col10', 'col11', 'col12', 'col13', 'col14', 'col15', 'col16'])\n",
    "\n",
    "# Mostrar la tabla resultante\n",
    "print(len(table.colnames))\n",
    "\n",
    "# Opcional: Guardar la tabla resultante en un nuevo archivo\n",
    "table.write('/home/seba/Downloads/best_observations_combined.idz', format='ascii')\n",
    "\n"
   ]
  },
  {
   "cell_type": "code",
   "execution_count": 9,
   "id": "ebb7a5f5",
   "metadata": {},
   "outputs": [
    {
     "data": {
      "text/html": [
       "<div><i>Table length=211667</i>\n",
       "<table id=\"table140392452576080\" class=\"table-striped table-bordered table-condensed\">\n",
       "<thead><tr><th>col1</th><th>col2</th><th>col3</th><th>col4</th><th>col17</th><th>col18</th><th>col19</th><th>col20</th><th>col21</th><th>col22</th><th>col23</th><th>col24</th><th>col25</th><th>col26</th><th>col27</th><th>col28</th><th>col29</th><th>col30</th><th>col31</th><th>col32</th><th>col33</th><th>col34</th><th>col35</th><th>ra</th><th>dec</th><th>ra2000</th><th>dec2000</th></tr></thead>\n",
       "<thead><tr><th>int64</th><th>int64</th><th>str10</th><th>int64</th><th>float64</th><th>float64</th><th>float64</th><th>float64</th><th>float64</th><th>float64</th><th>float64</th><th>float64</th><th>float64</th><th>str5</th><th>int64</th><th>int64</th><th>float64</th><th>int64</th><th>float64</th><th>float64</th><th>int64</th><th>float64</th><th>float64</th><th>str11</th><th>str11</th><th>str11</th><th>str11</th></tr></thead>\n",
       "<tr><td>1</td><td>2</td><td>TGS436Z001</td><td>349</td><td>19.424</td><td>19.362</td><td>19.43</td><td>19.39</td><td>0.062</td><td>19.368</td><td>18.286</td><td>0.2981</td><td>0.2981</td><td>01SEP</td><td>4</td><td>1</td><td>0.2981</td><td>5</td><td>4.57</td><td>0.2984</td><td>1</td><td>3.8</td><td>-99.9</td><td>0:11:55.72</td><td>-32:32:55.2</td><td>0:14:27.05</td><td>-32:16:14.6</td></tr>\n",
       "<tr><td>2</td><td>1</td><td>TGS496Z001</td><td>349</td><td>18.842</td><td>18.789</td><td>18.87</td><td>18.84</td><td>0.053</td><td>18.688</td><td>17.291</td><td>0.1229</td><td>0.1228</td><td>01OCT</td><td>5</td><td>1</td><td>0.1229</td><td>1</td><td>14.38</td><td>-9.999</td><td>0</td><td>47.6</td><td>-2.5892</td><td>0:11:59.29</td><td>-33:14:41.3</td><td>0:14:30.55</td><td>-32:58:0.7</td></tr>\n",
       "<tr><td>3</td><td>1</td><td>TGS435Z001</td><td>349</td><td>18.32</td><td>18.265</td><td>18.35</td><td>18.31</td><td>0.055</td><td>18.336</td><td>17.138</td><td>0.1038</td><td>0.1038</td><td>01SEP</td><td>4</td><td>1</td><td>0.1038</td><td>1</td><td>9.38</td><td>0.1032</td><td>1</td><td>28.4</td><td>-2.465</td><td>0:11:49.37</td><td>-32:39:57.4</td><td>0:14:20.71</td><td>-32:23:16.8</td></tr>\n",
       "<tr><td>4</td><td>1</td><td>TGS436Z002</td><td>349</td><td>19.435</td><td>19.393</td><td>19.44</td><td>19.41</td><td>0.042</td><td>19.331</td><td>18.415</td><td>0.2066</td><td>0.2065</td><td>00DEC</td><td>3</td><td>2</td><td>-9.999</td><td>0</td><td>-9.99</td><td>0.2066</td><td>1</td><td>2.5</td><td>-99.9</td><td>0:11:53.15</td><td>-32:46:28.2</td><td>0:14:24.47</td><td>-32:29:47.6</td></tr>\n",
       "<tr><td>5</td><td>1</td><td>TGS435Z002</td><td>349</td><td>19.038</td><td>18.978</td><td>19.06</td><td>19.02</td><td>0.06</td><td>19.089</td><td>17.866</td><td>0.1036</td><td>0.1036</td><td>01SEP</td><td>4</td><td>1</td><td>0.1037</td><td>3</td><td>7.89</td><td>0.1037</td><td>2</td><td>17.5</td><td>-0.3278</td><td>0:11:54.63</td><td>-32:59:22.1</td><td>0:14:25.92</td><td>-32:42:41.5</td></tr>\n",
       "<tr><td>6</td><td>1</td><td>TGS496Z002</td><td>349</td><td>18.35</td><td>18.298</td><td>18.38</td><td>18.35</td><td>0.052</td><td>18.299</td><td>17.096</td><td>0.1308</td><td>0.1308</td><td>01SEP</td><td>5</td><td>1</td><td>0.1308</td><td>1</td><td>12.37</td><td>0.1311</td><td>2</td><td>25.5</td><td>-1.0433</td><td>0:11:55.73</td><td>-33:8:25.4</td><td>0:14:27.01</td><td>-32:51:44.8</td></tr>\n",
       "<tr><td>7</td><td>1</td><td>TGS496Z003</td><td>349</td><td>18.589</td><td>18.536</td><td>18.62</td><td>18.58</td><td>0.053</td><td>18.654</td><td>17.471</td><td>0.1099</td><td>0.1098</td><td>01OCT</td><td>4</td><td>1</td><td>0.1099</td><td>1</td><td>7.77</td><td>-9.999</td><td>0</td><td>16.5</td><td>-1.8044</td><td>0:11:55.96</td><td>-33:17:28.4</td><td>0:14:27.22</td><td>-33:0:47.8</td></tr>\n",
       "<tr><td>8</td><td>1</td><td>TGS496Z004</td><td>349</td><td>19.403</td><td>19.35</td><td>19.41</td><td>19.37</td><td>0.053</td><td>19.4</td><td>18.416</td><td>0.1094</td><td>0.1094</td><td>01OCT</td><td>4</td><td>2</td><td>0.109</td><td>6</td><td>3.0</td><td>0.1094</td><td>1</td><td>2.8</td><td>-99.9</td><td>0:11:55.05</td><td>-33:19:20.2</td><td>0:14:26.31</td><td>-33:2:39.6</td></tr>\n",
       "<tr><td>9</td><td>1</td><td>TGS496Z005</td><td>349</td><td>17.767</td><td>17.71</td><td>17.78</td><td>17.75</td><td>0.057</td><td>17.756</td><td>17.26</td><td>0.0312</td><td>0.0312</td><td>01OCT</td><td>4</td><td>2</td><td>0.2949</td><td>3</td><td>3.08</td><td>0.0312</td><td>2</td><td>4.6</td><td>3.778</td><td>0:11:57.77</td><td>-33:23:31.9</td><td>0:14:29.02</td><td>-33:6:51.3</td></tr>\n",
       "<tr><td>...</td><td>...</td><td>...</td><td>...</td><td>...</td><td>...</td><td>...</td><td>...</td><td>...</td><td>...</td><td>...</td><td>...</td><td>...</td><td>...</td><td>...</td><td>...</td><td>...</td><td>...</td><td>...</td><td>...</td><td>...</td><td>...</td><td>...</td><td>...</td><td>...</td><td>...</td><td>...</td></tr>\n",
       "<tr><td>389697</td><td>1</td><td>TGS869Z350</td><td>751</td><td>18.831</td><td>18.667</td><td>18.98</td><td>18.87</td><td>0.164</td><td>18.903</td><td>17.95</td><td>0.1295</td><td>0.1295</td><td>01SEP</td><td>4</td><td>1</td><td>0.1295</td><td>3</td><td>5.19</td><td>0.1295</td><td>3</td><td>8.4</td><td>1.0811</td><td>23:59:48.95</td><td>-4:36:57.0</td><td>0:2:22.7</td><td>-4:20:14.9</td></tr>\n",
       "<tr><td>389699</td><td>1</td><td>TGS807Z546</td><td>679</td><td>18.721</td><td>18.603</td><td>18.8</td><td>18.7</td><td>0.118</td><td>18.738</td><td>17.588</td><td>0.1163</td><td>0.1163</td><td>01OCT</td><td>4</td><td>1</td><td>0.1163</td><td>1</td><td>4.28</td><td>0.1166</td><td>3</td><td>12.2</td><td>3.1441</td><td>23:59:50.42</td><td>-8:4:39.9</td><td>0:2:24.15</td><td>-7:47:57.8</td></tr>\n",
       "<tr><td>389700</td><td>1</td><td>TGS869Z349</td><td>751</td><td>17.8</td><td>17.662</td><td>17.97</td><td>17.87</td><td>0.138</td><td>17.787</td><td>16.443</td><td>0.0747</td><td>0.0747</td><td>01SEP</td><td>4</td><td>1</td><td>0.0747</td><td>1</td><td>11.12</td><td>0.0783</td><td>1</td><td>26.4</td><td>-1.9089</td><td>23:59:50.77</td><td>-5:32:5.7</td><td>0:2:24.51</td><td>-5:15:23.6</td></tr>\n",
       "<tr><td>389702</td><td>1</td><td>TGS805Z299</td><td>149</td><td>18.308</td><td>18.261</td><td>18.5</td><td>18.46</td><td>0.047</td><td>17.96</td><td>16.545</td><td>-0.0002</td><td>-0.0002</td><td>01OCT</td><td>5</td><td>1</td><td>-0.0002</td><td>7</td><td>9.89</td><td>-9.999</td><td>0</td><td>71.6</td><td>-99.9</td><td>23:59:51.49</td><td>-56:13:21.1</td><td>0:2:24.77</td><td>-55:56:38.8</td></tr>\n",
       "<tr><td>389705</td><td>1</td><td>TGS869Z347</td><td>751</td><td>19.311</td><td>19.155</td><td>19.43</td><td>19.31</td><td>0.156</td><td>19.373</td><td>18.442</td><td>0.0677</td><td>0.0677</td><td>01SEP</td><td>4</td><td>2</td><td>0.0677</td><td>3</td><td>4.2</td><td>0.0677</td><td>3</td><td>8.7</td><td>1.9126</td><td>23:59:51.91</td><td>-4:52:0.7</td><td>0:2:25.66</td><td>-4:35:18.6</td></tr>\n",
       "<tr><td>389706</td><td>1</td><td>TGS869Z346</td><td>751</td><td>19.011</td><td>18.853</td><td>19.15</td><td>19.03</td><td>0.158</td><td>18.953</td><td>17.701</td><td>0.0834</td><td>0.0834</td><td>01SEP</td><td>4</td><td>1</td><td>0.0834</td><td>1</td><td>7.31</td><td>0.0835</td><td>4</td><td>16.0</td><td>2.5685</td><td>23:59:52.61</td><td>-4:50:20.2</td><td>0:2:26.36</td><td>-4:33:38.1</td></tr>\n",
       "<tr><td>389708</td><td>2</td><td>TGS805Z298</td><td>149</td><td>18.956</td><td>18.916</td><td>19.11</td><td>19.08</td><td>0.04</td><td>18.837</td><td>18.043</td><td>0.1283</td><td>0.1283</td><td>00DEC</td><td>5</td><td>1</td><td>0.1283</td><td>4</td><td>6.47</td><td>0.1287</td><td>6</td><td>11.1</td><td>5.2539</td><td>23:59:55.55</td><td>-56:29:50.6</td><td>0:2:28.8</td><td>-56:13:8.3</td></tr>\n",
       "<tr><td>389709</td><td>1</td><td>TGS869Z345</td><td>751</td><td>18.873</td><td>18.733</td><td>19.02</td><td>18.92</td><td>0.14</td><td>18.872</td><td>18.034</td><td>0.0743</td><td>0.0743</td><td>01SEP</td><td>4</td><td>1</td><td>0.0743</td><td>5</td><td>4.26</td><td>0.0743</td><td>4</td><td>9.7</td><td>2.2556</td><td>23:59:56.64</td><td>-5:30:27.8</td><td>0:2:30.38</td><td>-5:13:45.7</td></tr>\n",
       "<tr><td>389710</td><td>1</td><td>TGS807Z544</td><td>679</td><td>19.456</td><td>19.337</td><td>19.49</td><td>19.39</td><td>0.119</td><td>19.437</td><td>18.293</td><td>0.1515</td><td>0.1515</td><td>01OCT</td><td>4</td><td>2</td><td>0.1515</td><td>7</td><td>2.74</td><td>0.1515</td><td>2</td><td>6.2</td><td>1.0624</td><td>23:59:56.92</td><td>-8:2:24.6</td><td>0:2:30.64</td><td>-7:45:42.5</td></tr>\n",
       "<tr><td>389712</td><td>2</td><td>TGS805Z297</td><td>149</td><td>17.685</td><td>17.634</td><td>17.89</td><td>17.85</td><td>0.051</td><td>17.554</td><td>16.475</td><td>0.0322</td><td>0.0321</td><td>01OCT</td><td>4</td><td>1</td><td>0.0322</td><td>3</td><td>7.0</td><td>-9.999</td><td>0</td><td>28.6</td><td>-1.8177</td><td>23:59:59.51</td><td>-55:58:5.5</td><td>0:2:32.74</td><td>-55:41:23.2</td></tr>\n",
       "</table></div>"
      ],
      "text/plain": [
       "<Table length=211667>\n",
       " col1   col2    col3     col4 ...      ra         dec       ra2000     dec2000  \n",
       "int64  int64   str10    int64 ...    str11       str11      str11       str11   \n",
       "------ ----- ---------- ----- ... ----------- ----------- ---------- -----------\n",
       "     1     2 TGS436Z001   349 ...  0:11:55.72 -32:32:55.2 0:14:27.05 -32:16:14.6\n",
       "     2     1 TGS496Z001   349 ...  0:11:59.29 -33:14:41.3 0:14:30.55  -32:58:0.7\n",
       "     3     1 TGS435Z001   349 ...  0:11:49.37 -32:39:57.4 0:14:20.71 -32:23:16.8\n",
       "     4     1 TGS436Z002   349 ...  0:11:53.15 -32:46:28.2 0:14:24.47 -32:29:47.6\n",
       "     5     1 TGS435Z002   349 ...  0:11:54.63 -32:59:22.1 0:14:25.92 -32:42:41.5\n",
       "     6     1 TGS496Z002   349 ...  0:11:55.73  -33:8:25.4 0:14:27.01 -32:51:44.8\n",
       "     7     1 TGS496Z003   349 ...  0:11:55.96 -33:17:28.4 0:14:27.22  -33:0:47.8\n",
       "     8     1 TGS496Z004   349 ...  0:11:55.05 -33:19:20.2 0:14:26.31  -33:2:39.6\n",
       "     9     1 TGS496Z005   349 ...  0:11:57.77 -33:23:31.9 0:14:29.02  -33:6:51.3\n",
       "   ...   ...        ...   ... ...         ...         ...        ...         ...\n",
       "389697     1 TGS869Z350   751 ... 23:59:48.95  -4:36:57.0   0:2:22.7  -4:20:14.9\n",
       "389699     1 TGS807Z546   679 ... 23:59:50.42   -8:4:39.9  0:2:24.15  -7:47:57.8\n",
       "389700     1 TGS869Z349   751 ... 23:59:50.77   -5:32:5.7  0:2:24.51  -5:15:23.6\n",
       "389702     1 TGS805Z299   149 ... 23:59:51.49 -56:13:21.1  0:2:24.77 -55:56:38.8\n",
       "389705     1 TGS869Z347   751 ... 23:59:51.91   -4:52:0.7  0:2:25.66  -4:35:18.6\n",
       "389706     1 TGS869Z346   751 ... 23:59:52.61  -4:50:20.2  0:2:26.36  -4:33:38.1\n",
       "389708     2 TGS805Z298   149 ... 23:59:55.55 -56:29:50.6   0:2:28.8  -56:13:8.3\n",
       "389709     1 TGS869Z345   751 ... 23:59:56.64  -5:30:27.8  0:2:30.38  -5:13:45.7\n",
       "389710     1 TGS807Z544   679 ... 23:59:56.92   -8:2:24.6  0:2:30.64  -7:45:42.5\n",
       "389712     2 TGS805Z297   149 ... 23:59:59.51  -55:58:5.5  0:2:32.74 -55:41:23.2"
      ]
     },
     "execution_count": 9,
     "metadata": {},
     "output_type": "execute_result"
    }
   ],
   "source": [
    "table_redshift = table[table['col21'] < 0.17]\n",
    "table_redshift"
   ]
  }
 ],
 "metadata": {
  "kernelspec": {
   "display_name": "Python 3 (ipykernel)",
   "language": "python",
   "name": "python3"
  },
  "language_info": {
   "codemirror_mode": {
    "name": "ipython",
    "version": 3
   },
   "file_extension": ".py",
   "mimetype": "text/x-python",
   "name": "python",
   "nbconvert_exporter": "python",
   "pygments_lexer": "ipython3",
   "version": "3.11.4"
  }
 },
 "nbformat": 4,
 "nbformat_minor": 5
}
