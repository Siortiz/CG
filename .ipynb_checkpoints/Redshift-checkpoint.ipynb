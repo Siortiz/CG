{
 "cells": [
  {
   "cell_type": "code",
   "execution_count": 31,
   "metadata": {},
   "outputs": [],
   "source": [
    "from astropy.table import Table, vstack\n",
    "from IPython.display import display"
   ]
  },
  {
   "cell_type": "code",
   "execution_count": 36,
   "metadata": {},
   "outputs": [],
   "source": [
    "table_1 = Table.read('no_z_1', format='ascii')\n",
    "table_1.rename_column('RA_1', 'RA')\n",
    "table_1.rename_column('Dec_1', 'Dec')\n",
    "cols = ['Group', 'RA', 'Dec', 'zUV', 'nUV', 'ngal', 'nz', 'mz']\n",
    "cols_2 = ['Group', 'RA', 'Dec']\n",
    "table_1 = table_1[cols]\n",
    "table_1\n",
    "table_2 = Table.read('no_z_2', format='ascii')\n",
    "table_2 = table_2[cols]\n",
    "table_3 = vstack([table_1, table_2])\n",
    "table_3\n",
    "table_4 = table_3[cols_2]\n",
    "table_4\n",
    "table_4.write('sfcg_no_z.csv', format = 'ascii', overwrite=True)"
   ]
  },
  {
   "cell_type": "code",
   "execution_count": 33,
   "metadata": {},
   "outputs": [],
   "source": [
    "table_4.sort('Group')"
   ]
  },
  {
   "cell_type": "code",
   "execution_count": 35,
   "metadata": {},
   "outputs": [
    {
     "name": "stdout",
     "output_type": "stream",
     "text": [
      "Group          RA                 Dec        \n",
      "----- ------------------- -------------------\n",
      "    1 0.09554166666666665  -22.58711111111111\n",
      "    4  3.3276666666666666 -41.579638888888894\n",
      "    5   3.537583333333333  -22.56413888888889\n",
      "    6   4.443124999999999  -69.14861111111112\n",
      "   17  12.240666666666666  -45.77019444444444\n",
      "   19  12.861749999999997  -23.21563888888889\n",
      "   31  23.133541666666662  -54.63436111111111\n",
      "   32  23.427541666666666  -69.32138888888889\n",
      "   41   33.67916666666667  -41.64208333333333\n",
      "   49   46.55779166666667  -42.66788888888889\n",
      "  ...                 ...                 ...\n",
      "  225  358.76849999999996  -50.06286111111111\n",
      "  226  359.85949999999997  -20.39311111111111\n",
      "  228   6.347083333333333  -21.64752777777778\n",
      "  234   66.41516666666666            -64.4605\n",
      "  236   69.29391666666666  -46.68883333333333\n",
      "  264  349.18324999999993  -41.65558333333333\n",
      "  265   359.0346666666666 -17.239250000000002\n",
      "  267  24.808041666666664  -74.42291666666667\n",
      "  268   38.57462499999999  -73.72011111111111\n",
      "  270  61.545749999999984  -36.93008333333333\n",
      "  277  31.262583333333335  -74.86388888888888\n",
      "Length = 41 rows\n"
     ]
    }
   ],
   "source": [
    "Table.max_rows = None\n",
    "print(table_4)"
   ]
  }
 ],
 "metadata": {
  "kernelspec": {
   "display_name": "Python 3 (ipykernel)",
   "language": "python",
   "name": "python3"
  },
  "language_info": {
   "codemirror_mode": {
    "name": "ipython",
    "version": 3
   },
   "file_extension": ".py",
   "mimetype": "text/x-python",
   "name": "python",
   "nbconvert_exporter": "python",
   "pygments_lexer": "ipython3",
   "version": "3.11.4"
  }
 },
 "nbformat": 4,
 "nbformat_minor": 4
}
